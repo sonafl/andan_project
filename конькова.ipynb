{
 "cells": [
  {
   "cell_type": "markdown",
   "id": "efab55d1",
   "metadata": {},
   "source": [
    "# Stroke Prediction Dataset\n",
    "## Прогнозирование инсульта "
   ]
  },
  {
   "cell_type": "markdown",
   "id": "ce9bcb28",
   "metadata": {},
   "source": []
  },
  {
   "cell_type": "markdown",
   "id": "e08ab253",
   "metadata": {},
   "source": [
    "### Переменные и их типы:\n",
    "1.  id: личный номер пациента - качественное номинальное \n",
    "2. gender: пол пациента (\"Male\", \"Female\" or \"Other\") - качественное номинальное\n",
    "3. age: возраст - количественное непрерывное \n",
    "4.  hypertension: есть ли у пациента гипертония (0, если нет, 1, если есть) - качественное, номинальное, бинарное \n",
    "5. heart_disease: болезни сердца (0, если нет, 1 если есть) - качественное, номинальное, бинарное \n",
    "6. ever_married: женат/замужем ли пациент (\"No\" or \"Yes\") - качественное, номинальное, бинарное \n",
    "7. work_type: трудоустройство(\"children\", \"Govt_jov\" (государственная работа), \"Never_worked\", \"Private\" or \"Self-employed\"(частный предприниматель)) - качественное номинальное \n",
    "8. Residence_type: место жительства (\"Rural\" - в деревне or \"Urban\" - в городе) - качественное номинальное \n",
    "9. avg_glucose_level: средний уровень глюкозы в крови - количественное непрерывное \n",
    "10. bmi: индекс массы тела - количественное непрерывное \n",
    "11. smoking_status: статус курения (\"formerly smoked\" - курил в прошлом, \"never smoked\", \"smokes\" or \"Unknown\" - нет информации) - качественное номинальное \n",
    "12. stroke: был инсульт или нет(1, если да, 0, если нет) -  качественное, номинальное, бинарное \n"
   ]
  },
  {
   "cell_type": "code",
   "execution_count": 1,
   "id": "53fa37d5",
   "metadata": {},
   "outputs": [
    {
     "data": {
      "text/html": [
       "<div>\n",
       "<style scoped>\n",
       "    .dataframe tbody tr th:only-of-type {\n",
       "        vertical-align: middle;\n",
       "    }\n",
       "\n",
       "    .dataframe tbody tr th {\n",
       "        vertical-align: top;\n",
       "    }\n",
       "\n",
       "    .dataframe thead th {\n",
       "        text-align: right;\n",
       "    }\n",
       "</style>\n",
       "<table border=\"1\" class=\"dataframe\">\n",
       "  <thead>\n",
       "    <tr style=\"text-align: right;\">\n",
       "      <th></th>\n",
       "      <th>id</th>\n",
       "      <th>gender</th>\n",
       "      <th>age</th>\n",
       "      <th>hypertension</th>\n",
       "      <th>heart_disease</th>\n",
       "      <th>ever_married</th>\n",
       "      <th>work_type</th>\n",
       "      <th>Residence_type</th>\n",
       "      <th>avg_glucose_level</th>\n",
       "      <th>bmi</th>\n",
       "      <th>smoking_status</th>\n",
       "      <th>stroke</th>\n",
       "    </tr>\n",
       "  </thead>\n",
       "  <tbody>\n",
       "    <tr>\n",
       "      <th>0</th>\n",
       "      <td>9046</td>\n",
       "      <td>Male</td>\n",
       "      <td>67.0</td>\n",
       "      <td>0</td>\n",
       "      <td>1</td>\n",
       "      <td>Yes</td>\n",
       "      <td>Private</td>\n",
       "      <td>Urban</td>\n",
       "      <td>228.69</td>\n",
       "      <td>36.6</td>\n",
       "      <td>formerly smoked</td>\n",
       "      <td>1</td>\n",
       "    </tr>\n",
       "    <tr>\n",
       "      <th>1</th>\n",
       "      <td>51676</td>\n",
       "      <td>Female</td>\n",
       "      <td>61.0</td>\n",
       "      <td>0</td>\n",
       "      <td>0</td>\n",
       "      <td>Yes</td>\n",
       "      <td>Self-employed</td>\n",
       "      <td>Rural</td>\n",
       "      <td>202.21</td>\n",
       "      <td>NaN</td>\n",
       "      <td>never smoked</td>\n",
       "      <td>1</td>\n",
       "    </tr>\n",
       "    <tr>\n",
       "      <th>2</th>\n",
       "      <td>31112</td>\n",
       "      <td>Male</td>\n",
       "      <td>80.0</td>\n",
       "      <td>0</td>\n",
       "      <td>1</td>\n",
       "      <td>Yes</td>\n",
       "      <td>Private</td>\n",
       "      <td>Rural</td>\n",
       "      <td>105.92</td>\n",
       "      <td>32.5</td>\n",
       "      <td>never smoked</td>\n",
       "      <td>1</td>\n",
       "    </tr>\n",
       "    <tr>\n",
       "      <th>3</th>\n",
       "      <td>60182</td>\n",
       "      <td>Female</td>\n",
       "      <td>49.0</td>\n",
       "      <td>0</td>\n",
       "      <td>0</td>\n",
       "      <td>Yes</td>\n",
       "      <td>Private</td>\n",
       "      <td>Urban</td>\n",
       "      <td>171.23</td>\n",
       "      <td>34.4</td>\n",
       "      <td>smokes</td>\n",
       "      <td>1</td>\n",
       "    </tr>\n",
       "    <tr>\n",
       "      <th>4</th>\n",
       "      <td>1665</td>\n",
       "      <td>Female</td>\n",
       "      <td>79.0</td>\n",
       "      <td>1</td>\n",
       "      <td>0</td>\n",
       "      <td>Yes</td>\n",
       "      <td>Self-employed</td>\n",
       "      <td>Rural</td>\n",
       "      <td>174.12</td>\n",
       "      <td>24.0</td>\n",
       "      <td>never smoked</td>\n",
       "      <td>1</td>\n",
       "    </tr>\n",
       "    <tr>\n",
       "      <th>...</th>\n",
       "      <td>...</td>\n",
       "      <td>...</td>\n",
       "      <td>...</td>\n",
       "      <td>...</td>\n",
       "      <td>...</td>\n",
       "      <td>...</td>\n",
       "      <td>...</td>\n",
       "      <td>...</td>\n",
       "      <td>...</td>\n",
       "      <td>...</td>\n",
       "      <td>...</td>\n",
       "      <td>...</td>\n",
       "    </tr>\n",
       "    <tr>\n",
       "      <th>5105</th>\n",
       "      <td>18234</td>\n",
       "      <td>Female</td>\n",
       "      <td>80.0</td>\n",
       "      <td>1</td>\n",
       "      <td>0</td>\n",
       "      <td>Yes</td>\n",
       "      <td>Private</td>\n",
       "      <td>Urban</td>\n",
       "      <td>83.75</td>\n",
       "      <td>NaN</td>\n",
       "      <td>never smoked</td>\n",
       "      <td>0</td>\n",
       "    </tr>\n",
       "    <tr>\n",
       "      <th>5106</th>\n",
       "      <td>44873</td>\n",
       "      <td>Female</td>\n",
       "      <td>81.0</td>\n",
       "      <td>0</td>\n",
       "      <td>0</td>\n",
       "      <td>Yes</td>\n",
       "      <td>Self-employed</td>\n",
       "      <td>Urban</td>\n",
       "      <td>125.20</td>\n",
       "      <td>40.0</td>\n",
       "      <td>never smoked</td>\n",
       "      <td>0</td>\n",
       "    </tr>\n",
       "    <tr>\n",
       "      <th>5107</th>\n",
       "      <td>19723</td>\n",
       "      <td>Female</td>\n",
       "      <td>35.0</td>\n",
       "      <td>0</td>\n",
       "      <td>0</td>\n",
       "      <td>Yes</td>\n",
       "      <td>Self-employed</td>\n",
       "      <td>Rural</td>\n",
       "      <td>82.99</td>\n",
       "      <td>30.6</td>\n",
       "      <td>never smoked</td>\n",
       "      <td>0</td>\n",
       "    </tr>\n",
       "    <tr>\n",
       "      <th>5108</th>\n",
       "      <td>37544</td>\n",
       "      <td>Male</td>\n",
       "      <td>51.0</td>\n",
       "      <td>0</td>\n",
       "      <td>0</td>\n",
       "      <td>Yes</td>\n",
       "      <td>Private</td>\n",
       "      <td>Rural</td>\n",
       "      <td>166.29</td>\n",
       "      <td>25.6</td>\n",
       "      <td>formerly smoked</td>\n",
       "      <td>0</td>\n",
       "    </tr>\n",
       "    <tr>\n",
       "      <th>5109</th>\n",
       "      <td>44679</td>\n",
       "      <td>Female</td>\n",
       "      <td>44.0</td>\n",
       "      <td>0</td>\n",
       "      <td>0</td>\n",
       "      <td>Yes</td>\n",
       "      <td>Govt_job</td>\n",
       "      <td>Urban</td>\n",
       "      <td>85.28</td>\n",
       "      <td>26.2</td>\n",
       "      <td>Unknown</td>\n",
       "      <td>0</td>\n",
       "    </tr>\n",
       "  </tbody>\n",
       "</table>\n",
       "<p>5110 rows × 12 columns</p>\n",
       "</div>"
      ],
      "text/plain": [
       "         id  gender   age  hypertension  heart_disease ever_married  \\\n",
       "0      9046    Male  67.0             0              1          Yes   \n",
       "1     51676  Female  61.0             0              0          Yes   \n",
       "2     31112    Male  80.0             0              1          Yes   \n",
       "3     60182  Female  49.0             0              0          Yes   \n",
       "4      1665  Female  79.0             1              0          Yes   \n",
       "...     ...     ...   ...           ...            ...          ...   \n",
       "5105  18234  Female  80.0             1              0          Yes   \n",
       "5106  44873  Female  81.0             0              0          Yes   \n",
       "5107  19723  Female  35.0             0              0          Yes   \n",
       "5108  37544    Male  51.0             0              0          Yes   \n",
       "5109  44679  Female  44.0             0              0          Yes   \n",
       "\n",
       "          work_type Residence_type  avg_glucose_level   bmi   smoking_status  \\\n",
       "0           Private          Urban             228.69  36.6  formerly smoked   \n",
       "1     Self-employed          Rural             202.21   NaN     never smoked   \n",
       "2           Private          Rural             105.92  32.5     never smoked   \n",
       "3           Private          Urban             171.23  34.4           smokes   \n",
       "4     Self-employed          Rural             174.12  24.0     never smoked   \n",
       "...             ...            ...                ...   ...              ...   \n",
       "5105        Private          Urban              83.75   NaN     never smoked   \n",
       "5106  Self-employed          Urban             125.20  40.0     never smoked   \n",
       "5107  Self-employed          Rural              82.99  30.6     never smoked   \n",
       "5108        Private          Rural             166.29  25.6  formerly smoked   \n",
       "5109       Govt_job          Urban              85.28  26.2          Unknown   \n",
       "\n",
       "      stroke  \n",
       "0          1  \n",
       "1          1  \n",
       "2          1  \n",
       "3          1  \n",
       "4          1  \n",
       "...      ...  \n",
       "5105       0  \n",
       "5106       0  \n",
       "5107       0  \n",
       "5108       0  \n",
       "5109       0  \n",
       "\n",
       "[5110 rows x 12 columns]"
      ]
     },
     "execution_count": 1,
     "metadata": {},
     "output_type": "execute_result"
    }
   ],
   "source": [
    "import pandas as pd \n",
    "data = pd.read_csv('healthcare-dataset-stroke-data.csv')\n",
    "data "
   ]
  },
  {
   "cell_type": "code",
   "execution_count": 2,
   "id": "4a10ec08",
   "metadata": {},
   "outputs": [
    {
     "data": {
      "text/html": [
       "<div>\n",
       "<style scoped>\n",
       "    .dataframe tbody tr th:only-of-type {\n",
       "        vertical-align: middle;\n",
       "    }\n",
       "\n",
       "    .dataframe tbody tr th {\n",
       "        vertical-align: top;\n",
       "    }\n",
       "\n",
       "    .dataframe thead th {\n",
       "        text-align: right;\n",
       "    }\n",
       "</style>\n",
       "<table border=\"1\" class=\"dataframe\">\n",
       "  <thead>\n",
       "    <tr style=\"text-align: right;\">\n",
       "      <th></th>\n",
       "      <th>gender</th>\n",
       "      <th>age</th>\n",
       "      <th>hypertension</th>\n",
       "      <th>heart_disease</th>\n",
       "      <th>ever_married</th>\n",
       "      <th>work_type</th>\n",
       "      <th>Residence_type</th>\n",
       "      <th>avg_glucose_level</th>\n",
       "      <th>bmi</th>\n",
       "      <th>smoking_status</th>\n",
       "      <th>stroke</th>\n",
       "    </tr>\n",
       "  </thead>\n",
       "  <tbody>\n",
       "    <tr>\n",
       "      <th>0</th>\n",
       "      <td>Male</td>\n",
       "      <td>67.0</td>\n",
       "      <td>0</td>\n",
       "      <td>1</td>\n",
       "      <td>Yes</td>\n",
       "      <td>Private</td>\n",
       "      <td>Urban</td>\n",
       "      <td>228.69</td>\n",
       "      <td>36.6</td>\n",
       "      <td>formerly smoked</td>\n",
       "      <td>1</td>\n",
       "    </tr>\n",
       "    <tr>\n",
       "      <th>1</th>\n",
       "      <td>Female</td>\n",
       "      <td>61.0</td>\n",
       "      <td>0</td>\n",
       "      <td>0</td>\n",
       "      <td>Yes</td>\n",
       "      <td>Self-employed</td>\n",
       "      <td>Rural</td>\n",
       "      <td>202.21</td>\n",
       "      <td>NaN</td>\n",
       "      <td>never smoked</td>\n",
       "      <td>1</td>\n",
       "    </tr>\n",
       "    <tr>\n",
       "      <th>2</th>\n",
       "      <td>Male</td>\n",
       "      <td>80.0</td>\n",
       "      <td>0</td>\n",
       "      <td>1</td>\n",
       "      <td>Yes</td>\n",
       "      <td>Private</td>\n",
       "      <td>Rural</td>\n",
       "      <td>105.92</td>\n",
       "      <td>32.5</td>\n",
       "      <td>never smoked</td>\n",
       "      <td>1</td>\n",
       "    </tr>\n",
       "    <tr>\n",
       "      <th>3</th>\n",
       "      <td>Female</td>\n",
       "      <td>49.0</td>\n",
       "      <td>0</td>\n",
       "      <td>0</td>\n",
       "      <td>Yes</td>\n",
       "      <td>Private</td>\n",
       "      <td>Urban</td>\n",
       "      <td>171.23</td>\n",
       "      <td>34.4</td>\n",
       "      <td>smokes</td>\n",
       "      <td>1</td>\n",
       "    </tr>\n",
       "    <tr>\n",
       "      <th>4</th>\n",
       "      <td>Female</td>\n",
       "      <td>79.0</td>\n",
       "      <td>1</td>\n",
       "      <td>0</td>\n",
       "      <td>Yes</td>\n",
       "      <td>Self-employed</td>\n",
       "      <td>Rural</td>\n",
       "      <td>174.12</td>\n",
       "      <td>24.0</td>\n",
       "      <td>never smoked</td>\n",
       "      <td>1</td>\n",
       "    </tr>\n",
       "    <tr>\n",
       "      <th>...</th>\n",
       "      <td>...</td>\n",
       "      <td>...</td>\n",
       "      <td>...</td>\n",
       "      <td>...</td>\n",
       "      <td>...</td>\n",
       "      <td>...</td>\n",
       "      <td>...</td>\n",
       "      <td>...</td>\n",
       "      <td>...</td>\n",
       "      <td>...</td>\n",
       "      <td>...</td>\n",
       "    </tr>\n",
       "    <tr>\n",
       "      <th>5105</th>\n",
       "      <td>Female</td>\n",
       "      <td>80.0</td>\n",
       "      <td>1</td>\n",
       "      <td>0</td>\n",
       "      <td>Yes</td>\n",
       "      <td>Private</td>\n",
       "      <td>Urban</td>\n",
       "      <td>83.75</td>\n",
       "      <td>NaN</td>\n",
       "      <td>never smoked</td>\n",
       "      <td>0</td>\n",
       "    </tr>\n",
       "    <tr>\n",
       "      <th>5106</th>\n",
       "      <td>Female</td>\n",
       "      <td>81.0</td>\n",
       "      <td>0</td>\n",
       "      <td>0</td>\n",
       "      <td>Yes</td>\n",
       "      <td>Self-employed</td>\n",
       "      <td>Urban</td>\n",
       "      <td>125.20</td>\n",
       "      <td>40.0</td>\n",
       "      <td>never smoked</td>\n",
       "      <td>0</td>\n",
       "    </tr>\n",
       "    <tr>\n",
       "      <th>5107</th>\n",
       "      <td>Female</td>\n",
       "      <td>35.0</td>\n",
       "      <td>0</td>\n",
       "      <td>0</td>\n",
       "      <td>Yes</td>\n",
       "      <td>Self-employed</td>\n",
       "      <td>Rural</td>\n",
       "      <td>82.99</td>\n",
       "      <td>30.6</td>\n",
       "      <td>never smoked</td>\n",
       "      <td>0</td>\n",
       "    </tr>\n",
       "    <tr>\n",
       "      <th>5108</th>\n",
       "      <td>Male</td>\n",
       "      <td>51.0</td>\n",
       "      <td>0</td>\n",
       "      <td>0</td>\n",
       "      <td>Yes</td>\n",
       "      <td>Private</td>\n",
       "      <td>Rural</td>\n",
       "      <td>166.29</td>\n",
       "      <td>25.6</td>\n",
       "      <td>formerly smoked</td>\n",
       "      <td>0</td>\n",
       "    </tr>\n",
       "    <tr>\n",
       "      <th>5109</th>\n",
       "      <td>Female</td>\n",
       "      <td>44.0</td>\n",
       "      <td>0</td>\n",
       "      <td>0</td>\n",
       "      <td>Yes</td>\n",
       "      <td>Govt_job</td>\n",
       "      <td>Urban</td>\n",
       "      <td>85.28</td>\n",
       "      <td>26.2</td>\n",
       "      <td>Unknown</td>\n",
       "      <td>0</td>\n",
       "    </tr>\n",
       "  </tbody>\n",
       "</table>\n",
       "<p>5110 rows × 11 columns</p>\n",
       "</div>"
      ],
      "text/plain": [
       "      gender   age  hypertension  heart_disease ever_married      work_type  \\\n",
       "0       Male  67.0             0              1          Yes        Private   \n",
       "1     Female  61.0             0              0          Yes  Self-employed   \n",
       "2       Male  80.0             0              1          Yes        Private   \n",
       "3     Female  49.0             0              0          Yes        Private   \n",
       "4     Female  79.0             1              0          Yes  Self-employed   \n",
       "...      ...   ...           ...            ...          ...            ...   \n",
       "5105  Female  80.0             1              0          Yes        Private   \n",
       "5106  Female  81.0             0              0          Yes  Self-employed   \n",
       "5107  Female  35.0             0              0          Yes  Self-employed   \n",
       "5108    Male  51.0             0              0          Yes        Private   \n",
       "5109  Female  44.0             0              0          Yes       Govt_job   \n",
       "\n",
       "     Residence_type  avg_glucose_level   bmi   smoking_status  stroke  \n",
       "0             Urban             228.69  36.6  formerly smoked       1  \n",
       "1             Rural             202.21   NaN     never smoked       1  \n",
       "2             Rural             105.92  32.5     never smoked       1  \n",
       "3             Urban             171.23  34.4           smokes       1  \n",
       "4             Rural             174.12  24.0     never smoked       1  \n",
       "...             ...                ...   ...              ...     ...  \n",
       "5105          Urban              83.75   NaN     never smoked       0  \n",
       "5106          Urban             125.20  40.0     never smoked       0  \n",
       "5107          Rural              82.99  30.6     never smoked       0  \n",
       "5108          Rural             166.29  25.6  formerly smoked       0  \n",
       "5109          Urban              85.28  26.2          Unknown       0  \n",
       "\n",
       "[5110 rows x 11 columns]"
      ]
     },
     "execution_count": 2,
     "metadata": {},
     "output_type": "execute_result"
    }
   ],
   "source": [
    "# Удалим столбец с личным номером пациента, так как это информация не несет пользу для нашего проекта. \n",
    "del data['id']\n",
    "data "
   ]
  },
  {
   "cell_type": "markdown",
   "id": "9d67e31e",
   "metadata": {},
   "source": [
    "Для начала посмотрим, у скольких пациентов был или не был инсульт"
   ]
  },
  {
   "cell_type": "code",
   "execution_count": 4,
   "id": "b1a5bbc6",
   "metadata": {},
   "outputs": [
    {
     "data": {
      "text/plain": [
       "0    4861\n",
       "1     249\n",
       "Name: stroke, dtype: int64"
      ]
     },
     "execution_count": 4,
     "metadata": {},
     "output_type": "execute_result"
    }
   ],
   "source": [
    "data['stroke'].value_counts()"
   ]
  },
  {
   "cell_type": "markdown",
   "id": "67fd1bf3",
   "metadata": {},
   "source": [
    "##  Фильтрация "
   ]
  },
  {
   "cell_type": "markdown",
   "id": "eebc1795",
   "metadata": {},
   "source": [
    "Гипотеза 1: из 249 человек, у которых был инсульт, как минимум половина имеют либо сердечные заболевания, либо гипертонию. Гипотеза не подтвердилась. "
   ]
  },
  {
   "cell_type": "code",
   "execution_count": 13,
   "id": "df09f35e",
   "metadata": {},
   "outputs": [
    {
     "data": {
      "text/plain": [
       "(100, 11)"
      ]
     },
     "execution_count": 13,
     "metadata": {},
     "output_type": "execute_result"
    }
   ],
   "source": [
    "data[(data['stroke'] == 1) & ((data['heart_disease'] == 1) | (data['hypertension'] == 1))].shape"
   ]
  },
  {
   "cell_type": "markdown",
   "id": "ea0444b1",
   "metadata": {},
   "source": [
    "Гипотеза 2: большинство данных (70%) относится к людям, живущим в городе, так как они чаще проверяют своё здоровье в виду качественного медицинского обслуживания и необходимости в диспансеризации на рабочем месте. Гипотеза не подтвердилась, данные о деревенских жителях и горожан распределены примерно поровну. "
   ]
  },
  {
   "cell_type": "code",
   "execution_count": 12,
   "id": "7f1b3a27",
   "metadata": {},
   "outputs": [
    {
     "data": {
      "text/plain": [
       "2596"
      ]
     },
     "execution_count": 12,
     "metadata": {},
     "output_type": "execute_result"
    }
   ],
   "source": [
    "data[data['Residence_type'] == 'Urban'].shape[0]"
   ]
  },
  {
   "cell_type": "markdown",
   "id": "11c2c144",
   "metadata": {},
   "source": [
    "Гипотеза 3: в датасете мало информации о молодых людях (до 35), так как они не предрасположены к инсульту, и они не часто проходят обследование по этому поводу. Гипотеза подтвердилась (меньше половины) "
   ]
  },
  {
   "cell_type": "code",
   "execution_count": 13,
   "id": "b50d015e",
   "metadata": {},
   "outputs": [
    {
     "data": {
      "text/plain": [
       "(1845, 11)"
      ]
     },
     "execution_count": 13,
     "metadata": {},
     "output_type": "execute_result"
    }
   ],
   "source": [
    "data[data['age'] < 35].shape"
   ]
  },
  {
   "cell_type": "markdown",
   "id": "0890087f",
   "metadata": {},
   "source": [
    "Гипотеза 4: из 4861 людей, у которых еще не было инсульта, либо нормальный уровень сахара в крови (меньше 109), либо неожирение (индекс тела меньше 30). Гипотеза подтвердилась (4200 из 4861 человек)"
   ]
  },
  {
   "cell_type": "code",
   "execution_count": 15,
   "id": "67d15b0c",
   "metadata": {},
   "outputs": [
    {
     "data": {
      "text/plain": [
       "(4200, 11)"
      ]
     },
     "execution_count": 15,
     "metadata": {},
     "output_type": "execute_result"
    }
   ],
   "source": [
    "data[(data['stroke'] == 0) \n",
    "& ((data['avg_glucose_level'] < 109) \n",
    "| (data['bmi'] < 30))].shape"
   ]
  },
  {
   "cell_type": "markdown",
   "id": "4473fbbf",
   "metadata": {},
   "source": [
    "Гипотеза 5: из 4681 людей, у которых еще не было инсульта, большинство не страдают от гипертонии (серьезный признак возможного инсульта), а также не работают в государственных органах (так как стресс на госработе большой, и он может спровоцировать гипертонию). Гипотеза подтвердилась (3870 человек из 4681)"
   ]
  },
  {
   "cell_type": "code",
   "execution_count": 146,
   "id": "58215600",
   "metadata": {},
   "outputs": [
    {
     "data": {
      "text/plain": [
       "(3870, 12)"
      ]
     },
     "execution_count": 146,
     "metadata": {},
     "output_type": "execute_result"
    }
   ],
   "source": [
    "data[(data['stroke'] == 0)\n",
    "& (data['hypertension'] == 0)\n",
    "& (data['work_type'] != 'Govt_job')].shape"
   ]
  },
  {
   "cell_type": "markdown",
   "id": "9af0b463",
   "metadata": {},
   "source": [
    "## Сортировка"
   ]
  },
  {
   "cell_type": "code",
   "execution_count": 17,
   "id": "96813d44",
   "metadata": {},
   "outputs": [
    {
     "data": {
      "text/html": [
       "<div>\n",
       "<style scoped>\n",
       "    .dataframe tbody tr th:only-of-type {\n",
       "        vertical-align: middle;\n",
       "    }\n",
       "\n",
       "    .dataframe tbody tr th {\n",
       "        vertical-align: top;\n",
       "    }\n",
       "\n",
       "    .dataframe thead th {\n",
       "        text-align: right;\n",
       "    }\n",
       "</style>\n",
       "<table border=\"1\" class=\"dataframe\">\n",
       "  <thead>\n",
       "    <tr style=\"text-align: right;\">\n",
       "      <th></th>\n",
       "      <th>gender</th>\n",
       "      <th>age</th>\n",
       "      <th>hypertension</th>\n",
       "      <th>heart_disease</th>\n",
       "      <th>ever_married</th>\n",
       "      <th>work_type</th>\n",
       "      <th>Residence_type</th>\n",
       "      <th>avg_glucose_level</th>\n",
       "      <th>bmi</th>\n",
       "      <th>smoking_status</th>\n",
       "      <th>stroke</th>\n",
       "    </tr>\n",
       "  </thead>\n",
       "  <tbody>\n",
       "    <tr>\n",
       "      <th>3108</th>\n",
       "      <td>Male</td>\n",
       "      <td>82.00</td>\n",
       "      <td>0</td>\n",
       "      <td>0</td>\n",
       "      <td>No</td>\n",
       "      <td>Self-employed</td>\n",
       "      <td>Urban</td>\n",
       "      <td>161.95</td>\n",
       "      <td>30.8</td>\n",
       "      <td>never smoked</td>\n",
       "      <td>0</td>\n",
       "    </tr>\n",
       "    <tr>\n",
       "      <th>188</th>\n",
       "      <td>Male</td>\n",
       "      <td>82.00</td>\n",
       "      <td>0</td>\n",
       "      <td>0</td>\n",
       "      <td>Yes</td>\n",
       "      <td>Private</td>\n",
       "      <td>Rural</td>\n",
       "      <td>86.62</td>\n",
       "      <td>29.5</td>\n",
       "      <td>formerly smoked</td>\n",
       "      <td>1</td>\n",
       "    </tr>\n",
       "    <tr>\n",
       "      <th>1515</th>\n",
       "      <td>Female</td>\n",
       "      <td>82.00</td>\n",
       "      <td>0</td>\n",
       "      <td>0</td>\n",
       "      <td>Yes</td>\n",
       "      <td>Govt_job</td>\n",
       "      <td>Rural</td>\n",
       "      <td>58.30</td>\n",
       "      <td>20.4</td>\n",
       "      <td>never smoked</td>\n",
       "      <td>0</td>\n",
       "    </tr>\n",
       "    <tr>\n",
       "      <th>1412</th>\n",
       "      <td>Male</td>\n",
       "      <td>82.00</td>\n",
       "      <td>1</td>\n",
       "      <td>0</td>\n",
       "      <td>Yes</td>\n",
       "      <td>Private</td>\n",
       "      <td>Rural</td>\n",
       "      <td>227.28</td>\n",
       "      <td>33.3</td>\n",
       "      <td>never smoked</td>\n",
       "      <td>0</td>\n",
       "    </tr>\n",
       "    <tr>\n",
       "      <th>1951</th>\n",
       "      <td>Female</td>\n",
       "      <td>82.00</td>\n",
       "      <td>0</td>\n",
       "      <td>0</td>\n",
       "      <td>Yes</td>\n",
       "      <td>Private</td>\n",
       "      <td>Urban</td>\n",
       "      <td>99.68</td>\n",
       "      <td>22.2</td>\n",
       "      <td>Unknown</td>\n",
       "      <td>0</td>\n",
       "    </tr>\n",
       "    <tr>\n",
       "      <th>...</th>\n",
       "      <td>...</td>\n",
       "      <td>...</td>\n",
       "      <td>...</td>\n",
       "      <td>...</td>\n",
       "      <td>...</td>\n",
       "      <td>...</td>\n",
       "      <td>...</td>\n",
       "      <td>...</td>\n",
       "      <td>...</td>\n",
       "      <td>...</td>\n",
       "      <td>...</td>\n",
       "    </tr>\n",
       "    <tr>\n",
       "      <th>3618</th>\n",
       "      <td>Male</td>\n",
       "      <td>0.16</td>\n",
       "      <td>0</td>\n",
       "      <td>0</td>\n",
       "      <td>No</td>\n",
       "      <td>children</td>\n",
       "      <td>Urban</td>\n",
       "      <td>114.71</td>\n",
       "      <td>17.4</td>\n",
       "      <td>Unknown</td>\n",
       "      <td>0</td>\n",
       "    </tr>\n",
       "    <tr>\n",
       "      <th>3968</th>\n",
       "      <td>Male</td>\n",
       "      <td>0.16</td>\n",
       "      <td>0</td>\n",
       "      <td>0</td>\n",
       "      <td>No</td>\n",
       "      <td>children</td>\n",
       "      <td>Rural</td>\n",
       "      <td>69.79</td>\n",
       "      <td>13.0</td>\n",
       "      <td>Unknown</td>\n",
       "      <td>0</td>\n",
       "    </tr>\n",
       "    <tr>\n",
       "      <th>4021</th>\n",
       "      <td>Male</td>\n",
       "      <td>0.16</td>\n",
       "      <td>0</td>\n",
       "      <td>0</td>\n",
       "      <td>No</td>\n",
       "      <td>children</td>\n",
       "      <td>Urban</td>\n",
       "      <td>109.52</td>\n",
       "      <td>13.9</td>\n",
       "      <td>Unknown</td>\n",
       "      <td>0</td>\n",
       "    </tr>\n",
       "    <tr>\n",
       "      <th>1614</th>\n",
       "      <td>Female</td>\n",
       "      <td>0.08</td>\n",
       "      <td>0</td>\n",
       "      <td>0</td>\n",
       "      <td>No</td>\n",
       "      <td>children</td>\n",
       "      <td>Urban</td>\n",
       "      <td>139.67</td>\n",
       "      <td>14.1</td>\n",
       "      <td>Unknown</td>\n",
       "      <td>0</td>\n",
       "    </tr>\n",
       "    <tr>\n",
       "      <th>3295</th>\n",
       "      <td>Male</td>\n",
       "      <td>0.08</td>\n",
       "      <td>0</td>\n",
       "      <td>0</td>\n",
       "      <td>No</td>\n",
       "      <td>children</td>\n",
       "      <td>Rural</td>\n",
       "      <td>70.33</td>\n",
       "      <td>16.9</td>\n",
       "      <td>Unknown</td>\n",
       "      <td>0</td>\n",
       "    </tr>\n",
       "  </tbody>\n",
       "</table>\n",
       "<p>5110 rows × 11 columns</p>\n",
       "</div>"
      ],
      "text/plain": [
       "      gender    age  hypertension  heart_disease ever_married      work_type  \\\n",
       "3108    Male  82.00             0              0           No  Self-employed   \n",
       "188     Male  82.00             0              0          Yes        Private   \n",
       "1515  Female  82.00             0              0          Yes       Govt_job   \n",
       "1412    Male  82.00             1              0          Yes        Private   \n",
       "1951  Female  82.00             0              0          Yes        Private   \n",
       "...      ...    ...           ...            ...          ...            ...   \n",
       "3618    Male   0.16             0              0           No       children   \n",
       "3968    Male   0.16             0              0           No       children   \n",
       "4021    Male   0.16             0              0           No       children   \n",
       "1614  Female   0.08             0              0           No       children   \n",
       "3295    Male   0.08             0              0           No       children   \n",
       "\n",
       "     Residence_type  avg_glucose_level   bmi   smoking_status  stroke  \n",
       "3108          Urban             161.95  30.8     never smoked       0  \n",
       "188           Rural              86.62  29.5  formerly smoked       1  \n",
       "1515          Rural              58.30  20.4     never smoked       0  \n",
       "1412          Rural             227.28  33.3     never smoked       0  \n",
       "1951          Urban              99.68  22.2          Unknown       0  \n",
       "...             ...                ...   ...              ...     ...  \n",
       "3618          Urban             114.71  17.4          Unknown       0  \n",
       "3968          Rural              69.79  13.0          Unknown       0  \n",
       "4021          Urban             109.52  13.9          Unknown       0  \n",
       "1614          Urban             139.67  14.1          Unknown       0  \n",
       "3295          Rural              70.33  16.9          Unknown       0  \n",
       "\n",
       "[5110 rows x 11 columns]"
      ]
     },
     "execution_count": 17,
     "metadata": {},
     "output_type": "execute_result"
    }
   ],
   "source": [
    "data.sort_values(by = 'age', ascending = False)"
   ]
  },
  {
   "cell_type": "markdown",
   "id": "e4e1d645",
   "metadata": {},
   "source": [
    "Самому взрослому пациенту, который наблюдался в больнице, было 82, при этом у него еще не было инсульта (у него нет гипертонии, но при этом довольно высокий уровень сахара в крови)"
   ]
  },
  {
   "cell_type": "code",
   "execution_count": 26,
   "id": "3a5b3656",
   "metadata": {},
   "outputs": [
    {
     "data": {
      "text/html": [
       "<div>\n",
       "<style scoped>\n",
       "    .dataframe tbody tr th:only-of-type {\n",
       "        vertical-align: middle;\n",
       "    }\n",
       "\n",
       "    .dataframe tbody tr th {\n",
       "        vertical-align: top;\n",
       "    }\n",
       "\n",
       "    .dataframe thead th {\n",
       "        text-align: right;\n",
       "    }\n",
       "</style>\n",
       "<table border=\"1\" class=\"dataframe\">\n",
       "  <thead>\n",
       "    <tr style=\"text-align: right;\">\n",
       "      <th></th>\n",
       "      <th>gender</th>\n",
       "      <th>age</th>\n",
       "      <th>hypertension</th>\n",
       "      <th>heart_disease</th>\n",
       "      <th>ever_married</th>\n",
       "      <th>work_type</th>\n",
       "      <th>Residence_type</th>\n",
       "      <th>avg_glucose_level</th>\n",
       "      <th>bmi</th>\n",
       "      <th>smoking_status</th>\n",
       "      <th>stroke</th>\n",
       "    </tr>\n",
       "  </thead>\n",
       "  <tbody>\n",
       "    <tr>\n",
       "      <th>162</th>\n",
       "      <td>Female</td>\n",
       "      <td>1.32</td>\n",
       "      <td>0</td>\n",
       "      <td>0</td>\n",
       "      <td>No</td>\n",
       "      <td>children</td>\n",
       "      <td>Urban</td>\n",
       "      <td>70.37</td>\n",
       "      <td>NaN</td>\n",
       "      <td>Unknown</td>\n",
       "      <td>1</td>\n",
       "    </tr>\n",
       "    <tr>\n",
       "      <th>245</th>\n",
       "      <td>Female</td>\n",
       "      <td>14.00</td>\n",
       "      <td>0</td>\n",
       "      <td>0</td>\n",
       "      <td>No</td>\n",
       "      <td>children</td>\n",
       "      <td>Rural</td>\n",
       "      <td>57.93</td>\n",
       "      <td>30.9</td>\n",
       "      <td>Unknown</td>\n",
       "      <td>1</td>\n",
       "    </tr>\n",
       "    <tr>\n",
       "      <th>182</th>\n",
       "      <td>Female</td>\n",
       "      <td>32.00</td>\n",
       "      <td>0</td>\n",
       "      <td>0</td>\n",
       "      <td>Yes</td>\n",
       "      <td>Private</td>\n",
       "      <td>Rural</td>\n",
       "      <td>76.13</td>\n",
       "      <td>29.9</td>\n",
       "      <td>smokes</td>\n",
       "      <td>1</td>\n",
       "    </tr>\n",
       "    <tr>\n",
       "      <th>118</th>\n",
       "      <td>Female</td>\n",
       "      <td>38.00</td>\n",
       "      <td>0</td>\n",
       "      <td>0</td>\n",
       "      <td>No</td>\n",
       "      <td>Self-employed</td>\n",
       "      <td>Urban</td>\n",
       "      <td>82.28</td>\n",
       "      <td>24.0</td>\n",
       "      <td>formerly smoked</td>\n",
       "      <td>1</td>\n",
       "    </tr>\n",
       "    <tr>\n",
       "      <th>133</th>\n",
       "      <td>Female</td>\n",
       "      <td>38.00</td>\n",
       "      <td>0</td>\n",
       "      <td>0</td>\n",
       "      <td>Yes</td>\n",
       "      <td>Private</td>\n",
       "      <td>Rural</td>\n",
       "      <td>101.45</td>\n",
       "      <td>NaN</td>\n",
       "      <td>formerly smoked</td>\n",
       "      <td>1</td>\n",
       "    </tr>\n",
       "    <tr>\n",
       "      <th>...</th>\n",
       "      <td>...</td>\n",
       "      <td>...</td>\n",
       "      <td>...</td>\n",
       "      <td>...</td>\n",
       "      <td>...</td>\n",
       "      <td>...</td>\n",
       "      <td>...</td>\n",
       "      <td>...</td>\n",
       "      <td>...</td>\n",
       "      <td>...</td>\n",
       "      <td>...</td>\n",
       "    </tr>\n",
       "    <tr>\n",
       "      <th>4716</th>\n",
       "      <td>Female</td>\n",
       "      <td>82.00</td>\n",
       "      <td>0</td>\n",
       "      <td>0</td>\n",
       "      <td>No</td>\n",
       "      <td>Private</td>\n",
       "      <td>Rural</td>\n",
       "      <td>96.98</td>\n",
       "      <td>21.5</td>\n",
       "      <td>never smoked</td>\n",
       "      <td>0</td>\n",
       "    </tr>\n",
       "    <tr>\n",
       "      <th>4763</th>\n",
       "      <td>Male</td>\n",
       "      <td>82.00</td>\n",
       "      <td>0</td>\n",
       "      <td>0</td>\n",
       "      <td>Yes</td>\n",
       "      <td>Private</td>\n",
       "      <td>Urban</td>\n",
       "      <td>217.57</td>\n",
       "      <td>33.5</td>\n",
       "      <td>formerly smoked</td>\n",
       "      <td>0</td>\n",
       "    </tr>\n",
       "    <tr>\n",
       "      <th>4819</th>\n",
       "      <td>Female</td>\n",
       "      <td>82.00</td>\n",
       "      <td>0</td>\n",
       "      <td>0</td>\n",
       "      <td>Yes</td>\n",
       "      <td>Self-employed</td>\n",
       "      <td>Urban</td>\n",
       "      <td>113.45</td>\n",
       "      <td>30.3</td>\n",
       "      <td>never smoked</td>\n",
       "      <td>0</td>\n",
       "    </tr>\n",
       "    <tr>\n",
       "      <th>5062</th>\n",
       "      <td>Female</td>\n",
       "      <td>82.00</td>\n",
       "      <td>0</td>\n",
       "      <td>0</td>\n",
       "      <td>Yes</td>\n",
       "      <td>Self-employed</td>\n",
       "      <td>Rural</td>\n",
       "      <td>211.58</td>\n",
       "      <td>36.9</td>\n",
       "      <td>never smoked</td>\n",
       "      <td>0</td>\n",
       "    </tr>\n",
       "    <tr>\n",
       "      <th>5100</th>\n",
       "      <td>Male</td>\n",
       "      <td>82.00</td>\n",
       "      <td>1</td>\n",
       "      <td>0</td>\n",
       "      <td>Yes</td>\n",
       "      <td>Self-employed</td>\n",
       "      <td>Rural</td>\n",
       "      <td>71.97</td>\n",
       "      <td>28.3</td>\n",
       "      <td>never smoked</td>\n",
       "      <td>0</td>\n",
       "    </tr>\n",
       "  </tbody>\n",
       "</table>\n",
       "<p>5110 rows × 11 columns</p>\n",
       "</div>"
      ],
      "text/plain": [
       "      gender    age  hypertension  heart_disease ever_married      work_type  \\\n",
       "162   Female   1.32             0              0           No       children   \n",
       "245   Female  14.00             0              0           No       children   \n",
       "182   Female  32.00             0              0          Yes        Private   \n",
       "118   Female  38.00             0              0           No  Self-employed   \n",
       "133   Female  38.00             0              0          Yes        Private   \n",
       "...      ...    ...           ...            ...          ...            ...   \n",
       "4716  Female  82.00             0              0           No        Private   \n",
       "4763    Male  82.00             0              0          Yes        Private   \n",
       "4819  Female  82.00             0              0          Yes  Self-employed   \n",
       "5062  Female  82.00             0              0          Yes  Self-employed   \n",
       "5100    Male  82.00             1              0          Yes  Self-employed   \n",
       "\n",
       "     Residence_type  avg_glucose_level   bmi   smoking_status  stroke  \n",
       "162           Urban              70.37   NaN          Unknown       1  \n",
       "245           Rural              57.93  30.9          Unknown       1  \n",
       "182           Rural              76.13  29.9           smokes       1  \n",
       "118           Urban              82.28  24.0  formerly smoked       1  \n",
       "133           Rural             101.45   NaN  formerly smoked       1  \n",
       "...             ...                ...   ...              ...     ...  \n",
       "4716          Rural              96.98  21.5     never smoked       0  \n",
       "4763          Urban             217.57  33.5  formerly smoked       0  \n",
       "4819          Urban             113.45  30.3     never smoked       0  \n",
       "5062          Rural             211.58  36.9     never smoked       0  \n",
       "5100          Rural              71.97  28.3     never smoked       0  \n",
       "\n",
       "[5110 rows x 11 columns]"
      ]
     },
     "execution_count": 26,
     "metadata": {},
     "output_type": "execute_result"
    }
   ],
   "source": [
    "data.sort_values(by = ['stroke', 'age'], ascending = [False, True])"
   ]
  },
  {
   "cell_type": "markdown",
   "id": "507304c7",
   "metadata": {},
   "source": [
    "Сортировка по двум переменным (возраст и был ли инсульт) показала, что самому молодому пациенту, у которого был инсульт, чуть больше года. "
   ]
  },
  {
   "cell_type": "code",
   "execution_count": 29,
   "id": "e7dc4abc",
   "metadata": {},
   "outputs": [
    {
     "data": {
      "text/html": [
       "<div>\n",
       "<style scoped>\n",
       "    .dataframe tbody tr th:only-of-type {\n",
       "        vertical-align: middle;\n",
       "    }\n",
       "\n",
       "    .dataframe tbody tr th {\n",
       "        vertical-align: top;\n",
       "    }\n",
       "\n",
       "    .dataframe thead th {\n",
       "        text-align: right;\n",
       "    }\n",
       "</style>\n",
       "<table border=\"1\" class=\"dataframe\">\n",
       "  <thead>\n",
       "    <tr style=\"text-align: right;\">\n",
       "      <th></th>\n",
       "      <th>gender</th>\n",
       "      <th>age</th>\n",
       "      <th>hypertension</th>\n",
       "      <th>heart_disease</th>\n",
       "      <th>ever_married</th>\n",
       "      <th>work_type</th>\n",
       "      <th>Residence_type</th>\n",
       "      <th>avg_glucose_level</th>\n",
       "      <th>bmi</th>\n",
       "      <th>smoking_status</th>\n",
       "      <th>stroke</th>\n",
       "    </tr>\n",
       "  </thead>\n",
       "  <tbody>\n",
       "    <tr>\n",
       "      <th>0</th>\n",
       "      <td>Male</td>\n",
       "      <td>67.0</td>\n",
       "      <td>0</td>\n",
       "      <td>1</td>\n",
       "      <td>Yes</td>\n",
       "      <td>Private</td>\n",
       "      <td>Urban</td>\n",
       "      <td>228.69</td>\n",
       "      <td>36.6</td>\n",
       "      <td>formerly smoked</td>\n",
       "      <td>1</td>\n",
       "    </tr>\n",
       "    <tr>\n",
       "      <th>1</th>\n",
       "      <td>Female</td>\n",
       "      <td>61.0</td>\n",
       "      <td>0</td>\n",
       "      <td>0</td>\n",
       "      <td>Yes</td>\n",
       "      <td>Self-employed</td>\n",
       "      <td>Rural</td>\n",
       "      <td>202.21</td>\n",
       "      <td>NaN</td>\n",
       "      <td>never smoked</td>\n",
       "      <td>1</td>\n",
       "    </tr>\n",
       "    <tr>\n",
       "      <th>2</th>\n",
       "      <td>Male</td>\n",
       "      <td>80.0</td>\n",
       "      <td>0</td>\n",
       "      <td>1</td>\n",
       "      <td>Yes</td>\n",
       "      <td>Private</td>\n",
       "      <td>Rural</td>\n",
       "      <td>105.92</td>\n",
       "      <td>32.5</td>\n",
       "      <td>never smoked</td>\n",
       "      <td>1</td>\n",
       "    </tr>\n",
       "    <tr>\n",
       "      <th>3</th>\n",
       "      <td>Female</td>\n",
       "      <td>49.0</td>\n",
       "      <td>0</td>\n",
       "      <td>0</td>\n",
       "      <td>Yes</td>\n",
       "      <td>Private</td>\n",
       "      <td>Urban</td>\n",
       "      <td>171.23</td>\n",
       "      <td>34.4</td>\n",
       "      <td>smokes</td>\n",
       "      <td>1</td>\n",
       "    </tr>\n",
       "    <tr>\n",
       "      <th>5</th>\n",
       "      <td>Male</td>\n",
       "      <td>81.0</td>\n",
       "      <td>0</td>\n",
       "      <td>0</td>\n",
       "      <td>Yes</td>\n",
       "      <td>Private</td>\n",
       "      <td>Urban</td>\n",
       "      <td>186.21</td>\n",
       "      <td>29.0</td>\n",
       "      <td>formerly smoked</td>\n",
       "      <td>1</td>\n",
       "    </tr>\n",
       "    <tr>\n",
       "      <th>...</th>\n",
       "      <td>...</td>\n",
       "      <td>...</td>\n",
       "      <td>...</td>\n",
       "      <td>...</td>\n",
       "      <td>...</td>\n",
       "      <td>...</td>\n",
       "      <td>...</td>\n",
       "      <td>...</td>\n",
       "      <td>...</td>\n",
       "      <td>...</td>\n",
       "      <td>...</td>\n",
       "    </tr>\n",
       "    <tr>\n",
       "      <th>5088</th>\n",
       "      <td>Female</td>\n",
       "      <td>64.0</td>\n",
       "      <td>1</td>\n",
       "      <td>0</td>\n",
       "      <td>Yes</td>\n",
       "      <td>Self-employed</td>\n",
       "      <td>Urban</td>\n",
       "      <td>76.89</td>\n",
       "      <td>30.2</td>\n",
       "      <td>Unknown</td>\n",
       "      <td>0</td>\n",
       "    </tr>\n",
       "    <tr>\n",
       "      <th>5091</th>\n",
       "      <td>Male</td>\n",
       "      <td>59.0</td>\n",
       "      <td>1</td>\n",
       "      <td>0</td>\n",
       "      <td>Yes</td>\n",
       "      <td>Private</td>\n",
       "      <td>Rural</td>\n",
       "      <td>95.05</td>\n",
       "      <td>30.9</td>\n",
       "      <td>never smoked</td>\n",
       "      <td>0</td>\n",
       "    </tr>\n",
       "    <tr>\n",
       "      <th>5093</th>\n",
       "      <td>Female</td>\n",
       "      <td>45.0</td>\n",
       "      <td>1</td>\n",
       "      <td>0</td>\n",
       "      <td>Yes</td>\n",
       "      <td>Govt_job</td>\n",
       "      <td>Rural</td>\n",
       "      <td>95.02</td>\n",
       "      <td>NaN</td>\n",
       "      <td>smokes</td>\n",
       "      <td>0</td>\n",
       "    </tr>\n",
       "    <tr>\n",
       "      <th>5100</th>\n",
       "      <td>Male</td>\n",
       "      <td>82.0</td>\n",
       "      <td>1</td>\n",
       "      <td>0</td>\n",
       "      <td>Yes</td>\n",
       "      <td>Self-employed</td>\n",
       "      <td>Rural</td>\n",
       "      <td>71.97</td>\n",
       "      <td>28.3</td>\n",
       "      <td>never smoked</td>\n",
       "      <td>0</td>\n",
       "    </tr>\n",
       "    <tr>\n",
       "      <th>5105</th>\n",
       "      <td>Female</td>\n",
       "      <td>80.0</td>\n",
       "      <td>1</td>\n",
       "      <td>0</td>\n",
       "      <td>Yes</td>\n",
       "      <td>Private</td>\n",
       "      <td>Urban</td>\n",
       "      <td>83.75</td>\n",
       "      <td>NaN</td>\n",
       "      <td>never smoked</td>\n",
       "      <td>0</td>\n",
       "    </tr>\n",
       "  </tbody>\n",
       "</table>\n",
       "<p>5110 rows × 11 columns</p>\n",
       "</div>"
      ],
      "text/plain": [
       "      gender   age  hypertension  heart_disease ever_married      work_type  \\\n",
       "0       Male  67.0             0              1          Yes        Private   \n",
       "1     Female  61.0             0              0          Yes  Self-employed   \n",
       "2       Male  80.0             0              1          Yes        Private   \n",
       "3     Female  49.0             0              0          Yes        Private   \n",
       "5       Male  81.0             0              0          Yes        Private   \n",
       "...      ...   ...           ...            ...          ...            ...   \n",
       "5088  Female  64.0             1              0          Yes  Self-employed   \n",
       "5091    Male  59.0             1              0          Yes        Private   \n",
       "5093  Female  45.0             1              0          Yes       Govt_job   \n",
       "5100    Male  82.0             1              0          Yes  Self-employed   \n",
       "5105  Female  80.0             1              0          Yes        Private   \n",
       "\n",
       "     Residence_type  avg_glucose_level   bmi   smoking_status  stroke  \n",
       "0             Urban             228.69  36.6  formerly smoked       1  \n",
       "1             Rural             202.21   NaN     never smoked       1  \n",
       "2             Rural             105.92  32.5     never smoked       1  \n",
       "3             Urban             171.23  34.4           smokes       1  \n",
       "5             Urban             186.21  29.0  formerly smoked       1  \n",
       "...             ...                ...   ...              ...     ...  \n",
       "5088          Urban              76.89  30.2          Unknown       0  \n",
       "5091          Rural              95.05  30.9     never smoked       0  \n",
       "5093          Rural              95.02   NaN           smokes       0  \n",
       "5100          Rural              71.97  28.3     never smoked       0  \n",
       "5105          Urban              83.75   NaN     never smoked       0  \n",
       "\n",
       "[5110 rows x 11 columns]"
      ]
     },
     "execution_count": 29,
     "metadata": {},
     "output_type": "execute_result"
    }
   ],
   "source": [
    "data.sort_values(by = ['stroke', 'hypertension'], ascending = [False, True])"
   ]
  },
  {
   "cell_type": "markdown",
   "id": "43116fdc",
   "metadata": {},
   "source": [
    "Сортировка показала, что человеку, у которого не было гипертонии, но произошел инсульт, было 67 лет. Это говорит о том, что не всегда лишь наличие гипертонии может спровоцировать инсульт. "
   ]
  },
  {
   "cell_type": "markdown",
   "id": "2433c618",
   "metadata": {},
   "source": [
    "Интересно, посмотреть сколько всего людей, получвших инсульт, но не имеющих гипертонию (183 человека из 249). Результат шокирующий, учитывая тот факт, что гипертонию называют одним из основных симптомов инсульта."
   ]
  },
  {
   "cell_type": "code",
   "execution_count": 19,
   "id": "0b7fc4ce",
   "metadata": {},
   "outputs": [
    {
     "data": {
      "text/plain": [
       "183"
      ]
     },
     "execution_count": 19,
     "metadata": {},
     "output_type": "execute_result"
    }
   ],
   "source": [
    "data[(data['stroke'] == 1) & (data['hypertension'] == 0)].shape[0]"
   ]
  },
  {
   "cell_type": "markdown",
   "id": "16a140ea",
   "metadata": {},
   "source": [
    "## Создание переменной "
   ]
  },
  {
   "cell_type": "markdown",
   "id": "b14d790f",
   "metadata": {},
   "source": [
    "Создадим колонку, в которой категозируем возраст. "
   ]
  },
  {
   "cell_type": "code",
   "execution_count": 20,
   "id": "5fd5ff53",
   "metadata": {},
   "outputs": [],
   "source": [
    "def age_range(value):\n",
    "    if value < 12:\n",
    "        value = 'Дети'\n",
    "    elif value >= 12 and value < 18:\n",
    "        value = 'Подростки' \n",
    "    elif value >= 18 and value <= 30:\n",
    "        value = '18-30'\n",
    "    elif value > 30 and value <= 40:\n",
    "        value = '31-40'\n",
    "    elif value > 40 and value <= 55:\n",
    "        value = '41-55'\n",
    "    elif value > 55:\n",
    "        value = 'Пожилые люди'\n",
    "    return value"
   ]
  },
  {
   "cell_type": "code",
   "execution_count": 21,
   "id": "681754bb",
   "metadata": {},
   "outputs": [],
   "source": [
    "data['age_range'] = data['age'].apply(age_range)"
   ]
  },
  {
   "cell_type": "markdown",
   "id": "5e0ea1d8",
   "metadata": {},
   "source": [
    "## Частотные таблицы"
   ]
  },
  {
   "cell_type": "code",
   "execution_count": 25,
   "id": "c7ef9073",
   "metadata": {},
   "outputs": [
    {
     "data": {
      "text/plain": [
       "<AxesSubplot:>"
      ]
     },
     "execution_count": 25,
     "metadata": {},
     "output_type": "execute_result"
    },
    {
     "data": {
      "image/png": "[encoded data removed]",
      "text/plain": [
       "<Figure size 432x288 with 1 Axes>"
      ]
     },
     "metadata": {
      "needs_background": "light"
     },
     "output_type": "display_data"
    }
   ],
   "source": [
    "data['work_type'].hist()"
   ]
  },
  {
   "cell_type": "markdown",
   "id": "73d7590d",
   "metadata": {},
   "source": [
    "Частотная таблица создана по переменной work_type, которая отвечает за трудоустройство пациентов. Стоит отметить, что большинство пациентов (больше 3500 человек) являются частными предпринимателями или фрилансерами (суммируем private и self-employed, так как они равнозначны). При этом в таблице с данными про инсульт также много детей (чуть больше 500), это в очередной раз относит нас к сортировке, где мы узнали возраст самого молодого пациента, получившего инсульт. "
   ]
  },
  {
   "cell_type": "code",
   "execution_count": 43,
   "id": "a45a68b6",
   "metadata": {},
   "outputs": [
    {
     "data": {
      "text/plain": [
       "<AxesSubplot:ylabel='gender'>"
      ]
     },
     "execution_count": 43,
     "metadata": {},
     "output_type": "execute_result"
    },
    {
     "data": {
      "image/png": "[encoded data removed]",
      "text/plain": [
       "<Figure size 432x288 with 1 Axes>"
      ]
     },
     "metadata": {},
     "output_type": "display_data"
    }
   ],
   "source": [
    "data['gender'].value_counts().plot(kind = 'pie')"
   ]
  },
  {
   "cell_type": "markdown",
   "id": "b65bb0d2",
   "metadata": {},
   "source": [
    "Интересно также посмотреть на соотношение мужчин и женщин в данных. Женщин намного больше, чем мужчин, хотя мы ожидали другого соотношения в виду того, что обычно инсульту и инфаркту предрасположены больше мужчины(по крайней мере в обществе думают так), при этом людей другого пола (other) настолько мало, что на диаграмме их даже не видно. "
   ]
  },
  {
   "cell_type": "code",
   "execution_count": 35,
   "id": "784f6b2a",
   "metadata": {},
   "outputs": [
    {
     "data": {
      "text/plain": [
       "stroke\n",
       "0    AxesSubplot(0.125,0.125;0.775x0.755)\n",
       "1    AxesSubplot(0.125,0.125;0.775x0.755)\n",
       "Name: smoking_status, dtype: object"
      ]
     },
     "execution_count": 35,
     "metadata": {},
     "output_type": "execute_result"
    },
    {
     "data": {
      "image/png": "[encoded data removed]",
      "text/plain": [
       "<Figure size 432x288 with 1 Axes>"
      ]
     },
     "metadata": {
      "needs_background": "light"
     },
     "output_type": "display_data"
    }
   ],
   "source": [
    "data.groupby('stroke')['smoking_status'].hist()"
   ]
  },
  {
   "cell_type": "markdown",
   "id": "adba367e",
   "metadata": {},
   "source": [
    "Частотная таблица рассматривает информацию о курении среди тех пациентов, у которых был или не был инсульт. На первый взгляд кажется, что среди получивших инсульт (оранжевый цвет) не так много людей, однако важно понимать, что среди всех пациентов лишь 249 получили инсульт. Если мы посмотрим на столбик \"smokes\" и \"formerly smoke\", то заметим, что значительная часть этих пациентов (примерно больше 100 человек) курит или курили. А вот те пациенты, которые не курили (синий цвет в never smoked), не получили инсульт. Курение, конечно, не первостепенный признак возможного инсульта, но он способен влиять на те процессы, которые могут его вызвать. По этой причине можно смело говорить, что одна из профилактик инсульта - избавление от никотиновой зависимости."
   ]
  },
  {
   "cell_type": "code",
   "execution_count": 41,
   "id": "ef237370",
   "metadata": {},
   "outputs": [
    {
     "data": {
      "image/png": "[encoded data removed]",
      "text/plain": [
       "<Figure size 432x288 with 1 Axes>"
      ]
     },
     "metadata": {},
     "output_type": "display_data"
    }
   ],
   "source": [
    "age_filter = data[data['age'] < 35]\n",
    "heart_dis_plot = age_filter.groupby('heart_disease').size().plot(kind = 'pie')\n"
   ]
  },
  {
   "cell_type": "markdown",
   "id": "7a181e7f",
   "metadata": {},
   "source": [
    "Эта диаграмма построена по отфильтрованным данным (молодые пациенты до 35) и рассматривает информацию о сердечных заболеваниях среди этих пациентов. Диаграмма показала, что лишь очень малая часть молодых пациентов страдает от подобных заболеваний (на диаграмме под цифрой 1)"
   ]
  },
  {
   "cell_type": "markdown",
   "id": "925515b3",
   "metadata": {},
   "source": [
    "## Этап 3"
   ]
  },
  {
   "cell_type": "markdown",
   "id": "2276359d",
   "metadata": {},
   "source": [
    "## МЦТ"
   ]
  },
  {
   "cell_type": "markdown",
   "id": "ef8e2ad6",
   "metadata": {},
   "source": [
    "###  Возраст"
   ]
  },
  {
   "cell_type": "code",
   "execution_count": 44,
   "id": "5ad838b4",
   "metadata": {},
   "outputs": [
    {
     "data": {
      "text/plain": [
       "43.226614481409015"
      ]
     },
     "execution_count": 44,
     "metadata": {},
     "output_type": "execute_result"
    }
   ],
   "source": [
    "data['age'].mean()"
   ]
  },
  {
   "cell_type": "markdown",
   "id": "0eee52c8",
   "metadata": {},
   "source": [
    "Средний возраст пациентов примерно 43 года с округлением"
   ]
  },
  {
   "cell_type": "code",
   "execution_count": 9,
   "id": "e79668f3",
   "metadata": {},
   "outputs": [
    {
     "data": {
      "text/plain": [
       "45.0"
      ]
     },
     "execution_count": 9,
     "metadata": {},
     "output_type": "execute_result"
    }
   ],
   "source": [
    "data['age'].median()"
   ]
  },
  {
   "cell_type": "markdown",
   "id": "8cad07b2",
   "metadata": {},
   "source": [
    "50% пациентов младше 45 лет."
   ]
  },
  {
   "cell_type": "code",
   "execution_count": 11,
   "id": "68a707b9",
   "metadata": {},
   "outputs": [
    {
     "data": {
      "text/plain": [
       "0    78.0\n",
       "dtype: float64"
      ]
     },
     "execution_count": 11,
     "metadata": {},
     "output_type": "execute_result"
    }
   ],
   "source": [
    "data['age'].mode()"
   ]
  },
  {
   "cell_type": "markdown",
   "id": "2e849d99",
   "metadata": {},
   "source": [
    "Наиболее часто в данных встречается возраст 78 лет. "
   ]
  },
  {
   "cell_type": "markdown",
   "id": "e19e6111",
   "metadata": {},
   "source": [
    "### Гипертония"
   ]
  },
  {
   "cell_type": "markdown",
   "id": "7d070dfc",
   "metadata": {},
   "source": [
    "Так как эта переменная является бинарной, мы можем посчитать только среднее арифметическое и моду. "
   ]
  },
  {
   "cell_type": "code",
   "execution_count": 13,
   "id": "770383c4",
   "metadata": {},
   "outputs": [
    {
     "data": {
      "text/plain": [
       "0    0\n",
       "dtype: int64"
      ]
     },
     "execution_count": 13,
     "metadata": {},
     "output_type": "execute_result"
    }
   ],
   "source": [
    "data['hypertension'].mode()"
   ]
  },
  {
   "cell_type": "markdown",
   "id": "b65ab690",
   "metadata": {},
   "source": [
    "Чаще всего в данных встречаются люди, которые не страдают от гипертонии. (0 означает отсутствие гипертонии)"
   ]
  },
  {
   "cell_type": "code",
   "execution_count": 14,
   "id": "203f3d49",
   "metadata": {},
   "outputs": [
    {
     "data": {
      "text/plain": [
       "0.0974559686888454"
      ]
     },
     "execution_count": 14,
     "metadata": {},
     "output_type": "execute_result"
    }
   ],
   "source": [
    "data['hypertension'].mean()"
   ]
  },
  {
   "cell_type": "markdown",
   "id": "135860d0",
   "metadata": {},
   "source": [
    "Доля пациентов страдающих от гипертонии (то есть единиц) составляет 9%, следовательно, их меньше, чем тех, у кого гипертонии нет. "
   ]
  },
  {
   "cell_type": "markdown",
   "id": "20f76e37",
   "metadata": {},
   "source": [
    "### Средний уровень глюкозы"
   ]
  },
  {
   "cell_type": "code",
   "execution_count": 18,
   "id": "b7c600a5",
   "metadata": {},
   "outputs": [
    {
     "data": {
      "text/plain": [
       "106.14767710371804"
      ]
     },
     "execution_count": 18,
     "metadata": {},
     "output_type": "execute_result"
    }
   ],
   "source": [
    "data['avg_glucose_level'].mean()"
   ]
  },
  {
   "cell_type": "markdown",
   "id": "b7ee6c79",
   "metadata": {},
   "source": [
    "Средний уровень глюкозы среди пациентов составляет примерно 106 единиц с округлением. "
   ]
  },
  {
   "cell_type": "code",
   "execution_count": 16,
   "id": "83ccf6ae",
   "metadata": {},
   "outputs": [
    {
     "data": {
      "text/plain": [
       "91.88499999999999"
      ]
     },
     "execution_count": 16,
     "metadata": {},
     "output_type": "execute_result"
    }
   ],
   "source": [
    "data['avg_glucose_level'].median()"
   ]
  },
  {
   "cell_type": "markdown",
   "id": "b6edf300",
   "metadata": {},
   "source": [
    "У 50% пациентов уровень глюкозы меньше 92 единиц с округлением."
   ]
  },
  {
   "cell_type": "code",
   "execution_count": 17,
   "id": "0f4ccac4",
   "metadata": {},
   "outputs": [
    {
     "data": {
      "text/plain": [
       "0    93.88\n",
       "dtype: float64"
      ]
     },
     "execution_count": 17,
     "metadata": {},
     "output_type": "execute_result"
    }
   ],
   "source": [
    "data['avg_glucose_level'].mode()"
   ]
  },
  {
   "cell_type": "markdown",
   "id": "e4329616",
   "metadata": {},
   "source": [
    "Чаще всего в данных встречается показатель уровня глюкозы в 93,88 единиц. "
   ]
  },
  {
   "cell_type": "markdown",
   "id": "21eae249",
   "metadata": {},
   "source": [
    "Построим график распределения, так как большая разница между средним арифметическим и медианой/модой. "
   ]
  },
  {
   "cell_type": "code",
   "execution_count": 19,
   "id": "306fce2e",
   "metadata": {},
   "outputs": [
    {
     "data": {
      "text/plain": [
       "<AxesSubplot:>"
      ]
     },
     "execution_count": 19,
     "metadata": {},
     "output_type": "execute_result"
    },
    {
     "data": {
      "image/png": "[encoded data removed]",
      "text/plain": [
       "<Figure size 432x288 with 1 Axes>"
      ]
     },
     "metadata": {
      "needs_background": "light"
     },
     "output_type": "display_data"
    }
   ],
   "source": [
    "data['avg_glucose_level'].hist()"
   ]
  },
  {
   "cell_type": "markdown",
   "id": "d1eed754",
   "metadata": {},
   "source": [
    "Гистограмма показала, что распределение уровня глюкозы несимметричное, за счёт чего и возникает такая разница. У нас много выбросов в правой стороне, они и перетягивают среднее арифметическое в большую сторону. "
   ]
  },
  {
   "cell_type": "markdown",
   "id": "87338f71",
   "metadata": {},
   "source": [
    "### Индекс массы тела "
   ]
  },
  {
   "cell_type": "code",
   "execution_count": 23,
   "id": "cba9946e",
   "metadata": {},
   "outputs": [
    {
     "data": {
      "text/plain": [
       "28.893236911794673"
      ]
     },
     "execution_count": 23,
     "metadata": {},
     "output_type": "execute_result"
    }
   ],
   "source": [
    "data['bmi'].mean()"
   ]
  },
  {
   "cell_type": "markdown",
   "id": "76f2aafa",
   "metadata": {},
   "source": [
    "Средний индекс массы тела среди пациентов составляет примерно 29 единиц с округлением."
   ]
  },
  {
   "cell_type": "code",
   "execution_count": 21,
   "id": "c80290ec",
   "metadata": {},
   "outputs": [
    {
     "data": {
      "text/plain": [
       "28.1"
      ]
     },
     "execution_count": 21,
     "metadata": {},
     "output_type": "execute_result"
    }
   ],
   "source": [
    "data['bmi'].median()"
   ]
  },
  {
   "cell_type": "markdown",
   "id": "33bce156",
   "metadata": {},
   "source": [
    "50% пациентов имеют индекс массы тела меньше 28 единиц с округлением."
   ]
  },
  {
   "cell_type": "code",
   "execution_count": 22,
   "id": "3546dfd3",
   "metadata": {},
   "outputs": [
    {
     "data": {
      "text/plain": [
       "0    28.7\n",
       "dtype: float64"
      ]
     },
     "execution_count": 22,
     "metadata": {},
     "output_type": "execute_result"
    }
   ],
   "source": [
    "data['bmi'].mode()"
   ]
  },
  {
   "cell_type": "markdown",
   "id": "baf8d2b4",
   "metadata": {},
   "source": [
    "Чаще всего в данных встречается индекс массы тела, составляющий 28,7 единиц. "
   ]
  },
  {
   "cell_type": "markdown",
   "id": "3a4a0827",
   "metadata": {},
   "source": [
    "### Болезни сердца"
   ]
  },
  {
   "cell_type": "markdown",
   "id": "7b331310",
   "metadata": {},
   "source": [
    "Переменная бинарная, считаем только моду и среднее арифметическое."
   ]
  },
  {
   "cell_type": "code",
   "execution_count": 25,
   "id": "0000fd8e",
   "metadata": {},
   "outputs": [
    {
     "data": {
      "text/plain": [
       "0    0\n",
       "dtype: int64"
      ]
     },
     "execution_count": 25,
     "metadata": {},
     "output_type": "execute_result"
    }
   ],
   "source": [
    "data['heart_disease'].mode()"
   ]
  },
  {
   "cell_type": "markdown",
   "id": "dcd3b9b3",
   "metadata": {},
   "source": [
    "Чаще всего в данных встречаются люди, не имеющие болезней сердца."
   ]
  },
  {
   "cell_type": "code",
   "execution_count": 26,
   "id": "9144f5b5",
   "metadata": {},
   "outputs": [
    {
     "data": {
      "text/plain": [
       "0.05401174168297456"
      ]
     },
     "execution_count": 26,
     "metadata": {},
     "output_type": "execute_result"
    }
   ],
   "source": [
    "data['heart_disease'].mean()"
   ]
  },
  {
   "cell_type": "markdown",
   "id": "52c88caa",
   "metadata": {},
   "source": [
    "Доля пациентов страдающих от сердечных болезней (то есть доля единиц) составляет 5%, следовательно, их меньше, чем тех, у кого подобных болезней нет."
   ]
  },
  {
   "cell_type": "markdown",
   "id": "c3a05965",
   "metadata": {},
   "source": [
    "### Трудоустройство"
   ]
  },
  {
   "cell_type": "markdown",
   "id": "37a282a5",
   "metadata": {},
   "source": [
    "Переменная номинальная, можем посчитать только моду."
   ]
  },
  {
   "cell_type": "code",
   "execution_count": 27,
   "id": "da1455c4",
   "metadata": {},
   "outputs": [
    {
     "data": {
      "text/plain": [
       "0    Private\n",
       "dtype: object"
      ]
     },
     "execution_count": 27,
     "metadata": {},
     "output_type": "execute_result"
    }
   ],
   "source": [
    "data['work_type'].mode()"
   ]
  },
  {
   "cell_type": "markdown",
   "id": "1a146a88",
   "metadata": {},
   "source": [
    "Чаще всего встречаются пациенты, которые являются индивидуальными предпринимателями. "
   ]
  },
  {
   "cell_type": "markdown",
   "id": "f71643c4",
   "metadata": {},
   "source": [
    "## Выбросы"
   ]
  },
  {
   "cell_type": "markdown",
   "id": "b2f6681b",
   "metadata": {},
   "source": [
    "### Ящик с усами"
   ]
  },
  {
   "cell_type": "markdown",
   "id": "319999a5",
   "metadata": {},
   "source": [
    "Рассмотрим выбросы по двум переменным: среднему уровню глюкозы (график показал, что там есть много выбросов) и индексу массы тела (все три меры центральной тенденции не сильно отличаются друг от друга)"
   ]
  },
  {
   "cell_type": "code",
   "execution_count": 24,
   "id": "9ce5fcbb",
   "metadata": {},
   "outputs": [
    {
     "data": {
      "text/plain": [
       "<AxesSubplot:xlabel='bmi'>"
      ]
     },
     "execution_count": 24,
     "metadata": {},
     "output_type": "execute_result"
    },
    {
     "data": {
      "image/png": "[encoded data removed]",
      "text/plain": [
       "<Figure size 432x288 with 1 Axes>"
      ]
     },
     "metadata": {
      "needs_background": "light"
     },
     "output_type": "display_data"
    }
   ],
   "source": [
    "import seaborn as sns \n",
    "sns.boxplot(x=data['bmi'])"
   ]
  },
  {
   "cell_type": "markdown",
   "id": "c8efd769",
   "metadata": {},
   "source": [
    "В переменной индекса массы тела нижняя граница значений примерно равна 10, верхняя - примерно 45-50. Выбросы есть за верхней границей, их значения варьируются от примерно 45 до 100. Если посмотреть выше на значения трех мцт, мы увидим, что среднее арифметическое было чуть больше остальных мер, это произошло как раз таки из-за выбросов в правой стороне графика. "
   ]
  },
  {
   "cell_type": "code",
   "execution_count": 46,
   "id": "0346c30f",
   "metadata": {},
   "outputs": [
    {
     "data": {
      "text/plain": [
       "<AxesSubplot:xlabel='avg_glucose_level'>"
      ]
     },
     "execution_count": 46,
     "metadata": {},
     "output_type": "execute_result"
    },
    {
     "data": {
      "image/png": "[encoded data removed]",
      "text/plain": [
       "<Figure size 432x288 with 1 Axes>"
      ]
     },
     "metadata": {
      "needs_background": "light"
     },
     "output_type": "display_data"
    }
   ],
   "source": [
    "sns.boxplot(x=data['avg_glucose_level'])"
   ]
  },
  {
   "cell_type": "markdown",
   "id": "f4cb42cc",
   "metadata": {},
   "source": [
    "В переменной среднего уровня глюкозы нижняя граница значений чуть больше 50, верхняя - примерно 160-170. От значений верхней границы и исходят выбросы, превышая 250 единиц. При подсчёте мцт было заметно, что среднее значительно больше остальных мцт, это произошло из-за большого количества аномальных значений, которые перетянули среднее арифметическое в правую сторону.  "
   ]
  },
  {
   "cell_type": "markdown",
   "id": "e834294e",
   "metadata": {},
   "source": [
    "### Интерквартильный размах и среднеквадратичное отклонение"
   ]
  },
  {
   "cell_type": "markdown",
   "id": "6f48abb4",
   "metadata": {},
   "source": [
    "Выбросы по переменной уровня глюкозы: интерквартильный размах"
   ]
  },
  {
   "cell_type": "code",
   "execution_count": 48,
   "id": "d801b524",
   "metadata": {},
   "outputs": [
    {
     "data": {
      "text/plain": [
       "(21.977500000000006, 169.35750000000002)"
      ]
     },
     "execution_count": 48,
     "metadata": {},
     "output_type": "execute_result"
    }
   ],
   "source": [
    "import numpy as np\n",
    "q1 = np.percentile(data['avg_glucose_level'], 25)\n",
    "q3 = np.percentile(data['avg_glucose_level'], 75)\n",
    "iqr=q3-q1\n",
    "# Нижняя граница\n",
    "line1 = q1 - 1.5*iqr\n",
    "# Верхняя границы\n",
    "line2 = q3 + 1.5*iqr\n",
    "line1, line2"
   ]
  },
  {
   "cell_type": "code",
   "execution_count": 49,
   "id": "d59b2597",
   "metadata": {},
   "outputs": [
    {
     "data": {
      "text/html": [
       "<div>\n",
       "<style scoped>\n",
       "    .dataframe tbody tr th:only-of-type {\n",
       "        vertical-align: middle;\n",
       "    }\n",
       "\n",
       "    .dataframe tbody tr th {\n",
       "        vertical-align: top;\n",
       "    }\n",
       "\n",
       "    .dataframe thead th {\n",
       "        text-align: right;\n",
       "    }\n",
       "</style>\n",
       "<table border=\"1\" class=\"dataframe\">\n",
       "  <thead>\n",
       "    <tr style=\"text-align: right;\">\n",
       "      <th></th>\n",
       "      <th>gender</th>\n",
       "      <th>age</th>\n",
       "      <th>hypertension</th>\n",
       "      <th>heart_disease</th>\n",
       "      <th>ever_married</th>\n",
       "      <th>work_type</th>\n",
       "      <th>Residence_type</th>\n",
       "      <th>avg_glucose_level</th>\n",
       "      <th>bmi</th>\n",
       "      <th>smoking_status</th>\n",
       "      <th>stroke</th>\n",
       "      <th>age_range</th>\n",
       "    </tr>\n",
       "  </thead>\n",
       "  <tbody>\n",
       "  </tbody>\n",
       "</table>\n",
       "</div>"
      ],
      "text/plain": [
       "Empty DataFrame\n",
       "Columns: [gender, age, hypertension, heart_disease, ever_married, work_type, Residence_type, avg_glucose_level, bmi, smoking_status, stroke, age_range]\n",
       "Index: []"
      ]
     },
     "execution_count": 49,
     "metadata": {},
     "output_type": "execute_result"
    }
   ],
   "source": [
    "data[data['avg_glucose_level'] < line1]"
   ]
  },
  {
   "cell_type": "markdown",
   "id": "dc99a253",
   "metadata": {},
   "source": [
    "Выбросов перед нижней границей нет."
   ]
  },
  {
   "cell_type": "code",
   "execution_count": 35,
   "id": "f869890b",
   "metadata": {},
   "outputs": [
    {
     "data": {
      "text/html": [
       "<div>\n",
       "<style scoped>\n",
       "    .dataframe tbody tr th:only-of-type {\n",
       "        vertical-align: middle;\n",
       "    }\n",
       "\n",
       "    .dataframe tbody tr th {\n",
       "        vertical-align: top;\n",
       "    }\n",
       "\n",
       "    .dataframe thead th {\n",
       "        text-align: right;\n",
       "    }\n",
       "</style>\n",
       "<table border=\"1\" class=\"dataframe\">\n",
       "  <thead>\n",
       "    <tr style=\"text-align: right;\">\n",
       "      <th></th>\n",
       "      <th>gender</th>\n",
       "      <th>age</th>\n",
       "      <th>hypertension</th>\n",
       "      <th>heart_disease</th>\n",
       "      <th>ever_married</th>\n",
       "      <th>work_type</th>\n",
       "      <th>Residence_type</th>\n",
       "      <th>avg_glucose_level</th>\n",
       "      <th>bmi</th>\n",
       "      <th>smoking_status</th>\n",
       "      <th>stroke</th>\n",
       "      <th>stroke_risk</th>\n",
       "    </tr>\n",
       "  </thead>\n",
       "  <tbody>\n",
       "    <tr>\n",
       "      <th>0</th>\n",
       "      <td>Male</td>\n",
       "      <td>67.0</td>\n",
       "      <td>0</td>\n",
       "      <td>1</td>\n",
       "      <td>Yes</td>\n",
       "      <td>Private</td>\n",
       "      <td>Urban</td>\n",
       "      <td>228.69</td>\n",
       "      <td>36.6</td>\n",
       "      <td>formerly smoked</td>\n",
       "      <td>1</td>\n",
       "      <td>no risk or already had a stroke</td>\n",
       "    </tr>\n",
       "    <tr>\n",
       "      <th>1</th>\n",
       "      <td>Female</td>\n",
       "      <td>61.0</td>\n",
       "      <td>0</td>\n",
       "      <td>0</td>\n",
       "      <td>Yes</td>\n",
       "      <td>Self-employed</td>\n",
       "      <td>Rural</td>\n",
       "      <td>202.21</td>\n",
       "      <td>NaN</td>\n",
       "      <td>never smoked</td>\n",
       "      <td>1</td>\n",
       "      <td>no risk or already had a stroke</td>\n",
       "    </tr>\n",
       "    <tr>\n",
       "      <th>3</th>\n",
       "      <td>Female</td>\n",
       "      <td>49.0</td>\n",
       "      <td>0</td>\n",
       "      <td>0</td>\n",
       "      <td>Yes</td>\n",
       "      <td>Private</td>\n",
       "      <td>Urban</td>\n",
       "      <td>171.23</td>\n",
       "      <td>34.4</td>\n",
       "      <td>smokes</td>\n",
       "      <td>1</td>\n",
       "      <td>no risk or already had a stroke</td>\n",
       "    </tr>\n",
       "    <tr>\n",
       "      <th>4</th>\n",
       "      <td>Female</td>\n",
       "      <td>79.0</td>\n",
       "      <td>1</td>\n",
       "      <td>0</td>\n",
       "      <td>Yes</td>\n",
       "      <td>Self-employed</td>\n",
       "      <td>Rural</td>\n",
       "      <td>174.12</td>\n",
       "      <td>24.0</td>\n",
       "      <td>never smoked</td>\n",
       "      <td>1</td>\n",
       "      <td>no risk or already had a stroke</td>\n",
       "    </tr>\n",
       "    <tr>\n",
       "      <th>5</th>\n",
       "      <td>Male</td>\n",
       "      <td>81.0</td>\n",
       "      <td>0</td>\n",
       "      <td>0</td>\n",
       "      <td>Yes</td>\n",
       "      <td>Private</td>\n",
       "      <td>Urban</td>\n",
       "      <td>186.21</td>\n",
       "      <td>29.0</td>\n",
       "      <td>formerly smoked</td>\n",
       "      <td>1</td>\n",
       "      <td>no risk or already had a stroke</td>\n",
       "    </tr>\n",
       "    <tr>\n",
       "      <th>...</th>\n",
       "      <td>...</td>\n",
       "      <td>...</td>\n",
       "      <td>...</td>\n",
       "      <td>...</td>\n",
       "      <td>...</td>\n",
       "      <td>...</td>\n",
       "      <td>...</td>\n",
       "      <td>...</td>\n",
       "      <td>...</td>\n",
       "      <td>...</td>\n",
       "      <td>...</td>\n",
       "      <td>...</td>\n",
       "    </tr>\n",
       "    <tr>\n",
       "      <th>5061</th>\n",
       "      <td>Male</td>\n",
       "      <td>41.0</td>\n",
       "      <td>0</td>\n",
       "      <td>0</td>\n",
       "      <td>Yes</td>\n",
       "      <td>Private</td>\n",
       "      <td>Urban</td>\n",
       "      <td>223.78</td>\n",
       "      <td>32.3</td>\n",
       "      <td>never smoked</td>\n",
       "      <td>0</td>\n",
       "      <td>no risk or already had a stroke</td>\n",
       "    </tr>\n",
       "    <tr>\n",
       "      <th>5062</th>\n",
       "      <td>Female</td>\n",
       "      <td>82.0</td>\n",
       "      <td>0</td>\n",
       "      <td>0</td>\n",
       "      <td>Yes</td>\n",
       "      <td>Self-employed</td>\n",
       "      <td>Rural</td>\n",
       "      <td>211.58</td>\n",
       "      <td>36.9</td>\n",
       "      <td>never smoked</td>\n",
       "      <td>0</td>\n",
       "      <td>no risk or already had a stroke</td>\n",
       "    </tr>\n",
       "    <tr>\n",
       "      <th>5063</th>\n",
       "      <td>Male</td>\n",
       "      <td>39.0</td>\n",
       "      <td>0</td>\n",
       "      <td>0</td>\n",
       "      <td>Yes</td>\n",
       "      <td>Private</td>\n",
       "      <td>Urban</td>\n",
       "      <td>179.38</td>\n",
       "      <td>27.7</td>\n",
       "      <td>Unknown</td>\n",
       "      <td>0</td>\n",
       "      <td>no risk or already had a stroke</td>\n",
       "    </tr>\n",
       "    <tr>\n",
       "      <th>5064</th>\n",
       "      <td>Male</td>\n",
       "      <td>70.0</td>\n",
       "      <td>0</td>\n",
       "      <td>0</td>\n",
       "      <td>Yes</td>\n",
       "      <td>Self-employed</td>\n",
       "      <td>Rural</td>\n",
       "      <td>193.88</td>\n",
       "      <td>24.3</td>\n",
       "      <td>Unknown</td>\n",
       "      <td>0</td>\n",
       "      <td>no risk or already had a stroke</td>\n",
       "    </tr>\n",
       "    <tr>\n",
       "      <th>5076</th>\n",
       "      <td>Female</td>\n",
       "      <td>34.0</td>\n",
       "      <td>0</td>\n",
       "      <td>0</td>\n",
       "      <td>Yes</td>\n",
       "      <td>Private</td>\n",
       "      <td>Rural</td>\n",
       "      <td>174.37</td>\n",
       "      <td>23.0</td>\n",
       "      <td>never smoked</td>\n",
       "      <td>0</td>\n",
       "      <td>no risk or already had a stroke</td>\n",
       "    </tr>\n",
       "  </tbody>\n",
       "</table>\n",
       "<p>627 rows × 12 columns</p>\n",
       "</div>"
      ],
      "text/plain": [
       "      gender   age  hypertension  heart_disease ever_married      work_type  \\\n",
       "0       Male  67.0             0              1          Yes        Private   \n",
       "1     Female  61.0             0              0          Yes  Self-employed   \n",
       "3     Female  49.0             0              0          Yes        Private   \n",
       "4     Female  79.0             1              0          Yes  Self-employed   \n",
       "5       Male  81.0             0              0          Yes        Private   \n",
       "...      ...   ...           ...            ...          ...            ...   \n",
       "5061    Male  41.0             0              0          Yes        Private   \n",
       "5062  Female  82.0             0              0          Yes  Self-employed   \n",
       "5063    Male  39.0             0              0          Yes        Private   \n",
       "5064    Male  70.0             0              0          Yes  Self-employed   \n",
       "5076  Female  34.0             0              0          Yes        Private   \n",
       "\n",
       "     Residence_type  avg_glucose_level   bmi   smoking_status  stroke  \\\n",
       "0             Urban             228.69  36.6  formerly smoked       1   \n",
       "1             Rural             202.21   NaN     never smoked       1   \n",
       "3             Urban             171.23  34.4           smokes       1   \n",
       "4             Rural             174.12  24.0     never smoked       1   \n",
       "5             Urban             186.21  29.0  formerly smoked       1   \n",
       "...             ...                ...   ...              ...     ...   \n",
       "5061          Urban             223.78  32.3     never smoked       0   \n",
       "5062          Rural             211.58  36.9     never smoked       0   \n",
       "5063          Urban             179.38  27.7          Unknown       0   \n",
       "5064          Rural             193.88  24.3          Unknown       0   \n",
       "5076          Rural             174.37  23.0     never smoked       0   \n",
       "\n",
       "                          stroke_risk  \n",
       "0     no risk or already had a stroke  \n",
       "1     no risk or already had a stroke  \n",
       "3     no risk or already had a stroke  \n",
       "4     no risk or already had a stroke  \n",
       "5     no risk or already had a stroke  \n",
       "...                               ...  \n",
       "5061  no risk or already had a stroke  \n",
       "5062  no risk or already had a stroke  \n",
       "5063  no risk or already had a stroke  \n",
       "5064  no risk or already had a stroke  \n",
       "5076  no risk or already had a stroke  \n",
       "\n",
       "[627 rows x 12 columns]"
      ]
     },
     "execution_count": 35,
     "metadata": {},
     "output_type": "execute_result"
    }
   ],
   "source": [
    "data[data['avg_glucose_level'] > line2]"
   ]
  },
  {
   "cell_type": "code",
   "execution_count": 39,
   "id": "c12341fa",
   "metadata": {},
   "outputs": [
    {
     "data": {
      "text/plain": [
       "271.74"
      ]
     },
     "execution_count": 39,
     "metadata": {},
     "output_type": "execute_result"
    }
   ],
   "source": [
    "data['avg_glucose_level'].max()"
   ]
  },
  {
   "cell_type": "markdown",
   "id": "d1960475",
   "metadata": {},
   "source": [
    "У нас огромное количество выбросов (627 строк) за верхней границей, как и показал ящик с усами, при этом с помощью функции max, мы выяснили, что значение самого большого аномального значения составляет 271.74"
   ]
  },
  {
   "cell_type": "markdown",
   "id": "26618750",
   "metadata": {},
   "source": [
    "Выбросы по переменной уровня глюкозы: среднеквадратичное отклонение"
   ]
  },
  {
   "cell_type": "code",
   "execution_count": 40,
   "id": "21ef674c",
   "metadata": {},
   "outputs": [
    {
     "name": "stdout",
     "output_type": "stream",
     "text": [
      "-7.050145538929385 219.34549974636548\n"
     ]
    }
   ],
   "source": [
    "mean = data['avg_glucose_level'].mean()\n",
    "std = data['avg_glucose_level'].std(ddof=0)\n",
    "# Нижняя граница\n",
    "b_line = mean - 2.5*std\n",
    "# Верхняя граница\n",
    "u_line = mean + 2.5*std\n",
    "print(b_line, u_line)"
   ]
  },
  {
   "cell_type": "markdown",
   "id": "00f7b8ed",
   "metadata": {},
   "source": [
    "Нижняя граница, высчитанная по среднеквадратичному отклонению, отрицательная. Это говорит о том, что выбросов за нижней границей нет. Хотя значения нижней границы по интерквартильному размаху и среднеквадратичному различаются, они показывают одно и то же. "
   ]
  },
  {
   "cell_type": "code",
   "execution_count": 42,
   "id": "fd79853d",
   "metadata": {},
   "outputs": [
    {
     "data": {
      "text/html": [
       "<div>\n",
       "<style scoped>\n",
       "    .dataframe tbody tr th:only-of-type {\n",
       "        vertical-align: middle;\n",
       "    }\n",
       "\n",
       "    .dataframe tbody tr th {\n",
       "        vertical-align: top;\n",
       "    }\n",
       "\n",
       "    .dataframe thead th {\n",
       "        text-align: right;\n",
       "    }\n",
       "</style>\n",
       "<table border=\"1\" class=\"dataframe\">\n",
       "  <thead>\n",
       "    <tr style=\"text-align: right;\">\n",
       "      <th></th>\n",
       "      <th>gender</th>\n",
       "      <th>age</th>\n",
       "      <th>hypertension</th>\n",
       "      <th>heart_disease</th>\n",
       "      <th>ever_married</th>\n",
       "      <th>work_type</th>\n",
       "      <th>Residence_type</th>\n",
       "      <th>avg_glucose_level</th>\n",
       "      <th>bmi</th>\n",
       "      <th>smoking_status</th>\n",
       "      <th>stroke</th>\n",
       "      <th>stroke_risk</th>\n",
       "    </tr>\n",
       "  </thead>\n",
       "  <tbody>\n",
       "    <tr>\n",
       "      <th>0</th>\n",
       "      <td>Male</td>\n",
       "      <td>67.0</td>\n",
       "      <td>0</td>\n",
       "      <td>1</td>\n",
       "      <td>Yes</td>\n",
       "      <td>Private</td>\n",
       "      <td>Urban</td>\n",
       "      <td>228.69</td>\n",
       "      <td>36.6</td>\n",
       "      <td>formerly smoked</td>\n",
       "      <td>1</td>\n",
       "      <td>no risk or already had a stroke</td>\n",
       "    </tr>\n",
       "    <tr>\n",
       "      <th>13</th>\n",
       "      <td>Male</td>\n",
       "      <td>78.0</td>\n",
       "      <td>0</td>\n",
       "      <td>1</td>\n",
       "      <td>Yes</td>\n",
       "      <td>Private</td>\n",
       "      <td>Urban</td>\n",
       "      <td>219.84</td>\n",
       "      <td>NaN</td>\n",
       "      <td>Unknown</td>\n",
       "      <td>1</td>\n",
       "      <td>no risk or already had a stroke</td>\n",
       "    </tr>\n",
       "    <tr>\n",
       "      <th>17</th>\n",
       "      <td>Male</td>\n",
       "      <td>75.0</td>\n",
       "      <td>1</td>\n",
       "      <td>0</td>\n",
       "      <td>Yes</td>\n",
       "      <td>Private</td>\n",
       "      <td>Urban</td>\n",
       "      <td>221.29</td>\n",
       "      <td>25.8</td>\n",
       "      <td>smokes</td>\n",
       "      <td>1</td>\n",
       "      <td>no risk or already had a stroke</td>\n",
       "    </tr>\n",
       "    <tr>\n",
       "      <th>21</th>\n",
       "      <td>Female</td>\n",
       "      <td>52.0</td>\n",
       "      <td>1</td>\n",
       "      <td>0</td>\n",
       "      <td>Yes</td>\n",
       "      <td>Self-employed</td>\n",
       "      <td>Urban</td>\n",
       "      <td>233.29</td>\n",
       "      <td>48.9</td>\n",
       "      <td>never smoked</td>\n",
       "      <td>1</td>\n",
       "      <td>no risk or already had a stroke</td>\n",
       "    </tr>\n",
       "    <tr>\n",
       "      <th>22</th>\n",
       "      <td>Female</td>\n",
       "      <td>79.0</td>\n",
       "      <td>0</td>\n",
       "      <td>0</td>\n",
       "      <td>Yes</td>\n",
       "      <td>Self-employed</td>\n",
       "      <td>Urban</td>\n",
       "      <td>228.70</td>\n",
       "      <td>26.6</td>\n",
       "      <td>never smoked</td>\n",
       "      <td>1</td>\n",
       "      <td>no risk or already had a stroke</td>\n",
       "    </tr>\n",
       "    <tr>\n",
       "      <th>...</th>\n",
       "      <td>...</td>\n",
       "      <td>...</td>\n",
       "      <td>...</td>\n",
       "      <td>...</td>\n",
       "      <td>...</td>\n",
       "      <td>...</td>\n",
       "      <td>...</td>\n",
       "      <td>...</td>\n",
       "      <td>...</td>\n",
       "      <td>...</td>\n",
       "      <td>...</td>\n",
       "      <td>...</td>\n",
       "    </tr>\n",
       "    <tr>\n",
       "      <th>4921</th>\n",
       "      <td>Male</td>\n",
       "      <td>72.0</td>\n",
       "      <td>0</td>\n",
       "      <td>1</td>\n",
       "      <td>Yes</td>\n",
       "      <td>Private</td>\n",
       "      <td>Rural</td>\n",
       "      <td>238.27</td>\n",
       "      <td>NaN</td>\n",
       "      <td>smokes</td>\n",
       "      <td>0</td>\n",
       "      <td>no risk or already had a stroke</td>\n",
       "    </tr>\n",
       "    <tr>\n",
       "      <th>4983</th>\n",
       "      <td>Male</td>\n",
       "      <td>76.0</td>\n",
       "      <td>1</td>\n",
       "      <td>0</td>\n",
       "      <td>Yes</td>\n",
       "      <td>Private</td>\n",
       "      <td>Rural</td>\n",
       "      <td>267.60</td>\n",
       "      <td>30.5</td>\n",
       "      <td>never smoked</td>\n",
       "      <td>0</td>\n",
       "      <td>High risk of stroke</td>\n",
       "    </tr>\n",
       "    <tr>\n",
       "      <th>4986</th>\n",
       "      <td>Male</td>\n",
       "      <td>58.0</td>\n",
       "      <td>0</td>\n",
       "      <td>1</td>\n",
       "      <td>Yes</td>\n",
       "      <td>Private</td>\n",
       "      <td>Rural</td>\n",
       "      <td>225.35</td>\n",
       "      <td>26.5</td>\n",
       "      <td>smokes</td>\n",
       "      <td>0</td>\n",
       "      <td>no risk or already had a stroke</td>\n",
       "    </tr>\n",
       "    <tr>\n",
       "      <th>5034</th>\n",
       "      <td>Female</td>\n",
       "      <td>79.0</td>\n",
       "      <td>0</td>\n",
       "      <td>0</td>\n",
       "      <td>No</td>\n",
       "      <td>Private</td>\n",
       "      <td>Urban</td>\n",
       "      <td>253.86</td>\n",
       "      <td>28.8</td>\n",
       "      <td>formerly smoked</td>\n",
       "      <td>0</td>\n",
       "      <td>no risk or already had a stroke</td>\n",
       "    </tr>\n",
       "    <tr>\n",
       "      <th>5061</th>\n",
       "      <td>Male</td>\n",
       "      <td>41.0</td>\n",
       "      <td>0</td>\n",
       "      <td>0</td>\n",
       "      <td>Yes</td>\n",
       "      <td>Private</td>\n",
       "      <td>Urban</td>\n",
       "      <td>223.78</td>\n",
       "      <td>32.3</td>\n",
       "      <td>never smoked</td>\n",
       "      <td>0</td>\n",
       "      <td>no risk or already had a stroke</td>\n",
       "    </tr>\n",
       "  </tbody>\n",
       "</table>\n",
       "<p>221 rows × 12 columns</p>\n",
       "</div>"
      ],
      "text/plain": [
       "      gender   age  hypertension  heart_disease ever_married      work_type  \\\n",
       "0       Male  67.0             0              1          Yes        Private   \n",
       "13      Male  78.0             0              1          Yes        Private   \n",
       "17      Male  75.0             1              0          Yes        Private   \n",
       "21    Female  52.0             1              0          Yes  Self-employed   \n",
       "22    Female  79.0             0              0          Yes  Self-employed   \n",
       "...      ...   ...           ...            ...          ...            ...   \n",
       "4921    Male  72.0             0              1          Yes        Private   \n",
       "4983    Male  76.0             1              0          Yes        Private   \n",
       "4986    Male  58.0             0              1          Yes        Private   \n",
       "5034  Female  79.0             0              0           No        Private   \n",
       "5061    Male  41.0             0              0          Yes        Private   \n",
       "\n",
       "     Residence_type  avg_glucose_level   bmi   smoking_status  stroke  \\\n",
       "0             Urban             228.69  36.6  formerly smoked       1   \n",
       "13            Urban             219.84   NaN          Unknown       1   \n",
       "17            Urban             221.29  25.8           smokes       1   \n",
       "21            Urban             233.29  48.9     never smoked       1   \n",
       "22            Urban             228.70  26.6     never smoked       1   \n",
       "...             ...                ...   ...              ...     ...   \n",
       "4921          Rural             238.27   NaN           smokes       0   \n",
       "4983          Rural             267.60  30.5     never smoked       0   \n",
       "4986          Rural             225.35  26.5           smokes       0   \n",
       "5034          Urban             253.86  28.8  formerly smoked       0   \n",
       "5061          Urban             223.78  32.3     never smoked       0   \n",
       "\n",
       "                          stroke_risk  \n",
       "0     no risk or already had a stroke  \n",
       "13    no risk or already had a stroke  \n",
       "17    no risk or already had a stroke  \n",
       "21    no risk or already had a stroke  \n",
       "22    no risk or already had a stroke  \n",
       "...                               ...  \n",
       "4921  no risk or already had a stroke  \n",
       "4983              High risk of stroke  \n",
       "4986  no risk or already had a stroke  \n",
       "5034  no risk or already had a stroke  \n",
       "5061  no risk or already had a stroke  \n",
       "\n",
       "[221 rows x 12 columns]"
      ]
     },
     "execution_count": 42,
     "metadata": {},
     "output_type": "execute_result"
    }
   ],
   "source": [
    "data[data['avg_glucose_level'] > u_line]"
   ]
  },
  {
   "cell_type": "markdown",
   "id": "101f67a5",
   "metadata": {},
   "source": [
    "По среднеквадратичному отклонению выбросов стало меньше (всего 221 строка), так как нижняя граница стала больше, не 169, а 219. Это основное различие между показателями интерквартильного размаха и среднеквадратичного отклонения: происходит смещение границ в ту или иную сторону, и выбросов становится больше или меньше. "
   ]
  },
  {
   "cell_type": "markdown",
   "id": "bc6bd46e",
   "metadata": {},
   "source": [
    "## Удаление выбросов "
   ]
  },
  {
   "cell_type": "markdown",
   "id": "58036e2e",
   "metadata": {},
   "source": [
    "Так как по интеквартильному размаху выбросов было достаточно много, посмотрим, как изменятся мцт, если мы удалим выбросы. "
   ]
  },
  {
   "cell_type": "markdown",
   "id": "d5893107",
   "metadata": {},
   "source": [
    "Создадим новый датасет, в котором строки с выбросами отсутствуют. "
   ]
  },
  {
   "cell_type": "code",
   "execution_count": 51,
   "id": "9c191391",
   "metadata": {},
   "outputs": [
    {
     "data": {
      "text/html": [
       "<div>\n",
       "<style scoped>\n",
       "    .dataframe tbody tr th:only-of-type {\n",
       "        vertical-align: middle;\n",
       "    }\n",
       "\n",
       "    .dataframe tbody tr th {\n",
       "        vertical-align: top;\n",
       "    }\n",
       "\n",
       "    .dataframe thead th {\n",
       "        text-align: right;\n",
       "    }\n",
       "</style>\n",
       "<table border=\"1\" class=\"dataframe\">\n",
       "  <thead>\n",
       "    <tr style=\"text-align: right;\">\n",
       "      <th></th>\n",
       "      <th>gender</th>\n",
       "      <th>age</th>\n",
       "      <th>hypertension</th>\n",
       "      <th>heart_disease</th>\n",
       "      <th>ever_married</th>\n",
       "      <th>work_type</th>\n",
       "      <th>Residence_type</th>\n",
       "      <th>avg_glucose_level</th>\n",
       "      <th>bmi</th>\n",
       "      <th>smoking_status</th>\n",
       "      <th>stroke</th>\n",
       "      <th>age_range</th>\n",
       "    </tr>\n",
       "  </thead>\n",
       "  <tbody>\n",
       "    <tr>\n",
       "      <th>2</th>\n",
       "      <td>Male</td>\n",
       "      <td>80.0</td>\n",
       "      <td>0</td>\n",
       "      <td>1</td>\n",
       "      <td>Yes</td>\n",
       "      <td>Private</td>\n",
       "      <td>Rural</td>\n",
       "      <td>105.92</td>\n",
       "      <td>32.5</td>\n",
       "      <td>never smoked</td>\n",
       "      <td>1</td>\n",
       "      <td>Пожилые люди</td>\n",
       "    </tr>\n",
       "    <tr>\n",
       "      <th>6</th>\n",
       "      <td>Male</td>\n",
       "      <td>74.0</td>\n",
       "      <td>1</td>\n",
       "      <td>1</td>\n",
       "      <td>Yes</td>\n",
       "      <td>Private</td>\n",
       "      <td>Rural</td>\n",
       "      <td>70.09</td>\n",
       "      <td>27.4</td>\n",
       "      <td>never smoked</td>\n",
       "      <td>1</td>\n",
       "      <td>Пожилые люди</td>\n",
       "    </tr>\n",
       "    <tr>\n",
       "      <th>7</th>\n",
       "      <td>Female</td>\n",
       "      <td>69.0</td>\n",
       "      <td>0</td>\n",
       "      <td>0</td>\n",
       "      <td>No</td>\n",
       "      <td>Private</td>\n",
       "      <td>Urban</td>\n",
       "      <td>94.39</td>\n",
       "      <td>22.8</td>\n",
       "      <td>never smoked</td>\n",
       "      <td>1</td>\n",
       "      <td>Пожилые люди</td>\n",
       "    </tr>\n",
       "    <tr>\n",
       "      <th>8</th>\n",
       "      <td>Female</td>\n",
       "      <td>59.0</td>\n",
       "      <td>0</td>\n",
       "      <td>0</td>\n",
       "      <td>Yes</td>\n",
       "      <td>Private</td>\n",
       "      <td>Rural</td>\n",
       "      <td>76.15</td>\n",
       "      <td>NaN</td>\n",
       "      <td>Unknown</td>\n",
       "      <td>1</td>\n",
       "      <td>Пожилые люди</td>\n",
       "    </tr>\n",
       "    <tr>\n",
       "      <th>9</th>\n",
       "      <td>Female</td>\n",
       "      <td>78.0</td>\n",
       "      <td>0</td>\n",
       "      <td>0</td>\n",
       "      <td>Yes</td>\n",
       "      <td>Private</td>\n",
       "      <td>Urban</td>\n",
       "      <td>58.57</td>\n",
       "      <td>24.2</td>\n",
       "      <td>Unknown</td>\n",
       "      <td>1</td>\n",
       "      <td>Пожилые люди</td>\n",
       "    </tr>\n",
       "    <tr>\n",
       "      <th>...</th>\n",
       "      <td>...</td>\n",
       "      <td>...</td>\n",
       "      <td>...</td>\n",
       "      <td>...</td>\n",
       "      <td>...</td>\n",
       "      <td>...</td>\n",
       "      <td>...</td>\n",
       "      <td>...</td>\n",
       "      <td>...</td>\n",
       "      <td>...</td>\n",
       "      <td>...</td>\n",
       "      <td>...</td>\n",
       "    </tr>\n",
       "    <tr>\n",
       "      <th>5105</th>\n",
       "      <td>Female</td>\n",
       "      <td>80.0</td>\n",
       "      <td>1</td>\n",
       "      <td>0</td>\n",
       "      <td>Yes</td>\n",
       "      <td>Private</td>\n",
       "      <td>Urban</td>\n",
       "      <td>83.75</td>\n",
       "      <td>NaN</td>\n",
       "      <td>never smoked</td>\n",
       "      <td>0</td>\n",
       "      <td>Пожилые люди</td>\n",
       "    </tr>\n",
       "    <tr>\n",
       "      <th>5106</th>\n",
       "      <td>Female</td>\n",
       "      <td>81.0</td>\n",
       "      <td>0</td>\n",
       "      <td>0</td>\n",
       "      <td>Yes</td>\n",
       "      <td>Self-employed</td>\n",
       "      <td>Urban</td>\n",
       "      <td>125.20</td>\n",
       "      <td>40.0</td>\n",
       "      <td>never smoked</td>\n",
       "      <td>0</td>\n",
       "      <td>Пожилые люди</td>\n",
       "    </tr>\n",
       "    <tr>\n",
       "      <th>5107</th>\n",
       "      <td>Female</td>\n",
       "      <td>35.0</td>\n",
       "      <td>0</td>\n",
       "      <td>0</td>\n",
       "      <td>Yes</td>\n",
       "      <td>Self-employed</td>\n",
       "      <td>Rural</td>\n",
       "      <td>82.99</td>\n",
       "      <td>30.6</td>\n",
       "      <td>never smoked</td>\n",
       "      <td>0</td>\n",
       "      <td>31-40</td>\n",
       "    </tr>\n",
       "    <tr>\n",
       "      <th>5108</th>\n",
       "      <td>Male</td>\n",
       "      <td>51.0</td>\n",
       "      <td>0</td>\n",
       "      <td>0</td>\n",
       "      <td>Yes</td>\n",
       "      <td>Private</td>\n",
       "      <td>Rural</td>\n",
       "      <td>166.29</td>\n",
       "      <td>25.6</td>\n",
       "      <td>formerly smoked</td>\n",
       "      <td>0</td>\n",
       "      <td>41-55</td>\n",
       "    </tr>\n",
       "    <tr>\n",
       "      <th>5109</th>\n",
       "      <td>Female</td>\n",
       "      <td>44.0</td>\n",
       "      <td>0</td>\n",
       "      <td>0</td>\n",
       "      <td>Yes</td>\n",
       "      <td>Govt_job</td>\n",
       "      <td>Urban</td>\n",
       "      <td>85.28</td>\n",
       "      <td>26.2</td>\n",
       "      <td>Unknown</td>\n",
       "      <td>0</td>\n",
       "      <td>41-55</td>\n",
       "    </tr>\n",
       "  </tbody>\n",
       "</table>\n",
       "<p>4483 rows × 12 columns</p>\n",
       "</div>"
      ],
      "text/plain": [
       "      gender   age  hypertension  heart_disease ever_married      work_type  \\\n",
       "2       Male  80.0             0              1          Yes        Private   \n",
       "6       Male  74.0             1              1          Yes        Private   \n",
       "7     Female  69.0             0              0           No        Private   \n",
       "8     Female  59.0             0              0          Yes        Private   \n",
       "9     Female  78.0             0              0          Yes        Private   \n",
       "...      ...   ...           ...            ...          ...            ...   \n",
       "5105  Female  80.0             1              0          Yes        Private   \n",
       "5106  Female  81.0             0              0          Yes  Self-employed   \n",
       "5107  Female  35.0             0              0          Yes  Self-employed   \n",
       "5108    Male  51.0             0              0          Yes        Private   \n",
       "5109  Female  44.0             0              0          Yes       Govt_job   \n",
       "\n",
       "     Residence_type  avg_glucose_level   bmi   smoking_status  stroke  \\\n",
       "2             Rural             105.92  32.5     never smoked       1   \n",
       "6             Rural              70.09  27.4     never smoked       1   \n",
       "7             Urban              94.39  22.8     never smoked       1   \n",
       "8             Rural              76.15   NaN          Unknown       1   \n",
       "9             Urban              58.57  24.2          Unknown       1   \n",
       "...             ...                ...   ...              ...     ...   \n",
       "5105          Urban              83.75   NaN     never smoked       0   \n",
       "5106          Urban             125.20  40.0     never smoked       0   \n",
       "5107          Rural              82.99  30.6     never smoked       0   \n",
       "5108          Rural             166.29  25.6  formerly smoked       0   \n",
       "5109          Urban              85.28  26.2          Unknown       0   \n",
       "\n",
       "         age_range  \n",
       "2     Пожилые люди  \n",
       "6     Пожилые люди  \n",
       "7     Пожилые люди  \n",
       "8     Пожилые люди  \n",
       "9     Пожилые люди  \n",
       "...            ...  \n",
       "5105  Пожилые люди  \n",
       "5106  Пожилые люди  \n",
       "5107         31-40  \n",
       "5108         41-55  \n",
       "5109         41-55  \n",
       "\n",
       "[4483 rows x 12 columns]"
      ]
     },
     "execution_count": 51,
     "metadata": {},
     "output_type": "execute_result"
    }
   ],
   "source": [
    "new_data = data[(data['avg_glucose_level'] < line2)&(data['avg_glucose_level'] > line1)]\n",
    "new_data"
   ]
  },
  {
   "cell_type": "code",
   "execution_count": 52,
   "id": "643318c1",
   "metadata": {},
   "outputs": [
    {
     "data": {
      "text/plain": [
       "91.4350769573943"
      ]
     },
     "execution_count": 52,
     "metadata": {},
     "output_type": "execute_result"
    }
   ],
   "source": [
    "new_data['avg_glucose_level'].mean()"
   ]
  },
  {
   "cell_type": "code",
   "execution_count": 53,
   "id": "fb4e18e3",
   "metadata": {},
   "outputs": [
    {
     "data": {
      "text/plain": [
       "87.96"
      ]
     },
     "execution_count": 53,
     "metadata": {},
     "output_type": "execute_result"
    }
   ],
   "source": [
    "new_data['avg_glucose_level'].median()"
   ]
  },
  {
   "cell_type": "code",
   "execution_count": 55,
   "id": "ef8081e9",
   "metadata": {},
   "outputs": [
    {
     "data": {
      "text/plain": [
       "0    93.88\n",
       "dtype: float64"
      ]
     },
     "execution_count": 55,
     "metadata": {},
     "output_type": "execute_result"
    }
   ],
   "source": [
    "new_data['avg_glucose_level'].mode()"
   ]
  },
  {
   "cell_type": "code",
   "execution_count": 53,
   "id": "bfed678f",
   "metadata": {},
   "outputs": [
    {
     "data": {
      "text/plain": [
       "<AxesSubplot:>"
      ]
     },
     "execution_count": 53,
     "metadata": {},
     "output_type": "execute_result"
    },
    {
     "data": {
      "image/png": "[encoded data removed]",
      "text/plain": [
       "<Figure size 432x288 with 1 Axes>"
      ]
     },
     "metadata": {
      "needs_background": "light"
     },
     "output_type": "display_data"
    }
   ],
   "source": [
    "new_data['avg_glucose_level'].hist()"
   ]
  },
  {
   "cell_type": "markdown",
   "id": "2ab546f0",
   "metadata": {},
   "source": [
    "Удаление выбросов привело к тому, что значения мцт теперь не сильно отличаются друг от друга (медиана чуть меньше остальных мцт). На гистограмме мы видим, что распределение не слишком симметричное из-за выбивающихся значений от 120 до примерно 165, однако выбросами они не являются. "
   ]
  },
  {
   "cell_type": "markdown",
   "id": "8e51f879",
   "metadata": {},
   "source": [
    "## Пропущенные значения"
   ]
  },
  {
   "cell_type": "code",
   "execution_count": 57,
   "id": "bd9d530c",
   "metadata": {},
   "outputs": [
    {
     "data": {
      "text/plain": [
       "gender                 0\n",
       "age                    0\n",
       "hypertension           0\n",
       "heart_disease          0\n",
       "ever_married           0\n",
       "work_type              0\n",
       "Residence_type         0\n",
       "avg_glucose_level      0\n",
       "bmi                  201\n",
       "smoking_status         0\n",
       "stroke                 0\n",
       "age_range              0\n",
       "dtype: int64"
      ]
     },
     "execution_count": 57,
     "metadata": {},
     "output_type": "execute_result"
    }
   ],
   "source": [
    "data.isna().sum()"
   ]
  },
  {
   "cell_type": "markdown",
   "id": "8e3de96d",
   "metadata": {},
   "source": [
    "Пропущенные значения есть в переменной индекса массы тела (201 пропущенное значение). "
   ]
  },
  {
   "cell_type": "markdown",
   "id": "3a55522c",
   "metadata": {},
   "source": [
    "## Этап 4"
   ]
  },
  {
   "cell_type": "markdown",
   "id": "ce4e59fe",
   "metadata": {},
   "source": [
    "Для начала заменим в нашем датасете пропущенные значения в переменной индекса массы тела на медиану. "
   ]
  },
  {
   "cell_type": "code",
   "execution_count": 61,
   "id": "80c6639a",
   "metadata": {},
   "outputs": [],
   "source": [
    "data['bmi'].fillna(data['bmi'].median(), inplace = True)"
   ]
  },
  {
   "cell_type": "markdown",
   "id": "f3560478",
   "metadata": {},
   "source": [
    "Найдем нижние и верхние границы переменных: уровня глюкозы в крови, индекса массы тела и возраста. Корреляции именно этих переменных мы будем находить дальше, так как это единственные непрерывные переменные в наших данных. "
   ]
  },
  {
   "cell_type": "code",
   "execution_count": 67,
   "id": "9fbc63bb",
   "metadata": {},
   "outputs": [
    {
     "data": {
      "text/plain": [
       "(21.977500000000006, 169.35750000000002)"
      ]
     },
     "execution_count": 67,
     "metadata": {},
     "output_type": "execute_result"
    }
   ],
   "source": [
    "q1 = np.percentile(data['avg_glucose_level'], 25)\n",
    "q3 = np.percentile(data['avg_glucose_level'], 75)\n",
    "iqr=q3-q1\n",
    "# Нижняя граница\n",
    "line1 = q1 - 1.5*iqr\n",
    "# Верхняя границы\n",
    "line2 = q3 + 1.5*iqr\n",
    "line1, line2"
   ]
  },
  {
   "cell_type": "code",
   "execution_count": 65,
   "id": "cf11a07f",
   "metadata": {},
   "outputs": [],
   "source": [
    "# Возраст\n",
    "q1_a = np.percentile(data['age'], 25)\n",
    "q3_a = np.percentile(data['age'], 75)\n",
    "iqr_a=q3_a-q1_a\n",
    "# Нижняя граница\n",
    "line1_a = q1_a - 1.5*iqr_a\n",
    "# Верхняя границы\n",
    "line2_a = q3_a + 1.5*iqr_a"
   ]
  },
  {
   "cell_type": "code",
   "execution_count": 66,
   "id": "858c0c6d",
   "metadata": {},
   "outputs": [],
   "source": [
    "# Индекс массы тела\n",
    "q1_b = np.percentile(data['bmi'], 25)\n",
    "q3_b = np.percentile(data['bmi'], 75)\n",
    "iqr_b=q3_b-q1_b\n",
    "# Нижняя граница\n",
    "line1_b = q1_b - 1.5*iqr_b\n",
    "# Верхняя границы\n",
    "line2_b = q3_b + 1.5*iqr_b"
   ]
  },
  {
   "cell_type": "markdown",
   "id": "968b47ab",
   "metadata": {},
   "source": [
    "Создадим новый датасет, в котором не будет выбросов по выбранным переменным. "
   ]
  },
  {
   "cell_type": "code",
   "execution_count": 68,
   "id": "2af6d2d8",
   "metadata": {},
   "outputs": [],
   "source": [
    "data_new = data[((data['age'] < line2_a)&(data['age'] > line1_a))\n",
    "     &((data['avg_glucose_level'] < line2)&(data['avg_glucose_level'] > line1))\n",
    "     &((data['bmi'] < line2_b)&(data['bmi'] > line1_b))]"
   ]
  },
  {
   "cell_type": "markdown",
   "id": "d593c282",
   "metadata": {},
   "source": [
    "### Корреляционная матрица "
   ]
  },
  {
   "cell_type": "code",
   "execution_count": 71,
   "id": "38baef23",
   "metadata": {},
   "outputs": [
    {
     "data": {
      "text/html": [
       "<div>\n",
       "<style scoped>\n",
       "    .dataframe tbody tr th:only-of-type {\n",
       "        vertical-align: middle;\n",
       "    }\n",
       "\n",
       "    .dataframe tbody tr th {\n",
       "        vertical-align: top;\n",
       "    }\n",
       "\n",
       "    .dataframe thead th {\n",
       "        text-align: right;\n",
       "    }\n",
       "</style>\n",
       "<table border=\"1\" class=\"dataframe\">\n",
       "  <thead>\n",
       "    <tr style=\"text-align: right;\">\n",
       "      <th></th>\n",
       "      <th>avg_glucose_level</th>\n",
       "      <th>bmi</th>\n",
       "      <th>age</th>\n",
       "    </tr>\n",
       "  </thead>\n",
       "  <tbody>\n",
       "    <tr>\n",
       "      <th>avg_glucose_level</th>\n",
       "      <td>1.000000</td>\n",
       "      <td>0.002513</td>\n",
       "      <td>-0.024587</td>\n",
       "    </tr>\n",
       "    <tr>\n",
       "      <th>bmi</th>\n",
       "      <td>0.002513</td>\n",
       "      <td>1.000000</td>\n",
       "      <td>0.375375</td>\n",
       "    </tr>\n",
       "    <tr>\n",
       "      <th>age</th>\n",
       "      <td>-0.024587</td>\n",
       "      <td>0.375375</td>\n",
       "      <td>1.000000</td>\n",
       "    </tr>\n",
       "  </tbody>\n",
       "</table>\n",
       "</div>"
      ],
      "text/plain": [
       "                   avg_glucose_level       bmi       age\n",
       "avg_glucose_level           1.000000  0.002513 -0.024587\n",
       "bmi                         0.002513  1.000000  0.375375\n",
       "age                        -0.024587  0.375375  1.000000"
      ]
     },
     "execution_count": 71,
     "metadata": {},
     "output_type": "execute_result"
    }
   ],
   "source": [
    "data_new[['avg_glucose_level', 'bmi', 'age']].corr()"
   ]
  },
  {
   "cell_type": "markdown",
   "id": "7c12c897",
   "metadata": {},
   "source": [
    "### Интерпретация матрицы и графики"
   ]
  },
  {
   "cell_type": "markdown",
   "id": "8054a0e4",
   "metadata": {},
   "source": [
    "Рассматривая переменные индекса массы тела и уровня глюкозы, мы предположили, что чем больше уровень глюкозы, тем больше и индекс массы тела, так как при сахарном диабете нарушается углеводный обмен и у человека появляется лишний вес. Однако корреляция показала иное. **Коэффициент корреляции между этими переменными равен примерно 0.003**, что свидетельствует о крайне слабой связи между переменными. Тем не менее коэффициент положительный, значит зависимость прямая, а не обратная (идет слева направо на графике). "
   ]
  },
  {
   "cell_type": "markdown",
   "id": "34527517",
   "metadata": {},
   "source": [
    "Рассмотрим график рассеяния этих переменных"
   ]
  },
  {
   "cell_type": "code",
   "execution_count": 143,
   "id": "cac395bf",
   "metadata": {},
   "outputs": [
    {
     "data": {
      "text/plain": [
       "<AxesSubplot:xlabel='avg_glucose_level', ylabel='bmi'>"
      ]
     },
     "execution_count": 143,
     "metadata": {},
     "output_type": "execute_result"
    },
    {
     "data": {
      "image/png": "[encoded data removed]",
      "text/plain": [
       "<Figure size 432x288 with 1 Axes>"
      ]
     },
     "metadata": {
      "needs_background": "light"
     },
     "output_type": "display_data"
    }
   ],
   "source": [
    "data_new.plot('avg_glucose_level', 'bmi', kind='scatter')"
   ]
  },
  {
   "cell_type": "markdown",
   "id": "db8a2190",
   "metadata": {},
   "source": [
    "Действительно, связь между переменными слабая, так как значения распределены хаотично и не выстраиваются в линию. "
   ]
  },
  {
   "cell_type": "markdown",
   "id": "a4c8479c",
   "metadata": {},
   "source": [
    "Крайне слабая связь наблюдается и между переменными уровня глюкозы в крови и возраста. Коэффициент равен -0.002. К тому же коэффициент отрицательный, получается, что зависимость обратная: можно предположить, что, чем больше возраст, тем меньше уровень глюкозы. Это очень интересный результат: возможно, среди наших пациентов взрослого возраста мало людей, страдающих от сахарного диабета, а среди младшего возраста - больше. Изначально мы считали, что ситуация будет обратной. "
   ]
  },
  {
   "cell_type": "markdown",
   "id": "c5fb106f",
   "metadata": {},
   "source": [
    "Рассмотрим график рассеяния этих переменных"
   ]
  },
  {
   "cell_type": "code",
   "execution_count": 145,
   "id": "feb228b7",
   "metadata": {},
   "outputs": [
    {
     "data": {
      "text/plain": [
       "<AxesSubplot:xlabel='age', ylabel='avg_glucose_level'>"
      ]
     },
     "execution_count": 145,
     "metadata": {},
     "output_type": "execute_result"
    },
    {
     "data": {
      "image/png": "[encoded data removed]",
      "text/plain": [
       "<Figure size 432x288 with 1 Axes>"
      ]
     },
     "metadata": {
      "needs_background": "light"
     },
     "output_type": "display_data"
    }
   ],
   "source": [
    "data_new.plot('age', 'avg_glucose_level', kind='scatter')"
   ]
  },
  {
   "cell_type": "markdown",
   "id": "7abddaf0",
   "metadata": {},
   "source": [
    "Действительно, связь между переменными слабая, так как значения распределены хаотично по всему графику (причем в нижней части распределено большая часть значений) и не выстраиваются в линию."
   ]
  },
  {
   "cell_type": "markdown",
   "id": "86c178f3",
   "metadata": {},
   "source": [
    "Получше связь между переменными индекса массы тела и возраста. Коэфициент корреляции равен примерно 0.4, это умеренная связь, а за счёт того, что коэффициент положительный, мы можем предположить, что зависимость прямая: чем старше человек, тем больше индекс массы тела. Это подтверждают и медицинские исследования, по результам которых с возрастом люди могут набирать вес из-за жировой ткани и утраты мышечной. "
   ]
  },
  {
   "cell_type": "markdown",
   "id": "3732b3cb",
   "metadata": {},
   "source": [
    "Рассмотрим график рассеяния этих переменных"
   ]
  },
  {
   "cell_type": "code",
   "execution_count": 146,
   "id": "a391c626",
   "metadata": {},
   "outputs": [
    {
     "data": {
      "text/plain": [
       "<AxesSubplot:xlabel='age', ylabel='bmi'>"
      ]
     },
     "execution_count": 146,
     "metadata": {},
     "output_type": "execute_result"
    },
    {
     "data": {
      "image/png": "[encoded data removed]",
      "text/plain": [
       "<Figure size 432x288 with 1 Axes>"
      ]
     },
     "metadata": {
      "needs_background": "light"
     },
     "output_type": "display_data"
    }
   ],
   "source": [
    "data_new.plot('age', 'bmi', kind='scatter')"
   ]
  },
  {
   "cell_type": "markdown",
   "id": "89db388c",
   "metadata": {},
   "source": [
    "Связь умеренная, и это видно на графике. Значения всё так же хаотично распределены, но мы можем выделить некое подобие линейного выстраивания, а также видим положительное направление (слева направо) и выбросы (внизу графика). "
   ]
  }
 ],
 "metadata": {
  "kernelspec": {
   "display_name": "Python 3 (ipykernel)",
   "language": "python",
   "name": "python3"
  },
  "language_info": {
   "codemirror_mode": {
    "name": "ipython",
    "version": 3
   },
   "file_extension": ".py",
   "mimetype": "text/x-python",
   "name": "python",
   "nbconvert_exporter": "python",
   "pygments_lexer": "ipython3",
   "version": "3.9.7"
  }
 },
 "nbformat": 4,
 "nbformat_minor": 5
}
