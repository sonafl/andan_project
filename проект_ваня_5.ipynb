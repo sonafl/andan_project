{
 "cells": [
  {
   "cell_type": "markdown",
   "id": "793b21d1",
   "metadata": {},
   "source": [
    "# IMDB data from 2006 to 2016"
   ]
  },
  {
   "cell_type": "markdown",
   "id": "b831b42c",
   "metadata": {},
   "source": [
    "Анализ 1000 фильмов в базе данных IMBD за 2006-2016 гг"
   ]
  },
  {
   "cell_type": "markdown",
   "id": "30b52c99",
   "metadata": {},
   "source": [
    "Датасет представляет информацию о 1000 популярных фильмах в базе данных IMDB за последние 10 лет. Данные взяты из сайта Kaggle: https://www.kaggle.com/datasets/PromptCloudHQ/imdb-data"
   ]
  },
  {
   "cell_type": "markdown",
   "id": "31b7fc78",
   "metadata": {},
   "source": [
    "### Переменные"
   ]
  },
  {
   "cell_type": "markdown",
   "id": "34c15e5d",
   "metadata": {},
   "source": [
    "Rank - порядок рейтинга фильмов - количественная непрерывная, int\n",
    "\n",
    "Title - название фильма - текстовые данные, object\n",
    "\n",
    "Genre - жанр фильма - текстовые данные, object\n",
    "\n",
    "Description - описание фильма - текстовые данные, object\n",
    "\n",
    "Director - режиссер - текстовые данные, object\n",
    "\n",
    "Actors - актеры - текстовые данные, object\n",
    "\n",
    "Year - год - количественная дискретная (с 2006 по 2016), int\n",
    "\n",
    "Runtime (Minutes) - продолжительность фильма - количественная непрерывная, int\n",
    "\n",
    "Rating - оценка зрителей - от 0 до 10 - количественная непрерывная, float\n",
    "\n",
    "Votes - голоса зрителей - количественная дискретная, int\n",
    "\n",
    "Revenue (Millions) - доход фильма - количественная непрерывная, float\n",
    "\n",
    "Metascore - оценка критиков - от 0 до 100 - количественная непрерывная, float"
   ]
  },
  {
   "cell_type": "code",
   "execution_count": 1,
   "id": "62335fa5",
   "metadata": {},
   "outputs": [],
   "source": [
    "import pandas as pd\n",
    "import seaborn as sns\n",
    "import numpy as np\n",
    "import matplotlib.pyplot as plt"
   ]
  },
  {
   "cell_type": "code",
   "execution_count": 2,
   "id": "d5af8d86",
   "metadata": {},
   "outputs": [
    {
     "data": {
      "text/html": [
       "<div>\n",
       "<style scoped>\n",
       "    .dataframe tbody tr th:only-of-type {\n",
       "        vertical-align: middle;\n",
       "    }\n",
       "\n",
       "    .dataframe tbody tr th {\n",
       "        vertical-align: top;\n",
       "    }\n",
       "\n",
       "    .dataframe thead th {\n",
       "        text-align: right;\n",
       "    }\n",
       "</style>\n",
       "<table border=\"1\" class=\"dataframe\">\n",
       "  <thead>\n",
       "    <tr style=\"text-align: right;\">\n",
       "      <th></th>\n",
       "      <th>Rank</th>\n",
       "      <th>Title</th>\n",
       "      <th>Genre</th>\n",
       "      <th>Description</th>\n",
       "      <th>Director</th>\n",
       "      <th>Actors</th>\n",
       "      <th>Year</th>\n",
       "      <th>Runtime (Minutes)</th>\n",
       "      <th>Rating</th>\n",
       "      <th>Votes</th>\n",
       "      <th>Revenue (Millions)</th>\n",
       "      <th>Metascore</th>\n",
       "    </tr>\n",
       "  </thead>\n",
       "  <tbody>\n",
       "    <tr>\n",
       "      <th>0</th>\n",
       "      <td>1</td>\n",
       "      <td>Guardians of the Galaxy</td>\n",
       "      <td>Action,Adventure,Sci-Fi</td>\n",
       "      <td>A group of intergalactic criminals are forced ...</td>\n",
       "      <td>James Gunn</td>\n",
       "      <td>Chris Pratt, Vin Diesel, Bradley Cooper, Zoe S...</td>\n",
       "      <td>2014</td>\n",
       "      <td>121</td>\n",
       "      <td>8.1</td>\n",
       "      <td>757074</td>\n",
       "      <td>333.13</td>\n",
       "      <td>76.0</td>\n",
       "    </tr>\n",
       "    <tr>\n",
       "      <th>1</th>\n",
       "      <td>2</td>\n",
       "      <td>Prometheus</td>\n",
       "      <td>Adventure,Mystery,Sci-Fi</td>\n",
       "      <td>Following clues to the origin of mankind, a te...</td>\n",
       "      <td>Ridley Scott</td>\n",
       "      <td>Noomi Rapace, Logan Marshall-Green, Michael Fa...</td>\n",
       "      <td>2012</td>\n",
       "      <td>124</td>\n",
       "      <td>7.0</td>\n",
       "      <td>485820</td>\n",
       "      <td>126.46</td>\n",
       "      <td>65.0</td>\n",
       "    </tr>\n",
       "    <tr>\n",
       "      <th>2</th>\n",
       "      <td>3</td>\n",
       "      <td>Split</td>\n",
       "      <td>Horror,Thriller</td>\n",
       "      <td>Three girls are kidnapped by a man with a diag...</td>\n",
       "      <td>M. Night Shyamalan</td>\n",
       "      <td>James McAvoy, Anya Taylor-Joy, Haley Lu Richar...</td>\n",
       "      <td>2016</td>\n",
       "      <td>117</td>\n",
       "      <td>7.3</td>\n",
       "      <td>157606</td>\n",
       "      <td>138.12</td>\n",
       "      <td>62.0</td>\n",
       "    </tr>\n",
       "    <tr>\n",
       "      <th>3</th>\n",
       "      <td>4</td>\n",
       "      <td>Sing</td>\n",
       "      <td>Animation,Comedy,Family</td>\n",
       "      <td>In a city of humanoid animals, a hustling thea...</td>\n",
       "      <td>Christophe Lourdelet</td>\n",
       "      <td>Matthew McConaughey,Reese Witherspoon, Seth Ma...</td>\n",
       "      <td>2016</td>\n",
       "      <td>108</td>\n",
       "      <td>7.2</td>\n",
       "      <td>60545</td>\n",
       "      <td>270.32</td>\n",
       "      <td>59.0</td>\n",
       "    </tr>\n",
       "    <tr>\n",
       "      <th>4</th>\n",
       "      <td>5</td>\n",
       "      <td>Suicide Squad</td>\n",
       "      <td>Action,Adventure,Fantasy</td>\n",
       "      <td>A secret government agency recruits some of th...</td>\n",
       "      <td>David Ayer</td>\n",
       "      <td>Will Smith, Jared Leto, Margot Robbie, Viola D...</td>\n",
       "      <td>2016</td>\n",
       "      <td>123</td>\n",
       "      <td>6.2</td>\n",
       "      <td>393727</td>\n",
       "      <td>325.02</td>\n",
       "      <td>40.0</td>\n",
       "    </tr>\n",
       "    <tr>\n",
       "      <th>...</th>\n",
       "      <td>...</td>\n",
       "      <td>...</td>\n",
       "      <td>...</td>\n",
       "      <td>...</td>\n",
       "      <td>...</td>\n",
       "      <td>...</td>\n",
       "      <td>...</td>\n",
       "      <td>...</td>\n",
       "      <td>...</td>\n",
       "      <td>...</td>\n",
       "      <td>...</td>\n",
       "      <td>...</td>\n",
       "    </tr>\n",
       "    <tr>\n",
       "      <th>995</th>\n",
       "      <td>996</td>\n",
       "      <td>Secret in Their Eyes</td>\n",
       "      <td>Crime,Drama,Mystery</td>\n",
       "      <td>A tight-knit team of rising investigators, alo...</td>\n",
       "      <td>Billy Ray</td>\n",
       "      <td>Chiwetel Ejiofor, Nicole Kidman, Julia Roberts...</td>\n",
       "      <td>2015</td>\n",
       "      <td>111</td>\n",
       "      <td>6.2</td>\n",
       "      <td>27585</td>\n",
       "      <td>NaN</td>\n",
       "      <td>45.0</td>\n",
       "    </tr>\n",
       "    <tr>\n",
       "      <th>996</th>\n",
       "      <td>997</td>\n",
       "      <td>Hostel: Part II</td>\n",
       "      <td>Horror</td>\n",
       "      <td>Three American college students studying abroa...</td>\n",
       "      <td>Eli Roth</td>\n",
       "      <td>Lauren German, Heather Matarazzo, Bijou Philli...</td>\n",
       "      <td>2007</td>\n",
       "      <td>94</td>\n",
       "      <td>5.5</td>\n",
       "      <td>73152</td>\n",
       "      <td>17.54</td>\n",
       "      <td>46.0</td>\n",
       "    </tr>\n",
       "    <tr>\n",
       "      <th>997</th>\n",
       "      <td>998</td>\n",
       "      <td>Step Up 2: The Streets</td>\n",
       "      <td>Drama,Music,Romance</td>\n",
       "      <td>Romantic sparks occur between two dance studen...</td>\n",
       "      <td>Jon M. Chu</td>\n",
       "      <td>Robert Hoffman, Briana Evigan, Cassie Ventura,...</td>\n",
       "      <td>2008</td>\n",
       "      <td>98</td>\n",
       "      <td>6.2</td>\n",
       "      <td>70699</td>\n",
       "      <td>58.01</td>\n",
       "      <td>50.0</td>\n",
       "    </tr>\n",
       "    <tr>\n",
       "      <th>998</th>\n",
       "      <td>999</td>\n",
       "      <td>Search Party</td>\n",
       "      <td>Adventure,Comedy</td>\n",
       "      <td>A pair of friends embark on a mission to reuni...</td>\n",
       "      <td>Scot Armstrong</td>\n",
       "      <td>Adam Pally, T.J. Miller, Thomas Middleditch,Sh...</td>\n",
       "      <td>2014</td>\n",
       "      <td>93</td>\n",
       "      <td>5.6</td>\n",
       "      <td>4881</td>\n",
       "      <td>NaN</td>\n",
       "      <td>22.0</td>\n",
       "    </tr>\n",
       "    <tr>\n",
       "      <th>999</th>\n",
       "      <td>1000</td>\n",
       "      <td>Nine Lives</td>\n",
       "      <td>Comedy,Family,Fantasy</td>\n",
       "      <td>A stuffy businessman finds himself trapped ins...</td>\n",
       "      <td>Barry Sonnenfeld</td>\n",
       "      <td>Kevin Spacey, Jennifer Garner, Robbie Amell,Ch...</td>\n",
       "      <td>2016</td>\n",
       "      <td>87</td>\n",
       "      <td>5.3</td>\n",
       "      <td>12435</td>\n",
       "      <td>19.64</td>\n",
       "      <td>11.0</td>\n",
       "    </tr>\n",
       "  </tbody>\n",
       "</table>\n",
       "<p>1000 rows × 12 columns</p>\n",
       "</div>"
      ],
      "text/plain": [
       "     Rank                    Title                     Genre  \\\n",
       "0       1  Guardians of the Galaxy   Action,Adventure,Sci-Fi   \n",
       "1       2               Prometheus  Adventure,Mystery,Sci-Fi   \n",
       "2       3                    Split           Horror,Thriller   \n",
       "3       4                     Sing   Animation,Comedy,Family   \n",
       "4       5            Suicide Squad  Action,Adventure,Fantasy   \n",
       "..    ...                      ...                       ...   \n",
       "995   996     Secret in Their Eyes       Crime,Drama,Mystery   \n",
       "996   997          Hostel: Part II                    Horror   \n",
       "997   998   Step Up 2: The Streets       Drama,Music,Romance   \n",
       "998   999             Search Party          Adventure,Comedy   \n",
       "999  1000               Nine Lives     Comedy,Family,Fantasy   \n",
       "\n",
       "                                           Description              Director  \\\n",
       "0    A group of intergalactic criminals are forced ...            James Gunn   \n",
       "1    Following clues to the origin of mankind, a te...          Ridley Scott   \n",
       "2    Three girls are kidnapped by a man with a diag...    M. Night Shyamalan   \n",
       "3    In a city of humanoid animals, a hustling thea...  Christophe Lourdelet   \n",
       "4    A secret government agency recruits some of th...            David Ayer   \n",
       "..                                                 ...                   ...   \n",
       "995  A tight-knit team of rising investigators, alo...             Billy Ray   \n",
       "996  Three American college students studying abroa...              Eli Roth   \n",
       "997  Romantic sparks occur between two dance studen...            Jon M. Chu   \n",
       "998  A pair of friends embark on a mission to reuni...        Scot Armstrong   \n",
       "999  A stuffy businessman finds himself trapped ins...      Barry Sonnenfeld   \n",
       "\n",
       "                                                Actors  Year  \\\n",
       "0    Chris Pratt, Vin Diesel, Bradley Cooper, Zoe S...  2014   \n",
       "1    Noomi Rapace, Logan Marshall-Green, Michael Fa...  2012   \n",
       "2    James McAvoy, Anya Taylor-Joy, Haley Lu Richar...  2016   \n",
       "3    Matthew McConaughey,Reese Witherspoon, Seth Ma...  2016   \n",
       "4    Will Smith, Jared Leto, Margot Robbie, Viola D...  2016   \n",
       "..                                                 ...   ...   \n",
       "995  Chiwetel Ejiofor, Nicole Kidman, Julia Roberts...  2015   \n",
       "996  Lauren German, Heather Matarazzo, Bijou Philli...  2007   \n",
       "997  Robert Hoffman, Briana Evigan, Cassie Ventura,...  2008   \n",
       "998  Adam Pally, T.J. Miller, Thomas Middleditch,Sh...  2014   \n",
       "999  Kevin Spacey, Jennifer Garner, Robbie Amell,Ch...  2016   \n",
       "\n",
       "     Runtime (Minutes)  Rating   Votes  Revenue (Millions)  Metascore  \n",
       "0                  121     8.1  757074              333.13       76.0  \n",
       "1                  124     7.0  485820              126.46       65.0  \n",
       "2                  117     7.3  157606              138.12       62.0  \n",
       "3                  108     7.2   60545              270.32       59.0  \n",
       "4                  123     6.2  393727              325.02       40.0  \n",
       "..                 ...     ...     ...                 ...        ...  \n",
       "995                111     6.2   27585                 NaN       45.0  \n",
       "996                 94     5.5   73152               17.54       46.0  \n",
       "997                 98     6.2   70699               58.01       50.0  \n",
       "998                 93     5.6    4881                 NaN       22.0  \n",
       "999                 87     5.3   12435               19.64       11.0  \n",
       "\n",
       "[1000 rows x 12 columns]"
      ]
     },
     "execution_count": 2,
     "metadata": {},
     "output_type": "execute_result"
    }
   ],
   "source": [
    "films = pd.read_csv('IMDB-Movie-Data.csv')\n",
    "films"
   ]
  },
  {
   "cell_type": "markdown",
   "id": "cb957668",
   "metadata": {},
   "source": [
    "### Фильтрация "
   ]
  },
  {
   "cell_type": "markdown",
   "id": "98c975b7",
   "metadata": {},
   "source": [
    "**Предположим, что хорошая оценка для фильма - больше 7 от зрителей и больше 70 от критиков.**"
   ]
  },
  {
   "cell_type": "code",
   "execution_count": 16,
   "id": "312876db",
   "metadata": {},
   "outputs": [
    {
     "data": {
      "text/plain": [
       "(226, 12)"
      ]
     },
     "execution_count": 16,
     "metadata": {},
     "output_type": "execute_result"
    }
   ],
   "source": [
    "films[(films['Rating'] >= 7) & (films['Metascore'] >= 70)].shape"
   ]
  },
  {
   "cell_type": "markdown",
   "id": "7238275b",
   "metadata": {},
   "source": [
    "Делая такую фильтрацию, мы видим, что достаточно высокую оценку одновременно и от зрителей, и от критиков имеют только 226 фильмов из 1000, находящихся в датасете. "
   ]
  },
  {
   "cell_type": "markdown",
   "id": "77fca3fb",
   "metadata": {},
   "source": [
    "**Поработаем с жанрами фильмов и посмотрим, сколько у нас фильмов в жанре Action.**"
   ]
  },
  {
   "cell_type": "code",
   "execution_count": 17,
   "id": "a308114b",
   "metadata": {},
   "outputs": [
    {
     "data": {
      "text/plain": [
       "(303, 12)"
      ]
     },
     "execution_count": 17,
     "metadata": {},
     "output_type": "execute_result"
    }
   ],
   "source": [
    "films[films['Genre'].str.contains('Action')].shape"
   ]
  },
  {
   "cell_type": "markdown",
   "id": "f708d792",
   "metadata": {},
   "source": [
    "Почти 30% фильмов (303 фильма) из нашего датасета принадлежат жанру \"Action\". Посмотрим, сколько фильмов в этом жанре получили высокую оценку от зрителей."
   ]
  },
  {
   "cell_type": "code",
   "execution_count": 12,
   "id": "c5bc747b",
   "metadata": {
    "scrolled": false
   },
   "outputs": [
    {
     "data": {
      "text/plain": [
       "(114, 12)"
      ]
     },
     "execution_count": 12,
     "metadata": {},
     "output_type": "execute_result"
    }
   ],
   "source": [
    "films[(films['Genre'].str.contains('Action')) & (films['Rating'] >= 7)].shape"
   ]
  },
  {
   "cell_type": "markdown",
   "id": "5f1c4649",
   "metadata": {},
   "source": [
    "114 фильмов (почти половина) из 303 фильмов в жанре 'Action' имеют высокую оценку (установленную нами: больше 7) от зрителей."
   ]
  },
  {
   "cell_type": "markdown",
   "id": "40ae8c1e",
   "metadata": {},
   "source": [
    "**Сколько фильмов имеют продолжительность больше 120 минут? (2 часа)**"
   ]
  },
  {
   "cell_type": "code",
   "execution_count": 18,
   "id": "eba454d9",
   "metadata": {},
   "outputs": [
    {
     "data": {
      "text/plain": [
       "(289, 12)"
      ]
     },
     "execution_count": 18,
     "metadata": {},
     "output_type": "execute_result"
    }
   ],
   "source": [
    "films[films['Runtime (Minutes)'] > 120].shape"
   ]
  },
  {
   "cell_type": "markdown",
   "id": "634fa701",
   "metadata": {},
   "source": [
    "Особо длинных фильмов в нашем датасете не так много. Продолжительность только 289 фильмов из 1000 превышает 2 часа"
   ]
  },
  {
   "cell_type": "markdown",
   "id": "21e507b3",
   "metadata": {},
   "source": [
    "**Поработаем с режиссерами. Посмотрим, какой режиссер чаще всего встречается в наших данных и ставят ли критики высокие оценки его фильмам**"
   ]
  },
  {
   "cell_type": "code",
   "execution_count": 15,
   "id": "5846d1a9",
   "metadata": {},
   "outputs": [
    {
     "data": {
      "text/plain": [
       "Ridley Scott          8\n",
       "David Yates           6\n",
       "M. Night Shyamalan    6\n",
       "Paul W.S. Anderson    6\n",
       "Michael Bay           6\n",
       "                     ..\n",
       "Lee Toland Krieger    1\n",
       "Gillies MacKinnon     1\n",
       "Peter Atencio         1\n",
       "James Mangold         1\n",
       "Scot Armstrong        1\n",
       "Name: Director, Length: 644, dtype: int64"
      ]
     },
     "execution_count": 15,
     "metadata": {},
     "output_type": "execute_result"
    }
   ],
   "source": [
    "films['Director'].value_counts()"
   ]
  },
  {
   "cell_type": "markdown",
   "id": "4aafd6bf",
   "metadata": {},
   "source": [
    "Чаще всего в наших данных встречается режиссер Ridley Scott. "
   ]
  },
  {
   "cell_type": "code",
   "execution_count": 20,
   "id": "67fbe18a",
   "metadata": {},
   "outputs": [
    {
     "data": {
      "text/plain": [
       "(2, 12)"
      ]
     },
     "execution_count": 20,
     "metadata": {},
     "output_type": "execute_result"
    }
   ],
   "source": [
    "films[(films['Director'] == 'Ridley Scott') & (films['Metascore'] >= 70)].shape"
   ]
  },
  {
   "cell_type": "markdown",
   "id": "5f638bea",
   "metadata": {},
   "source": [
    "Только два фильма из 8, срежессированных Ридли Скоттом получили высокие оценки от критиков. Можно сделать первичный вывод о том, что, возможно, фигура режиссера не сильно важна в принятии решении о выставлении высоких баллов фильму. "
   ]
  },
  {
   "cell_type": "markdown",
   "id": "e8dcfc07",
   "metadata": {},
   "source": [
    "**Сколько в нашем датасете фильмов с доходом более 100 миллионов?**"
   ]
  },
  {
   "cell_type": "code",
   "execution_count": 21,
   "id": "29417e66",
   "metadata": {},
   "outputs": [
    {
     "data": {
      "text/plain": [
       "(250, 12)"
      ]
     },
     "execution_count": 21,
     "metadata": {},
     "output_type": "execute_result"
    }
   ],
   "source": [
    "films[films['Revenue (Millions)'] > 100].shape"
   ]
  },
  {
   "cell_type": "markdown",
   "id": "21478f49",
   "metadata": {},
   "source": [
    "Лишь четверть фильмов в нашем датасете имеют доход более 100 миллионов долларов. Интересно посмотреть, ставили ли им высокие оценки зрители - ведь доход фильма во многом считается по сборам из кинотеатров. "
   ]
  },
  {
   "cell_type": "code",
   "execution_count": 23,
   "id": "0e46a23f",
   "metadata": {},
   "outputs": [
    {
     "data": {
      "text/plain": [
       "(151, 12)"
      ]
     },
     "execution_count": 23,
     "metadata": {},
     "output_type": "execute_result"
    }
   ],
   "source": [
    "films[(films['Revenue (Millions)'] > 100) & (films['Rating'] >= 7)].shape"
   ]
  },
  {
   "cell_type": "markdown",
   "id": "780ee30a",
   "metadata": {},
   "source": [
    "Мы видим, что больше половины фильмов с доходом более 100 миллионов имеют высокую оценку от зрителей - 151 фильм из 250. "
   ]
  },
  {
   "cell_type": "markdown",
   "id": "1553b273",
   "metadata": {},
   "source": [
    "### Сортировка"
   ]
  },
  {
   "cell_type": "code",
   "execution_count": 24,
   "id": "5b052e94",
   "metadata": {},
   "outputs": [
    {
     "data": {
      "text/html": [
       "<div>\n",
       "<style scoped>\n",
       "    .dataframe tbody tr th:only-of-type {\n",
       "        vertical-align: middle;\n",
       "    }\n",
       "\n",
       "    .dataframe tbody tr th {\n",
       "        vertical-align: top;\n",
       "    }\n",
       "\n",
       "    .dataframe thead th {\n",
       "        text-align: right;\n",
       "    }\n",
       "</style>\n",
       "<table border=\"1\" class=\"dataframe\">\n",
       "  <thead>\n",
       "    <tr style=\"text-align: right;\">\n",
       "      <th></th>\n",
       "      <th>Rank</th>\n",
       "      <th>Title</th>\n",
       "      <th>Genre</th>\n",
       "      <th>Description</th>\n",
       "      <th>Director</th>\n",
       "      <th>Actors</th>\n",
       "      <th>Year</th>\n",
       "      <th>Runtime (Minutes)</th>\n",
       "      <th>Rating</th>\n",
       "      <th>Votes</th>\n",
       "      <th>Revenue (Millions)</th>\n",
       "      <th>Metascore</th>\n",
       "    </tr>\n",
       "  </thead>\n",
       "  <tbody>\n",
       "    <tr>\n",
       "      <th>231</th>\n",
       "      <td>232</td>\n",
       "      <td>A Kind of Murder</td>\n",
       "      <td>Crime,Drama,Thriller</td>\n",
       "      <td>In 1960s New York, Walter Stackhouse is a succ...</td>\n",
       "      <td>Andy Goddard</td>\n",
       "      <td>Patrick Wilson, Jessica Biel, Haley Bennett, V...</td>\n",
       "      <td>2016</td>\n",
       "      <td>95</td>\n",
       "      <td>5.2</td>\n",
       "      <td>3305</td>\n",
       "      <td>0.00</td>\n",
       "      <td>50.0</td>\n",
       "    </tr>\n",
       "    <tr>\n",
       "      <th>961</th>\n",
       "      <td>962</td>\n",
       "      <td>Into the Forest</td>\n",
       "      <td>Drama,Sci-Fi,Thriller</td>\n",
       "      <td>After a massive power outage, two sisters lear...</td>\n",
       "      <td>Patricia Rozema</td>\n",
       "      <td>Ellen Page, Evan Rachel Wood, Max Minghella,Ca...</td>\n",
       "      <td>2015</td>\n",
       "      <td>101</td>\n",
       "      <td>5.9</td>\n",
       "      <td>10220</td>\n",
       "      <td>0.01</td>\n",
       "      <td>59.0</td>\n",
       "    </tr>\n",
       "    <tr>\n",
       "      <th>677</th>\n",
       "      <td>678</td>\n",
       "      <td>Love, Rosie</td>\n",
       "      <td>Comedy,Romance</td>\n",
       "      <td>Rosie and Alex have been best friends since th...</td>\n",
       "      <td>Christian Ditter</td>\n",
       "      <td>Lily Collins, Sam Claflin, Christian Cooke, Ja...</td>\n",
       "      <td>2014</td>\n",
       "      <td>102</td>\n",
       "      <td>7.2</td>\n",
       "      <td>80415</td>\n",
       "      <td>0.01</td>\n",
       "      <td>44.0</td>\n",
       "    </tr>\n",
       "    <tr>\n",
       "      <th>321</th>\n",
       "      <td>322</td>\n",
       "      <td>Lovesong</td>\n",
       "      <td>Drama</td>\n",
       "      <td>The relationship between two friends deepens d...</td>\n",
       "      <td>So Yong Kim</td>\n",
       "      <td>Riley Keough, Jena Malone, Jessie Ok Gray, Car...</td>\n",
       "      <td>2016</td>\n",
       "      <td>84</td>\n",
       "      <td>6.4</td>\n",
       "      <td>616</td>\n",
       "      <td>0.01</td>\n",
       "      <td>74.0</td>\n",
       "    </tr>\n",
       "    <tr>\n",
       "      <th>68</th>\n",
       "      <td>69</td>\n",
       "      <td>Wakefield</td>\n",
       "      <td>Drama</td>\n",
       "      <td>A man's nervous breakdown causes him to leave ...</td>\n",
       "      <td>Robin Swicord</td>\n",
       "      <td>Bryan Cranston, Jennifer Garner, Beverly D'Ang...</td>\n",
       "      <td>2016</td>\n",
       "      <td>106</td>\n",
       "      <td>7.5</td>\n",
       "      <td>291</td>\n",
       "      <td>0.01</td>\n",
       "      <td>61.0</td>\n",
       "    </tr>\n",
       "    <tr>\n",
       "      <th>...</th>\n",
       "      <td>...</td>\n",
       "      <td>...</td>\n",
       "      <td>...</td>\n",
       "      <td>...</td>\n",
       "      <td>...</td>\n",
       "      <td>...</td>\n",
       "      <td>...</td>\n",
       "      <td>...</td>\n",
       "      <td>...</td>\n",
       "      <td>...</td>\n",
       "      <td>...</td>\n",
       "      <td>...</td>\n",
       "    </tr>\n",
       "    <tr>\n",
       "      <th>977</th>\n",
       "      <td>978</td>\n",
       "      <td>Amateur Night</td>\n",
       "      <td>Comedy</td>\n",
       "      <td>Guy Carter is an award-winning graduate studen...</td>\n",
       "      <td>Lisa Addario</td>\n",
       "      <td>Jason Biggs, Janet Montgomery,Ashley Tisdale, ...</td>\n",
       "      <td>2016</td>\n",
       "      <td>92</td>\n",
       "      <td>5.0</td>\n",
       "      <td>2229</td>\n",
       "      <td>NaN</td>\n",
       "      <td>38.0</td>\n",
       "    </tr>\n",
       "    <tr>\n",
       "      <th>978</th>\n",
       "      <td>979</td>\n",
       "      <td>It's Only the End of the World</td>\n",
       "      <td>Drama</td>\n",
       "      <td>Louis (Gaspard Ulliel), a terminally ill write...</td>\n",
       "      <td>Xavier Dolan</td>\n",
       "      <td>Nathalie Baye, Vincent Cassel, Marion Cotillar...</td>\n",
       "      <td>2016</td>\n",
       "      <td>97</td>\n",
       "      <td>7.0</td>\n",
       "      <td>10658</td>\n",
       "      <td>NaN</td>\n",
       "      <td>48.0</td>\n",
       "    </tr>\n",
       "    <tr>\n",
       "      <th>988</th>\n",
       "      <td>989</td>\n",
       "      <td>Martyrs</td>\n",
       "      <td>Horror</td>\n",
       "      <td>A young woman's quest for revenge against the ...</td>\n",
       "      <td>Pascal Laugier</td>\n",
       "      <td>Morjana Alaoui, Mylène Jampanoï, Catherine Bég...</td>\n",
       "      <td>2008</td>\n",
       "      <td>99</td>\n",
       "      <td>7.1</td>\n",
       "      <td>63785</td>\n",
       "      <td>NaN</td>\n",
       "      <td>89.0</td>\n",
       "    </tr>\n",
       "    <tr>\n",
       "      <th>995</th>\n",
       "      <td>996</td>\n",
       "      <td>Secret in Their Eyes</td>\n",
       "      <td>Crime,Drama,Mystery</td>\n",
       "      <td>A tight-knit team of rising investigators, alo...</td>\n",
       "      <td>Billy Ray</td>\n",
       "      <td>Chiwetel Ejiofor, Nicole Kidman, Julia Roberts...</td>\n",
       "      <td>2015</td>\n",
       "      <td>111</td>\n",
       "      <td>6.2</td>\n",
       "      <td>27585</td>\n",
       "      <td>NaN</td>\n",
       "      <td>45.0</td>\n",
       "    </tr>\n",
       "    <tr>\n",
       "      <th>998</th>\n",
       "      <td>999</td>\n",
       "      <td>Search Party</td>\n",
       "      <td>Adventure,Comedy</td>\n",
       "      <td>A pair of friends embark on a mission to reuni...</td>\n",
       "      <td>Scot Armstrong</td>\n",
       "      <td>Adam Pally, T.J. Miller, Thomas Middleditch,Sh...</td>\n",
       "      <td>2014</td>\n",
       "      <td>93</td>\n",
       "      <td>5.6</td>\n",
       "      <td>4881</td>\n",
       "      <td>NaN</td>\n",
       "      <td>22.0</td>\n",
       "    </tr>\n",
       "  </tbody>\n",
       "</table>\n",
       "<p>1000 rows × 12 columns</p>\n",
       "</div>"
      ],
      "text/plain": [
       "     Rank                           Title                  Genre  \\\n",
       "231   232                A Kind of Murder   Crime,Drama,Thriller   \n",
       "961   962                 Into the Forest  Drama,Sci-Fi,Thriller   \n",
       "677   678                     Love, Rosie         Comedy,Romance   \n",
       "321   322                        Lovesong                  Drama   \n",
       "68     69                       Wakefield                  Drama   \n",
       "..    ...                             ...                    ...   \n",
       "977   978                   Amateur Night                 Comedy   \n",
       "978   979  It's Only the End of the World                  Drama   \n",
       "988   989                         Martyrs                 Horror   \n",
       "995   996            Secret in Their Eyes    Crime,Drama,Mystery   \n",
       "998   999                    Search Party       Adventure,Comedy   \n",
       "\n",
       "                                           Description          Director  \\\n",
       "231  In 1960s New York, Walter Stackhouse is a succ...      Andy Goddard   \n",
       "961  After a massive power outage, two sisters lear...   Patricia Rozema   \n",
       "677  Rosie and Alex have been best friends since th...  Christian Ditter   \n",
       "321  The relationship between two friends deepens d...       So Yong Kim   \n",
       "68   A man's nervous breakdown causes him to leave ...     Robin Swicord   \n",
       "..                                                 ...               ...   \n",
       "977  Guy Carter is an award-winning graduate studen...      Lisa Addario   \n",
       "978  Louis (Gaspard Ulliel), a terminally ill write...      Xavier Dolan   \n",
       "988  A young woman's quest for revenge against the ...    Pascal Laugier   \n",
       "995  A tight-knit team of rising investigators, alo...         Billy Ray   \n",
       "998  A pair of friends embark on a mission to reuni...    Scot Armstrong   \n",
       "\n",
       "                                                Actors  Year  \\\n",
       "231  Patrick Wilson, Jessica Biel, Haley Bennett, V...  2016   \n",
       "961  Ellen Page, Evan Rachel Wood, Max Minghella,Ca...  2015   \n",
       "677  Lily Collins, Sam Claflin, Christian Cooke, Ja...  2014   \n",
       "321  Riley Keough, Jena Malone, Jessie Ok Gray, Car...  2016   \n",
       "68   Bryan Cranston, Jennifer Garner, Beverly D'Ang...  2016   \n",
       "..                                                 ...   ...   \n",
       "977  Jason Biggs, Janet Montgomery,Ashley Tisdale, ...  2016   \n",
       "978  Nathalie Baye, Vincent Cassel, Marion Cotillar...  2016   \n",
       "988  Morjana Alaoui, Mylène Jampanoï, Catherine Bég...  2008   \n",
       "995  Chiwetel Ejiofor, Nicole Kidman, Julia Roberts...  2015   \n",
       "998  Adam Pally, T.J. Miller, Thomas Middleditch,Sh...  2014   \n",
       "\n",
       "     Runtime (Minutes)  Rating  Votes  Revenue (Millions)  Metascore  \n",
       "231                 95     5.2   3305                0.00       50.0  \n",
       "961                101     5.9  10220                0.01       59.0  \n",
       "677                102     7.2  80415                0.01       44.0  \n",
       "321                 84     6.4    616                0.01       74.0  \n",
       "68                 106     7.5    291                0.01       61.0  \n",
       "..                 ...     ...    ...                 ...        ...  \n",
       "977                 92     5.0   2229                 NaN       38.0  \n",
       "978                 97     7.0  10658                 NaN       48.0  \n",
       "988                 99     7.1  63785                 NaN       89.0  \n",
       "995                111     6.2  27585                 NaN       45.0  \n",
       "998                 93     5.6   4881                 NaN       22.0  \n",
       "\n",
       "[1000 rows x 12 columns]"
      ]
     },
     "execution_count": 24,
     "metadata": {},
     "output_type": "execute_result"
    }
   ],
   "source": [
    "films.sort_values(by = 'Revenue (Millions)')"
   ]
  },
  {
   "cell_type": "markdown",
   "id": "fe2f152d",
   "metadata": {},
   "source": [
    "В нашем датасете минимальный доход был у фильма A Kind of Murder. Доход составляет 0.00 долларов, при этом фильм имеет почти одинаковые по долям баллы от критиков (50) и зрителей (5.2). "
   ]
  },
  {
   "cell_type": "code",
   "execution_count": 25,
   "id": "8f8ae37c",
   "metadata": {},
   "outputs": [
    {
     "data": {
      "text/html": [
       "<div>\n",
       "<style scoped>\n",
       "    .dataframe tbody tr th:only-of-type {\n",
       "        vertical-align: middle;\n",
       "    }\n",
       "\n",
       "    .dataframe tbody tr th {\n",
       "        vertical-align: top;\n",
       "    }\n",
       "\n",
       "    .dataframe thead th {\n",
       "        text-align: right;\n",
       "    }\n",
       "</style>\n",
       "<table border=\"1\" class=\"dataframe\">\n",
       "  <thead>\n",
       "    <tr style=\"text-align: right;\">\n",
       "      <th></th>\n",
       "      <th>Rank</th>\n",
       "      <th>Title</th>\n",
       "      <th>Genre</th>\n",
       "      <th>Description</th>\n",
       "      <th>Director</th>\n",
       "      <th>Actors</th>\n",
       "      <th>Year</th>\n",
       "      <th>Runtime (Minutes)</th>\n",
       "      <th>Rating</th>\n",
       "      <th>Votes</th>\n",
       "      <th>Revenue (Millions)</th>\n",
       "      <th>Metascore</th>\n",
       "    </tr>\n",
       "  </thead>\n",
       "  <tbody>\n",
       "    <tr>\n",
       "      <th>54</th>\n",
       "      <td>55</td>\n",
       "      <td>The Dark Knight</td>\n",
       "      <td>Action,Crime,Drama</td>\n",
       "      <td>When the menace known as the Joker wreaks havo...</td>\n",
       "      <td>Christopher Nolan</td>\n",
       "      <td>Christian Bale, Heath Ledger, Aaron Eckhart,Mi...</td>\n",
       "      <td>2008</td>\n",
       "      <td>152</td>\n",
       "      <td>9.0</td>\n",
       "      <td>1791916</td>\n",
       "      <td>533.32</td>\n",
       "      <td>82.0</td>\n",
       "    </tr>\n",
       "    <tr>\n",
       "      <th>80</th>\n",
       "      <td>81</td>\n",
       "      <td>Inception</td>\n",
       "      <td>Action,Adventure,Sci-Fi</td>\n",
       "      <td>A thief, who steals corporate secrets through ...</td>\n",
       "      <td>Christopher Nolan</td>\n",
       "      <td>Leonardo DiCaprio, Joseph Gordon-Levitt, Ellen...</td>\n",
       "      <td>2010</td>\n",
       "      <td>148</td>\n",
       "      <td>8.8</td>\n",
       "      <td>1583625</td>\n",
       "      <td>292.57</td>\n",
       "      <td>74.0</td>\n",
       "    </tr>\n",
       "    <tr>\n",
       "      <th>117</th>\n",
       "      <td>118</td>\n",
       "      <td>Dangal</td>\n",
       "      <td>Action,Biography,Drama</td>\n",
       "      <td>Former wrestler Mahavir Singh Phogat and his t...</td>\n",
       "      <td>Nitesh Tiwari</td>\n",
       "      <td>Aamir Khan, Sakshi Tanwar, Fatima Sana Shaikh,...</td>\n",
       "      <td>2016</td>\n",
       "      <td>161</td>\n",
       "      <td>8.8</td>\n",
       "      <td>48969</td>\n",
       "      <td>11.15</td>\n",
       "      <td>NaN</td>\n",
       "    </tr>\n",
       "    <tr>\n",
       "      <th>36</th>\n",
       "      <td>37</td>\n",
       "      <td>Interstellar</td>\n",
       "      <td>Adventure,Drama,Sci-Fi</td>\n",
       "      <td>A team of explorers travel through a wormhole ...</td>\n",
       "      <td>Christopher Nolan</td>\n",
       "      <td>Matthew McConaughey, Anne Hathaway, Jessica Ch...</td>\n",
       "      <td>2014</td>\n",
       "      <td>169</td>\n",
       "      <td>8.6</td>\n",
       "      <td>1047747</td>\n",
       "      <td>187.99</td>\n",
       "      <td>74.0</td>\n",
       "    </tr>\n",
       "    <tr>\n",
       "      <th>96</th>\n",
       "      <td>97</td>\n",
       "      <td>Kimi no na wa</td>\n",
       "      <td>Animation,Drama,Fantasy</td>\n",
       "      <td>Two strangers find themselves linked in a biza...</td>\n",
       "      <td>Makoto Shinkai</td>\n",
       "      <td>Ryûnosuke Kamiki, Mone Kamishiraishi, Ryô Nari...</td>\n",
       "      <td>2016</td>\n",
       "      <td>106</td>\n",
       "      <td>8.6</td>\n",
       "      <td>34110</td>\n",
       "      <td>4.68</td>\n",
       "      <td>79.0</td>\n",
       "    </tr>\n",
       "    <tr>\n",
       "      <th>...</th>\n",
       "      <td>...</td>\n",
       "      <td>...</td>\n",
       "      <td>...</td>\n",
       "      <td>...</td>\n",
       "      <td>...</td>\n",
       "      <td>...</td>\n",
       "      <td>...</td>\n",
       "      <td>...</td>\n",
       "      <td>...</td>\n",
       "      <td>...</td>\n",
       "      <td>...</td>\n",
       "      <td>...</td>\n",
       "    </tr>\n",
       "    <tr>\n",
       "      <th>968</th>\n",
       "      <td>969</td>\n",
       "      <td>Wrecker</td>\n",
       "      <td>Action,Horror,Thriller</td>\n",
       "      <td>Best friends Emily and Lesley go on a road tri...</td>\n",
       "      <td>Micheal Bafaro</td>\n",
       "      <td>Anna Hutchison, Andrea Whitburn, Jennifer Koen...</td>\n",
       "      <td>2015</td>\n",
       "      <td>83</td>\n",
       "      <td>3.5</td>\n",
       "      <td>1210</td>\n",
       "      <td>NaN</td>\n",
       "      <td>37.0</td>\n",
       "    </tr>\n",
       "    <tr>\n",
       "      <th>647</th>\n",
       "      <td>648</td>\n",
       "      <td>Tall Men</td>\n",
       "      <td>Fantasy,Horror,Thriller</td>\n",
       "      <td>A challenged man is stalked by tall phantoms i...</td>\n",
       "      <td>Jonathan Holbrook</td>\n",
       "      <td>Dan Crisafulli, Kay Whitney, Richard Garcia, P...</td>\n",
       "      <td>2016</td>\n",
       "      <td>133</td>\n",
       "      <td>3.2</td>\n",
       "      <td>173</td>\n",
       "      <td>NaN</td>\n",
       "      <td>57.0</td>\n",
       "    </tr>\n",
       "    <tr>\n",
       "      <th>871</th>\n",
       "      <td>872</td>\n",
       "      <td>Dragonball Evolution</td>\n",
       "      <td>Action,Adventure,Fantasy</td>\n",
       "      <td>The young warrior Son Goku sets out on a quest...</td>\n",
       "      <td>James Wong</td>\n",
       "      <td>Justin Chatwin, James Marsters, Yun-Fat Chow, ...</td>\n",
       "      <td>2009</td>\n",
       "      <td>85</td>\n",
       "      <td>2.7</td>\n",
       "      <td>59512</td>\n",
       "      <td>9.35</td>\n",
       "      <td>45.0</td>\n",
       "    </tr>\n",
       "    <tr>\n",
       "      <th>42</th>\n",
       "      <td>43</td>\n",
       "      <td>Don't Fuck in the Woods</td>\n",
       "      <td>Horror</td>\n",
       "      <td>A group of friends are going on a camping trip...</td>\n",
       "      <td>Shawn Burkett</td>\n",
       "      <td>Brittany Blanton, Ayse Howard, Roman Jossart,N...</td>\n",
       "      <td>2016</td>\n",
       "      <td>73</td>\n",
       "      <td>2.7</td>\n",
       "      <td>496</td>\n",
       "      <td>NaN</td>\n",
       "      <td>NaN</td>\n",
       "    </tr>\n",
       "    <tr>\n",
       "      <th>829</th>\n",
       "      <td>830</td>\n",
       "      <td>Disaster Movie</td>\n",
       "      <td>Comedy</td>\n",
       "      <td>Over the course of one evening, an unsuspectin...</td>\n",
       "      <td>Jason Friedberg</td>\n",
       "      <td>Carmen Electra, Vanessa Lachey,Nicole Parker, ...</td>\n",
       "      <td>2008</td>\n",
       "      <td>87</td>\n",
       "      <td>1.9</td>\n",
       "      <td>77207</td>\n",
       "      <td>14.17</td>\n",
       "      <td>15.0</td>\n",
       "    </tr>\n",
       "  </tbody>\n",
       "</table>\n",
       "<p>1000 rows × 12 columns</p>\n",
       "</div>"
      ],
      "text/plain": [
       "     Rank                    Title                     Genre  \\\n",
       "54     55          The Dark Knight        Action,Crime,Drama   \n",
       "80     81                Inception   Action,Adventure,Sci-Fi   \n",
       "117   118                   Dangal    Action,Biography,Drama   \n",
       "36     37             Interstellar    Adventure,Drama,Sci-Fi   \n",
       "96     97            Kimi no na wa   Animation,Drama,Fantasy   \n",
       "..    ...                      ...                       ...   \n",
       "968   969                  Wrecker    Action,Horror,Thriller   \n",
       "647   648                 Tall Men   Fantasy,Horror,Thriller   \n",
       "871   872     Dragonball Evolution  Action,Adventure,Fantasy   \n",
       "42     43  Don't Fuck in the Woods                    Horror   \n",
       "829   830           Disaster Movie                    Comedy   \n",
       "\n",
       "                                           Description           Director  \\\n",
       "54   When the menace known as the Joker wreaks havo...  Christopher Nolan   \n",
       "80   A thief, who steals corporate secrets through ...  Christopher Nolan   \n",
       "117  Former wrestler Mahavir Singh Phogat and his t...      Nitesh Tiwari   \n",
       "36   A team of explorers travel through a wormhole ...  Christopher Nolan   \n",
       "96   Two strangers find themselves linked in a biza...     Makoto Shinkai   \n",
       "..                                                 ...                ...   \n",
       "968  Best friends Emily and Lesley go on a road tri...     Micheal Bafaro   \n",
       "647  A challenged man is stalked by tall phantoms i...  Jonathan Holbrook   \n",
       "871  The young warrior Son Goku sets out on a quest...         James Wong   \n",
       "42   A group of friends are going on a camping trip...      Shawn Burkett   \n",
       "829  Over the course of one evening, an unsuspectin...    Jason Friedberg   \n",
       "\n",
       "                                                Actors  Year  \\\n",
       "54   Christian Bale, Heath Ledger, Aaron Eckhart,Mi...  2008   \n",
       "80   Leonardo DiCaprio, Joseph Gordon-Levitt, Ellen...  2010   \n",
       "117  Aamir Khan, Sakshi Tanwar, Fatima Sana Shaikh,...  2016   \n",
       "36   Matthew McConaughey, Anne Hathaway, Jessica Ch...  2014   \n",
       "96   Ryûnosuke Kamiki, Mone Kamishiraishi, Ryô Nari...  2016   \n",
       "..                                                 ...   ...   \n",
       "968  Anna Hutchison, Andrea Whitburn, Jennifer Koen...  2015   \n",
       "647  Dan Crisafulli, Kay Whitney, Richard Garcia, P...  2016   \n",
       "871  Justin Chatwin, James Marsters, Yun-Fat Chow, ...  2009   \n",
       "42   Brittany Blanton, Ayse Howard, Roman Jossart,N...  2016   \n",
       "829  Carmen Electra, Vanessa Lachey,Nicole Parker, ...  2008   \n",
       "\n",
       "     Runtime (Minutes)  Rating    Votes  Revenue (Millions)  Metascore  \n",
       "54                 152     9.0  1791916              533.32       82.0  \n",
       "80                 148     8.8  1583625              292.57       74.0  \n",
       "117                161     8.8    48969               11.15        NaN  \n",
       "36                 169     8.6  1047747              187.99       74.0  \n",
       "96                 106     8.6    34110                4.68       79.0  \n",
       "..                 ...     ...      ...                 ...        ...  \n",
       "968                 83     3.5     1210                 NaN       37.0  \n",
       "647                133     3.2      173                 NaN       57.0  \n",
       "871                 85     2.7    59512                9.35       45.0  \n",
       "42                  73     2.7      496                 NaN        NaN  \n",
       "829                 87     1.9    77207               14.17       15.0  \n",
       "\n",
       "[1000 rows x 12 columns]"
      ]
     },
     "execution_count": 25,
     "metadata": {},
     "output_type": "execute_result"
    }
   ],
   "source": [
    "films.sort_values(by = 'Rating', ascending = False)"
   ]
  },
  {
   "cell_type": "markdown",
   "id": "56f110da",
   "metadata": {},
   "source": [
    "Самую высокую оценку от зрителей получил фильм The Dark Knight режиссера Кристофера Нолана. Фильм получил оценку 9.0 у зрителей, при этом достаточно высокую и от критиков - 82.0 "
   ]
  },
  {
   "cell_type": "code",
   "execution_count": 31,
   "id": "ac61ad87",
   "metadata": {},
   "outputs": [
    {
     "data": {
      "text/html": [
       "<div>\n",
       "<style scoped>\n",
       "    .dataframe tbody tr th:only-of-type {\n",
       "        vertical-align: middle;\n",
       "    }\n",
       "\n",
       "    .dataframe tbody tr th {\n",
       "        vertical-align: top;\n",
       "    }\n",
       "\n",
       "    .dataframe thead th {\n",
       "        text-align: right;\n",
       "    }\n",
       "</style>\n",
       "<table border=\"1\" class=\"dataframe\">\n",
       "  <thead>\n",
       "    <tr style=\"text-align: right;\">\n",
       "      <th></th>\n",
       "      <th>Rank</th>\n",
       "      <th>Title</th>\n",
       "      <th>Genre</th>\n",
       "      <th>Description</th>\n",
       "      <th>Director</th>\n",
       "      <th>Actors</th>\n",
       "      <th>Year</th>\n",
       "      <th>Runtime (Minutes)</th>\n",
       "      <th>Rating</th>\n",
       "      <th>Votes</th>\n",
       "      <th>Revenue (Millions)</th>\n",
       "      <th>Metascore</th>\n",
       "    </tr>\n",
       "  </thead>\n",
       "  <tbody>\n",
       "    <tr>\n",
       "      <th>829</th>\n",
       "      <td>830</td>\n",
       "      <td>Disaster Movie</td>\n",
       "      <td>Comedy</td>\n",
       "      <td>Over the course of one evening, an unsuspectin...</td>\n",
       "      <td>Jason Friedberg</td>\n",
       "      <td>Carmen Electra, Vanessa Lachey,Nicole Parker, ...</td>\n",
       "      <td>2008</td>\n",
       "      <td>87</td>\n",
       "      <td>1.9</td>\n",
       "      <td>77207</td>\n",
       "      <td>14.17</td>\n",
       "      <td>15.0</td>\n",
       "    </tr>\n",
       "    <tr>\n",
       "      <th>871</th>\n",
       "      <td>872</td>\n",
       "      <td>Dragonball Evolution</td>\n",
       "      <td>Action,Adventure,Fantasy</td>\n",
       "      <td>The young warrior Son Goku sets out on a quest...</td>\n",
       "      <td>James Wong</td>\n",
       "      <td>Justin Chatwin, James Marsters, Yun-Fat Chow, ...</td>\n",
       "      <td>2009</td>\n",
       "      <td>85</td>\n",
       "      <td>2.7</td>\n",
       "      <td>59512</td>\n",
       "      <td>9.35</td>\n",
       "      <td>45.0</td>\n",
       "    </tr>\n",
       "    <tr>\n",
       "      <th>42</th>\n",
       "      <td>43</td>\n",
       "      <td>Don't Fuck in the Woods</td>\n",
       "      <td>Horror</td>\n",
       "      <td>A group of friends are going on a camping trip...</td>\n",
       "      <td>Shawn Burkett</td>\n",
       "      <td>Brittany Blanton, Ayse Howard, Roman Jossart,N...</td>\n",
       "      <td>2016</td>\n",
       "      <td>73</td>\n",
       "      <td>2.7</td>\n",
       "      <td>496</td>\n",
       "      <td>NaN</td>\n",
       "      <td>NaN</td>\n",
       "    </tr>\n",
       "    <tr>\n",
       "      <th>647</th>\n",
       "      <td>648</td>\n",
       "      <td>Tall Men</td>\n",
       "      <td>Fantasy,Horror,Thriller</td>\n",
       "      <td>A challenged man is stalked by tall phantoms i...</td>\n",
       "      <td>Jonathan Holbrook</td>\n",
       "      <td>Dan Crisafulli, Kay Whitney, Richard Garcia, P...</td>\n",
       "      <td>2016</td>\n",
       "      <td>133</td>\n",
       "      <td>3.2</td>\n",
       "      <td>173</td>\n",
       "      <td>NaN</td>\n",
       "      <td>57.0</td>\n",
       "    </tr>\n",
       "    <tr>\n",
       "      <th>968</th>\n",
       "      <td>969</td>\n",
       "      <td>Wrecker</td>\n",
       "      <td>Action,Horror,Thriller</td>\n",
       "      <td>Best friends Emily and Lesley go on a road tri...</td>\n",
       "      <td>Micheal Bafaro</td>\n",
       "      <td>Anna Hutchison, Andrea Whitburn, Jennifer Koen...</td>\n",
       "      <td>2015</td>\n",
       "      <td>83</td>\n",
       "      <td>3.5</td>\n",
       "      <td>1210</td>\n",
       "      <td>NaN</td>\n",
       "      <td>37.0</td>\n",
       "    </tr>\n",
       "    <tr>\n",
       "      <th>...</th>\n",
       "      <td>...</td>\n",
       "      <td>...</td>\n",
       "      <td>...</td>\n",
       "      <td>...</td>\n",
       "      <td>...</td>\n",
       "      <td>...</td>\n",
       "      <td>...</td>\n",
       "      <td>...</td>\n",
       "      <td>...</td>\n",
       "      <td>...</td>\n",
       "      <td>...</td>\n",
       "      <td>...</td>\n",
       "    </tr>\n",
       "    <tr>\n",
       "      <th>249</th>\n",
       "      <td>250</td>\n",
       "      <td>The Intouchables</td>\n",
       "      <td>Biography,Comedy,Drama</td>\n",
       "      <td>After he becomes a quadriplegic from a paragli...</td>\n",
       "      <td>Olivier Nakache</td>\n",
       "      <td>François Cluzet, Omar Sy, Anne Le Ny, Audrey F...</td>\n",
       "      <td>2011</td>\n",
       "      <td>112</td>\n",
       "      <td>8.6</td>\n",
       "      <td>557965</td>\n",
       "      <td>13.18</td>\n",
       "      <td>57.0</td>\n",
       "    </tr>\n",
       "    <tr>\n",
       "      <th>96</th>\n",
       "      <td>97</td>\n",
       "      <td>Kimi no na wa</td>\n",
       "      <td>Animation,Drama,Fantasy</td>\n",
       "      <td>Two strangers find themselves linked in a biza...</td>\n",
       "      <td>Makoto Shinkai</td>\n",
       "      <td>Ryûnosuke Kamiki, Mone Kamishiraishi, Ryô Nari...</td>\n",
       "      <td>2016</td>\n",
       "      <td>106</td>\n",
       "      <td>8.6</td>\n",
       "      <td>34110</td>\n",
       "      <td>4.68</td>\n",
       "      <td>79.0</td>\n",
       "    </tr>\n",
       "    <tr>\n",
       "      <th>80</th>\n",
       "      <td>81</td>\n",
       "      <td>Inception</td>\n",
       "      <td>Action,Adventure,Sci-Fi</td>\n",
       "      <td>A thief, who steals corporate secrets through ...</td>\n",
       "      <td>Christopher Nolan</td>\n",
       "      <td>Leonardo DiCaprio, Joseph Gordon-Levitt, Ellen...</td>\n",
       "      <td>2010</td>\n",
       "      <td>148</td>\n",
       "      <td>8.8</td>\n",
       "      <td>1583625</td>\n",
       "      <td>292.57</td>\n",
       "      <td>74.0</td>\n",
       "    </tr>\n",
       "    <tr>\n",
       "      <th>117</th>\n",
       "      <td>118</td>\n",
       "      <td>Dangal</td>\n",
       "      <td>Action,Biography,Drama</td>\n",
       "      <td>Former wrestler Mahavir Singh Phogat and his t...</td>\n",
       "      <td>Nitesh Tiwari</td>\n",
       "      <td>Aamir Khan, Sakshi Tanwar, Fatima Sana Shaikh,...</td>\n",
       "      <td>2016</td>\n",
       "      <td>161</td>\n",
       "      <td>8.8</td>\n",
       "      <td>48969</td>\n",
       "      <td>11.15</td>\n",
       "      <td>NaN</td>\n",
       "    </tr>\n",
       "    <tr>\n",
       "      <th>54</th>\n",
       "      <td>55</td>\n",
       "      <td>The Dark Knight</td>\n",
       "      <td>Action,Crime,Drama</td>\n",
       "      <td>When the menace known as the Joker wreaks havo...</td>\n",
       "      <td>Christopher Nolan</td>\n",
       "      <td>Christian Bale, Heath Ledger, Aaron Eckhart,Mi...</td>\n",
       "      <td>2008</td>\n",
       "      <td>152</td>\n",
       "      <td>9.0</td>\n",
       "      <td>1791916</td>\n",
       "      <td>533.32</td>\n",
       "      <td>82.0</td>\n",
       "    </tr>\n",
       "  </tbody>\n",
       "</table>\n",
       "<p>1000 rows × 12 columns</p>\n",
       "</div>"
      ],
      "text/plain": [
       "     Rank                    Title                     Genre  \\\n",
       "829   830           Disaster Movie                    Comedy   \n",
       "871   872     Dragonball Evolution  Action,Adventure,Fantasy   \n",
       "42     43  Don't Fuck in the Woods                    Horror   \n",
       "647   648                 Tall Men   Fantasy,Horror,Thriller   \n",
       "968   969                  Wrecker    Action,Horror,Thriller   \n",
       "..    ...                      ...                       ...   \n",
       "249   250         The Intouchables    Biography,Comedy,Drama   \n",
       "96     97            Kimi no na wa   Animation,Drama,Fantasy   \n",
       "80     81                Inception   Action,Adventure,Sci-Fi   \n",
       "117   118                   Dangal    Action,Biography,Drama   \n",
       "54     55          The Dark Knight        Action,Crime,Drama   \n",
       "\n",
       "                                           Description           Director  \\\n",
       "829  Over the course of one evening, an unsuspectin...    Jason Friedberg   \n",
       "871  The young warrior Son Goku sets out on a quest...         James Wong   \n",
       "42   A group of friends are going on a camping trip...      Shawn Burkett   \n",
       "647  A challenged man is stalked by tall phantoms i...  Jonathan Holbrook   \n",
       "968  Best friends Emily and Lesley go on a road tri...     Micheal Bafaro   \n",
       "..                                                 ...                ...   \n",
       "249  After he becomes a quadriplegic from a paragli...    Olivier Nakache   \n",
       "96   Two strangers find themselves linked in a biza...     Makoto Shinkai   \n",
       "80   A thief, who steals corporate secrets through ...  Christopher Nolan   \n",
       "117  Former wrestler Mahavir Singh Phogat and his t...      Nitesh Tiwari   \n",
       "54   When the menace known as the Joker wreaks havo...  Christopher Nolan   \n",
       "\n",
       "                                                Actors  Year  \\\n",
       "829  Carmen Electra, Vanessa Lachey,Nicole Parker, ...  2008   \n",
       "871  Justin Chatwin, James Marsters, Yun-Fat Chow, ...  2009   \n",
       "42   Brittany Blanton, Ayse Howard, Roman Jossart,N...  2016   \n",
       "647  Dan Crisafulli, Kay Whitney, Richard Garcia, P...  2016   \n",
       "968  Anna Hutchison, Andrea Whitburn, Jennifer Koen...  2015   \n",
       "..                                                 ...   ...   \n",
       "249  François Cluzet, Omar Sy, Anne Le Ny, Audrey F...  2011   \n",
       "96   Ryûnosuke Kamiki, Mone Kamishiraishi, Ryô Nari...  2016   \n",
       "80   Leonardo DiCaprio, Joseph Gordon-Levitt, Ellen...  2010   \n",
       "117  Aamir Khan, Sakshi Tanwar, Fatima Sana Shaikh,...  2016   \n",
       "54   Christian Bale, Heath Ledger, Aaron Eckhart,Mi...  2008   \n",
       "\n",
       "     Runtime (Minutes)  Rating    Votes  Revenue (Millions)  Metascore  \n",
       "829                 87     1.9    77207               14.17       15.0  \n",
       "871                 85     2.7    59512                9.35       45.0  \n",
       "42                  73     2.7      496                 NaN        NaN  \n",
       "647                133     3.2      173                 NaN       57.0  \n",
       "968                 83     3.5     1210                 NaN       37.0  \n",
       "..                 ...     ...      ...                 ...        ...  \n",
       "249                112     8.6   557965               13.18       57.0  \n",
       "96                 106     8.6    34110                4.68       79.0  \n",
       "80                 148     8.8  1583625              292.57       74.0  \n",
       "117                161     8.8    48969               11.15        NaN  \n",
       "54                 152     9.0  1791916              533.32       82.0  \n",
       "\n",
       "[1000 rows x 12 columns]"
      ]
     },
     "execution_count": 31,
     "metadata": {},
     "output_type": "execute_result"
    }
   ],
   "source": [
    "films.sort_values(by = ['Rating', 'Votes'], ascending = [True, False] )"
   ]
  },
  {
   "cell_type": "markdown",
   "id": "8aa5ae3a",
   "metadata": {},
   "source": [
    "По данной сортировке видно, как распределяются голоса и оценки зрителей. Самая низкая оценка от зрителей у фильма Disaster Movie (1.9), следом идут фильмы Don't Fuck in the Woods и Dragonball Evolution с баллами 2.7, при этом за первый фильм проголосовало более 59000 человек, а за второй - всего 496. Такая же ситуация и у фильмов Inception и Dangal: у них одинаково высокий балл (8.8), но разница между количеством голосов составляет почти 1.5 миллиона  "
   ]
  },
  {
   "cell_type": "markdown",
   "id": "937bffb5",
   "metadata": {},
   "source": [
    "### Частотные таблицы (столбцы)"
   ]
  },
  {
   "cell_type": "code",
   "execution_count": 2,
   "id": "0cebf2dd",
   "metadata": {},
   "outputs": [
    {
     "data": {
      "text/plain": [
       "72.0    25\n",
       "68.0    25\n",
       "66.0    25\n",
       "64.0    24\n",
       "57.0    23\n",
       "        ..\n",
       "19.0     1\n",
       "98.0     1\n",
       "16.0     1\n",
       "91.0     1\n",
       "11.0     1\n",
       "Name: Metascore, Length: 84, dtype: int64"
      ]
     },
     "execution_count": 2,
     "metadata": {},
     "output_type": "execute_result"
    }
   ],
   "source": [
    "films['Metascore'].value_counts()"
   ]
  },
  {
   "cell_type": "markdown",
   "id": "4d1aa202",
   "metadata": {},
   "source": [
    "Частотная таблица по переменной оценки критиков показывает, что распределение мультимодальное: чаще встречаются оценки 72 балла, 68 и 66 баллов.Посмотрим, какие баллы встречались реже всего"
   ]
  },
  {
   "cell_type": "code",
   "execution_count": 14,
   "id": "992e831e",
   "metadata": {},
   "outputs": [
    {
     "data": {
      "text/plain": [
       "20.0     1\n",
       "15.0     1\n",
       "100.0    1\n",
       "99.0     1\n",
       "19.0     1\n",
       "98.0     1\n",
       "16.0     1\n",
       "91.0     1\n",
       "11.0     1\n",
       "Name: Metascore, dtype: int64"
      ]
     },
     "execution_count": 14,
     "metadata": {},
     "output_type": "execute_result"
    }
   ],
   "source": [
    "f = films['Metascore'].value_counts()\n",
    "f[f==1]"
   ]
  },
  {
   "cell_type": "markdown",
   "id": "5783d564",
   "metadata": {},
   "source": [
    "Реже всего встречаются высокие оценки: от 98 до 100, а также довольно низкие - 11, 15,16"
   ]
  },
  {
   "cell_type": "markdown",
   "id": "4c6a1e7b",
   "metadata": {},
   "source": [
    "С помощью гистограммы проиллюстрируем распределение переменной оценок от критиков"
   ]
  },
  {
   "cell_type": "code",
   "execution_count": 3,
   "id": "8ee7d7bf",
   "metadata": {},
   "outputs": [
    {
     "data": {
      "image/png": "[encoded data removed]",
      "text/plain": [
       "<Figure size 720x576 with 1 Axes>"
      ]
     },
     "metadata": {
      "needs_background": "light"
     },
     "output_type": "display_data"
    }
   ],
   "source": [
    "fig, ax = plt.subplots(figsize=[10,8])\n",
    "sns.histplot(x = films['Metascore'], color = 'green')\n",
    "ax.set_title('Распределение переменной оценок критиков', fontsize = 15)\n",
    "ax.set_ylabel('Количество наблюдения', fontsize=12)\n",
    "ax.set_xlabel('Значения оценок критиков', fontsize=12)\n",
    "plt.show()"
   ]
  },
  {
   "cell_type": "markdown",
   "id": "804b3a65",
   "metadata": {},
   "source": [
    "В целом распределение оценок критиков похоже на симметричное, хотя и видны небольшие выбросы"
   ]
  },
  {
   "cell_type": "markdown",
   "id": "7dff68a0",
   "metadata": {},
   "source": [
    "Посмотрим, какой доход получали фильмы в нашем датасете"
   ]
  },
  {
   "cell_type": "code",
   "execution_count": 15,
   "id": "d6e0e188",
   "metadata": {},
   "outputs": [
    {
     "data": {
      "text/plain": [
       "0.03      7\n",
       "0.01      5\n",
       "0.05      4\n",
       "0.32      4\n",
       "0.02      4\n",
       "         ..\n",
       "209.81    1\n",
       "65.27     1\n",
       "5.69      1\n",
       "37.55     1\n",
       "19.64     1\n",
       "Name: Revenue (Millions), Length: 814, dtype: int64"
      ]
     },
     "execution_count": 15,
     "metadata": {},
     "output_type": "execute_result"
    }
   ],
   "source": [
    "films['Revenue (Millions)'].value_counts()"
   ]
  },
  {
   "cell_type": "markdown",
   "id": "af80ba11",
   "metadata": {},
   "source": [
    "Чаще всего в наших данных встречаются фильмы, получившие маленький доход: наиболее часто фильмы получали доход 30000 долларов (0.03 млн долларов), затем идут 10000, 50000, 32000 и 20000 долларов. Посмотрим, какие доходы встречались реже всего"
   ]
  },
  {
   "cell_type": "code",
   "execution_count": 25,
   "id": "8dd2ec7a",
   "metadata": {},
   "outputs": [
    {
     "data": {
      "text/plain": [
       "150.06    1\n",
       "162.00    1\n",
       "56.72     1\n",
       "162.59    1\n",
       "3.08      1\n",
       "         ..\n",
       "209.81    1\n",
       "65.27     1\n",
       "5.69      1\n",
       "37.55     1\n",
       "19.64     1\n",
       "Name: Revenue (Millions), Length: 776, dtype: int64"
      ]
     },
     "execution_count": 25,
     "metadata": {},
     "output_type": "execute_result"
    }
   ],
   "source": [
    "f = films['Revenue (Millions)'].value_counts()\n",
    "f[f==1]"
   ]
  },
  {
   "cell_type": "markdown",
   "id": "21eb4763",
   "metadata": {},
   "source": [
    "Таких доходов очень много, проиллюстрируем их через график"
   ]
  },
  {
   "cell_type": "code",
   "execution_count": 5,
   "id": "f8d43ece",
   "metadata": {},
   "outputs": [
    {
     "data": {
      "image/png": "[encoded data removed]",
      "text/plain": [
       "<Figure size 720x576 with 1 Axes>"
      ]
     },
     "metadata": {
      "needs_background": "light"
     },
     "output_type": "display_data"
    }
   ],
   "source": [
    "fig, ax = plt.subplots(figsize=[10,8])\n",
    "sns.histplot(x = films['Revenue (Millions)'], color = 'pink', bins = 40)\n",
    "ax.set_title('Распределение переменной дохода фильма', fontsize = 15)\n",
    "ax.set_ylabel('Количество наблюдения', fontsize=12)\n",
    "ax.set_xlabel('Значения дохода фильма', fontsize=12)\n",
    "plt.show()"
   ]
  },
  {
   "cell_type": "markdown",
   "id": "9b43f6fc",
   "metadata": {},
   "source": [
    "Для непрерывной переменной дохода мы выбрали гистограмму. Здесь распределение несимметричное, видны яркие выбросы: доход больше 200 миллионов."
   ]
  },
  {
   "cell_type": "markdown",
   "id": "015f3a3c",
   "metadata": {},
   "source": [
    "Посмотрим на частотную таблицу по продолжительности фильмов"
   ]
  },
  {
   "cell_type": "code",
   "execution_count": 4,
   "id": "0551347a",
   "metadata": {},
   "outputs": [
    {
     "data": {
      "text/plain": [
       "108    31\n",
       "100    28\n",
       "117    27\n",
       "118    26\n",
       "106    26\n",
       "       ..\n",
       "172     1\n",
       "164     1\n",
       "163     1\n",
       "159     1\n",
       "145     1\n",
       "Name: Runtime (Minutes), Length: 94, dtype: int64"
      ]
     },
     "execution_count": 4,
     "metadata": {},
     "output_type": "execute_result"
    }
   ],
   "source": [
    "films['Runtime (Minutes)'].value_counts()"
   ]
  },
  {
   "cell_type": "markdown",
   "id": "6a6b5441",
   "metadata": {},
   "source": [
    "Чаще всего встречаются фильмы с нормальной продолжительностью - до 120 минут. Посмотрим, а какие встречаются меньше всего"
   ]
  },
  {
   "cell_type": "code",
   "execution_count": 27,
   "id": "d5ef6597",
   "metadata": {},
   "outputs": [
    {
     "data": {
      "text/plain": [
       "191    1\n",
       "66     1\n",
       "82     1\n",
       "160    1\n",
       "187    1\n",
       "170    1\n",
       "166    1\n",
       "172    1\n",
       "164    1\n",
       "163    1\n",
       "159    1\n",
       "145    1\n",
       "Name: Runtime (Minutes), dtype: int64"
      ]
     },
     "execution_count": 27,
     "metadata": {},
     "output_type": "execute_result"
    }
   ],
   "source": [
    "f = films['Runtime (Minutes)'].value_counts()\n",
    "f[f==1]"
   ]
  },
  {
   "cell_type": "markdown",
   "id": "8e1cbe47",
   "metadata": {},
   "source": [
    "Меньше всего встречаются несколько фильмы со слишком маленькой продолжительностью (до 90 минут) и слишком большой - больше 120 минут. Вся информация по продолжительности взята из источника:  https://kz.kursiv.media/2023-02-09/kak-i-zachem-rezhissery-zastavlyayut-zritelya-skuchat-pri-prosmotre/"
   ]
  },
  {
   "cell_type": "code",
   "execution_count": 8,
   "id": "2f317bb1",
   "metadata": {},
   "outputs": [
    {
     "data": {
      "image/png": "[encoded data removed]",
      "text/plain": [
       "<Figure size 720x576 with 1 Axes>"
      ]
     },
     "metadata": {
      "needs_background": "light"
     },
     "output_type": "display_data"
    }
   ],
   "source": [
    "fig, ax = plt.subplots(figsize=[10,8])\n",
    "sns.histplot(x = films['Runtime (Minutes)'], color = 'orange')\n",
    "ax.set_title('Распределение переменной продолжительности фильма', fontsize = 15)\n",
    "ax.set_ylabel('Количество наблюдения', fontsize=12)\n",
    "ax.set_xlabel('Продолжительность фильма', fontsize=12)\n",
    "plt.show()"
   ]
  },
  {
   "cell_type": "markdown",
   "id": "33d911c7",
   "metadata": {},
   "source": [
    "Для еще одной непрерывной переменной - продолжительности фильма - мы также выбрали гистограмму. Она показала относительно нормальное распределение, в котором есть незначительные аномально низкие и высокие значения. "
   ]
  },
  {
   "cell_type": "code",
   "execution_count": 29,
   "id": "688b862b",
   "metadata": {},
   "outputs": [
    {
     "data": {
      "text/plain": [
       "Year\n",
       "2014    19985162\n",
       "2013    19933518\n",
       "2012    18254470\n",
       "2011    15169789\n",
       "2010    15166939\n",
       "2015    14697230\n",
       "2016    14431751\n",
       "2008    14326280\n",
       "2009    13044813\n",
       "2007    12949545\n",
       "2006    11848758\n",
       "Name: Votes, dtype: int64"
      ]
     },
     "execution_count": 29,
     "metadata": {},
     "output_type": "execute_result"
    }
   ],
   "source": [
    "films.groupby('Year')['Votes'].sum().sort_values(ascending = False)"
   ]
  },
  {
   "cell_type": "markdown",
   "id": "01e0893c",
   "metadata": {},
   "source": [
    "Мы создали частотную таблицу по суммарному количеству голосов зрителей за фильмы с 2006 по 2016 год. БОльшее количество голосов от зрителей приходится на 2012-2014 годы. В целом зрители за остальные годы голосовали с одинаковой частотностью - +- 1.5 миллиона человек"
   ]
  },
  {
   "cell_type": "markdown",
   "id": "1951d0dd",
   "metadata": {},
   "source": [
    "### Частотные таблицы (отфильтрованные данные)\n"
   ]
  },
  {
   "cell_type": "code",
   "execution_count": 7,
   "id": "c0782371",
   "metadata": {},
   "outputs": [
    {
     "data": {
      "text/plain": [
       "60.0    9\n",
       "39.0    9\n",
       "64.0    9\n",
       "57.0    9\n",
       "66.0    9\n",
       "       ..\n",
       "67.0    1\n",
       "20.0    1\n",
       "26.0    1\n",
       "25.0    1\n",
       "77.0    1\n",
       "Name: Metascore, Length: 65, dtype: int64"
      ]
     },
     "execution_count": 7,
     "metadata": {},
     "output_type": "execute_result"
    }
   ],
   "source": [
    "films[films['Genre'].str.contains('Action')]['Metascore'].value_counts()"
   ]
  },
  {
   "cell_type": "markdown",
   "id": "ff601253",
   "metadata": {},
   "source": [
    "Жанрам экшн чаще всего ставили следующие оценки: 60, 66, 57 и 64, а также 39. Посмотрим, а какие оценки ставили реже"
   ]
  },
  {
   "cell_type": "code",
   "execution_count": 30,
   "id": "e8577e08",
   "metadata": {},
   "outputs": [
    {
     "data": {
      "text/plain": [
       "23.0    1\n",
       "80.0    1\n",
       "85.0    1\n",
       "90.0    1\n",
       "67.0    1\n",
       "20.0    1\n",
       "26.0    1\n",
       "25.0    1\n",
       "77.0    1\n",
       "Name: Metascore, dtype: int64"
      ]
     },
     "execution_count": 30,
     "metadata": {},
     "output_type": "execute_result"
    }
   ],
   "source": [
    "f = films[films['Genre'].str.contains('Action')]['Metascore'].value_counts()\n",
    "f[f==1]"
   ]
  },
  {
   "cell_type": "markdown",
   "id": "5a3074c0",
   "metadata": {},
   "source": [
    "Реже всего фильмам в жанре экшн ставили высокие оценки (80,85, 90 баллов), а также очень низкие - от 20 до 25 баллов. "
   ]
  },
  {
   "cell_type": "markdown",
   "id": "cd692195",
   "metadata": {},
   "source": [
    "Нам интересно посмотреть, сколько фильмов получили достаточно высокий доход (более 100 млн долларов) в каждый год."
   ]
  },
  {
   "cell_type": "code",
   "execution_count": 6,
   "id": "c73c06aa",
   "metadata": {},
   "outputs": [
    {
     "data": {
      "text/plain": [
       "2016    32\n",
       "2014    31\n",
       "2013    28\n",
       "2015    25\n",
       "2012    22\n",
       "2010    22\n",
       "2008    21\n",
       "2011    20\n",
       "2009    19\n",
       "2007    16\n",
       "2006    14\n",
       "Name: Year, dtype: int64"
      ]
     },
     "execution_count": 6,
     "metadata": {},
     "output_type": "execute_result"
    }
   ],
   "source": [
    "films[films['Revenue (Millions)'] > 100]['Year'].value_counts()"
   ]
  },
  {
   "cell_type": "markdown",
   "id": "472d6717",
   "metadata": {},
   "source": [
    "Самое большое количество высокодоходных фильмов приходится на 2016 год (32 фильма). Следом идут 2014 (31 фильм), 2013(28 фильмов). Меньше всего таких фильмов приходится на 2006-2007 годы (14 и 16 фильмов соответственно)"
   ]
  },
  {
   "cell_type": "code",
   "execution_count": 11,
   "id": "7f7323cc",
   "metadata": {},
   "outputs": [
    {
     "data": {
      "text/plain": [
       "7.1    22\n",
       "7.8    22\n",
       "8.1    17\n",
       "7.0    16\n",
       "7.5    16\n",
       "6.7    15\n",
       "7.6    15\n",
       "7.2    15\n",
       "7.3    14\n",
       "7.4    13\n",
       "7.9    11\n",
       "6.5     9\n",
       "6.9     8\n",
       "8.0     8\n",
       "6.4     7\n",
       "6.6     7\n",
       "7.7     7\n",
       "6.2     7\n",
       "8.2     6\n",
       "6.8     6\n",
       "8.5     5\n",
       "6.3     4\n",
       "6.0     4\n",
       "5.9     4\n",
       "8.3     3\n",
       "5.7     3\n",
       "6.1     3\n",
       "8.4     3\n",
       "5.8     3\n",
       "5.5     2\n",
       "5.2     2\n",
       "8.8     2\n",
       "9.0     1\n",
       "3.7     1\n",
       "4.1     1\n",
       "5.3     1\n",
       "5.4     1\n",
       "8.6     1\n",
       "4.7     1\n",
       "3.2     1\n",
       "4.9     1\n",
       "4.3     1\n",
       "Name: Rating, dtype: int64"
      ]
     },
     "execution_count": 11,
     "metadata": {},
     "output_type": "execute_result"
    }
   ],
   "source": [
    "films[films['Runtime (Minutes)'] > 120]['Rating'].value_counts()"
   ]
  },
  {
   "cell_type": "markdown",
   "id": "2672204f",
   "metadata": {},
   "source": [
    "Мы посмотрели распределение зрительских оценок долгим фильмам (более 2 часов) с помощью частотной таблицы. Распределение бимодальное: чаще всего встречаются оценки 7.1 и 7.8. В целом большинство фильмов получили оценки от 7 до 8. Реже всего ставилась оценка 9 и 8.6, а также довольно низкие баллы от 3 до 4 (см в таблице) "
   ]
  },
  {
   "cell_type": "markdown",
   "id": "a2670ab3",
   "metadata": {},
   "source": [
    "### Создание новой переменной"
   ]
  },
  {
   "cell_type": "markdown",
   "id": "afbcd32c",
   "metadata": {},
   "source": [
    "Создадим переменную, в которой будет находиться статус фильма в зависимости от его продолжительности: нормальная продолжительность(от 90 до 120 минут - это средняя продолжительность всех фильмов, нормальная для них: https://kz.kursiv.media/2023-02-09/kak-i-zachem-rezhissery-zastavlyayut-zritelya-skuchat-pri-prosmotre/), короткий (до 90 минут), долгий(больше 120 минут). "
   ]
  },
  {
   "cell_type": "code",
   "execution_count": 110,
   "id": "72c71cf4",
   "metadata": {},
   "outputs": [],
   "source": [
    "def runtime_periodization(runtime):\n",
    "    if runtime < 90:\n",
    "        return 'Короткий'\n",
    "    elif runtime >= 90 and runtime <= 120:\n",
    "        return 'Нормальная продолжительность'\n",
    "    else:\n",
    "        return 'Долгий'"
   ]
  },
  {
   "cell_type": "code",
   "execution_count": 111,
   "id": "683b024a",
   "metadata": {},
   "outputs": [],
   "source": [
    "films['Runtime_periodization'] = films['Runtime (Minutes)'].apply(runtime_periodization)"
   ]
  },
  {
   "cell_type": "markdown",
   "id": "9d7a03f2",
   "metadata": {},
   "source": [
    "### МЦТ "
   ]
  },
  {
   "cell_type": "markdown",
   "id": "b0fc3bc4",
   "metadata": {},
   "source": [
    "Посчитаем меры центральной тенденции для наших переменных"
   ]
  },
  {
   "cell_type": "markdown",
   "id": "35d65223",
   "metadata": {},
   "source": [
    "**Доход фильмов - непрерывная переменная, можем посчитать все три МЦТ**"
   ]
  },
  {
   "cell_type": "code",
   "execution_count": 75,
   "id": "9caf5bf1",
   "metadata": {},
   "outputs": [
    {
     "data": {
      "text/plain": [
       "82.95637614678897"
      ]
     },
     "execution_count": 75,
     "metadata": {},
     "output_type": "execute_result"
    }
   ],
   "source": [
    "films['Revenue (Millions)'].mean()"
   ]
  },
  {
   "cell_type": "markdown",
   "id": "e138e996",
   "metadata": {},
   "source": [
    "В среднем фильмы получали доход в 83 миллиона долларов с округлением"
   ]
  },
  {
   "cell_type": "code",
   "execution_count": 54,
   "id": "5ed1215c",
   "metadata": {},
   "outputs": [
    {
     "data": {
      "text/plain": [
       "47.985"
      ]
     },
     "execution_count": 54,
     "metadata": {},
     "output_type": "execute_result"
    }
   ],
   "source": [
    "films['Revenue (Millions)'].median()"
   ]
  },
  {
   "cell_type": "markdown",
   "id": "9774805d",
   "metadata": {},
   "source": [
    "50% фильмов имели доход меньше 48 миллионов долларов с округлением. Видим, что медиана и среднее отличаются друг от друга, причем среднее больше медианы, получается, есть экстремально высокие выбросы, влияющие на среднее. Раннее график по этой переменной иллюстрировал нам то же самое. Посмотрим на выбросы в этой переменной дальше"
   ]
  },
  {
   "cell_type": "code",
   "execution_count": 55,
   "id": "6be9e238",
   "metadata": {},
   "outputs": [
    {
     "data": {
      "text/plain": [
       "0    0.03\n",
       "dtype: float64"
      ]
     },
     "execution_count": 55,
     "metadata": {},
     "output_type": "execute_result"
    }
   ],
   "source": [
    "films['Revenue (Millions)'].mode()"
   ]
  },
  {
   "cell_type": "markdown",
   "id": "c19ce0a1",
   "metadata": {},
   "source": [
    "Чаще всего в наших данных встречается доход в 30000 долларов (0.03 миллиона)"
   ]
  },
  {
   "cell_type": "markdown",
   "id": "8635748e",
   "metadata": {},
   "source": [
    "**Оценка фильмов критиками  - непрерывная переменная, можем посчитать все три МЦТ**"
   ]
  },
  {
   "cell_type": "code",
   "execution_count": 56,
   "id": "b6d6ed3a",
   "metadata": {},
   "outputs": [
    {
     "data": {
      "text/plain": [
       "58.98504273504273"
      ]
     },
     "execution_count": 56,
     "metadata": {},
     "output_type": "execute_result"
    }
   ],
   "source": [
    "films['Metascore'].mean()"
   ]
  },
  {
   "cell_type": "markdown",
   "id": "15d4f38c",
   "metadata": {},
   "source": [
    "В среднем критики ставили фильмам 59 баллов с округлением. Это больше половины от 100, получается, критики ставили \"средние\" оценки"
   ]
  },
  {
   "cell_type": "code",
   "execution_count": 57,
   "id": "9876c0ab",
   "metadata": {},
   "outputs": [
    {
     "data": {
      "text/plain": [
       "59.5"
      ]
     },
     "execution_count": 57,
     "metadata": {},
     "output_type": "execute_result"
    }
   ],
   "source": [
    "films['Metascore'].median()"
   ]
  },
  {
   "cell_type": "markdown",
   "id": "56e0539f",
   "metadata": {},
   "source": [
    "50% фильмов получили от критиков оценку меньше 59.5 баллов. Среднее и медиана не сильно отличаются друг от друга, возможно, есть небольшие экстремально низкие значения (среднее меньше медианы)"
   ]
  },
  {
   "cell_type": "code",
   "execution_count": 58,
   "id": "bde658ad",
   "metadata": {},
   "outputs": [
    {
     "data": {
      "text/plain": [
       "0    66.0\n",
       "1    68.0\n",
       "2    72.0\n",
       "dtype: float64"
      ]
     },
     "execution_count": 58,
     "metadata": {},
     "output_type": "execute_result"
    }
   ],
   "source": [
    "films['Metascore'].mode()"
   ]
  },
  {
   "cell_type": "markdown",
   "id": "331f34ec",
   "metadata": {},
   "source": [
    "Распределение оценок критиков мультимодальное, есть три моды. Чаще всего критики ставили оценки 66,68,72 балла. "
   ]
  },
  {
   "cell_type": "markdown",
   "id": "1a6d1f67",
   "metadata": {},
   "source": [
    "**Оценка фильмов зрителями - непрерывная переменная, можем посчитать все три МЦТ**"
   ]
  },
  {
   "cell_type": "code",
   "execution_count": 47,
   "id": "fdc0ab6d",
   "metadata": {},
   "outputs": [
    {
     "data": {
      "text/plain": [
       "6.723200000000003"
      ]
     },
     "execution_count": 47,
     "metadata": {},
     "output_type": "execute_result"
    }
   ],
   "source": [
    "films['Rating'].mean()"
   ]
  },
  {
   "cell_type": "markdown",
   "id": "45eff876",
   "metadata": {},
   "source": [
    "В среднем зрители ставили фильмам 6.7 баллов с округлением. "
   ]
  },
  {
   "cell_type": "code",
   "execution_count": 48,
   "id": "b14af0fc",
   "metadata": {},
   "outputs": [
    {
     "data": {
      "text/plain": [
       "6.8"
      ]
     },
     "execution_count": 48,
     "metadata": {},
     "output_type": "execute_result"
    }
   ],
   "source": [
    "films['Rating'].median()"
   ]
  },
  {
   "cell_type": "markdown",
   "id": "b263c251",
   "metadata": {},
   "source": [
    "50% фильмов получили от зрителей оценку меньше 6.8. Различие между средним и медианой очень маленькое (0.1), можно сделать вывод, что cильных выбросов в целом нет. "
   ]
  },
  {
   "cell_type": "code",
   "execution_count": 49,
   "id": "2453f7df",
   "metadata": {},
   "outputs": [
    {
     "data": {
      "text/plain": [
       "0    7.1\n",
       "dtype: float64"
      ]
     },
     "execution_count": 49,
     "metadata": {},
     "output_type": "execute_result"
    }
   ],
   "source": [
    "films['Rating'].mode()"
   ]
  },
  {
   "cell_type": "markdown",
   "id": "33d3cc2c",
   "metadata": {},
   "source": [
    "Чаще всего зрители ставили оценку 7.1 "
   ]
  },
  {
   "cell_type": "markdown",
   "id": "4e93ec53",
   "metadata": {},
   "source": [
    "**Количество голосов - дискретная, рассчитаем медиану и моду**"
   ]
  },
  {
   "cell_type": "code",
   "execution_count": 89,
   "id": "64ba5099",
   "metadata": {},
   "outputs": [
    {
     "data": {
      "text/plain": [
       "110799.0"
      ]
     },
     "execution_count": 89,
     "metadata": {},
     "output_type": "execute_result"
    }
   ],
   "source": [
    "films['Votes'].median()"
   ]
  },
  {
   "cell_type": "markdown",
   "id": "48e55ef2",
   "metadata": {},
   "source": [
    "Меньше 110799 голосов получили 50% фильмов"
   ]
  },
  {
   "cell_type": "code",
   "execution_count": 91,
   "id": "ee2a3200",
   "metadata": {},
   "outputs": [
    {
     "data": {
      "text/plain": [
       "0      291\n",
       "1     1427\n",
       "2    97141\n",
       "dtype: int64"
      ]
     },
     "execution_count": 91,
     "metadata": {},
     "output_type": "execute_result"
    }
   ],
   "source": [
    "films['Votes'].mode()"
   ]
  },
  {
   "cell_type": "markdown",
   "id": "bbb20545",
   "metadata": {},
   "source": [
    "Распределение голосов зрителей также мультимодальное. Чаще всего голосовал 291 человек, 1427 или 97141"
   ]
  },
  {
   "cell_type": "markdown",
   "id": "dba32c54",
   "metadata": {},
   "source": [
    "**Продолжительность фильмов - непрерывная, рассчитаем все три МЦТ**"
   ]
  },
  {
   "cell_type": "code",
   "execution_count": 44,
   "id": "b271643e",
   "metadata": {},
   "outputs": [
    {
     "data": {
      "text/plain": [
       "113.172"
      ]
     },
     "execution_count": 44,
     "metadata": {},
     "output_type": "execute_result"
    }
   ],
   "source": [
    "films['Runtime (Minutes)'].mean()"
   ]
  },
  {
   "cell_type": "markdown",
   "id": "9f26b075",
   "metadata": {},
   "source": [
    "В среднем фильмы длятся 113 минут с округлением"
   ]
  },
  {
   "cell_type": "code",
   "execution_count": 45,
   "id": "ea18f322",
   "metadata": {},
   "outputs": [
    {
     "data": {
      "text/plain": [
       "111.0"
      ]
     },
     "execution_count": 45,
     "metadata": {},
     "output_type": "execute_result"
    }
   ],
   "source": [
    "films['Runtime (Minutes)'].median()"
   ]
  },
  {
   "cell_type": "markdown",
   "id": "51d4b6b3",
   "metadata": {},
   "source": [
    "50% фильмов длятся меньше 111 минут"
   ]
  },
  {
   "cell_type": "code",
   "execution_count": 94,
   "id": "3975b0f1",
   "metadata": {},
   "outputs": [
    {
     "data": {
      "text/plain": [
       "0    108\n",
       "dtype: int64"
      ]
     },
     "execution_count": 94,
     "metadata": {},
     "output_type": "execute_result"
    }
   ],
   "source": [
    "films['Runtime (Minutes)'].mode()"
   ]
  },
  {
   "cell_type": "markdown",
   "id": "91606a29",
   "metadata": {},
   "source": [
    "Чаще всего в данных встречаются фильмы продолжительностью в 108 минут"
   ]
  },
  {
   "cell_type": "markdown",
   "id": "f04d7524",
   "metadata": {},
   "source": [
    "**Рассмотрим моды для некоторых номинальных переменных (другие МЦТ использовать нельзя)**"
   ]
  },
  {
   "cell_type": "code",
   "execution_count": 36,
   "id": "f525f51f",
   "metadata": {},
   "outputs": [
    {
     "data": {
      "text/plain": [
       "0    Ridley Scott\n",
       "dtype: object"
      ]
     },
     "execution_count": 36,
     "metadata": {},
     "output_type": "execute_result"
    }
   ],
   "source": [
    "films['Director'].mode()"
   ]
  },
  {
   "cell_type": "markdown",
   "id": "9e08b981",
   "metadata": {},
   "source": [
    "Чаще всего в наших встречаются фильмы, режиссером которых является Ридли Скотт. Посмотрим, сколько его фильмов есть в данных"
   ]
  },
  {
   "cell_type": "code",
   "execution_count": 37,
   "id": "2e221a98",
   "metadata": {},
   "outputs": [
    {
     "data": {
      "text/plain": [
       "Ridley Scott          8\n",
       "David Yates           6\n",
       "M. Night Shyamalan    6\n",
       "Paul W.S. Anderson    6\n",
       "Michael Bay           6\n",
       "                     ..\n",
       "Lee Toland Krieger    1\n",
       "Gillies MacKinnon     1\n",
       "Peter Atencio         1\n",
       "James Mangold         1\n",
       "Scot Armstrong        1\n",
       "Name: Director, Length: 644, dtype: int64"
      ]
     },
     "execution_count": 37,
     "metadata": {},
     "output_type": "execute_result"
    }
   ],
   "source": [
    "films['Director'].value_counts()"
   ]
  },
  {
   "cell_type": "markdown",
   "id": "82d5376f",
   "metadata": {},
   "source": [
    "8 фильмов в наших данных срежиссированы Ридли Скоттом"
   ]
  },
  {
   "cell_type": "code",
   "execution_count": 34,
   "id": "35282816",
   "metadata": {},
   "outputs": [
    {
     "data": {
      "text/plain": [
       "0    Action,Adventure,Sci-Fi\n",
       "dtype: object"
      ]
     },
     "execution_count": 34,
     "metadata": {},
     "output_type": "execute_result"
    }
   ],
   "source": [
    "films['Genre'].mode()"
   ]
  },
  {
   "cell_type": "markdown",
   "id": "667e7d88",
   "metadata": {},
   "source": [
    "Наиболее часто встречающийся жанр фильмов в наших данных - Экшн, с приключенческим и научпоп сюжетом. Посмотрим, сколько таких фильмов есть в данных"
   ]
  },
  {
   "cell_type": "code",
   "execution_count": 95,
   "id": "52ae3d61",
   "metadata": {},
   "outputs": [
    {
     "data": {
      "text/plain": [
       "Action,Adventure,Sci-Fi    50\n",
       "Drama                      48\n",
       "Comedy,Drama,Romance       35\n",
       "Comedy                     32\n",
       "Drama,Romance              31\n",
       "                           ..\n",
       "Action,Comedy,Family        1\n",
       "Action,Crime,Fantasy        1\n",
       "Comedy,Mystery              1\n",
       "Adventure,Comedy,Horror     1\n",
       "Comedy,Family,Fantasy       1\n",
       "Name: Genre, Length: 207, dtype: int64"
      ]
     },
     "execution_count": 95,
     "metadata": {},
     "output_type": "execute_result"
    }
   ],
   "source": [
    "films['Genre'].value_counts()"
   ]
  },
  {
   "cell_type": "markdown",
   "id": "81dbd2d1",
   "metadata": {},
   "source": [
    "50 фильмов принадлежат этому жанру. "
   ]
  },
  {
   "cell_type": "markdown",
   "id": "d818760c",
   "metadata": {},
   "source": [
    "### Ящик с усами"
   ]
  },
  {
   "cell_type": "markdown",
   "id": "b9e393a9",
   "metadata": {},
   "source": [
    "Сделаем визуализацию выбросов для дохода фильмов (там наблюдалось большое различие между средним и медианой), а также оценками от зрителей - там наблюдалось меньшее различие между средним и медианой, интересно посмотреть, есть ли там выбросы"
   ]
  },
  {
   "cell_type": "code",
   "execution_count": 19,
   "id": "cb2175bd",
   "metadata": {},
   "outputs": [
    {
     "data": {
      "image/png": "[encoded data removed]",
      "text/plain": [
       "<Figure size 720x576 with 1 Axes>"
      ]
     },
     "metadata": {
      "needs_background": "light"
     },
     "output_type": "display_data"
    }
   ],
   "source": [
    "fig, ax = plt.subplots(figsize=[10,8])\n",
    "sns.boxplot(x=films['Revenue (Millions)'], color = 'green')\n",
    "ax.set_title('Распределение выбросов в переменной дохода фильмов', fontsize = 14)\n",
    "ax.set_xlabel('Доход фильмов', fontsize=12)\n",
    "plt.show()"
   ]
  },
  {
   "cell_type": "markdown",
   "id": "d9d3c384",
   "metadata": {},
   "source": [
    "В переменной дохода нижняя граница значений равно 0, а верхняя - примерно 250, и выбросы (аномальные значения) есть после верхней границы, их значения начинаются от 250 и достигают значений больше 800. За счёт аномальных значений среднее арифметическое и было такое большое по сравнению с медианой."
   ]
  },
  {
   "cell_type": "code",
   "execution_count": 20,
   "id": "d72e253a",
   "metadata": {},
   "outputs": [
    {
     "data": {
      "image/png": "[encoded data removed]",
      "text/plain": [
       "<Figure size 720x576 with 1 Axes>"
      ]
     },
     "metadata": {
      "needs_background": "light"
     },
     "output_type": "display_data"
    }
   ],
   "source": [
    "fig, ax = plt.subplots(figsize=[10,8])\n",
    "sns.boxplot(x=films['Rating'], color = 'green')\n",
    "ax.set_title('Распределение выбросов в переменной оценок зрителей', fontsize = 14)\n",
    "ax.set_xlabel('Оценки зрителей', fontsize=12)\n",
    "plt.show()"
   ]
  },
  {
   "cell_type": "markdown",
   "id": "98607054",
   "metadata": {},
   "source": [
    "В переменной оценок зрителей нижняя граница находится между оценками 4 и 5, а верхняя - на 9. При этом выбросы есть, несмотря на то, что среднее не сильно отличалось от медианы, хоть и было меньше. Экстремальные значения находятся за нижней границей, достигая значения от 4 до 2. "
   ]
  },
  {
   "cell_type": "markdown",
   "id": "ff2e7f7f",
   "metadata": {},
   "source": [
    "### Количество пропущенных значений "
   ]
  },
  {
   "cell_type": "markdown",
   "id": "2c216c0c",
   "metadata": {},
   "source": [
    "Перед тем, как рассчитать выбросы в переменной дохода, посмотрим, есть ли там и в других переменных пропущенные значения"
   ]
  },
  {
   "cell_type": "code",
   "execution_count": 97,
   "id": "bdfc7b2f",
   "metadata": {},
   "outputs": [
    {
     "data": {
      "text/plain": [
       "Rank                       0\n",
       "Title                      0\n",
       "Genre                      0\n",
       "Description                0\n",
       "Director                   0\n",
       "Actors                     0\n",
       "Year                       0\n",
       "Runtime (Minutes)          0\n",
       "Rating                     0\n",
       "Votes                      0\n",
       "Revenue (Millions)       128\n",
       "Metascore                 64\n",
       "Runtime_periodization      0\n",
       "dtype: int64"
      ]
     },
     "execution_count": 97,
     "metadata": {},
     "output_type": "execute_result"
    }
   ],
   "source": [
    "films.isna().sum()"
   ]
  },
  {
   "cell_type": "markdown",
   "id": "5393c2c1",
   "metadata": {},
   "source": [
    "Пропущенные значения есть в переменной Revenue (Millions) - дохода фильмов - 128 значений. А также в Metascore - оценки критиков - 64 значения "
   ]
  },
  {
   "cell_type": "markdown",
   "id": "a416da6b",
   "metadata": {},
   "source": [
    "### Расчет выбросов"
   ]
  },
  {
   "cell_type": "markdown",
   "id": "af25077e",
   "metadata": {},
   "source": [
    "Мы хотим рассчитать выбросы в переменной дохода, так как там есть пропущенные значения, в расчете мы от них избавимся. "
   ]
  },
  {
   "cell_type": "markdown",
   "id": "b8f06b29",
   "metadata": {},
   "source": [
    "**По межквартильному отклонению**"
   ]
  },
  {
   "cell_type": "code",
   "execution_count": 13,
   "id": "bc0da332",
   "metadata": {},
   "outputs": [
    {
     "data": {
      "text/plain": [
       "(-137.3975, 264.38250000000005)"
      ]
     },
     "execution_count": 13,
     "metadata": {},
     "output_type": "execute_result"
    }
   ],
   "source": [
    "q1 = np.percentile(films[films['Revenue (Millions)'].isnull() == False]['Revenue (Millions)'], 25)\n",
    "q3 = np.percentile(films[films['Revenue (Millions)'].isnull() == False]['Revenue (Millions)'], 75)\n",
    "iqr = q3 - q1\n",
    "bottom_line = q1 - 1.5*iqr\n",
    "upper_line =  q3 + 1.5*iqr\n",
    "bottom_line, upper_line"
   ]
  },
  {
   "cell_type": "markdown",
   "id": "755e0643",
   "metadata": {},
   "source": [
    "Нижняя граница является отрицательным числом, так что за нижней границей нет выбросов, а вот верхняя граница равно 264 с округлением, за ней будут выбросы, посчитаем их количество через фильтрацию"
   ]
  },
  {
   "cell_type": "code",
   "execution_count": 130,
   "id": "15ba3750",
   "metadata": {},
   "outputs": [
    {
     "data": {
      "text/plain": [
       "(55, 14)"
      ]
     },
     "execution_count": 130,
     "metadata": {},
     "output_type": "execute_result"
    }
   ],
   "source": [
    "films[films['Revenue (Millions)'] > upper_line].shape"
   ]
  },
  {
   "cell_type": "markdown",
   "id": "8507049e",
   "metadata": {},
   "source": [
    "55 выбросов находятся в переменной дохода, если считать по межквартильному размаху. Теперь рассчитаем выбросы по стандартному отклонению, если предположить, что выбросами будут считаться наблюдения, которые отличаются от среднего на 2 стандартных отклонения и более"
   ]
  },
  {
   "cell_type": "code",
   "execution_count": 30,
   "id": "c47c0355",
   "metadata": {},
   "outputs": [
    {
     "name": "stdout",
     "output_type": "stream",
     "text": [
      "-123.5507048030605 289.4634570966384\n"
     ]
    }
   ],
   "source": [
    "mean = films['Revenue (Millions)'].mean()\n",
    "std = films['Revenue (Millions)'].std()\n",
    "bottomline = mean - 2*std\n",
    "upperline = mean + 2*std\n",
    "print(bottomline, upperline)"
   ]
  },
  {
   "cell_type": "markdown",
   "id": "1718ced1",
   "metadata": {},
   "source": [
    "Нижняя граница вновь отрицательная, следовательно, за ней выбросов нет. Верхняя граница равна 289 с округлением, больше чем была по межквартильному размаху. Посчитаем количество выбросов от верхней границы. "
   ]
  },
  {
   "cell_type": "code",
   "execution_count": 106,
   "id": "836c87bd",
   "metadata": {},
   "outputs": [
    {
     "data": {
      "text/plain": [
       "(49, 13)"
      ]
     },
     "execution_count": 106,
     "metadata": {},
     "output_type": "execute_result"
    }
   ],
   "source": [
    "films[films['Revenue (Millions)'] >= upperline].shape"
   ]
  },
  {
   "cell_type": "markdown",
   "id": "9610fcbb",
   "metadata": {},
   "source": [
    "49 выбросов находятся в переменной дохода, если считать по стандартному отклонению. Различие в подсчетах с iqr и std не сликшом большое, но стандартное отклонение \"отловило\" меньше выбросов. Можно сказать, что способ со стандартным отклонением расширяет значения границ, так как здесь мы используем среднее арифметическое, которое зависит от выбросов и может некоторые из них (которые как раз таки отличаются на 2 стандартных отклонения) не уловить, поэтому они и не войдут в общее число выбросов. Таким образом, нам кажется, что способ с межквартильным размахом лучше, так как нет факторов, зависящих от выбросов. "
   ]
  },
  {
   "cell_type": "markdown",
   "id": "b7d47888",
   "metadata": {},
   "source": [
    "**Выбросов не так много, поэтому заменим их на медиану. Возьмем расчет по IQR, так как он показал больше выбросов. Создадим новую переменную, где произведем замену**"
   ]
  },
  {
   "cell_type": "code",
   "execution_count": 14,
   "id": "f4d17005",
   "metadata": {},
   "outputs": [],
   "source": [
    "films['Revenue_median'] = films['Revenue (Millions)'].apply(lambda value: films['Revenue (Millions)'].median() if value > upper_line else value)"
   ]
  },
  {
   "cell_type": "code",
   "execution_count": 142,
   "id": "2ff4ba24",
   "metadata": {},
   "outputs": [
    {
     "data": {
      "text/plain": [
       "62.080166284403695"
      ]
     },
     "execution_count": 142,
     "metadata": {},
     "output_type": "execute_result"
    }
   ],
   "source": [
    "films['Revenue_median'].mean()"
   ]
  },
  {
   "cell_type": "code",
   "execution_count": 143,
   "id": "15779bce",
   "metadata": {},
   "outputs": [
    {
     "data": {
      "text/plain": [
       "47.9675"
      ]
     },
     "execution_count": 143,
     "metadata": {},
     "output_type": "execute_result"
    }
   ],
   "source": [
    "films['Revenue_median'].median()"
   ]
  },
  {
   "cell_type": "code",
   "execution_count": 144,
   "id": "11fda9e5",
   "metadata": {},
   "outputs": [
    {
     "data": {
      "text/plain": [
       "0    47.985\n",
       "dtype: float64"
      ]
     },
     "execution_count": 144,
     "metadata": {},
     "output_type": "execute_result"
    }
   ],
   "source": [
    "films['Revenue_median'].mode()"
   ]
  },
  {
   "cell_type": "markdown",
   "id": "71fbc1b5",
   "metadata": {},
   "source": [
    "При замене выбросов на медиану среднее продолжило быть больше медианы (среднее 62 с округлением, медиана 48 с округлением), но при этом среднее все же стало меньше по сравнению с тем, что было до замен (до замены среднее было 83 с округлением). Это произошло из-за замены выбросов, которые и делали среднее таким большим. Неудивительным стало то, что чаще всего теперь в данных встречается значение медианы до замен. (этим числом мы и заменяли выбросы)"
   ]
  },
  {
   "cell_type": "markdown",
   "id": "ad69356d",
   "metadata": {},
   "source": [
    "### Корреляционная матрица "
   ]
  },
  {
   "cell_type": "markdown",
   "id": "c924594a",
   "metadata": {},
   "source": [
    "Построим корреляционную матрицу по всем непрерывным переменным, которые у нас есть: доход фильма, оценка от зрителей, оценка от критиков, продолжительность фильма"
   ]
  },
  {
   "cell_type": "code",
   "execution_count": 6,
   "id": "750d0b21",
   "metadata": {},
   "outputs": [
    {
     "data": {
      "text/html": [
       "<div>\n",
       "<style scoped>\n",
       "    .dataframe tbody tr th:only-of-type {\n",
       "        vertical-align: middle;\n",
       "    }\n",
       "\n",
       "    .dataframe tbody tr th {\n",
       "        vertical-align: top;\n",
       "    }\n",
       "\n",
       "    .dataframe thead th {\n",
       "        text-align: right;\n",
       "    }\n",
       "</style>\n",
       "<table border=\"1\" class=\"dataframe\">\n",
       "  <thead>\n",
       "    <tr style=\"text-align: right;\">\n",
       "      <th></th>\n",
       "      <th>Runtime (Minutes)</th>\n",
       "      <th>Rating</th>\n",
       "      <th>Revenue (Millions)</th>\n",
       "      <th>Metascore</th>\n",
       "    </tr>\n",
       "  </thead>\n",
       "  <tbody>\n",
       "    <tr>\n",
       "      <th>Runtime (Minutes)</th>\n",
       "      <td>1.000000</td>\n",
       "      <td>0.392214</td>\n",
       "      <td>0.267953</td>\n",
       "      <td>0.211978</td>\n",
       "    </tr>\n",
       "    <tr>\n",
       "      <th>Rating</th>\n",
       "      <td>0.392214</td>\n",
       "      <td>1.000000</td>\n",
       "      <td>0.217654</td>\n",
       "      <td>0.631897</td>\n",
       "    </tr>\n",
       "    <tr>\n",
       "      <th>Revenue (Millions)</th>\n",
       "      <td>0.267953</td>\n",
       "      <td>0.217654</td>\n",
       "      <td>1.000000</td>\n",
       "      <td>0.142397</td>\n",
       "    </tr>\n",
       "    <tr>\n",
       "      <th>Metascore</th>\n",
       "      <td>0.211978</td>\n",
       "      <td>0.631897</td>\n",
       "      <td>0.142397</td>\n",
       "      <td>1.000000</td>\n",
       "    </tr>\n",
       "  </tbody>\n",
       "</table>\n",
       "</div>"
      ],
      "text/plain": [
       "                    Runtime (Minutes)    Rating  Revenue (Millions)  Metascore\n",
       "Runtime (Minutes)            1.000000  0.392214            0.267953   0.211978\n",
       "Rating                       0.392214  1.000000            0.217654   0.631897\n",
       "Revenue (Millions)           0.267953  0.217654            1.000000   0.142397\n",
       "Metascore                    0.211978  0.631897            0.142397   1.000000"
      ]
     },
     "execution_count": 6,
     "metadata": {},
     "output_type": "execute_result"
    }
   ],
   "source": [
    "films[['Runtime (Minutes)', 'Rating', 'Revenue (Millions)', 'Metascore']].corr()"
   ]
  },
  {
   "cell_type": "code",
   "execution_count": 22,
   "id": "9bc31dba",
   "metadata": {},
   "outputs": [
    {
     "data": {
      "image/png": "[encoded data removed]",
      "text/plain": [
       "<Figure size 1008x864 with 2 Axes>"
      ]
     },
     "metadata": {
      "needs_background": "light"
     },
     "output_type": "display_data"
    }
   ],
   "source": [
    "fig, ax = plt.subplots(figsize=[14,12])\n",
    "ax.set_title('Корреляции между переменными', fontsize=18)\n",
    "sns.heatmap(films[['Runtime (Minutes)', 'Rating', 'Revenue (Millions)', 'Metascore']].corr(), annot = True, linecolor = 'black', linewidth = 0.75, annot_kws = {'size': 17}, cmap= 'rocket', vmin=-1, vmax = 1)\n",
    "plt.show()"
   ]
  },
  {
   "cell_type": "markdown",
   "id": "5c7c2fb7",
   "metadata": {},
   "source": [
    "В целом высоких по силе корреляций у нас нет. Все коэффициенты меньше 0.7 (не считаем единички, это погрешность матрицы). При этом все связи положительные - отрицательных коэффициентов нет. \n",
    "Проинтерпретируем все корреляции:\n",
    "\n",
    "**Продолжительность фильма и оценка зрителей (Runtime (Minutes)/Rating). Коэффициент равен 0.39, это умеренная связь, в целом существует линейная зависимость. Интересно, что коэффициент положительный и зависимость прямая, это можно интерпретировать как \"чем дольше длится фильм, тем больше оценка зрителя\", хотя ранее мы предполагали скорее обратную зависимость.**"
   ]
  },
  {
   "cell_type": "code",
   "execution_count": 1,
   "id": "8a44de77",
   "metadata": {},
   "outputs": [
    {
     "ename": "NameError",
     "evalue": "name 'plt' is not defined",
     "output_type": "error",
     "traceback": [
      "\u001b[0;31m---------------------------------------------------------------------------\u001b[0m",
      "\u001b[0;31mNameError\u001b[0m                                 Traceback (most recent call last)",
      "\u001b[0;32m/var/folders/yk/y4brywlj7hggth8sp2wv0fmc0000gn/T/ipykernel_78995/754276834.py\u001b[0m in \u001b[0;36m<module>\u001b[0;34m\u001b[0m\n\u001b[0;32m----> 1\u001b[0;31m \u001b[0mfig\u001b[0m\u001b[0;34m,\u001b[0m \u001b[0max\u001b[0m \u001b[0;34m=\u001b[0m \u001b[0mplt\u001b[0m\u001b[0;34m.\u001b[0m\u001b[0msubplots\u001b[0m\u001b[0;34m(\u001b[0m\u001b[0mfigsize\u001b[0m\u001b[0;34m=\u001b[0m\u001b[0;34m[\u001b[0m\u001b[0;36m10\u001b[0m\u001b[0;34m,\u001b[0m\u001b[0;36m8\u001b[0m\u001b[0;34m]\u001b[0m\u001b[0;34m)\u001b[0m\u001b[0;34m\u001b[0m\u001b[0;34m\u001b[0m\u001b[0m\n\u001b[0m\u001b[1;32m      2\u001b[0m \u001b[0max\u001b[0m\u001b[0;34m.\u001b[0m\u001b[0mscatter\u001b[0m\u001b[0;34m(\u001b[0m\u001b[0mx\u001b[0m \u001b[0;34m=\u001b[0m \u001b[0mfilms\u001b[0m\u001b[0;34m[\u001b[0m\u001b[0;34m'Runtime (Minutes)'\u001b[0m\u001b[0;34m]\u001b[0m\u001b[0;34m,\u001b[0m \u001b[0my\u001b[0m \u001b[0;34m=\u001b[0m \u001b[0mfilms\u001b[0m\u001b[0;34m[\u001b[0m\u001b[0;34m'Rating'\u001b[0m\u001b[0;34m]\u001b[0m\u001b[0;34m,\u001b[0m \u001b[0malpha\u001b[0m\u001b[0;34m=\u001b[0m\u001b[0;36m0.7\u001b[0m\u001b[0;34m,\u001b[0m \u001b[0mc\u001b[0m \u001b[0;34m=\u001b[0m \u001b[0;34m'firebrick'\u001b[0m\u001b[0;34m)\u001b[0m\u001b[0;34m\u001b[0m\u001b[0;34m\u001b[0m\u001b[0m\n\u001b[1;32m      3\u001b[0m \u001b[0max\u001b[0m\u001b[0;34m.\u001b[0m\u001b[0mset_title\u001b[0m\u001b[0;34m(\u001b[0m\u001b[0;34m'Зависимость оценки зрителей от продолжительности фильма'\u001b[0m\u001b[0;34m,\u001b[0m \u001b[0mfontsize\u001b[0m\u001b[0;34m=\u001b[0m\u001b[0;36m15\u001b[0m\u001b[0;34m)\u001b[0m\u001b[0;34m\u001b[0m\u001b[0;34m\u001b[0m\u001b[0m\n\u001b[1;32m      4\u001b[0m \u001b[0max\u001b[0m\u001b[0;34m.\u001b[0m\u001b[0mset_xlabel\u001b[0m\u001b[0;34m(\u001b[0m\u001b[0;34m'Продолжительность фильма'\u001b[0m\u001b[0;34m,\u001b[0m \u001b[0mfontsize\u001b[0m\u001b[0;34m=\u001b[0m\u001b[0;36m12\u001b[0m\u001b[0;34m)\u001b[0m\u001b[0;34m\u001b[0m\u001b[0;34m\u001b[0m\u001b[0m\n\u001b[1;32m      5\u001b[0m \u001b[0max\u001b[0m\u001b[0;34m.\u001b[0m\u001b[0mset_ylabel\u001b[0m\u001b[0;34m(\u001b[0m\u001b[0;34m'Оценка зрителей'\u001b[0m\u001b[0;34m,\u001b[0m \u001b[0mfontsize\u001b[0m\u001b[0;34m=\u001b[0m\u001b[0;36m12\u001b[0m\u001b[0;34m)\u001b[0m\u001b[0;34m\u001b[0m\u001b[0;34m\u001b[0m\u001b[0m\n",
      "\u001b[0;31mNameError\u001b[0m: name 'plt' is not defined"
     ]
    }
   ],
   "source": [
    "fig, ax = plt.subplots(figsize=[10,8])\n",
    "ax.scatter(x = films['Runtime (Minutes)'], y = films['Rating'], alpha=0.7, c = 'firebrick')\n",
    "ax.set_title('Зависимость оценки зрителей от продолжительности фильма', fontsize=15)\n",
    "ax.set_xlabel('Продолжительность фильма', fontsize=12)\n",
    "ax.set_ylabel('Оценка зрителей', fontsize=12)\n",
    "plt.show()"
   ]
  },
  {
   "cell_type": "markdown",
   "id": "b87b5ef9",
   "metadata": {},
   "source": [
    "На графике рассеяния нет сильного хаотичного распределения точек, в целом есть уплотнений большинства значений в диапазоне от 80 до 120 минут (таких значений у нас было больше всего по ранним расчетам), видны также выбросы - меньше 80 минут и больше 140. По такому графику действительно можно судить об умеренной связи, так как движения в линию нет, как и хаотичного распределения. "
   ]
  },
  {
   "cell_type": "markdown",
   "id": "7f4522f7",
   "metadata": {},
   "source": [
    "**Продолжительность фильма и доход фильма (Runtime (Minutes)/Revenue (Millions). Коэффициент корреляции равен 0.27. Это слабая связь, сложно говорить о линейной зависимости между двумя переменными - скорее всего доход фильма мало зависит от его продолжительности**"
   ]
  },
  {
   "cell_type": "code",
   "execution_count": 41,
   "id": "90fb9ca5",
   "metadata": {},
   "outputs": [
    {
     "data": {
      "image/png": "[encoded data removed]",
      "text/plain": [
       "<Figure size 720x576 with 1 Axes>"
      ]
     },
     "metadata": {
      "needs_background": "light"
     },
     "output_type": "display_data"
    }
   ],
   "source": [
    "fig, ax = plt.subplots(figsize=[10,8])\n",
    "ax.scatter(x = films['Runtime (Minutes)'], y = films['Revenue (Millions)'], alpha=0.7, c = 'purple')\n",
    "ax.set_title('Зависимость дохода от продолжительности фильма', fontsize=15)\n",
    "ax.set_xlabel('Продолжительность фильма', fontsize=12)\n",
    "ax.set_ylabel('Доход фильма', fontsize=12)\n",
    "plt.show()"
   ]
  },
  {
   "cell_type": "markdown",
   "id": "2d5f84dc",
   "metadata": {},
   "source": [
    "На графике рассеяния видим слабую связь, большинство значений уплотнено у дохода со значением 0, видны выбросы по переменной дохода - более 400 млн. Связь нелинейная. "
   ]
  },
  {
   "cell_type": "markdown",
   "id": "7237b56b",
   "metadata": {},
   "source": [
    "Посмотрим, как изменится корреляция, если посмотреть ее с переменной дохода без выбросов. "
   ]
  },
  {
   "cell_type": "code",
   "execution_count": 40,
   "id": "3ccfa198",
   "metadata": {},
   "outputs": [
    {
     "name": "stdout",
     "output_type": "stream",
     "text": [
      "Коэффициент равен: 0.17294124501525182\n"
     ]
    },
    {
     "data": {
      "image/png": "[encoded data removed]",
      "text/plain": [
       "<Figure size 720x576 with 1 Axes>"
      ]
     },
     "metadata": {
      "needs_background": "light"
     },
     "output_type": "display_data"
    }
   ],
   "source": [
    "corr = films['Runtime (Minutes)'].corr(films['Revenue_median'])\n",
    "print(f'Коэффициент равен: {corr}')\n",
    "fig, ax = plt.subplots(figsize=[10,8])\n",
    "ax.scatter(x=films['Runtime (Minutes)'], y = films['Revenue_median'], c = 'orange')\n",
    "ax.set_title('Зависимость дохода (без выбросов) от продолжительности фильма', fontsize=15)\n",
    "ax.set_xlabel('Продолжительность фильма', fontsize=12)\n",
    "ax.set_ylabel('Доход фильма', fontsize=12)\n",
    "plt.show()"
   ]
  },
  {
   "cell_type": "markdown",
   "id": "03616ae7",
   "metadata": {},
   "source": [
    "Коэффициент стал еще меньше - 0.17, ушли лишь аномально высокие выбросы, нулевые значения остались. Зависимости все так же не наблюдается"
   ]
  },
  {
   "cell_type": "markdown",
   "id": "38a2547a",
   "metadata": {},
   "source": [
    "**Продолжительность фильма и оценка критиков (Runtime (Minutes)/Metascore). Коэффициент корреляции равен 0.21. Это слабая связь, сложно говорить о зависимости между двумя переменными - скорее всего оценка критиков не зависит от продолжительности фильма**"
   ]
  },
  {
   "cell_type": "code",
   "execution_count": 39,
   "id": "0c10522e",
   "metadata": {},
   "outputs": [
    {
     "data": {
      "image/png": "[encoded data removed]",
      "text/plain": [
       "<Figure size 720x576 with 1 Axes>"
      ]
     },
     "metadata": {
      "needs_background": "light"
     },
     "output_type": "display_data"
    }
   ],
   "source": [
    "fig, ax = plt.subplots(figsize=[10,8])\n",
    "ax.scatter(x=films['Runtime (Minutes)'], y = films['Metascore'], alpha=0.7, c = 'green')\n",
    "ax.set_title('Зависимость оценки критиков от продолжительности фильма', fontsize=15)\n",
    "ax.set_xlabel('Продолжительность фильма', fontsize=12)\n",
    "ax.set_ylabel('Оценка критиков', fontsize=12)\n",
    "plt.show()"
   ]
  },
  {
   "cell_type": "markdown",
   "id": "b22896e8",
   "metadata": {},
   "source": [
    "На графике рассеяния мы видим хаотичное распределение значений, что говорит о слабой связи, причем большинство значений все так же уплотнено в промежутке от 80 до 120. "
   ]
  },
  {
   "cell_type": "markdown",
   "id": "e3ff7084",
   "metadata": {},
   "source": [
    "**Оценка критиков и доход фильма (Metascore)/Revenue (Millions)). Коэффициент корреляции равен 0.14. Это самая слабая корреляция в наших данных, опять сложно говорить о зависимости между двумя переменными - скорее всего доход фильма, то есть какое количество людей посмотрели фильм в кинотеатре - вовсе не зависит от оценки критиков.**"
   ]
  },
  {
   "cell_type": "code",
   "execution_count": 38,
   "id": "1c9929ca",
   "metadata": {},
   "outputs": [
    {
     "data": {
      "image/png": "[encoded data removed]",
      "text/plain": [
       "<Figure size 720x576 with 1 Axes>"
      ]
     },
     "metadata": {
      "needs_background": "light"
     },
     "output_type": "display_data"
    }
   ],
   "source": [
    "fig, ax = plt.subplots(figsize=[10,8])\n",
    "ax.scatter(x=films['Metascore'], y = films['Revenue (Millions)'], c = 'lightgreen')\n",
    "ax.set_title('Зависимость дохода фильма от оценок критиков', fontsize=15)\n",
    "ax.set_xlabel('Оценка критиков', fontsize=12)\n",
    "ax.set_ylabel('Доход фильма', fontsize=12)\n",
    "plt.show()"
   ]
  },
  {
   "cell_type": "markdown",
   "id": "4d268a3b",
   "metadata": {},
   "source": [
    "График рассеяния здесь похож на график с продолжительностью фильма. Вновь видим, что большинство значений находятся у нуля по доходу. Проводить эксперимент с переменной без выбросов не будем. "
   ]
  },
  {
   "cell_type": "markdown",
   "id": "384f5fab",
   "metadata": {},
   "source": [
    "**Оценка критиков и оценка зрителей (Metascore/Rating). Коэффициент корреляции между оценками самая высокая - 0.63. Это заметная положительная связь, здесь смело можно говорить о том, что существует связь между переменными оценок критиков и оценкой зрителей. Возможно дело в том, что зрители и критики примерно одинаково голосуют - только в своих шкалах (критики до 100, зрители до 10).**"
   ]
  },
  {
   "cell_type": "code",
   "execution_count": 37,
   "id": "019c4260",
   "metadata": {},
   "outputs": [
    {
     "data": {
      "image/png": "[encoded data removed]",
      "text/plain": [
       "<Figure size 720x576 with 1 Axes>"
      ]
     },
     "metadata": {
      "needs_background": "light"
     },
     "output_type": "display_data"
    }
   ],
   "source": [
    "fig, ax = plt.subplots(figsize=[10,8])\n",
    "ax.scatter(x=films['Metascore'], y = films['Rating'], alpha=0.7, c = 'hotpink')\n",
    "ax.set_title('Зависимость оценки зрителей от оценок критиков', fontsize=15)\n",
    "ax.set_xlabel('Оценка критиков', fontsize=12)\n",
    "ax.set_ylabel('Оценка зрителей', fontsize=12)\n",
    "plt.show()"
   ]
  },
  {
   "cell_type": "markdown",
   "id": "c17063d3",
   "metadata": {},
   "source": [
    "Действительно, на графике четко видна довольная сильная связь между переменными: идет выстраивание в линию и зависимость действительно положительная (идет слева направо). Получается, чем больше оценка от критиков, тем больше и оценка от зрителей. "
   ]
  },
  {
   "cell_type": "markdown",
   "id": "1fe76596",
   "metadata": {},
   "source": [
    "**Доход фильмов и оценка зрителей (Revenue (Millions)/Rating). Коэффициент корреляции  равен 0.22. Это слабая положительная связь, сложно говорить о зависимости между доходом фильма и рейтингом от зрителей. Скорее всего эти значения мало связаны, так как зрители могут ставить и плохие оценки, если пришли на фильм в кинотеатре.**"
   ]
  },
  {
   "cell_type": "code",
   "execution_count": 36,
   "id": "2135eddb",
   "metadata": {},
   "outputs": [
    {
     "data": {
      "image/png": "[encoded data removed]",
      "text/plain": [
       "<Figure size 720x576 with 1 Axes>"
      ]
     },
     "metadata": {
      "needs_background": "light"
     },
     "output_type": "display_data"
    }
   ],
   "source": [
    "fig, ax = plt.subplots(figsize=[10,8])\n",
    "ax.scatter(x=films['Revenue (Millions)'], y = films['Rating'], c = 'orange')\n",
    "ax.set_title('Зависимость оценки зрителей от дохода фильма', fontsize=15)\n",
    "ax.set_xlabel('Доход фильма', fontsize=12)\n",
    "ax.set_ylabel('Оценка зрителей', fontsize=12)\n",
    "plt.show()"
   ]
  },
  {
   "cell_type": "markdown",
   "id": "d9e4dde2",
   "metadata": {},
   "source": [
    "Вновь на графике рассеяния с переменной дохода видим уплотнение значений у дохода 0. Это серьезный выброс, а возможно, так в наших данных отмечены пропуски. В любом случае это создает нелинейную связь. При этом аномально высокие выбросы у дохода, на удивление, выстраивают довольно линейную связь. (Что и понятно: если у фильма огромный доход, скорее всего, фильм очень популярный и у него будут хорошие отклики. Допустим, если это блокбастер от Марвел - то все фанаты поставят этому фильму высокие баллы. Проверим эту гипотезу)"
   ]
  },
  {
   "cell_type": "code",
   "execution_count": 37,
   "id": "72046f7f",
   "metadata": {},
   "outputs": [
    {
     "data": {
      "text/plain": [
       "Title\n",
       "Avatar                                        7.8\n",
       "Avengers: Age of Ultron                       7.4\n",
       "Captain America: Civil War                    7.9\n",
       "Finding Dory                                  7.4\n",
       "Frozen                                        7.5\n",
       "Iron Man Three                                7.2\n",
       "Jurassic World                                7.0\n",
       "Pirates of the Caribbean: Dead Man's Chest    7.3\n",
       "Rogue One                                     7.9\n",
       "Star Wars: Episode VII - The Force Awakens    8.1\n",
       "The Avengers                                  8.1\n",
       "The Dark Knight                               9.0\n",
       "The Dark Knight Rises                         8.5\n",
       "The Hunger Games                              7.2\n",
       "The Hunger Games: Catching Fire               7.6\n",
       "Toy Story 3                                   8.3\n",
       "Transformers: Revenge of the Fallen           6.0\n",
       "Name: Rating, dtype: float64"
      ]
     },
     "execution_count": 37,
     "metadata": {},
     "output_type": "execute_result"
    }
   ],
   "source": [
    "films[films['Revenue (Millions)'] > 400].groupby('Title')['Rating'].sum()"
   ]
  },
  {
   "cell_type": "markdown",
   "id": "2da6ffc3",
   "metadata": {},
   "source": [
    "Видим, что фильмы с большим доходом - чаще всего относятся к франшизам - Аватар, Звездные войны, Трансформеры, Мстители. У этих фильмов большой фандом - поэтому высокие доходы и высокая оценка от зрителей - выше 7"
   ]
  },
  {
   "cell_type": "code",
   "execution_count": null,
   "id": "e78167df",
   "metadata": {},
   "outputs": [],
   "source": []
  }
 ],
 "metadata": {
  "kernelspec": {
   "display_name": "Python 3 (ipykernel)",
   "language": "python",
   "name": "python3"
  },
  "language_info": {
   "codemirror_mode": {
    "name": "ipython",
    "version": 3
   },
   "file_extension": ".py",
   "mimetype": "text/x-python",
   "name": "python",
   "nbconvert_exporter": "python",
   "pygments_lexer": "ipython3",
   "version": "3.9.7"
  }
 },
 "nbformat": 4,
 "nbformat_minor": 5
}
