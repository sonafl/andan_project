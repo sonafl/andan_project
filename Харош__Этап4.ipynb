{
 "cells": [
  {
   "cell_type": "markdown",
   "id": "7b2f4d13",
   "metadata": {},
   "source": [
    "# Stroke Prediction Dataset\n",
    "## Прогнозирование инсульта "
   ]
  },
  {
   "cell_type": "markdown",
   "id": "97423353",
   "metadata": {},
   "source": [
    "Проект выполняют: Галстян Сухарев"
   ]
  },
  {
   "cell_type": "markdown",
   "id": "56b3e73f",
   "metadata": {},
   "source": [
    "Данные используется для прогнозирования вероятности инсульта у пациента на основе таких входных параметров, как пол, возраст, различные заболевания и статус курения. В данных есть информация о 5110 пациентах, у части из них уже был инсульт. Датасет взят из сайта Kaggle - https://www.kaggle.com/datasets/fedesoriano/stroke-prediction-dataset"
   ]
  },
  {
   "cell_type": "markdown",
   "id": "32cfd17c",
   "metadata": {},
   "source": [
    "Цель проекта: исследование закономерности различных показателей для установления факторов риска получения инсульта. "
   ]
  },
  {
   "cell_type": "markdown",
   "id": "d9e1ef35",
   "metadata": {},
   "source": [
    "### Переменные и их типы\n",
    "1.  id: личный номер пациента (удаленный столбец, но количественное дискретное, принимает только строго определенные целочисленные значения)\n",
    "2. gender: пол пациента (\"Male\", \"Female\" or \"Other\") - качественное номинальное, принимает строго определенные качественные (то есть характеризующие предмет) значения, которые нельзя сравнить друг с другом и упорядочить(мы не можем сранивать мужчин и женщин, как например, степени ожога)\n",
    "3. age: возраст - количественное непрерывное, может принимать любые значения, целочисленные и дробные \n",
    "4.  hypertension: есть ли у пациента гипертония (0, если нет, 1, если есть) - качественное номинальное бинарное - принимает два строго определенных противоположныых значения (в скобках выше). \n",
    "5. heart_disease: болезни сердца (0, если нет, 1 если есть) - качественное номинальное бинарное - принимает два строго определенных противоположныых значения (в скобках выше).\n",
    "6. ever_married: женат/замужем ли пациент (\"No\" or \"Yes\") качественное номинальное бинарное - принимает два строго определенных противоположныых значения (в скобках выше).\n",
    "7. work_type: трудоустройство(\"children\", \"Govt_jov\" (государственная работа), \"Never_worked\", \"Private\" or \"Self-employed\"(частный предприниматель)) - качественное номинальное, принимает строго определенные качественные (то есть характеризующие предмет) значения, которые нельзя сравнить друг с другом (мы не можем сравнить места работы и их упорядочить)\n",
    "8. Residence_type: место жительства (\"Rural\" - в деревне or \"Urban\" - в городе) - качественное номинальное, принимает строго определенные качественные (то есть характеризующие предмет) значения, которые нельзя сравнить друг с другом (мы не можем сравнить места жительства и их упорядочить)\n",
    "9. avg_glucose_level: средний уровень глюкозы в крови - количественное непрерывное, может принимать любые значения, целочисленные и дробные \n",
    "10. bmi: индекс массы тела - количественное непрерывное, может принимать любые значения, целочисленные и дробные \n",
    "11. smoking_status: статус курения (\"formerly smoked\" - курил в прошлом, \"never smoked\", \"smokes\" or \"Unknown\" - нет информации) - качественное номинальное, принимает строго определенные качественные (то есть характеризующие предмет) значения, которые нельзя сравнить друг с другом. Мы думали над тем, что это могут быть порядковые переменные, но как их правильно упорядочить? поэтому склоняемся к номинальным. \n",
    "12. stroke: был инсульт или нет(1, если да, 0, если нет) - качественное номинальное бинарное - принимает два строго определенных противоположныых значения (в скобках выше)."
   ]
  },
  {
   "cell_type": "markdown",
   "id": "63e041f7",
   "metadata": {},
   "source": [
    "### Новые переменные и их типы"
   ]
  },
  {
   "cell_type": "markdown",
   "id": "7033091b",
   "metadata": {},
   "source": [
    "1. endocrinologist_need - необходимость посещения врача ('True', если нужно, 'False', если не нужно) - качественное номинальное бинарное - принимает два строго определенных противоположныых значения (в скобках выше).\n",
    "2. age_periodization - ранжирование возраста пациентов ('Несовершеннолетние', '18-30', '31-40', '41-55', 'Пожилые люди') - качественное порядковое (можно сравнить и однозначно упорядочить, кто старше и младше) \n",
    "3. cardiovascular_diseases_risk - риск сердечно-сосудистых заболеваний ('Risk', если есть риск, 'No risk', если риска нет) - качественное номинальное бинарное - принимает два строго определенных противоположныых значения (в скобках выше).\n"
   ]
  },
  {
   "cell_type": "code",
   "execution_count": 2,
   "id": "490cb126",
   "metadata": {},
   "outputs": [],
   "source": [
    "import pandas as pd \n",
    "import matplotlib.pyplot as plt\n",
    "import seaborn as sns \n",
    "import scipy.stats\n",
    "import numpy as np"
   ]
  },
  {
   "cell_type": "code",
   "execution_count": 7,
   "id": "46a4d117",
   "metadata": {},
   "outputs": [
    {
     "ename": "FileNotFoundError",
     "evalue": "[Errno 2] No such file or directory: 'healthcare-dataset-stroke-data.csv'",
     "output_type": "error",
     "traceback": [
      "\u001b[0;31m---------------------------------------------------------------------------\u001b[0m",
      "\u001b[0;31mFileNotFoundError\u001b[0m                         Traceback (most recent call last)",
      "\u001b[0;32m/var/folders/yk/y4brywlj7hggth8sp2wv0fmc0000gn/T/ipykernel_32909/2116402399.py\u001b[0m in \u001b[0;36m<module>\u001b[0;34m\u001b[0m\n\u001b[1;32m      1\u001b[0m \u001b[0;32mimport\u001b[0m \u001b[0mpandas\u001b[0m \u001b[0;32mas\u001b[0m \u001b[0mpd\u001b[0m\u001b[0;34m\u001b[0m\u001b[0;34m\u001b[0m\u001b[0m\n\u001b[0;32m----> 2\u001b[0;31m \u001b[0mdata\u001b[0m \u001b[0;34m=\u001b[0m \u001b[0mpd\u001b[0m\u001b[0;34m.\u001b[0m\u001b[0mread_csv\u001b[0m\u001b[0;34m(\u001b[0m\u001b[0;34m'healthcare-dataset-stroke-data.csv'\u001b[0m\u001b[0;34m)\u001b[0m\u001b[0;34m\u001b[0m\u001b[0;34m\u001b[0m\u001b[0m\n\u001b[0m\u001b[1;32m      3\u001b[0m \u001b[0mdata\u001b[0m\u001b[0;34m\u001b[0m\u001b[0;34m\u001b[0m\u001b[0m\n",
      "\u001b[0;32m~/opt/anaconda3/lib/python3.9/site-packages/pandas/util/_decorators.py\u001b[0m in \u001b[0;36mwrapper\u001b[0;34m(*args, **kwargs)\u001b[0m\n\u001b[1;32m    309\u001b[0m                     \u001b[0mstacklevel\u001b[0m\u001b[0;34m=\u001b[0m\u001b[0mstacklevel\u001b[0m\u001b[0;34m,\u001b[0m\u001b[0;34m\u001b[0m\u001b[0;34m\u001b[0m\u001b[0m\n\u001b[1;32m    310\u001b[0m                 )\n\u001b[0;32m--> 311\u001b[0;31m             \u001b[0;32mreturn\u001b[0m \u001b[0mfunc\u001b[0m\u001b[0;34m(\u001b[0m\u001b[0;34m*\u001b[0m\u001b[0margs\u001b[0m\u001b[0;34m,\u001b[0m \u001b[0;34m**\u001b[0m\u001b[0mkwargs\u001b[0m\u001b[0;34m)\u001b[0m\u001b[0;34m\u001b[0m\u001b[0;34m\u001b[0m\u001b[0m\n\u001b[0m\u001b[1;32m    312\u001b[0m \u001b[0;34m\u001b[0m\u001b[0m\n\u001b[1;32m    313\u001b[0m         \u001b[0;32mreturn\u001b[0m \u001b[0mwrapper\u001b[0m\u001b[0;34m\u001b[0m\u001b[0;34m\u001b[0m\u001b[0m\n",
      "\u001b[0;32m~/opt/anaconda3/lib/python3.9/site-packages/pandas/io/parsers/readers.py\u001b[0m in \u001b[0;36mread_csv\u001b[0;34m(filepath_or_buffer, sep, delimiter, header, names, index_col, usecols, squeeze, prefix, mangle_dupe_cols, dtype, engine, converters, true_values, false_values, skipinitialspace, skiprows, skipfooter, nrows, na_values, keep_default_na, na_filter, verbose, skip_blank_lines, parse_dates, infer_datetime_format, keep_date_col, date_parser, dayfirst, cache_dates, iterator, chunksize, compression, thousands, decimal, lineterminator, quotechar, quoting, doublequote, escapechar, comment, encoding, encoding_errors, dialect, error_bad_lines, warn_bad_lines, on_bad_lines, delim_whitespace, low_memory, memory_map, float_precision, storage_options)\u001b[0m\n\u001b[1;32m    584\u001b[0m     \u001b[0mkwds\u001b[0m\u001b[0;34m.\u001b[0m\u001b[0mupdate\u001b[0m\u001b[0;34m(\u001b[0m\u001b[0mkwds_defaults\u001b[0m\u001b[0;34m)\u001b[0m\u001b[0;34m\u001b[0m\u001b[0;34m\u001b[0m\u001b[0m\n\u001b[1;32m    585\u001b[0m \u001b[0;34m\u001b[0m\u001b[0m\n\u001b[0;32m--> 586\u001b[0;31m     \u001b[0;32mreturn\u001b[0m \u001b[0m_read\u001b[0m\u001b[0;34m(\u001b[0m\u001b[0mfilepath_or_buffer\u001b[0m\u001b[0;34m,\u001b[0m \u001b[0mkwds\u001b[0m\u001b[0;34m)\u001b[0m\u001b[0;34m\u001b[0m\u001b[0;34m\u001b[0m\u001b[0m\n\u001b[0m\u001b[1;32m    587\u001b[0m \u001b[0;34m\u001b[0m\u001b[0m\n\u001b[1;32m    588\u001b[0m \u001b[0;34m\u001b[0m\u001b[0m\n",
      "\u001b[0;32m~/opt/anaconda3/lib/python3.9/site-packages/pandas/io/parsers/readers.py\u001b[0m in \u001b[0;36m_read\u001b[0;34m(filepath_or_buffer, kwds)\u001b[0m\n\u001b[1;32m    480\u001b[0m \u001b[0;34m\u001b[0m\u001b[0m\n\u001b[1;32m    481\u001b[0m     \u001b[0;31m# Create the parser.\u001b[0m\u001b[0;34m\u001b[0m\u001b[0;34m\u001b[0m\u001b[0m\n\u001b[0;32m--> 482\u001b[0;31m     \u001b[0mparser\u001b[0m \u001b[0;34m=\u001b[0m \u001b[0mTextFileReader\u001b[0m\u001b[0;34m(\u001b[0m\u001b[0mfilepath_or_buffer\u001b[0m\u001b[0;34m,\u001b[0m \u001b[0;34m**\u001b[0m\u001b[0mkwds\u001b[0m\u001b[0;34m)\u001b[0m\u001b[0;34m\u001b[0m\u001b[0;34m\u001b[0m\u001b[0m\n\u001b[0m\u001b[1;32m    483\u001b[0m \u001b[0;34m\u001b[0m\u001b[0m\n\u001b[1;32m    484\u001b[0m     \u001b[0;32mif\u001b[0m \u001b[0mchunksize\u001b[0m \u001b[0;32mor\u001b[0m \u001b[0miterator\u001b[0m\u001b[0;34m:\u001b[0m\u001b[0;34m\u001b[0m\u001b[0;34m\u001b[0m\u001b[0m\n",
      "\u001b[0;32m~/opt/anaconda3/lib/python3.9/site-packages/pandas/io/parsers/readers.py\u001b[0m in \u001b[0;36m__init__\u001b[0;34m(self, f, engine, **kwds)\u001b[0m\n\u001b[1;32m    809\u001b[0m             \u001b[0mself\u001b[0m\u001b[0;34m.\u001b[0m\u001b[0moptions\u001b[0m\u001b[0;34m[\u001b[0m\u001b[0;34m\"has_index_names\"\u001b[0m\u001b[0;34m]\u001b[0m \u001b[0;34m=\u001b[0m \u001b[0mkwds\u001b[0m\u001b[0;34m[\u001b[0m\u001b[0;34m\"has_index_names\"\u001b[0m\u001b[0;34m]\u001b[0m\u001b[0;34m\u001b[0m\u001b[0;34m\u001b[0m\u001b[0m\n\u001b[1;32m    810\u001b[0m \u001b[0;34m\u001b[0m\u001b[0m\n\u001b[0;32m--> 811\u001b[0;31m         \u001b[0mself\u001b[0m\u001b[0;34m.\u001b[0m\u001b[0m_engine\u001b[0m \u001b[0;34m=\u001b[0m \u001b[0mself\u001b[0m\u001b[0;34m.\u001b[0m\u001b[0m_make_engine\u001b[0m\u001b[0;34m(\u001b[0m\u001b[0mself\u001b[0m\u001b[0;34m.\u001b[0m\u001b[0mengine\u001b[0m\u001b[0;34m)\u001b[0m\u001b[0;34m\u001b[0m\u001b[0;34m\u001b[0m\u001b[0m\n\u001b[0m\u001b[1;32m    812\u001b[0m \u001b[0;34m\u001b[0m\u001b[0m\n\u001b[1;32m    813\u001b[0m     \u001b[0;32mdef\u001b[0m \u001b[0mclose\u001b[0m\u001b[0;34m(\u001b[0m\u001b[0mself\u001b[0m\u001b[0;34m)\u001b[0m\u001b[0;34m:\u001b[0m\u001b[0;34m\u001b[0m\u001b[0;34m\u001b[0m\u001b[0m\n",
      "\u001b[0;32m~/opt/anaconda3/lib/python3.9/site-packages/pandas/io/parsers/readers.py\u001b[0m in \u001b[0;36m_make_engine\u001b[0;34m(self, engine)\u001b[0m\n\u001b[1;32m   1038\u001b[0m             )\n\u001b[1;32m   1039\u001b[0m         \u001b[0;31m# error: Too many arguments for \"ParserBase\"\u001b[0m\u001b[0;34m\u001b[0m\u001b[0;34m\u001b[0m\u001b[0m\n\u001b[0;32m-> 1040\u001b[0;31m         \u001b[0;32mreturn\u001b[0m \u001b[0mmapping\u001b[0m\u001b[0;34m[\u001b[0m\u001b[0mengine\u001b[0m\u001b[0;34m]\u001b[0m\u001b[0;34m(\u001b[0m\u001b[0mself\u001b[0m\u001b[0;34m.\u001b[0m\u001b[0mf\u001b[0m\u001b[0;34m,\u001b[0m \u001b[0;34m**\u001b[0m\u001b[0mself\u001b[0m\u001b[0;34m.\u001b[0m\u001b[0moptions\u001b[0m\u001b[0;34m)\u001b[0m  \u001b[0;31m# type: ignore[call-arg]\u001b[0m\u001b[0;34m\u001b[0m\u001b[0;34m\u001b[0m\u001b[0m\n\u001b[0m\u001b[1;32m   1041\u001b[0m \u001b[0;34m\u001b[0m\u001b[0m\n\u001b[1;32m   1042\u001b[0m     \u001b[0;32mdef\u001b[0m \u001b[0m_failover_to_python\u001b[0m\u001b[0;34m(\u001b[0m\u001b[0mself\u001b[0m\u001b[0;34m)\u001b[0m\u001b[0;34m:\u001b[0m\u001b[0;34m\u001b[0m\u001b[0;34m\u001b[0m\u001b[0m\n",
      "\u001b[0;32m~/opt/anaconda3/lib/python3.9/site-packages/pandas/io/parsers/c_parser_wrapper.py\u001b[0m in \u001b[0;36m__init__\u001b[0;34m(self, src, **kwds)\u001b[0m\n\u001b[1;32m     49\u001b[0m \u001b[0;34m\u001b[0m\u001b[0m\n\u001b[1;32m     50\u001b[0m         \u001b[0;31m# open handles\u001b[0m\u001b[0;34m\u001b[0m\u001b[0;34m\u001b[0m\u001b[0m\n\u001b[0;32m---> 51\u001b[0;31m         \u001b[0mself\u001b[0m\u001b[0;34m.\u001b[0m\u001b[0m_open_handles\u001b[0m\u001b[0;34m(\u001b[0m\u001b[0msrc\u001b[0m\u001b[0;34m,\u001b[0m \u001b[0mkwds\u001b[0m\u001b[0;34m)\u001b[0m\u001b[0;34m\u001b[0m\u001b[0;34m\u001b[0m\u001b[0m\n\u001b[0m\u001b[1;32m     52\u001b[0m         \u001b[0;32massert\u001b[0m \u001b[0mself\u001b[0m\u001b[0;34m.\u001b[0m\u001b[0mhandles\u001b[0m \u001b[0;32mis\u001b[0m \u001b[0;32mnot\u001b[0m \u001b[0;32mNone\u001b[0m\u001b[0;34m\u001b[0m\u001b[0;34m\u001b[0m\u001b[0m\n\u001b[1;32m     53\u001b[0m \u001b[0;34m\u001b[0m\u001b[0m\n",
      "\u001b[0;32m~/opt/anaconda3/lib/python3.9/site-packages/pandas/io/parsers/base_parser.py\u001b[0m in \u001b[0;36m_open_handles\u001b[0;34m(self, src, kwds)\u001b[0m\n\u001b[1;32m    220\u001b[0m         \u001b[0mLet\u001b[0m \u001b[0mthe\u001b[0m \u001b[0mreaders\u001b[0m \u001b[0mopen\u001b[0m \u001b[0mIOHandles\u001b[0m \u001b[0mafter\u001b[0m \u001b[0mthey\u001b[0m \u001b[0mare\u001b[0m \u001b[0mdone\u001b[0m \u001b[0;32mwith\u001b[0m \u001b[0mtheir\u001b[0m \u001b[0mpotential\u001b[0m \u001b[0mraises\u001b[0m\u001b[0;34m.\u001b[0m\u001b[0;34m\u001b[0m\u001b[0;34m\u001b[0m\u001b[0m\n\u001b[1;32m    221\u001b[0m         \"\"\"\n\u001b[0;32m--> 222\u001b[0;31m         self.handles = get_handle(\n\u001b[0m\u001b[1;32m    223\u001b[0m             \u001b[0msrc\u001b[0m\u001b[0;34m,\u001b[0m\u001b[0;34m\u001b[0m\u001b[0;34m\u001b[0m\u001b[0m\n\u001b[1;32m    224\u001b[0m             \u001b[0;34m\"r\"\u001b[0m\u001b[0;34m,\u001b[0m\u001b[0;34m\u001b[0m\u001b[0;34m\u001b[0m\u001b[0m\n",
      "\u001b[0;32m~/opt/anaconda3/lib/python3.9/site-packages/pandas/io/common.py\u001b[0m in \u001b[0;36mget_handle\u001b[0;34m(path_or_buf, mode, encoding, compression, memory_map, is_text, errors, storage_options)\u001b[0m\n\u001b[1;32m    700\u001b[0m         \u001b[0;32mif\u001b[0m \u001b[0mioargs\u001b[0m\u001b[0;34m.\u001b[0m\u001b[0mencoding\u001b[0m \u001b[0;32mand\u001b[0m \u001b[0;34m\"b\"\u001b[0m \u001b[0;32mnot\u001b[0m \u001b[0;32min\u001b[0m \u001b[0mioargs\u001b[0m\u001b[0;34m.\u001b[0m\u001b[0mmode\u001b[0m\u001b[0;34m:\u001b[0m\u001b[0;34m\u001b[0m\u001b[0;34m\u001b[0m\u001b[0m\n\u001b[1;32m    701\u001b[0m             \u001b[0;31m# Encoding\u001b[0m\u001b[0;34m\u001b[0m\u001b[0;34m\u001b[0m\u001b[0m\n\u001b[0;32m--> 702\u001b[0;31m             handle = open(\n\u001b[0m\u001b[1;32m    703\u001b[0m                 \u001b[0mhandle\u001b[0m\u001b[0;34m,\u001b[0m\u001b[0;34m\u001b[0m\u001b[0;34m\u001b[0m\u001b[0m\n\u001b[1;32m    704\u001b[0m                 \u001b[0mioargs\u001b[0m\u001b[0;34m.\u001b[0m\u001b[0mmode\u001b[0m\u001b[0;34m,\u001b[0m\u001b[0;34m\u001b[0m\u001b[0;34m\u001b[0m\u001b[0m\n",
      "\u001b[0;31mFileNotFoundError\u001b[0m: [Errno 2] No such file or directory: 'healthcare-dataset-stroke-data.csv'"
     ]
    }
   ],
   "source": [
    "import pandas as pd \n",
    "data = pd.read_csv('healthcare-dataset-stroke-data.csv')\n",
    "data "
   ]
  },
  {
   "cell_type": "code",
   "execution_count": 9,
   "id": "60baa994",
   "metadata": {},
   "outputs": [],
   "source": [
    "# Удалим колонку с личным номером пациента, так как эта информация не важна для нашего исследования.\n",
    "del data['id']"
   ]
  },
  {
   "cell_type": "markdown",
   "id": "964663ed",
   "metadata": {},
   "source": [
    "В начале посмотрим, у скольких пациентов был или не был инсульт. Это поможет нам сделать правильные выводы после фильтрации и сортировки."
   ]
  },
  {
   "cell_type": "code",
   "execution_count": 3,
   "id": "098390c0",
   "metadata": {},
   "outputs": [
    {
     "data": {
      "text/plain": [
       "0    4861\n",
       "1     249\n",
       "Name: stroke, dtype: int64"
      ]
     },
     "execution_count": 3,
     "metadata": {},
     "output_type": "execute_result"
    }
   ],
   "source": [
    "data['stroke'].value_counts()"
   ]
  },
  {
   "cell_type": "markdown",
   "id": "3ad05a71",
   "metadata": {},
   "source": [
    "У 4861 человека инсульта не было, а у 249 - был. "
   ]
  },
  {
   "cell_type": "markdown",
   "id": "a54a162e",
   "metadata": {},
   "source": [
    "# Этап 1"
   ]
  },
  {
   "cell_type": "markdown",
   "id": "73bd44fe",
   "metadata": {},
   "source": [
    "## Фильтрация "
   ]
  },
  {
   "cell_type": "markdown",
   "id": "d6831cc4",
   "metadata": {},
   "source": [
    "**Гипотеза 1: по данным медицинских сайтов, более 60% инсультов приходится на людей старше 60. Мы можем предположить, что пациентов такого возраста будет много в наших данных (более 50%). Они часто проверяют свое здоровье, так как находятся в зоне риска**. "
   ]
  },
  {
   "cell_type": "code",
   "execution_count": 131,
   "id": "d4c50506",
   "metadata": {},
   "outputs": [
    {
     "data": {
      "text/plain": [
       "(1376, 12)"
      ]
     },
     "execution_count": 131,
     "metadata": {},
     "output_type": "execute_result"
    }
   ],
   "source": [
    "data[data['age'] >= 60].shape"
   ]
  },
  {
   "cell_type": "markdown",
   "id": "7ab438d9",
   "metadata": {},
   "source": [
    "Гипотеза не подтвердилась, из 5110 пациентов всего 1376 людей 60 лет и старше. "
   ]
  },
  {
   "cell_type": "markdown",
   "id": "22cd7d5d",
   "metadata": {},
   "source": [
    "Однако у скольких из них был инсульт?"
   ]
  },
  {
   "cell_type": "code",
   "execution_count": 125,
   "id": "a9b6cce4",
   "metadata": {},
   "outputs": [
    {
     "data": {
      "text/plain": [
       "181"
      ]
     },
     "execution_count": 125,
     "metadata": {},
     "output_type": "execute_result"
    }
   ],
   "source": [
    "data[(data['age'] >= 60)&(data['stroke'] == 1)].shape[0]"
   ]
  },
  {
   "cell_type": "markdown",
   "id": "e922cd3e",
   "metadata": {},
   "source": [
    "У 181 пациента из 249 человек, получивших инсульт, возраст равен 60 лет и выше. Можно предположить, что возраст влияет на получение инсульта. Тем не менее из 1376 человек старше 60, 181 - небольшой показатель. "
   ]
  },
  {
   "cell_type": "markdown",
   "id": "5109f252",
   "metadata": {},
   "source": [
    "**Гипотеза 2: существует мнение, что инсульту больше предрасположены мужчины. Рассмотрим, сколько пациентов-мужчин в наших данных. Предполагаем, что мужчин должно быть больше женщин.**  "
   ]
  },
  {
   "cell_type": "code",
   "execution_count": 144,
   "id": "9c81cbe2",
   "metadata": {},
   "outputs": [
    {
     "data": {
      "text/plain": [
       "2115"
      ]
     },
     "execution_count": 144,
     "metadata": {},
     "output_type": "execute_result"
    }
   ],
   "source": [
    "data[data['gender'] == 'Male'].shape[0]"
   ]
  },
  {
   "cell_type": "markdown",
   "id": "c576262e",
   "metadata": {},
   "source": [
    "Гипотеза не подтвердилась. Из 5110 пациентов только 2115 являются мужчинами, это меньше 50%. "
   ]
  },
  {
   "cell_type": "markdown",
   "id": "0e88ee13",
   "metadata": {},
   "source": [
    "Получается, что в данных много информации о женщинах."
   ]
  },
  {
   "cell_type": "code",
   "execution_count": 143,
   "id": "c961e3da",
   "metadata": {},
   "outputs": [
    {
     "data": {
      "text/plain": [
       "2994"
      ]
     },
     "execution_count": 143,
     "metadata": {},
     "output_type": "execute_result"
    }
   ],
   "source": [
    "data[data['gender'] == 'Female'].shape[0]"
   ]
  },
  {
   "cell_type": "markdown",
   "id": "20709e46",
   "metadata": {},
   "source": [
    "В наших данных есть информация о 2994 женщинах(математически можем выяснить, что в наших данных всего 1 пациент другого пола \"other\")"
   ]
  },
  {
   "cell_type": "markdown",
   "id": "8db89f00",
   "metadata": {},
   "source": [
    "**Гипотеза 3: в наших данных будет мало пациентов из сельской местности. Предполагаем, что это связано с тем, что у них нет возможности часто наблюдаться в больницах или среди них мало людей, получивших инсульт (выясним это дальше)**"
   ]
  },
  {
   "cell_type": "code",
   "execution_count": 142,
   "id": "e25a277a",
   "metadata": {},
   "outputs": [
    {
     "data": {
      "text/plain": [
       "2514"
      ]
     },
     "execution_count": 142,
     "metadata": {},
     "output_type": "execute_result"
    }
   ],
   "source": [
    "data[data['Residence_type'] == 'Rural'].shape[0]"
   ]
  },
  {
   "cell_type": "markdown",
   "id": "9e1f23e3",
   "metadata": {},
   "source": [
    "Гипотеза не подтвердилась (2514 человек из 5110). В наших данных городские и сельские жители распределены примерно поровну. "
   ]
  },
  {
   "cell_type": "code",
   "execution_count": 141,
   "id": "909a57fd",
   "metadata": {},
   "outputs": [
    {
     "data": {
      "text/plain": [
       "114"
      ]
     },
     "execution_count": 141,
     "metadata": {},
     "output_type": "execute_result"
    }
   ],
   "source": [
    "data[(data['Residence_type'] == 'Rural')&(data['stroke'] == 1)].shape[0]"
   ]
  },
  {
   "cell_type": "markdown",
   "id": "f8f85a4c",
   "metadata": {},
   "source": [
    "Однако подтвердилась часть гипотезы о том, что у сельских жителей редко бывает инсульт (инсульт был у 114 человек из 2514) "
   ]
  },
  {
   "cell_type": "markdown",
   "id": "62e07f54",
   "metadata": {},
   "source": [
    "**Гипотеза 4: среди 249 пациентов, у которых был инсульт, у большей части будет высокий уровень глюкозы в крови (больше 109.8, данные с мед.сайтов) или избыточный индекс массы (больше 30). Эти показатели помогают определить наличие сахарного диабета и сидячего образа жизни, оба фактора являются риском получения инсульта.**"
   ]
  },
  {
   "cell_type": "code",
   "execution_count": 145,
   "id": "ab0896ed",
   "metadata": {},
   "outputs": [
    {
     "data": {
      "text/plain": [
       "155"
      ]
     },
     "execution_count": 145,
     "metadata": {},
     "output_type": "execute_result"
    }
   ],
   "source": [
    "data[(data['stroke']==1)\n",
    "     &((data['avg_glucose_level'] >= 109.8)\n",
    "     |(data['bmi']>=30))].shape[0]"
   ]
  },
  {
   "cell_type": "markdown",
   "id": "2302d598",
   "metadata": {},
   "source": [
    "Гипотеза подтвердилась, более 50% пациентов(155 из 249), получивших инсульт, страдают от сахарного диабета или ведут сидячий образ. Можем сделать вывод о том, что пациенты, у которых инсульта не было, находятся в зоне риска, если имеют те же медицинские показатели. "
   ]
  },
  {
   "cell_type": "markdown",
   "id": "a333fef7",
   "metadata": {},
   "source": [
    "**Гипотеза 5: из 4681 пациентов, не получивших инсульт, большая часть не имеет гипертонии (серьезный фактор получения инсульта) и не находятся на госслужбе, стресс на государственной работе большой, и он может привести к развитию гипертонии.**"
   ]
  },
  {
   "cell_type": "code",
   "execution_count": 146,
   "id": "d306da85",
   "metadata": {},
   "outputs": [
    {
     "data": {
      "text/plain": [
       "3870"
      ]
     },
     "execution_count": 146,
     "metadata": {},
     "output_type": "execute_result"
    }
   ],
   "source": [
    "data[(data['stroke'] == 0)\n",
    "& (data['hypertension'] == 0)\n",
    "& (data['work_type'] != 'Govt_job')].shape[0]"
   ]
  },
  {
   "cell_type": "markdown",
   "id": "70d55967",
   "metadata": {},
   "source": [
    "Гипотеза подтвердилась (3870 человек из 4681). Мы выделили еще несколько возможных факторов получения инсульта: гипертония и стресс. "
   ]
  },
  {
   "cell_type": "markdown",
   "id": "68e26391",
   "metadata": {},
   "source": [
    "Однако сколько людей, получивших инсульт, имеют эти признаки?\n"
   ]
  },
  {
   "cell_type": "code",
   "execution_count": 147,
   "id": "12af512b",
   "metadata": {},
   "outputs": [
    {
     "data": {
      "text/plain": [
       "8"
      ]
     },
     "execution_count": 147,
     "metadata": {},
     "output_type": "execute_result"
    }
   ],
   "source": [
    "data[(data['stroke'] == 1)\n",
    "& (data['hypertension'] == 1)\n",
    "& (data['work_type'] == 'Govt_job')].shape[0]"
   ]
  },
  {
   "cell_type": "markdown",
   "id": "c3223fb5",
   "metadata": {},
   "source": [
    "8 человек из 249, получивших инсульт, страдают от гипертонии и работают в госорганах, где большой уровень стресса. Получается, что гипертония и работа в госорганах в совокупности не являются первичными факторами риска. "
   ]
  },
  {
   "cell_type": "markdown",
   "id": "6104d58d",
   "metadata": {},
   "source": [
    "Рассмотрим, а сколько людей, получивших инсульт, страдают от гипертонии. **Гипотеза 6: Предполагаем, что отдельно от фактора трудоустройства, гипертония сыграет большую роль в получении инсульта**"
   ]
  },
  {
   "cell_type": "code",
   "execution_count": 148,
   "id": "58494b77",
   "metadata": {},
   "outputs": [
    {
     "data": {
      "text/plain": [
       "66"
      ]
     },
     "execution_count": 148,
     "metadata": {},
     "output_type": "execute_result"
    }
   ],
   "source": [
    "data[(data['stroke'] == 1)\n",
    "& (data['hypertension'] == 1)].shape[0]"
   ]
  },
  {
   "cell_type": "markdown",
   "id": "3e47222f",
   "metadata": {},
   "source": [
    " Гипотеза не подтвердилась. Только у 66 человек среди 249 имеют гипертонию и получили инсульт. Возможно гипертония сыграет серьезную роль в получении инсульта в совокупности с другими признаками."
   ]
  },
  {
   "cell_type": "markdown",
   "id": "7adad154",
   "metadata": {},
   "source": [
    "## Сортировка "
   ]
  },
  {
   "cell_type": "code",
   "execution_count": 29,
   "id": "7dcaa769",
   "metadata": {},
   "outputs": [
    {
     "data": {
      "text/html": [
       "<div>\n",
       "<style scoped>\n",
       "    .dataframe tbody tr th:only-of-type {\n",
       "        vertical-align: middle;\n",
       "    }\n",
       "\n",
       "    .dataframe tbody tr th {\n",
       "        vertical-align: top;\n",
       "    }\n",
       "\n",
       "    .dataframe thead th {\n",
       "        text-align: right;\n",
       "    }\n",
       "</style>\n",
       "<table border=\"1\" class=\"dataframe\">\n",
       "  <thead>\n",
       "    <tr style=\"text-align: right;\">\n",
       "      <th></th>\n",
       "      <th>gender</th>\n",
       "      <th>age</th>\n",
       "      <th>hypertension</th>\n",
       "      <th>heart_disease</th>\n",
       "      <th>ever_married</th>\n",
       "      <th>work_type</th>\n",
       "      <th>Residence_type</th>\n",
       "      <th>avg_glucose_level</th>\n",
       "      <th>bmi</th>\n",
       "      <th>smoking_status</th>\n",
       "      <th>stroke</th>\n",
       "    </tr>\n",
       "  </thead>\n",
       "  <tbody>\n",
       "    <tr>\n",
       "      <th>3108</th>\n",
       "      <td>Male</td>\n",
       "      <td>82.00</td>\n",
       "      <td>0</td>\n",
       "      <td>0</td>\n",
       "      <td>No</td>\n",
       "      <td>Self-employed</td>\n",
       "      <td>Urban</td>\n",
       "      <td>161.95</td>\n",
       "      <td>30.8</td>\n",
       "      <td>never smoked</td>\n",
       "      <td>0</td>\n",
       "    </tr>\n",
       "    <tr>\n",
       "      <th>188</th>\n",
       "      <td>Male</td>\n",
       "      <td>82.00</td>\n",
       "      <td>0</td>\n",
       "      <td>0</td>\n",
       "      <td>Yes</td>\n",
       "      <td>Private</td>\n",
       "      <td>Rural</td>\n",
       "      <td>86.62</td>\n",
       "      <td>29.5</td>\n",
       "      <td>formerly smoked</td>\n",
       "      <td>1</td>\n",
       "    </tr>\n",
       "    <tr>\n",
       "      <th>1515</th>\n",
       "      <td>Female</td>\n",
       "      <td>82.00</td>\n",
       "      <td>0</td>\n",
       "      <td>0</td>\n",
       "      <td>Yes</td>\n",
       "      <td>Govt_job</td>\n",
       "      <td>Rural</td>\n",
       "      <td>58.30</td>\n",
       "      <td>20.4</td>\n",
       "      <td>never smoked</td>\n",
       "      <td>0</td>\n",
       "    </tr>\n",
       "    <tr>\n",
       "      <th>1412</th>\n",
       "      <td>Male</td>\n",
       "      <td>82.00</td>\n",
       "      <td>1</td>\n",
       "      <td>0</td>\n",
       "      <td>Yes</td>\n",
       "      <td>Private</td>\n",
       "      <td>Rural</td>\n",
       "      <td>227.28</td>\n",
       "      <td>33.3</td>\n",
       "      <td>never smoked</td>\n",
       "      <td>0</td>\n",
       "    </tr>\n",
       "    <tr>\n",
       "      <th>1951</th>\n",
       "      <td>Female</td>\n",
       "      <td>82.00</td>\n",
       "      <td>0</td>\n",
       "      <td>0</td>\n",
       "      <td>Yes</td>\n",
       "      <td>Private</td>\n",
       "      <td>Urban</td>\n",
       "      <td>99.68</td>\n",
       "      <td>22.2</td>\n",
       "      <td>Unknown</td>\n",
       "      <td>0</td>\n",
       "    </tr>\n",
       "    <tr>\n",
       "      <th>...</th>\n",
       "      <td>...</td>\n",
       "      <td>...</td>\n",
       "      <td>...</td>\n",
       "      <td>...</td>\n",
       "      <td>...</td>\n",
       "      <td>...</td>\n",
       "      <td>...</td>\n",
       "      <td>...</td>\n",
       "      <td>...</td>\n",
       "      <td>...</td>\n",
       "      <td>...</td>\n",
       "    </tr>\n",
       "    <tr>\n",
       "      <th>3618</th>\n",
       "      <td>Male</td>\n",
       "      <td>0.16</td>\n",
       "      <td>0</td>\n",
       "      <td>0</td>\n",
       "      <td>No</td>\n",
       "      <td>children</td>\n",
       "      <td>Urban</td>\n",
       "      <td>114.71</td>\n",
       "      <td>17.4</td>\n",
       "      <td>Unknown</td>\n",
       "      <td>0</td>\n",
       "    </tr>\n",
       "    <tr>\n",
       "      <th>3968</th>\n",
       "      <td>Male</td>\n",
       "      <td>0.16</td>\n",
       "      <td>0</td>\n",
       "      <td>0</td>\n",
       "      <td>No</td>\n",
       "      <td>children</td>\n",
       "      <td>Rural</td>\n",
       "      <td>69.79</td>\n",
       "      <td>13.0</td>\n",
       "      <td>Unknown</td>\n",
       "      <td>0</td>\n",
       "    </tr>\n",
       "    <tr>\n",
       "      <th>4021</th>\n",
       "      <td>Male</td>\n",
       "      <td>0.16</td>\n",
       "      <td>0</td>\n",
       "      <td>0</td>\n",
       "      <td>No</td>\n",
       "      <td>children</td>\n",
       "      <td>Urban</td>\n",
       "      <td>109.52</td>\n",
       "      <td>13.9</td>\n",
       "      <td>Unknown</td>\n",
       "      <td>0</td>\n",
       "    </tr>\n",
       "    <tr>\n",
       "      <th>1614</th>\n",
       "      <td>Female</td>\n",
       "      <td>0.08</td>\n",
       "      <td>0</td>\n",
       "      <td>0</td>\n",
       "      <td>No</td>\n",
       "      <td>children</td>\n",
       "      <td>Urban</td>\n",
       "      <td>139.67</td>\n",
       "      <td>14.1</td>\n",
       "      <td>Unknown</td>\n",
       "      <td>0</td>\n",
       "    </tr>\n",
       "    <tr>\n",
       "      <th>3295</th>\n",
       "      <td>Male</td>\n",
       "      <td>0.08</td>\n",
       "      <td>0</td>\n",
       "      <td>0</td>\n",
       "      <td>No</td>\n",
       "      <td>children</td>\n",
       "      <td>Rural</td>\n",
       "      <td>70.33</td>\n",
       "      <td>16.9</td>\n",
       "      <td>Unknown</td>\n",
       "      <td>0</td>\n",
       "    </tr>\n",
       "  </tbody>\n",
       "</table>\n",
       "<p>5110 rows × 11 columns</p>\n",
       "</div>"
      ],
      "text/plain": [
       "      gender    age  hypertension  heart_disease ever_married      work_type  \\\n",
       "3108    Male  82.00             0              0           No  Self-employed   \n",
       "188     Male  82.00             0              0          Yes        Private   \n",
       "1515  Female  82.00             0              0          Yes       Govt_job   \n",
       "1412    Male  82.00             1              0          Yes        Private   \n",
       "1951  Female  82.00             0              0          Yes        Private   \n",
       "...      ...    ...           ...            ...          ...            ...   \n",
       "3618    Male   0.16             0              0           No       children   \n",
       "3968    Male   0.16             0              0           No       children   \n",
       "4021    Male   0.16             0              0           No       children   \n",
       "1614  Female   0.08             0              0           No       children   \n",
       "3295    Male   0.08             0              0           No       children   \n",
       "\n",
       "     Residence_type  avg_glucose_level   bmi   smoking_status  stroke  \n",
       "3108          Urban             161.95  30.8     never smoked       0  \n",
       "188           Rural              86.62  29.5  formerly smoked       1  \n",
       "1515          Rural              58.30  20.4     never smoked       0  \n",
       "1412          Rural             227.28  33.3     never smoked       0  \n",
       "1951          Urban              99.68  22.2          Unknown       0  \n",
       "...             ...                ...   ...              ...     ...  \n",
       "3618          Urban             114.71  17.4          Unknown       0  \n",
       "3968          Rural              69.79  13.0          Unknown       0  \n",
       "4021          Urban             109.52  13.9          Unknown       0  \n",
       "1614          Urban             139.67  14.1          Unknown       0  \n",
       "3295          Rural              70.33  16.9          Unknown       0  \n",
       "\n",
       "[5110 rows x 11 columns]"
      ]
     },
     "execution_count": 29,
     "metadata": {},
     "output_type": "execute_result"
    }
   ],
   "source": [
    "data.sort_values(by = 'age', ascending = False)"
   ]
  },
  {
   "cell_type": "markdown",
   "id": "62462567",
   "metadata": {},
   "source": [
    "Самым взрослым пациентам 82 года. При этом у нескольких их них не было инсульта, хотя есть сахарный диабет и избыточный индекс тела. Мы также заметили женщину (у неё был инсульт), которой 82 года, и у неё довольно низкий уровень глюкозы в крови (58.30). Это тоже не очень хороший показатель: низкий уровень сахара - это тяжелое заболевание под названием \"гипогликемия\" (когда уровень глюкозы меньше 63).  "
   ]
  },
  {
   "cell_type": "code",
   "execution_count": 32,
   "id": "475e3c28",
   "metadata": {},
   "outputs": [
    {
     "data": {
      "text/html": [
       "<div>\n",
       "<style scoped>\n",
       "    .dataframe tbody tr th:only-of-type {\n",
       "        vertical-align: middle;\n",
       "    }\n",
       "\n",
       "    .dataframe tbody tr th {\n",
       "        vertical-align: top;\n",
       "    }\n",
       "\n",
       "    .dataframe thead th {\n",
       "        text-align: right;\n",
       "    }\n",
       "</style>\n",
       "<table border=\"1\" class=\"dataframe\">\n",
       "  <thead>\n",
       "    <tr style=\"text-align: right;\">\n",
       "      <th></th>\n",
       "      <th>gender</th>\n",
       "      <th>age</th>\n",
       "      <th>hypertension</th>\n",
       "      <th>heart_disease</th>\n",
       "      <th>ever_married</th>\n",
       "      <th>work_type</th>\n",
       "      <th>Residence_type</th>\n",
       "      <th>avg_glucose_level</th>\n",
       "      <th>bmi</th>\n",
       "      <th>smoking_status</th>\n",
       "      <th>stroke</th>\n",
       "    </tr>\n",
       "  </thead>\n",
       "  <tbody>\n",
       "    <tr>\n",
       "      <th>4886</th>\n",
       "      <td>Female</td>\n",
       "      <td>21.0</td>\n",
       "      <td>0</td>\n",
       "      <td>0</td>\n",
       "      <td>No</td>\n",
       "      <td>Private</td>\n",
       "      <td>Rural</td>\n",
       "      <td>55.12</td>\n",
       "      <td>21.8</td>\n",
       "      <td>never smoked</td>\n",
       "      <td>0</td>\n",
       "    </tr>\n",
       "    <tr>\n",
       "      <th>1191</th>\n",
       "      <td>Male</td>\n",
       "      <td>42.0</td>\n",
       "      <td>0</td>\n",
       "      <td>0</td>\n",
       "      <td>Yes</td>\n",
       "      <td>Private</td>\n",
       "      <td>Urban</td>\n",
       "      <td>55.22</td>\n",
       "      <td>27.0</td>\n",
       "      <td>never smoked</td>\n",
       "      <td>0</td>\n",
       "    </tr>\n",
       "    <tr>\n",
       "      <th>4110</th>\n",
       "      <td>Male</td>\n",
       "      <td>66.0</td>\n",
       "      <td>0</td>\n",
       "      <td>0</td>\n",
       "      <td>Yes</td>\n",
       "      <td>Self-employed</td>\n",
       "      <td>Rural</td>\n",
       "      <td>55.23</td>\n",
       "      <td>28.9</td>\n",
       "      <td>Unknown</td>\n",
       "      <td>0</td>\n",
       "    </tr>\n",
       "    <tr>\n",
       "      <th>682</th>\n",
       "      <td>Male</td>\n",
       "      <td>20.0</td>\n",
       "      <td>0</td>\n",
       "      <td>0</td>\n",
       "      <td>No</td>\n",
       "      <td>Private</td>\n",
       "      <td>Urban</td>\n",
       "      <td>55.25</td>\n",
       "      <td>20.4</td>\n",
       "      <td>never smoked</td>\n",
       "      <td>0</td>\n",
       "    </tr>\n",
       "    <tr>\n",
       "      <th>772</th>\n",
       "      <td>Male</td>\n",
       "      <td>61.0</td>\n",
       "      <td>0</td>\n",
       "      <td>0</td>\n",
       "      <td>Yes</td>\n",
       "      <td>Private</td>\n",
       "      <td>Rural</td>\n",
       "      <td>55.26</td>\n",
       "      <td>33.2</td>\n",
       "      <td>Unknown</td>\n",
       "      <td>0</td>\n",
       "    </tr>\n",
       "    <tr>\n",
       "      <th>...</th>\n",
       "      <td>...</td>\n",
       "      <td>...</td>\n",
       "      <td>...</td>\n",
       "      <td>...</td>\n",
       "      <td>...</td>\n",
       "      <td>...</td>\n",
       "      <td>...</td>\n",
       "      <td>...</td>\n",
       "      <td>...</td>\n",
       "      <td>...</td>\n",
       "      <td>...</td>\n",
       "    </tr>\n",
       "    <tr>\n",
       "      <th>2462</th>\n",
       "      <td>Female</td>\n",
       "      <td>60.0</td>\n",
       "      <td>0</td>\n",
       "      <td>0</td>\n",
       "      <td>No</td>\n",
       "      <td>Govt_job</td>\n",
       "      <td>Rural</td>\n",
       "      <td>266.59</td>\n",
       "      <td>25.5</td>\n",
       "      <td>never smoked</td>\n",
       "      <td>0</td>\n",
       "    </tr>\n",
       "    <tr>\n",
       "      <th>4983</th>\n",
       "      <td>Male</td>\n",
       "      <td>76.0</td>\n",
       "      <td>1</td>\n",
       "      <td>0</td>\n",
       "      <td>Yes</td>\n",
       "      <td>Private</td>\n",
       "      <td>Rural</td>\n",
       "      <td>267.60</td>\n",
       "      <td>30.5</td>\n",
       "      <td>never smoked</td>\n",
       "      <td>0</td>\n",
       "    </tr>\n",
       "    <tr>\n",
       "      <th>3088</th>\n",
       "      <td>Female</td>\n",
       "      <td>76.0</td>\n",
       "      <td>0</td>\n",
       "      <td>0</td>\n",
       "      <td>Yes</td>\n",
       "      <td>Self-employed</td>\n",
       "      <td>Urban</td>\n",
       "      <td>267.61</td>\n",
       "      <td>27.9</td>\n",
       "      <td>smokes</td>\n",
       "      <td>0</td>\n",
       "    </tr>\n",
       "    <tr>\n",
       "      <th>1207</th>\n",
       "      <td>Female</td>\n",
       "      <td>49.0</td>\n",
       "      <td>0</td>\n",
       "      <td>0</td>\n",
       "      <td>Yes</td>\n",
       "      <td>Private</td>\n",
       "      <td>Urban</td>\n",
       "      <td>267.76</td>\n",
       "      <td>29.3</td>\n",
       "      <td>formerly smoked</td>\n",
       "      <td>0</td>\n",
       "    </tr>\n",
       "    <tr>\n",
       "      <th>193</th>\n",
       "      <td>Male</td>\n",
       "      <td>68.0</td>\n",
       "      <td>1</td>\n",
       "      <td>1</td>\n",
       "      <td>Yes</td>\n",
       "      <td>Private</td>\n",
       "      <td>Rural</td>\n",
       "      <td>271.74</td>\n",
       "      <td>31.1</td>\n",
       "      <td>smokes</td>\n",
       "      <td>1</td>\n",
       "    </tr>\n",
       "  </tbody>\n",
       "</table>\n",
       "<p>5110 rows × 11 columns</p>\n",
       "</div>"
      ],
      "text/plain": [
       "      gender   age  hypertension  heart_disease ever_married      work_type  \\\n",
       "4886  Female  21.0             0              0           No        Private   \n",
       "1191    Male  42.0             0              0          Yes        Private   \n",
       "4110    Male  66.0             0              0          Yes  Self-employed   \n",
       "682     Male  20.0             0              0           No        Private   \n",
       "772     Male  61.0             0              0          Yes        Private   \n",
       "...      ...   ...           ...            ...          ...            ...   \n",
       "2462  Female  60.0             0              0           No       Govt_job   \n",
       "4983    Male  76.0             1              0          Yes        Private   \n",
       "3088  Female  76.0             0              0          Yes  Self-employed   \n",
       "1207  Female  49.0             0              0          Yes        Private   \n",
       "193     Male  68.0             1              1          Yes        Private   \n",
       "\n",
       "     Residence_type  avg_glucose_level   bmi   smoking_status  stroke  \n",
       "4886          Rural              55.12  21.8     never smoked       0  \n",
       "1191          Urban              55.22  27.0     never smoked       0  \n",
       "4110          Rural              55.23  28.9          Unknown       0  \n",
       "682           Urban              55.25  20.4     never smoked       0  \n",
       "772           Rural              55.26  33.2          Unknown       0  \n",
       "...             ...                ...   ...              ...     ...  \n",
       "2462          Rural             266.59  25.5     never smoked       0  \n",
       "4983          Rural             267.60  30.5     never smoked       0  \n",
       "3088          Urban             267.61  27.9           smokes       0  \n",
       "1207          Urban             267.76  29.3  formerly smoked       0  \n",
       "193           Rural             271.74  31.1           smokes       1  \n",
       "\n",
       "[5110 rows x 11 columns]"
      ]
     },
     "execution_count": 32,
     "metadata": {},
     "output_type": "execute_result"
    }
   ],
   "source": [
    "data.sort_values(by = 'avg_glucose_level', ascending = True)"
   ]
  },
  {
   "cell_type": "markdown",
   "id": "636cdee9",
   "metadata": {},
   "source": [
    "Показатели уровня глюкозы в крови у 82-летней женщины нас заинтересовали. Мы решили посмотреть, у какого пациента самый маленький уровень глюкозы в крови. Им оказалась 21-летняя женщина. Уровень глюкозы в крови составляет 55.12, при этом инсульта у нее еще не было. "
   ]
  },
  {
   "cell_type": "markdown",
   "id": "9b0f8c5a",
   "metadata": {},
   "source": [
    "**Рассмотрим, а может ли низкий уровень глюкозы влиять на инсульт?**"
   ]
  },
  {
   "cell_type": "code",
   "execution_count": 149,
   "id": "5ae8eeda",
   "metadata": {},
   "outputs": [
    {
     "data": {
      "text/plain": [
       "16"
      ]
     },
     "execution_count": 149,
     "metadata": {},
     "output_type": "execute_result"
    }
   ],
   "source": [
    "data[(data['stroke']==1)\n",
    "     &(data['avg_glucose_level'] < 63)].shape[0]"
   ]
  },
  {
   "cell_type": "markdown",
   "id": "804c32aa",
   "metadata": {},
   "source": [
    "16 из 249 пациентов, получивших инстульт, имеют гипогликемию. Возможно, это и влияет на инсульт, но не является серьезным фактором. "
   ]
  },
  {
   "cell_type": "code",
   "execution_count": 150,
   "id": "f8ee9039",
   "metadata": {},
   "outputs": [
    {
     "data": {
      "text/html": [
       "<div>\n",
       "<style scoped>\n",
       "    .dataframe tbody tr th:only-of-type {\n",
       "        vertical-align: middle;\n",
       "    }\n",
       "\n",
       "    .dataframe tbody tr th {\n",
       "        vertical-align: top;\n",
       "    }\n",
       "\n",
       "    .dataframe thead th {\n",
       "        text-align: right;\n",
       "    }\n",
       "</style>\n",
       "<table border=\"1\" class=\"dataframe\">\n",
       "  <thead>\n",
       "    <tr style=\"text-align: right;\">\n",
       "      <th></th>\n",
       "      <th>id</th>\n",
       "      <th>gender</th>\n",
       "      <th>age</th>\n",
       "      <th>hypertension</th>\n",
       "      <th>heart_disease</th>\n",
       "      <th>ever_married</th>\n",
       "      <th>work_type</th>\n",
       "      <th>Residence_type</th>\n",
       "      <th>avg_glucose_level</th>\n",
       "      <th>bmi</th>\n",
       "      <th>smoking_status</th>\n",
       "      <th>stroke</th>\n",
       "    </tr>\n",
       "  </thead>\n",
       "  <tbody>\n",
       "    <tr>\n",
       "      <th>2128</th>\n",
       "      <td>56420</td>\n",
       "      <td>Male</td>\n",
       "      <td>17.0</td>\n",
       "      <td>1</td>\n",
       "      <td>0</td>\n",
       "      <td>No</td>\n",
       "      <td>Private</td>\n",
       "      <td>Rural</td>\n",
       "      <td>61.67</td>\n",
       "      <td>97.6</td>\n",
       "      <td>Unknown</td>\n",
       "      <td>0</td>\n",
       "    </tr>\n",
       "    <tr>\n",
       "      <th>4209</th>\n",
       "      <td>51856</td>\n",
       "      <td>Male</td>\n",
       "      <td>38.0</td>\n",
       "      <td>1</td>\n",
       "      <td>0</td>\n",
       "      <td>Yes</td>\n",
       "      <td>Private</td>\n",
       "      <td>Rural</td>\n",
       "      <td>56.90</td>\n",
       "      <td>92.0</td>\n",
       "      <td>never smoked</td>\n",
       "      <td>0</td>\n",
       "    </tr>\n",
       "    <tr>\n",
       "      <th>928</th>\n",
       "      <td>41097</td>\n",
       "      <td>Female</td>\n",
       "      <td>23.0</td>\n",
       "      <td>1</td>\n",
       "      <td>0</td>\n",
       "      <td>No</td>\n",
       "      <td>Private</td>\n",
       "      <td>Urban</td>\n",
       "      <td>70.03</td>\n",
       "      <td>78.0</td>\n",
       "      <td>smokes</td>\n",
       "      <td>0</td>\n",
       "    </tr>\n",
       "    <tr>\n",
       "      <th>544</th>\n",
       "      <td>545</td>\n",
       "      <td>Male</td>\n",
       "      <td>42.0</td>\n",
       "      <td>0</td>\n",
       "      <td>0</td>\n",
       "      <td>Yes</td>\n",
       "      <td>Private</td>\n",
       "      <td>Rural</td>\n",
       "      <td>210.48</td>\n",
       "      <td>71.9</td>\n",
       "      <td>never smoked</td>\n",
       "      <td>0</td>\n",
       "    </tr>\n",
       "    <tr>\n",
       "      <th>1559</th>\n",
       "      <td>37759</td>\n",
       "      <td>Female</td>\n",
       "      <td>53.0</td>\n",
       "      <td>0</td>\n",
       "      <td>0</td>\n",
       "      <td>Yes</td>\n",
       "      <td>Private</td>\n",
       "      <td>Rural</td>\n",
       "      <td>72.63</td>\n",
       "      <td>66.8</td>\n",
       "      <td>Unknown</td>\n",
       "      <td>0</td>\n",
       "    </tr>\n",
       "    <tr>\n",
       "      <th>...</th>\n",
       "      <td>...</td>\n",
       "      <td>...</td>\n",
       "      <td>...</td>\n",
       "      <td>...</td>\n",
       "      <td>...</td>\n",
       "      <td>...</td>\n",
       "      <td>...</td>\n",
       "      <td>...</td>\n",
       "      <td>...</td>\n",
       "      <td>...</td>\n",
       "      <td>...</td>\n",
       "      <td>...</td>\n",
       "    </tr>\n",
       "    <tr>\n",
       "      <th>5039</th>\n",
       "      <td>42007</td>\n",
       "      <td>Male</td>\n",
       "      <td>41.0</td>\n",
       "      <td>0</td>\n",
       "      <td>0</td>\n",
       "      <td>No</td>\n",
       "      <td>Private</td>\n",
       "      <td>Rural</td>\n",
       "      <td>70.15</td>\n",
       "      <td>NaN</td>\n",
       "      <td>formerly smoked</td>\n",
       "      <td>0</td>\n",
       "    </tr>\n",
       "    <tr>\n",
       "      <th>5048</th>\n",
       "      <td>28788</td>\n",
       "      <td>Male</td>\n",
       "      <td>40.0</td>\n",
       "      <td>0</td>\n",
       "      <td>0</td>\n",
       "      <td>Yes</td>\n",
       "      <td>Private</td>\n",
       "      <td>Urban</td>\n",
       "      <td>191.15</td>\n",
       "      <td>NaN</td>\n",
       "      <td>smokes</td>\n",
       "      <td>0</td>\n",
       "    </tr>\n",
       "    <tr>\n",
       "      <th>5093</th>\n",
       "      <td>32235</td>\n",
       "      <td>Female</td>\n",
       "      <td>45.0</td>\n",
       "      <td>1</td>\n",
       "      <td>0</td>\n",
       "      <td>Yes</td>\n",
       "      <td>Govt_job</td>\n",
       "      <td>Rural</td>\n",
       "      <td>95.02</td>\n",
       "      <td>NaN</td>\n",
       "      <td>smokes</td>\n",
       "      <td>0</td>\n",
       "    </tr>\n",
       "    <tr>\n",
       "      <th>5099</th>\n",
       "      <td>7293</td>\n",
       "      <td>Male</td>\n",
       "      <td>40.0</td>\n",
       "      <td>0</td>\n",
       "      <td>0</td>\n",
       "      <td>Yes</td>\n",
       "      <td>Private</td>\n",
       "      <td>Rural</td>\n",
       "      <td>83.94</td>\n",
       "      <td>NaN</td>\n",
       "      <td>smokes</td>\n",
       "      <td>0</td>\n",
       "    </tr>\n",
       "    <tr>\n",
       "      <th>5105</th>\n",
       "      <td>18234</td>\n",
       "      <td>Female</td>\n",
       "      <td>80.0</td>\n",
       "      <td>1</td>\n",
       "      <td>0</td>\n",
       "      <td>Yes</td>\n",
       "      <td>Private</td>\n",
       "      <td>Urban</td>\n",
       "      <td>83.75</td>\n",
       "      <td>NaN</td>\n",
       "      <td>never smoked</td>\n",
       "      <td>0</td>\n",
       "    </tr>\n",
       "  </tbody>\n",
       "</table>\n",
       "<p>5110 rows × 12 columns</p>\n",
       "</div>"
      ],
      "text/plain": [
       "         id  gender   age  hypertension  heart_disease ever_married work_type  \\\n",
       "2128  56420    Male  17.0             1              0           No   Private   \n",
       "4209  51856    Male  38.0             1              0          Yes   Private   \n",
       "928   41097  Female  23.0             1              0           No   Private   \n",
       "544     545    Male  42.0             0              0          Yes   Private   \n",
       "1559  37759  Female  53.0             0              0          Yes   Private   \n",
       "...     ...     ...   ...           ...            ...          ...       ...   \n",
       "5039  42007    Male  41.0             0              0           No   Private   \n",
       "5048  28788    Male  40.0             0              0          Yes   Private   \n",
       "5093  32235  Female  45.0             1              0          Yes  Govt_job   \n",
       "5099   7293    Male  40.0             0              0          Yes   Private   \n",
       "5105  18234  Female  80.0             1              0          Yes   Private   \n",
       "\n",
       "     Residence_type  avg_glucose_level   bmi   smoking_status  stroke  \n",
       "2128          Rural              61.67  97.6          Unknown       0  \n",
       "4209          Rural              56.90  92.0     never smoked       0  \n",
       "928           Urban              70.03  78.0           smokes       0  \n",
       "544           Rural             210.48  71.9     never smoked       0  \n",
       "1559          Rural              72.63  66.8          Unknown       0  \n",
       "...             ...                ...   ...              ...     ...  \n",
       "5039          Rural              70.15   NaN  formerly smoked       0  \n",
       "5048          Urban             191.15   NaN           smokes       0  \n",
       "5093          Rural              95.02   NaN           smokes       0  \n",
       "5099          Rural              83.94   NaN           smokes       0  \n",
       "5105          Urban              83.75   NaN     never smoked       0  \n",
       "\n",
       "[5110 rows x 12 columns]"
      ]
     },
     "execution_count": 150,
     "metadata": {},
     "output_type": "execute_result"
    }
   ],
   "source": [
    "data.sort_values(by = 'bmi', ascending = False)"
   ]
  },
  {
   "cell_type": "markdown",
   "id": "36369136",
   "metadata": {},
   "source": [
    "Пациенту с самым высоким индексом массы тела 17 лет. У подростка ожирение 3 степени, при этом низкий уровень глюкозы в крови (возможно у него был был высокий уровень глюкозы, но оно понизилось после приема специальных препаратов, отсюда и ожирение). При этом инсульта у него не было, но есть гипертония, которая может быть спровоцирована ожирением. "
   ]
  },
  {
   "cell_type": "code",
   "execution_count": 38,
   "id": "163a7deb",
   "metadata": {},
   "outputs": [
    {
     "data": {
      "text/html": [
       "<div>\n",
       "<style scoped>\n",
       "    .dataframe tbody tr th:only-of-type {\n",
       "        vertical-align: middle;\n",
       "    }\n",
       "\n",
       "    .dataframe tbody tr th {\n",
       "        vertical-align: top;\n",
       "    }\n",
       "\n",
       "    .dataframe thead th {\n",
       "        text-align: right;\n",
       "    }\n",
       "</style>\n",
       "<table border=\"1\" class=\"dataframe\">\n",
       "  <thead>\n",
       "    <tr style=\"text-align: right;\">\n",
       "      <th></th>\n",
       "      <th>gender</th>\n",
       "      <th>age</th>\n",
       "      <th>hypertension</th>\n",
       "      <th>heart_disease</th>\n",
       "      <th>ever_married</th>\n",
       "      <th>work_type</th>\n",
       "      <th>Residence_type</th>\n",
       "      <th>avg_glucose_level</th>\n",
       "      <th>bmi</th>\n",
       "      <th>smoking_status</th>\n",
       "      <th>stroke</th>\n",
       "    </tr>\n",
       "  </thead>\n",
       "  <tbody>\n",
       "    <tr>\n",
       "      <th>162</th>\n",
       "      <td>Female</td>\n",
       "      <td>1.32</td>\n",
       "      <td>0</td>\n",
       "      <td>0</td>\n",
       "      <td>No</td>\n",
       "      <td>children</td>\n",
       "      <td>Urban</td>\n",
       "      <td>70.37</td>\n",
       "      <td>NaN</td>\n",
       "      <td>Unknown</td>\n",
       "      <td>1</td>\n",
       "    </tr>\n",
       "    <tr>\n",
       "      <th>245</th>\n",
       "      <td>Female</td>\n",
       "      <td>14.00</td>\n",
       "      <td>0</td>\n",
       "      <td>0</td>\n",
       "      <td>No</td>\n",
       "      <td>children</td>\n",
       "      <td>Rural</td>\n",
       "      <td>57.93</td>\n",
       "      <td>30.9</td>\n",
       "      <td>Unknown</td>\n",
       "      <td>1</td>\n",
       "    </tr>\n",
       "    <tr>\n",
       "      <th>182</th>\n",
       "      <td>Female</td>\n",
       "      <td>32.00</td>\n",
       "      <td>0</td>\n",
       "      <td>0</td>\n",
       "      <td>Yes</td>\n",
       "      <td>Private</td>\n",
       "      <td>Rural</td>\n",
       "      <td>76.13</td>\n",
       "      <td>29.9</td>\n",
       "      <td>smokes</td>\n",
       "      <td>1</td>\n",
       "    </tr>\n",
       "    <tr>\n",
       "      <th>118</th>\n",
       "      <td>Female</td>\n",
       "      <td>38.00</td>\n",
       "      <td>0</td>\n",
       "      <td>0</td>\n",
       "      <td>No</td>\n",
       "      <td>Self-employed</td>\n",
       "      <td>Urban</td>\n",
       "      <td>82.28</td>\n",
       "      <td>24.0</td>\n",
       "      <td>formerly smoked</td>\n",
       "      <td>1</td>\n",
       "    </tr>\n",
       "    <tr>\n",
       "      <th>133</th>\n",
       "      <td>Female</td>\n",
       "      <td>38.00</td>\n",
       "      <td>0</td>\n",
       "      <td>0</td>\n",
       "      <td>Yes</td>\n",
       "      <td>Private</td>\n",
       "      <td>Rural</td>\n",
       "      <td>101.45</td>\n",
       "      <td>NaN</td>\n",
       "      <td>formerly smoked</td>\n",
       "      <td>1</td>\n",
       "    </tr>\n",
       "    <tr>\n",
       "      <th>...</th>\n",
       "      <td>...</td>\n",
       "      <td>...</td>\n",
       "      <td>...</td>\n",
       "      <td>...</td>\n",
       "      <td>...</td>\n",
       "      <td>...</td>\n",
       "      <td>...</td>\n",
       "      <td>...</td>\n",
       "      <td>...</td>\n",
       "      <td>...</td>\n",
       "      <td>...</td>\n",
       "    </tr>\n",
       "    <tr>\n",
       "      <th>4716</th>\n",
       "      <td>Female</td>\n",
       "      <td>82.00</td>\n",
       "      <td>0</td>\n",
       "      <td>0</td>\n",
       "      <td>No</td>\n",
       "      <td>Private</td>\n",
       "      <td>Rural</td>\n",
       "      <td>96.98</td>\n",
       "      <td>21.5</td>\n",
       "      <td>never smoked</td>\n",
       "      <td>0</td>\n",
       "    </tr>\n",
       "    <tr>\n",
       "      <th>4763</th>\n",
       "      <td>Male</td>\n",
       "      <td>82.00</td>\n",
       "      <td>0</td>\n",
       "      <td>0</td>\n",
       "      <td>Yes</td>\n",
       "      <td>Private</td>\n",
       "      <td>Urban</td>\n",
       "      <td>217.57</td>\n",
       "      <td>33.5</td>\n",
       "      <td>formerly smoked</td>\n",
       "      <td>0</td>\n",
       "    </tr>\n",
       "    <tr>\n",
       "      <th>4819</th>\n",
       "      <td>Female</td>\n",
       "      <td>82.00</td>\n",
       "      <td>0</td>\n",
       "      <td>0</td>\n",
       "      <td>Yes</td>\n",
       "      <td>Self-employed</td>\n",
       "      <td>Urban</td>\n",
       "      <td>113.45</td>\n",
       "      <td>30.3</td>\n",
       "      <td>never smoked</td>\n",
       "      <td>0</td>\n",
       "    </tr>\n",
       "    <tr>\n",
       "      <th>5062</th>\n",
       "      <td>Female</td>\n",
       "      <td>82.00</td>\n",
       "      <td>0</td>\n",
       "      <td>0</td>\n",
       "      <td>Yes</td>\n",
       "      <td>Self-employed</td>\n",
       "      <td>Rural</td>\n",
       "      <td>211.58</td>\n",
       "      <td>36.9</td>\n",
       "      <td>never smoked</td>\n",
       "      <td>0</td>\n",
       "    </tr>\n",
       "    <tr>\n",
       "      <th>5100</th>\n",
       "      <td>Male</td>\n",
       "      <td>82.00</td>\n",
       "      <td>1</td>\n",
       "      <td>0</td>\n",
       "      <td>Yes</td>\n",
       "      <td>Self-employed</td>\n",
       "      <td>Rural</td>\n",
       "      <td>71.97</td>\n",
       "      <td>28.3</td>\n",
       "      <td>never smoked</td>\n",
       "      <td>0</td>\n",
       "    </tr>\n",
       "  </tbody>\n",
       "</table>\n",
       "<p>5110 rows × 11 columns</p>\n",
       "</div>"
      ],
      "text/plain": [
       "      gender    age  hypertension  heart_disease ever_married      work_type  \\\n",
       "162   Female   1.32             0              0           No       children   \n",
       "245   Female  14.00             0              0           No       children   \n",
       "182   Female  32.00             0              0          Yes        Private   \n",
       "118   Female  38.00             0              0           No  Self-employed   \n",
       "133   Female  38.00             0              0          Yes        Private   \n",
       "...      ...    ...           ...            ...          ...            ...   \n",
       "4716  Female  82.00             0              0           No        Private   \n",
       "4763    Male  82.00             0              0          Yes        Private   \n",
       "4819  Female  82.00             0              0          Yes  Self-employed   \n",
       "5062  Female  82.00             0              0          Yes  Self-employed   \n",
       "5100    Male  82.00             1              0          Yes  Self-employed   \n",
       "\n",
       "     Residence_type  avg_glucose_level   bmi   smoking_status  stroke  \n",
       "162           Urban              70.37   NaN          Unknown       1  \n",
       "245           Rural              57.93  30.9          Unknown       1  \n",
       "182           Rural              76.13  29.9           smokes       1  \n",
       "118           Urban              82.28  24.0  formerly smoked       1  \n",
       "133           Rural             101.45   NaN  formerly smoked       1  \n",
       "...             ...                ...   ...              ...     ...  \n",
       "4716          Rural              96.98  21.5     never smoked       0  \n",
       "4763          Urban             217.57  33.5  formerly smoked       0  \n",
       "4819          Urban             113.45  30.3     never smoked       0  \n",
       "5062          Rural             211.58  36.9     never smoked       0  \n",
       "5100          Rural              71.97  28.3     never smoked       0  \n",
       "\n",
       "[5110 rows x 11 columns]"
      ]
     },
     "execution_count": 38,
     "metadata": {},
     "output_type": "execute_result"
    }
   ],
   "source": [
    "data.sort_values(by = ['stroke', 'age'], ascending = [False, True])"
   ]
  },
  {
   "cell_type": "markdown",
   "id": "4a99a6e5",
   "metadata": {},
   "source": [
    "Сортировка по  переменным возраста и был ли инсульт показала, что самому молодому пациенту, у которого был инсульт, полтора года. При этом у него нет никаких сердеченых заболеваний и гипертонии, а уровень глюкозы у него нормальный. Остается догадываться, почему у ребенка произошел инсульт. "
   ]
  },
  {
   "cell_type": "code",
   "execution_count": 60,
   "id": "6edfb529",
   "metadata": {},
   "outputs": [
    {
     "data": {
      "text/html": [
       "<div>\n",
       "<style scoped>\n",
       "    .dataframe tbody tr th:only-of-type {\n",
       "        vertical-align: middle;\n",
       "    }\n",
       "\n",
       "    .dataframe tbody tr th {\n",
       "        vertical-align: top;\n",
       "    }\n",
       "\n",
       "    .dataframe thead th {\n",
       "        text-align: right;\n",
       "    }\n",
       "</style>\n",
       "<table border=\"1\" class=\"dataframe\">\n",
       "  <thead>\n",
       "    <tr style=\"text-align: right;\">\n",
       "      <th></th>\n",
       "      <th>gender</th>\n",
       "      <th>age</th>\n",
       "      <th>hypertension</th>\n",
       "      <th>heart_disease</th>\n",
       "      <th>ever_married</th>\n",
       "      <th>work_type</th>\n",
       "      <th>Residence_type</th>\n",
       "      <th>avg_glucose_level</th>\n",
       "      <th>bmi</th>\n",
       "      <th>smoking_status</th>\n",
       "      <th>stroke</th>\n",
       "      <th>endocrinologist_visit</th>\n",
       "    </tr>\n",
       "  </thead>\n",
       "  <tbody>\n",
       "    <tr>\n",
       "      <th>217</th>\n",
       "      <td>Female</td>\n",
       "      <td>55.0</td>\n",
       "      <td>1</td>\n",
       "      <td>1</td>\n",
       "      <td>Yes</td>\n",
       "      <td>Private</td>\n",
       "      <td>Urban</td>\n",
       "      <td>210.40</td>\n",
       "      <td>40.0</td>\n",
       "      <td>smokes</td>\n",
       "      <td>1</td>\n",
       "      <td>Need</td>\n",
       "    </tr>\n",
       "    <tr>\n",
       "      <th>19</th>\n",
       "      <td>Male</td>\n",
       "      <td>57.0</td>\n",
       "      <td>0</td>\n",
       "      <td>1</td>\n",
       "      <td>No</td>\n",
       "      <td>Govt_job</td>\n",
       "      <td>Urban</td>\n",
       "      <td>217.08</td>\n",
       "      <td>NaN</td>\n",
       "      <td>Unknown</td>\n",
       "      <td>1</td>\n",
       "      <td>Need</td>\n",
       "    </tr>\n",
       "    <tr>\n",
       "      <th>225</th>\n",
       "      <td>Female</td>\n",
       "      <td>57.0</td>\n",
       "      <td>0</td>\n",
       "      <td>1</td>\n",
       "      <td>Yes</td>\n",
       "      <td>Private</td>\n",
       "      <td>Urban</td>\n",
       "      <td>216.58</td>\n",
       "      <td>31.0</td>\n",
       "      <td>Unknown</td>\n",
       "      <td>1</td>\n",
       "      <td>Need</td>\n",
       "    </tr>\n",
       "    <tr>\n",
       "      <th>97</th>\n",
       "      <td>Male</td>\n",
       "      <td>58.0</td>\n",
       "      <td>0</td>\n",
       "      <td>1</td>\n",
       "      <td>Yes</td>\n",
       "      <td>Private</td>\n",
       "      <td>Rural</td>\n",
       "      <td>240.59</td>\n",
       "      <td>31.4</td>\n",
       "      <td>smokes</td>\n",
       "      <td>1</td>\n",
       "      <td>Need</td>\n",
       "    </tr>\n",
       "    <tr>\n",
       "      <th>239</th>\n",
       "      <td>Male</td>\n",
       "      <td>60.0</td>\n",
       "      <td>0</td>\n",
       "      <td>1</td>\n",
       "      <td>Yes</td>\n",
       "      <td>Private</td>\n",
       "      <td>Urban</td>\n",
       "      <td>91.92</td>\n",
       "      <td>35.9</td>\n",
       "      <td>smokes</td>\n",
       "      <td>1</td>\n",
       "      <td>No need</td>\n",
       "    </tr>\n",
       "    <tr>\n",
       "      <th>...</th>\n",
       "      <td>...</td>\n",
       "      <td>...</td>\n",
       "      <td>...</td>\n",
       "      <td>...</td>\n",
       "      <td>...</td>\n",
       "      <td>...</td>\n",
       "      <td>...</td>\n",
       "      <td>...</td>\n",
       "      <td>...</td>\n",
       "      <td>...</td>\n",
       "      <td>...</td>\n",
       "      <td>...</td>\n",
       "    </tr>\n",
       "    <tr>\n",
       "      <th>4716</th>\n",
       "      <td>Female</td>\n",
       "      <td>82.0</td>\n",
       "      <td>0</td>\n",
       "      <td>0</td>\n",
       "      <td>No</td>\n",
       "      <td>Private</td>\n",
       "      <td>Rural</td>\n",
       "      <td>96.98</td>\n",
       "      <td>21.5</td>\n",
       "      <td>never smoked</td>\n",
       "      <td>0</td>\n",
       "      <td>No need</td>\n",
       "    </tr>\n",
       "    <tr>\n",
       "      <th>4763</th>\n",
       "      <td>Male</td>\n",
       "      <td>82.0</td>\n",
       "      <td>0</td>\n",
       "      <td>0</td>\n",
       "      <td>Yes</td>\n",
       "      <td>Private</td>\n",
       "      <td>Urban</td>\n",
       "      <td>217.57</td>\n",
       "      <td>33.5</td>\n",
       "      <td>formerly smoked</td>\n",
       "      <td>0</td>\n",
       "      <td>Need</td>\n",
       "    </tr>\n",
       "    <tr>\n",
       "      <th>4819</th>\n",
       "      <td>Female</td>\n",
       "      <td>82.0</td>\n",
       "      <td>0</td>\n",
       "      <td>0</td>\n",
       "      <td>Yes</td>\n",
       "      <td>Self-employed</td>\n",
       "      <td>Urban</td>\n",
       "      <td>113.45</td>\n",
       "      <td>30.3</td>\n",
       "      <td>never smoked</td>\n",
       "      <td>0</td>\n",
       "      <td>Need</td>\n",
       "    </tr>\n",
       "    <tr>\n",
       "      <th>5062</th>\n",
       "      <td>Female</td>\n",
       "      <td>82.0</td>\n",
       "      <td>0</td>\n",
       "      <td>0</td>\n",
       "      <td>Yes</td>\n",
       "      <td>Self-employed</td>\n",
       "      <td>Rural</td>\n",
       "      <td>211.58</td>\n",
       "      <td>36.9</td>\n",
       "      <td>never smoked</td>\n",
       "      <td>0</td>\n",
       "      <td>Need</td>\n",
       "    </tr>\n",
       "    <tr>\n",
       "      <th>5100</th>\n",
       "      <td>Male</td>\n",
       "      <td>82.0</td>\n",
       "      <td>1</td>\n",
       "      <td>0</td>\n",
       "      <td>Yes</td>\n",
       "      <td>Self-employed</td>\n",
       "      <td>Rural</td>\n",
       "      <td>71.97</td>\n",
       "      <td>28.3</td>\n",
       "      <td>never smoked</td>\n",
       "      <td>0</td>\n",
       "      <td>No need</td>\n",
       "    </tr>\n",
       "  </tbody>\n",
       "</table>\n",
       "<p>5110 rows × 12 columns</p>\n",
       "</div>"
      ],
      "text/plain": [
       "      gender   age  hypertension  heart_disease ever_married      work_type  \\\n",
       "217   Female  55.0             1              1          Yes        Private   \n",
       "19      Male  57.0             0              1           No       Govt_job   \n",
       "225   Female  57.0             0              1          Yes        Private   \n",
       "97      Male  58.0             0              1          Yes        Private   \n",
       "239     Male  60.0             0              1          Yes        Private   \n",
       "...      ...   ...           ...            ...          ...            ...   \n",
       "4716  Female  82.0             0              0           No        Private   \n",
       "4763    Male  82.0             0              0          Yes        Private   \n",
       "4819  Female  82.0             0              0          Yes  Self-employed   \n",
       "5062  Female  82.0             0              0          Yes  Self-employed   \n",
       "5100    Male  82.0             1              0          Yes  Self-employed   \n",
       "\n",
       "     Residence_type  avg_glucose_level   bmi   smoking_status  stroke  \\\n",
       "217           Urban             210.40  40.0           smokes       1   \n",
       "19            Urban             217.08   NaN          Unknown       1   \n",
       "225           Urban             216.58  31.0          Unknown       1   \n",
       "97            Rural             240.59  31.4           smokes       1   \n",
       "239           Urban              91.92  35.9           smokes       1   \n",
       "...             ...                ...   ...              ...     ...   \n",
       "4716          Rural              96.98  21.5     never smoked       0   \n",
       "4763          Urban             217.57  33.5  formerly smoked       0   \n",
       "4819          Urban             113.45  30.3     never smoked       0   \n",
       "5062          Rural             211.58  36.9     never smoked       0   \n",
       "5100          Rural              71.97  28.3     never smoked       0   \n",
       "\n",
       "     endocrinologist_visit  \n",
       "217                   Need  \n",
       "19                    Need  \n",
       "225                   Need  \n",
       "97                    Need  \n",
       "239                No need  \n",
       "...                    ...  \n",
       "4716               No need  \n",
       "4763                  Need  \n",
       "4819                  Need  \n",
       "5062                  Need  \n",
       "5100               No need  \n",
       "\n",
       "[5110 rows x 12 columns]"
      ]
     },
     "execution_count": 60,
     "metadata": {},
     "output_type": "execute_result"
    }
   ],
   "source": [
    "data.sort_values(by = ['stroke', 'heart_disease', 'age'], ascending = [False, False, True])"
   ]
  },
  {
   "cell_type": "markdown",
   "id": "88b4ca4f",
   "metadata": {},
   "source": [
    " Интересно рассмотреть, как сердечные заболевания влияют на инсульт. Сортировка показала, что пациенту с болезнями сердца и инсультом, было 55 лет. На примере этого пациента мы можем наглядно увидеть действие всех факторов в совокупности: гипертонии, сердечных заболеваний, выского уровня глюкозы и индекса массы тела. Вместе эти признаки приводят к инсульту. Как мы уже говорили раннее, не все признаки \"работают\" по отдельности, но вместе - в большинстве случаев. "
   ]
  },
  {
   "cell_type": "markdown",
   "id": "00aed170",
   "metadata": {},
   "source": [
    "## Создание переменной "
   ]
  },
  {
   "cell_type": "markdown",
   "id": "43bf7dfa",
   "metadata": {},
   "source": [
    "Создадим переменную, которая при высоком или низком уровне глюкозы крови, пропишет необходимость посещения эндокринолога или нет, в случае, если условия не удовлетворяются. "
   ]
  },
  {
   "cell_type": "code",
   "execution_count": 151,
   "id": "e42fd191",
   "metadata": {},
   "outputs": [],
   "source": [
    "data['endocrinologist_need'] = ((data['avg_glucose_level'] >= 109.8)|(data['avg_glucose_level'] < 63))"
   ]
  },
  {
   "cell_type": "markdown",
   "id": "b5c5c01b",
   "metadata": {},
   "source": [
    "Создадим переменную, где проранжируем возраст пациентов"
   ]
  },
  {
   "cell_type": "code",
   "execution_count": 234,
   "id": "9478c867",
   "metadata": {},
   "outputs": [],
   "source": [
    "def age_range(value):\n",
    "    if value < 18:\n",
    "        value = 'Несовершеннолетние' \n",
    "    elif value >= 18 and value <= 30:\n",
    "        value = '18-30'\n",
    "    elif value > 30 and value <= 40:\n",
    "        value = '31-40'\n",
    "    elif value > 40 and value <= 55:\n",
    "        value = '41-55'\n",
    "    elif value > 55:\n",
    "        value = 'Пожилые люди'\n",
    "    return value"
   ]
  },
  {
   "cell_type": "code",
   "execution_count": 235,
   "id": "ceb192e4",
   "metadata": {},
   "outputs": [],
   "source": [
    "data['age_periodization'] = data['age'].apply(age_range)"
   ]
  },
  {
   "cell_type": "markdown",
   "id": "d439c869",
   "metadata": {},
   "source": [
    "Создадим переменную, которая при условии наличия у пациента гипертонии и сердечных болезней, а также статуса \"курил\" или \"курит\", пропишет риск сердечно-сосудистых заболеваний или нет, в ином случае."
   ]
  },
  {
   "cell_type": "code",
   "execution_count": 154,
   "id": "2fcc8a0e",
   "metadata": {},
   "outputs": [],
   "source": [
    "data['cardiovascular_diseases_risk'] = ((data['hypertension'] == 1)\n",
    "&(data['heart_disease']==1)\n",
    "&((data['smoking_status'] == 'formerly smoked')\n",
    "|(data['smoking_status'] == 'smokes'))).apply(lambda x: 'Risk' if x == True else 'No risk')"
   ]
  },
  {
   "cell_type": "markdown",
   "id": "7d0fe01c",
   "metadata": {},
   "source": [
    "# Этап 2\n"
   ]
  },
  {
   "cell_type": "markdown",
   "id": "3d7928af",
   "metadata": {},
   "source": [
    "## Частотные таблицы"
   ]
  },
  {
   "cell_type": "code",
   "execution_count": 41,
   "id": "27089026",
   "metadata": {},
   "outputs": [
    {
     "data": {
      "text/plain": [
       "<matplotlib.lines._AxLine at 0x7fb319fdf3d0>"
      ]
     },
     "execution_count": 41,
     "metadata": {},
     "output_type": "execute_result"
    },
    {
     "data": {
      "image/png": "[encoded data removed]",
      "text/plain": [
       "<Figure size 432x288 with 1 Axes>"
      ]
     },
     "metadata": {
      "needs_background": "light"
     },
     "output_type": "display_data"
    }
   ],
   "source": [
    "age_mean = data['age'].mean()\n",
    "age_mode = data['age'].mode()[0] \n",
    "age_median = data['age'].median()\n",
    "data['age'].hist(bins = 50)\n",
    "# Показываем на графике среднее арифметическое (красный цвет)\n",
    "plt.axline((age_mean, 0), (age_mean, 10), color = 'red')\n",
    "# Показываем на графике моду (розовый цвет)\n",
    "plt.axline((age_mode, 0), (age_mode, 10), color = 'pink')\n",
    "# Показываем на графике медиану (желтый цвет)\n",
    "plt.axline((age_median, 0), (age_median, 10), color = 'yellow')"
   ]
  },
  {
   "cell_type": "markdown",
   "id": "6913843a",
   "metadata": {},
   "source": [
    "Гистограмма создана по переменной возраста пациентов. В общем, можно сказать, что распределение достаточно симметричное, медиана и среднее не сильно отличаются друг от друга(красная и желтая полоса), выбивающихся аномальных значений нет.  "
   ]
  },
  {
   "cell_type": "code",
   "execution_count": 42,
   "id": "1dfebff9",
   "metadata": {},
   "outputs": [
    {
     "data": {
      "text/plain": [
       "<matplotlib.lines._AxLine at 0x7fb31a12b340>"
      ]
     },
     "execution_count": 42,
     "metadata": {},
     "output_type": "execute_result"
    },
    {
     "data": {
      "image/png": "[encoded data removed]",
      "text/plain": [
       "<Figure size 432x288 with 1 Axes>"
      ]
     },
     "metadata": {
      "needs_background": "light"
     },
     "output_type": "display_data"
    }
   ],
   "source": [
    "agl_median = data['avg_glucose_level'].median()\n",
    "agl_mean = data['avg_glucose_level'].mean()\n",
    "data['avg_glucose_level'].hist(bins = 10)\n",
    "# Показываем на графике среднее арифметическое (красный цвет)\n",
    "plt.axline((agl_mean, 0), (agl_mean, 10), color = 'red')\n",
    "# Показываем на графике медиану (желтый цвет)\n",
    "plt.axline((agl_median, 0), (agl_median, 10), color = 'yellow')"
   ]
  },
  {
   "cell_type": "markdown",
   "id": "412cc546",
   "metadata": {},
   "source": [
    "В гистограмме, созданной по уровеню глюкозы в крови, мы видим другую ситуацию. В целом значения находятся в промежутке от примерно 70 до 100. Однако распределение несимметричное, есть выбросы в правой стороне графика, которые перетягивают среднее (красное) в большую сторону (вправо) от медианы(желтое).  "
   ]
  },
  {
   "cell_type": "code",
   "execution_count": 112,
   "id": "5381e97f",
   "metadata": {},
   "outputs": [
    {
     "data": {
      "text/plain": [
       "<AxesSubplot:ylabel='smoking_status'>"
      ]
     },
     "execution_count": 112,
     "metadata": {},
     "output_type": "execute_result"
    },
    {
     "data": {
      "image/png": "[encoded data removed]",
      "text/plain": [
       "<Figure size 432x288 with 1 Axes>"
      ]
     },
     "metadata": {},
     "output_type": "display_data"
    }
   ],
   "source": [
    "data['smoking_status'].value_counts().plot(kind='pie')"
   ]
  },
  {
   "cell_type": "markdown",
   "id": "541c4938",
   "metadata": {},
   "source": [
    "Как мы уже говорили раннее, курение может спровоцировать гипертонию, и в целом влиять на сердечно-сосудистую систему, что может стать риском для получения инсульта. Круговая диаграмма по статусу курения показала, что в наших данных достаточно много пропущенных данных о статусе курения (это не NaN, а строка 'unknown'), но при этом еще больше никогда не курящих пациентов. Куривших в прошлом и курящих в настоящем - примерно одинаковое количество. "
   ]
  },
  {
   "cell_type": "markdown",
   "id": "c8b7143a",
   "metadata": {},
   "source": [
    " Интересно посмотреть, как курение отразилось на приступах инсульта, среди 249 людей, получивших его. "
   ]
  },
  {
   "cell_type": "code",
   "execution_count": 113,
   "id": "ab81868f",
   "metadata": {},
   "outputs": [
    {
     "data": {
      "text/plain": [
       "112"
      ]
     },
     "execution_count": 113,
     "metadata": {},
     "output_type": "execute_result"
    }
   ],
   "source": [
    "data[(data['stroke'] == 1)\n",
    "    &((data['smoking_status'] == 'formerly smoked')\n",
    "    |(data['smoking_status'] == 'smokes'))].shape[0]"
   ]
  },
  {
   "cell_type": "markdown",
   "id": "4fc690a2",
   "metadata": {},
   "source": [
    "Почти половина пациентов, получивших инсульт, (112 человек из 249) курят или курили в прошлом. Можно сделать вывод, что курение действительно можем повлиять на получение человеком инсульта. "
   ]
  },
  {
   "cell_type": "code",
   "execution_count": 1,
   "id": "28fdbec9",
   "metadata": {},
   "outputs": [
    {
     "ename": "NameError",
     "evalue": "name 'data' is not defined",
     "output_type": "error",
     "traceback": [
      "\u001b[0;31m---------------------------------------------------------------------------\u001b[0m",
      "\u001b[0;31mNameError\u001b[0m                                 Traceback (most recent call last)",
      "\u001b[0;32m/var/folders/yk/y4brywlj7hggth8sp2wv0fmc0000gn/T/ipykernel_32909/1435457054.py\u001b[0m in \u001b[0;36m<module>\u001b[0;34m\u001b[0m\n\u001b[0;32m----> 1\u001b[0;31m \u001b[0mdata\u001b[0m\u001b[0;34m.\u001b[0m\u001b[0mgroupby\u001b[0m\u001b[0;34m(\u001b[0m\u001b[0;34m'age_periodization'\u001b[0m\u001b[0;34m)\u001b[0m\u001b[0;34m[\u001b[0m\u001b[0;34m'bmi'\u001b[0m\u001b[0;34m]\u001b[0m\u001b[0;34m.\u001b[0m\u001b[0mmean\u001b[0m\u001b[0;34m(\u001b[0m\u001b[0;34m)\u001b[0m\u001b[0;34m.\u001b[0m\u001b[0msort_values\u001b[0m\u001b[0;34m(\u001b[0m\u001b[0;34m)\u001b[0m\u001b[0;34m.\u001b[0m\u001b[0mplot\u001b[0m\u001b[0;34m(\u001b[0m\u001b[0mkind\u001b[0m\u001b[0;34m=\u001b[0m\u001b[0;34m'bar'\u001b[0m\u001b[0;34m,\u001b[0m \u001b[0mkey\u001b[0m \u001b[0;34m=\u001b[0m \u001b[0mx\u001b[0m\u001b[0;34m)\u001b[0m\u001b[0;34m\u001b[0m\u001b[0;34m\u001b[0m\u001b[0m\n\u001b[0m",
      "\u001b[0;31mNameError\u001b[0m: name 'data' is not defined"
     ]
    }
   ],
   "source": [
    "data.groupby('age_periodization')['bmi'].mean().sort_values().plot(kind='bar', key = x)"
   ]
  },
  {
   "cell_type": "markdown",
   "id": "f9badf38",
   "metadata": {},
   "source": [
    "Мы раннее также отмечали важность рассмотрения индекса массы тела у пациентов, так как он зачастую идет вместе с сахарным диабетом и говорит о сидячем малоподвижном образе жизни. Столбчатая диаграмма показала средний индекс тела у людей разных возрастных рангов. График показал, что большие индексы масса тела встречаются чаще всего у у пожилых людей и у пациентов в возрасте 41-55 лет. При этом у детей, у 18-30 и 31-40-летних пациентов примерно одинаковые результаты. "
   ]
  },
  {
   "cell_type": "markdown",
   "id": "1500a17b",
   "metadata": {},
   "source": [
    "### Частотные таблицы по отфильтрованным данным "
   ]
  },
  {
   "cell_type": "markdown",
   "id": "cbd4fa56",
   "metadata": {},
   "source": [
    "Сердечные заболевания являются важным фактором, который появляется часто у пожилых людей (мы уже проводили фильтровку по возрасту). Посмотрим, сколько людей старше 60 лет страдают от сердечных заболеваний. Помним, что людей такого возраста в наших данных 1376 человека. "
   ]
  },
  {
   "cell_type": "code",
   "execution_count": 123,
   "id": "d65a5513",
   "metadata": {},
   "outputs": [
    {
     "data": {
      "text/plain": [
       "<AxesSubplot:ylabel='heart_disease'>"
      ]
     },
     "execution_count": 123,
     "metadata": {},
     "output_type": "execute_result"
    },
    {
     "data": {
      "image/png": "[encoded data removed]",
      "text/plain": [
       "<Figure size 432x288 with 1 Axes>"
      ]
     },
     "metadata": {},
     "output_type": "display_data"
    }
   ],
   "source": [
    "data[(data['age'] >= 60)&(data['stroke'] == 1)]['heart_disease'].value_counts().plot(kind='pie')"
   ]
  },
  {
   "cell_type": "markdown",
   "id": "99f9b703",
   "metadata": {},
   "source": [
    "Эта диаграмма построена по отфильтрованным данным (пациенты старше 60) и рассматривает информацию о сердечных заболеваниях среди этих пациентов. Диаграмма показала, что значительная часть пациентов не имеют сердечных заболеваний, получается, что при получении инсульта болезни сердца не первостепенный признак, небольшая часть пациентов старше 60 лет страдает от подобных заболеваний (на диаграмме под цифрой 1)"
   ]
  },
  {
   "cell_type": "markdown",
   "id": "d11a9357",
   "metadata": {},
   "source": [
    "Далее рассмотрим, как влияет на получение инсульта гипертония в совокупности с достаточно сильным фактором - с сахарным диабетом. "
   ]
  },
  {
   "cell_type": "code",
   "execution_count": 127,
   "id": "4c694f39",
   "metadata": {},
   "outputs": [
    {
     "data": {
      "text/plain": [
       "<AxesSubplot:>"
      ]
     },
     "execution_count": 127,
     "metadata": {},
     "output_type": "execute_result"
    },
    {
     "data": {
      "image/png": "[encoded data removed]",
      "text/plain": [
       "<Figure size 432x288 with 1 Axes>"
      ]
     },
     "metadata": {
      "needs_background": "light"
     },
     "output_type": "display_data"
    }
   ],
   "source": [
    "data[(data['stroke'] == 1)\n",
    "& (data['hypertension'] == 1)]['avg_glucose_level'].hist()"
   ]
  },
  {
   "cell_type": "markdown",
   "id": "14c5e566",
   "metadata": {},
   "source": [
    "График показал интересный результат. У людей, у которых был инсульт и есть гипертония, чаще всего бывает низкое давление (примерно 50 мг/дл), высокий уровень глюкозы встречается реже. Такие результаты довольно запутывают поиск взаимосвязей факторов риска. \n",
    "При этом график выглядит несимметрично, кажется, что есть выбросы в правой стороне, которые перетянут среднее в большую сторону. "
   ]
  },
  {
   "cell_type": "markdown",
   "id": "254736f7",
   "metadata": {},
   "source": [
    "Мы уже рассмотрели, что женщин в нашем датасете, больше мужчин. Однако посмотрим, сколько женщин и мужчин получили инсульт и сравним результаты. "
   ]
  },
  {
   "cell_type": "code",
   "execution_count": 144,
   "id": "9da9076e",
   "metadata": {},
   "outputs": [],
   "source": [
    "female = data[data['gender'] == 'Female']['stroke']\n",
    "male = data[data['gender'] == 'Male']['stroke']\n"
   ]
  },
  {
   "cell_type": "code",
   "execution_count": 143,
   "id": "9a8a9af7",
   "metadata": {},
   "outputs": [
    {
     "data": {
      "text/plain": [
       "<matplotlib.legend.Legend at 0x7fc2f94017f0>"
      ]
     },
     "execution_count": 143,
     "metadata": {},
     "output_type": "execute_result"
    },
    {
     "data": {
      "image/png": "[encoded data removed]",
      "text/plain": [
       "<Figure size 432x288 with 1 Axes>"
      ]
     },
     "metadata": {},
     "output_type": "display_data"
    }
   ],
   "source": [
    "female.value_counts().plot(kind='pie', autopct='%.2f%%', \n",
    "                                    labeldistance = None).legend(loc='upper right', bbox_to_anchor=(1.1, 1))"
   ]
  },
  {
   "cell_type": "code",
   "execution_count": 145,
   "id": "25426de2",
   "metadata": {},
   "outputs": [
    {
     "data": {
      "text/plain": [
       "<matplotlib.legend.Legend at 0x7fc2f926c6d0>"
      ]
     },
     "execution_count": 145,
     "metadata": {},
     "output_type": "execute_result"
    },
    {
     "data": {
      "image/png": "[encoded data removed]",
      "text/plain": [
       "<Figure size 432x288 with 1 Axes>"
      ]
     },
     "metadata": {},
     "output_type": "display_data"
    }
   ],
   "source": [
    "male.value_counts().plot(kind='pie', autopct='%.2f%%', \n",
    "                                    labeldistance = None).legend(loc='upper right', bbox_to_anchor=(1.1, 1))"
   ]
  },
  {
   "cell_type": "markdown",
   "id": "e8aa3cc8",
   "metadata": {},
   "source": [
    "Основываясь на двух круговых диаграмах, мы можем сделать вывод, что несмотря на то, что количество мужчин и женщин в датасете разное, в процентном соотношении получения инсульта мужчины и женщины схожи (5.11% и 4.71% соответственно). Делаем вывод, что мужчины и женщины в равной степени подвержены получению инсульта, и общественное мнение о том, что инсульту предрасположены в большей мере только мужчины, можно считать ошибчным. "
   ]
  },
  {
   "cell_type": "markdown",
   "id": "6ae074ee",
   "metadata": {},
   "source": [
    "## Группировка данных и МЦТ"
   ]
  },
  {
   "cell_type": "markdown",
   "id": "43277bae",
   "metadata": {},
   "source": [
    "## Первая группировка"
   ]
  },
  {
   "cell_type": "code",
   "execution_count": 7,
   "id": "b7ff689f",
   "metadata": {},
   "outputs": [
    {
     "data": {
      "text/html": [
       "<div>\n",
       "<style scoped>\n",
       "    .dataframe tbody tr th:only-of-type {\n",
       "        vertical-align: middle;\n",
       "    }\n",
       "\n",
       "    .dataframe tbody tr th {\n",
       "        vertical-align: top;\n",
       "    }\n",
       "\n",
       "    .dataframe thead th {\n",
       "        text-align: right;\n",
       "    }\n",
       "</style>\n",
       "<table border=\"1\" class=\"dataframe\">\n",
       "  <thead>\n",
       "    <tr style=\"text-align: right;\">\n",
       "      <th></th>\n",
       "      <th>bmi</th>\n",
       "      <th>avg_glucose_level</th>\n",
       "    </tr>\n",
       "    <tr>\n",
       "      <th>age_periodization</th>\n",
       "      <th></th>\n",
       "      <th></th>\n",
       "    </tr>\n",
       "  </thead>\n",
       "  <tbody>\n",
       "    <tr>\n",
       "      <th>18-30</th>\n",
       "      <td>28.011286</td>\n",
       "      <td>94.106232</td>\n",
       "    </tr>\n",
       "    <tr>\n",
       "      <th>31-40</th>\n",
       "      <td>31.223457</td>\n",
       "      <td>98.938190</td>\n",
       "    </tr>\n",
       "    <tr>\n",
       "      <th>41-55</th>\n",
       "      <td>31.663845</td>\n",
       "      <td>104.907256</td>\n",
       "    </tr>\n",
       "    <tr>\n",
       "      <th>Несовершеннолетние</th>\n",
       "      <td>21.392703</td>\n",
       "      <td>94.385981</td>\n",
       "    </tr>\n",
       "    <tr>\n",
       "      <th>Пожилые люди</th>\n",
       "      <td>30.298617</td>\n",
       "      <td>120.874145</td>\n",
       "    </tr>\n",
       "  </tbody>\n",
       "</table>\n",
       "</div>"
      ],
      "text/plain": [
       "                          bmi  avg_glucose_level\n",
       "age_periodization                               \n",
       "18-30               28.011286          94.106232\n",
       "31-40               31.223457          98.938190\n",
       "41-55               31.663845         104.907256\n",
       "Несовершеннолетние  21.392703          94.385981\n",
       "Пожилые люди        30.298617         120.874145"
      ]
     },
     "execution_count": 7,
     "metadata": {},
     "output_type": "execute_result"
    }
   ],
   "source": [
    "data.groupby('age_periodization')[['bmi', 'avg_glucose_level']].mean()"
   ]
  },
  {
   "cell_type": "code",
   "execution_count": 8,
   "id": "05cc171b",
   "metadata": {},
   "outputs": [
    {
     "data": {
      "text/html": [
       "<div>\n",
       "<style scoped>\n",
       "    .dataframe tbody tr th:only-of-type {\n",
       "        vertical-align: middle;\n",
       "    }\n",
       "\n",
       "    .dataframe tbody tr th {\n",
       "        vertical-align: top;\n",
       "    }\n",
       "\n",
       "    .dataframe thead th {\n",
       "        text-align: right;\n",
       "    }\n",
       "</style>\n",
       "<table border=\"1\" class=\"dataframe\">\n",
       "  <thead>\n",
       "    <tr style=\"text-align: right;\">\n",
       "      <th></th>\n",
       "      <th>bmi</th>\n",
       "      <th>avg_glucose_level</th>\n",
       "    </tr>\n",
       "    <tr>\n",
       "      <th>age_periodization</th>\n",
       "      <th></th>\n",
       "      <th></th>\n",
       "    </tr>\n",
       "  </thead>\n",
       "  <tbody>\n",
       "    <tr>\n",
       "      <th>18-30</th>\n",
       "      <td>26.4</td>\n",
       "      <td>88.865</td>\n",
       "    </tr>\n",
       "    <tr>\n",
       "      <th>31-40</th>\n",
       "      <td>29.9</td>\n",
       "      <td>88.890</td>\n",
       "    </tr>\n",
       "    <tr>\n",
       "      <th>41-55</th>\n",
       "      <td>30.2</td>\n",
       "      <td>92.675</td>\n",
       "    </tr>\n",
       "    <tr>\n",
       "      <th>Несовершеннолетние</th>\n",
       "      <td>19.9</td>\n",
       "      <td>89.075</td>\n",
       "    </tr>\n",
       "    <tr>\n",
       "      <th>Пожилые люди</th>\n",
       "      <td>29.5</td>\n",
       "      <td>96.330</td>\n",
       "    </tr>\n",
       "  </tbody>\n",
       "</table>\n",
       "</div>"
      ],
      "text/plain": [
       "                     bmi  avg_glucose_level\n",
       "age_periodization                          \n",
       "18-30               26.4             88.865\n",
       "31-40               29.9             88.890\n",
       "41-55               30.2             92.675\n",
       "Несовершеннолетние  19.9             89.075\n",
       "Пожилые люди        29.5             96.330"
      ]
     },
     "execution_count": 8,
     "metadata": {},
     "output_type": "execute_result"
    }
   ],
   "source": [
    "data.groupby('age_periodization')[['bmi', 'avg_glucose_level']].median()"
   ]
  },
  {
   "cell_type": "markdown",
   "id": "0d6b4b4c",
   "metadata": {},
   "source": [
    "Мы провели группировку по переменным \"ранжированного возраста\", уровня глюкозы и индкекса массы тела. В первой таблице мы посчитали среднее для индекса массы тела и уровня глюкозы, во второй - медиану. Мы заметили, что в данном случае среднее для обех переменных больше медианы. Это значит, что распределение данных ассиметрично положительное, есть много больших аномальных значений, которые перетягивают среднее в большую сторону (на графике среднее ушло бы вправо). В данном случае лучше всего использовать медиану, которая не так зависит от аномальных значений, как среднее. "
   ]
  },
  {
   "cell_type": "markdown",
   "id": "ad502e2d",
   "metadata": {},
   "source": [
    "Найти моду не представилось возможным, так как в pandas нет нужной функции. Однако отсутствие моды не сильно нам помешает. Среднее и медиана уже дали нам вполне полное представление о распределении. "
   ]
  },
  {
   "cell_type": "markdown",
   "id": "2022fbe6",
   "metadata": {},
   "source": [
    "## Вторая группировка"
   ]
  },
  {
   "cell_type": "code",
   "execution_count": 138,
   "id": "2149bde3",
   "metadata": {
    "scrolled": true
   },
   "outputs": [
    {
     "data": {
      "text/plain": [
       "gender\n",
       "Female    43.757395\n",
       "Male      42.483385\n",
       "Other     26.000000\n",
       "Name: age, dtype: float64"
      ]
     },
     "execution_count": 138,
     "metadata": {},
     "output_type": "execute_result"
    }
   ],
   "source": [
    "data.groupby('gender')['age'].mean()"
   ]
  },
  {
   "cell_type": "code",
   "execution_count": 10,
   "id": "b85c6467",
   "metadata": {},
   "outputs": [
    {
     "data": {
      "text/plain": [
       "gender\n",
       "Female    44.0\n",
       "Male      46.0\n",
       "Other     26.0\n",
       "Name: age, dtype: float64"
      ]
     },
     "execution_count": 10,
     "metadata": {},
     "output_type": "execute_result"
    }
   ],
   "source": [
    "data.groupby('gender')['age'].median()"
   ]
  },
  {
   "cell_type": "code",
   "execution_count": 12,
   "id": "122ae4d1",
   "metadata": {},
   "outputs": [
    {
     "data": {
      "text/plain": [
       "age\n",
       "57.00    44\n",
       "55.00    42\n",
       "78.00    42\n",
       "54.00    39\n",
       "59.00    38\n",
       "         ..\n",
       "0.40      1\n",
       "0.48      1\n",
       "1.24      1\n",
       "1.40      1\n",
       "1.48      1\n",
       "Name: age, Length: 103, dtype: int64"
      ]
     },
     "execution_count": 12,
     "metadata": {},
     "output_type": "execute_result"
    }
   ],
   "source": [
    "data.groupby('gender')['age'].value_counts()['Male']"
   ]
  },
  {
   "cell_type": "markdown",
   "id": "8ed62b2b",
   "metadata": {},
   "source": [
    "Чаще всего в данных встречаются 57-летние мужчины. Таким образом мы нашли моду. "
   ]
  },
  {
   "cell_type": "code",
   "execution_count": 13,
   "id": "78956d0b",
   "metadata": {},
   "outputs": [
    {
     "data": {
      "text/plain": [
       "age\n",
       "45.00    61\n",
       "78.00    60\n",
       "79.00    59\n",
       "50.00    55\n",
       "51.00    54\n",
       "         ..\n",
       "0.56      1\n",
       "0.80      1\n",
       "0.88      1\n",
       "1.00      1\n",
       "1.72      1\n",
       "Name: age, Length: 102, dtype: int64"
      ]
     },
     "execution_count": 13,
     "metadata": {},
     "output_type": "execute_result"
    }
   ],
   "source": [
    "data.groupby('gender')['age'].value_counts()['Female']"
   ]
  },
  {
   "cell_type": "markdown",
   "id": "4f5d3ce9",
   "metadata": {},
   "source": [
    "Чаще всего в данных встречаются 45-летние женщины. Таким образом мы нашли моду."
   ]
  },
  {
   "cell_type": "code",
   "execution_count": 14,
   "id": "bcadfa36",
   "metadata": {},
   "outputs": [
    {
     "data": {
      "text/html": [
       "<div>\n",
       "<style scoped>\n",
       "    .dataframe tbody tr th:only-of-type {\n",
       "        vertical-align: middle;\n",
       "    }\n",
       "\n",
       "    .dataframe tbody tr th {\n",
       "        vertical-align: top;\n",
       "    }\n",
       "\n",
       "    .dataframe thead th {\n",
       "        text-align: right;\n",
       "    }\n",
       "</style>\n",
       "<table border=\"1\" class=\"dataframe\">\n",
       "  <thead>\n",
       "    <tr style=\"text-align: right;\">\n",
       "      <th></th>\n",
       "      <th>gender</th>\n",
       "      <th>age</th>\n",
       "      <th>hypertension</th>\n",
       "      <th>heart_disease</th>\n",
       "      <th>ever_married</th>\n",
       "      <th>work_type</th>\n",
       "      <th>Residence_type</th>\n",
       "      <th>avg_glucose_level</th>\n",
       "      <th>bmi</th>\n",
       "      <th>smoking_status</th>\n",
       "      <th>stroke</th>\n",
       "      <th>endocrinologist_need</th>\n",
       "      <th>age_periodization</th>\n",
       "      <th>cardiovascular_diseases_risk</th>\n",
       "    </tr>\n",
       "  </thead>\n",
       "  <tbody>\n",
       "    <tr>\n",
       "      <th>3116</th>\n",
       "      <td>Other</td>\n",
       "      <td>26.0</td>\n",
       "      <td>0</td>\n",
       "      <td>0</td>\n",
       "      <td>No</td>\n",
       "      <td>Private</td>\n",
       "      <td>Rural</td>\n",
       "      <td>143.33</td>\n",
       "      <td>22.4</td>\n",
       "      <td>formerly smoked</td>\n",
       "      <td>0</td>\n",
       "      <td>True</td>\n",
       "      <td>18-30</td>\n",
       "      <td>No risk</td>\n",
       "    </tr>\n",
       "  </tbody>\n",
       "</table>\n",
       "</div>"
      ],
      "text/plain": [
       "     gender   age  hypertension  heart_disease ever_married work_type  \\\n",
       "3116  Other  26.0             0              0           No   Private   \n",
       "\n",
       "     Residence_type  avg_glucose_level   bmi   smoking_status  stroke  \\\n",
       "3116          Rural             143.33  22.4  formerly smoked       0   \n",
       "\n",
       "      endocrinologist_need age_periodization cardiovascular_diseases_risk  \n",
       "3116                  True             18-30                      No risk  "
      ]
     },
     "execution_count": 14,
     "metadata": {},
     "output_type": "execute_result"
    }
   ],
   "source": [
    "data[data['gender'] == 'Other']"
   ]
  },
  {
   "cell_type": "markdown",
   "id": "55bcf9df",
   "metadata": {},
   "source": [
    "Считать моду пола other смысла не имеет, так как у нас только один пациент, которому 26 лет. "
   ]
  },
  {
   "cell_type": "markdown",
   "id": "59bd6cdb",
   "metadata": {},
   "source": [
    "Мы провели группировку по переменным пола и возраста. Можно сказать, что распределение возраста по женскому довольно симметричное, так как медиана, среднее и мода почти одинаковы (43.8, 44 и 44 соответственно). По мужскому полу виднеется небольшая ассиметрия: среднее меньше медианы (среднее 42.5, медиана - 46), а мода слишком большая (57). Можно сказать, что на среднее повлияли несколько маленьких аномальных значений, которые и сделали его меньше. Тем не менее в обоих распределениях (и по мужчинам, и по женщинам) можно использовать все три меры центральной тенденции, сильных искажений нет. "
   ]
  },
  {
   "cell_type": "markdown",
   "id": "fc5916e5",
   "metadata": {},
   "source": [
    "## Ящик с усами"
   ]
  },
  {
   "cell_type": "markdown",
   "id": "4337fabb",
   "metadata": {},
   "source": [
    "Создавая гистограмму для переменной уровня глюкозы, мы заметили, что распределение несимметричное. Рассмотрим его с помощью ящика с усами. "
   ]
  },
  {
   "cell_type": "code",
   "execution_count": 15,
   "id": "e66fd317",
   "metadata": {},
   "outputs": [
    {
     "data": {
      "text/plain": [
       "<AxesSubplot:xlabel='avg_glucose_level'>"
      ]
     },
     "execution_count": 15,
     "metadata": {},
     "output_type": "execute_result"
    },
    {
     "data": {
      "image/png": "[encoded data removed]",
      "text/plain": [
       "<Figure size 432x288 with 1 Axes>"
      ]
     },
     "metadata": {
      "needs_background": "light"
     },
     "output_type": "display_data"
    }
   ],
   "source": [
    "sns.boxplot(x=data['avg_glucose_level'])"
   ]
  },
  {
   "cell_type": "markdown",
   "id": "0d188c4e",
   "metadata": {},
   "source": [
    "**Интерпретация графика:**\n",
    "1. Нижняя граница равна 50, при этом за границей выбросов нет. \n",
    "2. Верхняя граница равна примерно 160-170, при этом за ней находится много выбросов, от верхней границы и до более 250. \n",
    "3. Синий ящичек показывает, где находятся центральные значения. Центральные значения данной переменной находятся в промежутке от примерно 70 до 120. \n",
    "4. Медина равна примерно 90\n",
    "5. Первый квартиль равна примерно 70\n",
    "6. Третья квартиль равна примерно 120. \n",
    "7. Выбросы есть только за верхней границей, и их достаточно много. Распределение получается ассиметрично положительным, соответстенно среднее будет больше медианы. "
   ]
  },
  {
   "cell_type": "markdown",
   "id": "50b48502",
   "metadata": {},
   "source": [
    "# Этап 3"
   ]
  },
  {
   "cell_type": "markdown",
   "id": "0a069eb0",
   "metadata": {},
   "source": [
    "## Пропущенные значения"
   ]
  },
  {
   "cell_type": "markdown",
   "id": "a22280a3",
   "metadata": {},
   "source": [
    "Посмотрим, в каких переменных есть пропущенные значения "
   ]
  },
  {
   "cell_type": "code",
   "execution_count": 215,
   "id": "ec49a039",
   "metadata": {},
   "outputs": [
    {
     "data": {
      "text/plain": [
       "id                     0\n",
       "gender                 0\n",
       "age                    0\n",
       "hypertension           0\n",
       "heart_disease          0\n",
       "ever_married           0\n",
       "work_type              0\n",
       "Residence_type         0\n",
       "avg_glucose_level      0\n",
       "bmi                  201\n",
       "smoking_status         0\n",
       "stroke                 0\n",
       "dtype: int64"
      ]
     },
     "execution_count": 215,
     "metadata": {},
     "output_type": "execute_result"
    }
   ],
   "source": [
    "data.isna().sum()"
   ]
  },
  {
   "cell_type": "markdown",
   "id": "033ec597",
   "metadata": {},
   "source": [
    "У нас есть 201 пропущенное значение в переменной индекса массы тела. Чтобы понять, какую меру лучше использовать, визуализируем распределение значений в этой переменной с помощью гистограммы. "
   ]
  },
  {
   "cell_type": "code",
   "execution_count": 26,
   "id": "a2f9c3dc",
   "metadata": {},
   "outputs": [
    {
     "data": {
      "text/plain": [
       "<AxesSubplot:>"
      ]
     },
     "execution_count": 26,
     "metadata": {},
     "output_type": "execute_result"
    },
    {
     "data": {
      "image/png": "[encoded data removed]",
      "text/plain": [
       "<Figure size 432x288 with 1 Axes>"
      ]
     },
     "metadata": {
      "needs_background": "light"
     },
     "output_type": "display_data"
    }
   ],
   "source": [
    "data['bmi'].hist()"
   ]
  },
  {
   "cell_type": "markdown",
   "id": "732d100f",
   "metadata": {},
   "source": [
    "Мы видим, что распределение значений довольно симметричное. Следовательно, все 3 мцт должны не сильно отличаться друг от друга. Проверим это. "
   ]
  },
  {
   "cell_type": "code",
   "execution_count": 165,
   "id": "76ec4b87",
   "metadata": {},
   "outputs": [
    {
     "data": {
      "text/plain": [
       "(28.893236911794673, 28.1, 28.7)"
      ]
     },
     "execution_count": 165,
     "metadata": {},
     "output_type": "execute_result"
    }
   ],
   "source": [
    "mean = data['bmi'].mean()\n",
    "median = data['bmi'].median()\n",
    "mode = data['bmi'].mode()\n",
    "mean, median, mode[0]\n"
   ]
  },
  {
   "cell_type": "markdown",
   "id": "b456461d",
   "metadata": {},
   "source": [
    "Меры центральной тенденции действительно не сильно отличаются друг от друга. Среднее чуть больше медианы, это говорит о том, что есть небольшое количество выбросов, смещающие среднее в большую сторону. Для пропущенных значений можно использовать медиану, которая не так сильно зависит от выбросов. "
   ]
  },
  {
   "cell_type": "code",
   "execution_count": 216,
   "id": "3478d63d",
   "metadata": {},
   "outputs": [],
   "source": [
    "data['bmi'].fillna(median, inplace = True)"
   ]
  },
  {
   "cell_type": "markdown",
   "id": "a625f281",
   "metadata": {},
   "source": [
    "## Выбросы"
   ]
  },
  {
   "cell_type": "markdown",
   "id": "111c61df",
   "metadata": {},
   "source": [
    "Выбросы найдем по 3 числовым переменным: возрасту, уровню глюкозы и индексу массы тела. "
   ]
  },
  {
   "cell_type": "markdown",
   "id": "2c7ca991",
   "metadata": {},
   "source": [
    "### Возраст"
   ]
  },
  {
   "cell_type": "markdown",
   "id": "612cf307",
   "metadata": {},
   "source": [
    "**Интерквартильный размах**"
   ]
  },
  {
   "cell_type": "code",
   "execution_count": 155,
   "id": "b3755743",
   "metadata": {},
   "outputs": [
    {
     "data": {
      "text/plain": [
       "(-29.0, 115.0)"
      ]
     },
     "execution_count": 155,
     "metadata": {},
     "output_type": "execute_result"
    }
   ],
   "source": [
    "q1_age = np.percentile(data['age'], 25)\n",
    "q3_age = np.percentile(data['age'], 75)\n",
    "iqr_age=q3_age - q1_age\n",
    "# Нижняя граница\n",
    "bottom_age = q1_age - 1.5*iqr_age\n",
    "# Верхняя границы\n",
    "top_age = q3_age + 1.5*iqr_age\n",
    "bottom_age, top_age"
   ]
  },
  {
   "cell_type": "markdown",
   "id": "27f029d7",
   "metadata": {},
   "source": [
    "Мы нашли верхние и нижние границы распределения. Нижняя граница является отрицательным числом, предполагаем, что выбросов за нижней границей может и не быть. "
   ]
  },
  {
   "cell_type": "code",
   "execution_count": 156,
   "id": "528ebbce",
   "metadata": {},
   "outputs": [
    {
     "data": {
      "text/html": [
       "<div>\n",
       "<style scoped>\n",
       "    .dataframe tbody tr th:only-of-type {\n",
       "        vertical-align: middle;\n",
       "    }\n",
       "\n",
       "    .dataframe tbody tr th {\n",
       "        vertical-align: top;\n",
       "    }\n",
       "\n",
       "    .dataframe thead th {\n",
       "        text-align: right;\n",
       "    }\n",
       "</style>\n",
       "<table border=\"1\" class=\"dataframe\">\n",
       "  <thead>\n",
       "    <tr style=\"text-align: right;\">\n",
       "      <th></th>\n",
       "      <th>id</th>\n",
       "      <th>gender</th>\n",
       "      <th>age</th>\n",
       "      <th>hypertension</th>\n",
       "      <th>heart_disease</th>\n",
       "      <th>ever_married</th>\n",
       "      <th>work_type</th>\n",
       "      <th>Residence_type</th>\n",
       "      <th>avg_glucose_level</th>\n",
       "      <th>bmi</th>\n",
       "      <th>smoking_status</th>\n",
       "      <th>stroke</th>\n",
       "      <th>endocrinologist_need</th>\n",
       "      <th>age_periodization</th>\n",
       "      <th>cardiovascular_diseases_risk</th>\n",
       "    </tr>\n",
       "  </thead>\n",
       "  <tbody>\n",
       "  </tbody>\n",
       "</table>\n",
       "</div>"
      ],
      "text/plain": [
       "Empty DataFrame\n",
       "Columns: [id, gender, age, hypertension, heart_disease, ever_married, work_type, Residence_type, avg_glucose_level, bmi, smoking_status, stroke, endocrinologist_need, age_periodization, cardiovascular_diseases_risk]\n",
       "Index: []"
      ]
     },
     "execution_count": 156,
     "metadata": {},
     "output_type": "execute_result"
    }
   ],
   "source": [
    "data[(data['age'] < bottom_age) | (data['age'] > top_age)]"
   ]
  },
  {
   "cell_type": "markdown",
   "id": "29c63dfe",
   "metadata": {},
   "source": [
    "Выбросов в переменной возраста нет. Однако мы посчитали выбросы по интерквартильному размаху, посмотрим, что будет, если посчитать с помощью стандартного отклонения (а именно 3 стандартных отклонений)"
   ]
  },
  {
   "cell_type": "markdown",
   "id": "f3ca77f8",
   "metadata": {},
   "source": [
    "**Стандартное отклонение**"
   ]
  },
  {
   "cell_type": "code",
   "execution_count": 158,
   "id": "72ac4705",
   "metadata": {},
   "outputs": [
    {
     "data": {
      "text/plain": [
       "(-24.604687599930017, 111.05791656274805)"
      ]
     },
     "execution_count": 158,
     "metadata": {},
     "output_type": "execute_result"
    }
   ],
   "source": [
    "mean_age = data['age'].mean()\n",
    "std_age = data['age'].std(ddof=0)\n",
    "# Нижняя граница\n",
    "bottom1_age = mean_age - 3*std_age\n",
    "# Верхняя граница\n",
    "top1_age = mean_age + 3*std_age\n",
    "bottom1_age, top1_age"
   ]
  },
  {
   "cell_type": "markdown",
   "id": "ccc692a4",
   "metadata": {},
   "source": [
    "Мы нашли верхние и нижние границы распределения. Нижняя граница вновь представлена отрицательным числом, предполагаем, что выбросов за нижней границей может и не быть."
   ]
  },
  {
   "cell_type": "code",
   "execution_count": 157,
   "id": "c048d162",
   "metadata": {},
   "outputs": [
    {
     "data": {
      "text/html": [
       "<div>\n",
       "<style scoped>\n",
       "    .dataframe tbody tr th:only-of-type {\n",
       "        vertical-align: middle;\n",
       "    }\n",
       "\n",
       "    .dataframe tbody tr th {\n",
       "        vertical-align: top;\n",
       "    }\n",
       "\n",
       "    .dataframe thead th {\n",
       "        text-align: right;\n",
       "    }\n",
       "</style>\n",
       "<table border=\"1\" class=\"dataframe\">\n",
       "  <thead>\n",
       "    <tr style=\"text-align: right;\">\n",
       "      <th></th>\n",
       "      <th>id</th>\n",
       "      <th>gender</th>\n",
       "      <th>age</th>\n",
       "      <th>hypertension</th>\n",
       "      <th>heart_disease</th>\n",
       "      <th>ever_married</th>\n",
       "      <th>work_type</th>\n",
       "      <th>Residence_type</th>\n",
       "      <th>avg_glucose_level</th>\n",
       "      <th>bmi</th>\n",
       "      <th>smoking_status</th>\n",
       "      <th>stroke</th>\n",
       "      <th>endocrinologist_need</th>\n",
       "      <th>age_periodization</th>\n",
       "      <th>cardiovascular_diseases_risk</th>\n",
       "    </tr>\n",
       "  </thead>\n",
       "  <tbody>\n",
       "  </tbody>\n",
       "</table>\n",
       "</div>"
      ],
      "text/plain": [
       "Empty DataFrame\n",
       "Columns: [id, gender, age, hypertension, heart_disease, ever_married, work_type, Residence_type, avg_glucose_level, bmi, smoking_status, stroke, endocrinologist_need, age_periodization, cardiovascular_diseases_risk]\n",
       "Index: []"
      ]
     },
     "execution_count": 157,
     "metadata": {},
     "output_type": "execute_result"
    }
   ],
   "source": [
    "data[(data['age'] < bottom1_age) | (data['age'] > top1_age)]"
   ]
  },
  {
   "cell_type": "markdown",
   "id": "a733f194",
   "metadata": {},
   "source": [
    "Выбросов в переменной возраста нет и при расчете стандартного отклонения. Вспоминаем визуализированное с помощью гистограммы распределение, которое было достаточно симметричное. "
   ]
  },
  {
   "cell_type": "markdown",
   "id": "d642a1c6",
   "metadata": {},
   "source": [
    "### Уровень глюкозы"
   ]
  },
  {
   "cell_type": "markdown",
   "id": "89c39e8b",
   "metadata": {},
   "source": [
    "**Интерквартильный размах**"
   ]
  },
  {
   "cell_type": "code",
   "execution_count": 217,
   "id": "3dd2f6fc",
   "metadata": {},
   "outputs": [
    {
     "data": {
      "text/plain": [
       "(21.977500000000006, 169.35750000000002)"
      ]
     },
     "execution_count": 217,
     "metadata": {},
     "output_type": "execute_result"
    }
   ],
   "source": [
    "q1_avg = np.percentile(data['avg_glucose_level'], 25)\n",
    "q3_avg = np.percentile(data['avg_glucose_level'], 75)\n",
    "iqr_avg = q3_avg - q1_avg\n",
    "# Нижняя граница\n",
    "bottom_avg = q1_avg - 1.5*iqr_avg\n",
    "# Верхняя границы\n",
    "top_avg = q3_avg + 1.5*iqr_avg\n",
    "bottom_avg, top_avg"
   ]
  },
  {
   "cell_type": "code",
   "execution_count": 160,
   "id": "226d8bb3",
   "metadata": {},
   "outputs": [
    {
     "data": {
      "text/plain": [
       "627"
      ]
     },
     "execution_count": 160,
     "metadata": {},
     "output_type": "execute_result"
    }
   ],
   "source": [
    "data[(data['avg_glucose_level'] < bottom_avg) \n",
    "     | (data['avg_glucose_level'] > top_avg)].shape[0]"
   ]
  },
  {
   "cell_type": "markdown",
   "id": "05c10994",
   "metadata": {},
   "source": [
    "Количество выбросов по переменной уровня глюкозы равно 627. "
   ]
  },
  {
   "cell_type": "markdown",
   "id": "8537e8eb",
   "metadata": {},
   "source": [
    "**Стандартное отклонение**"
   ]
  },
  {
   "cell_type": "code",
   "execution_count": 161,
   "id": "1077b6a8",
   "metadata": {},
   "outputs": [
    {
     "data": {
      "text/plain": [
       "(-29.689710067458847, 241.9850642748949)"
      ]
     },
     "execution_count": 161,
     "metadata": {},
     "output_type": "execute_result"
    }
   ],
   "source": [
    "mean_avg = data['avg_glucose_level'].mean()\n",
    "std_avg = data['avg_glucose_level'].std(ddof=0)\n",
    "# Нижняя граница\n",
    "bottom1_avg = mean_avg - 3*std_avg\n",
    "# Верхняя граница\n",
    "top1_avg = mean_avg + 3*std_avg\n",
    "bottom1_avg, top1_avg"
   ]
  },
  {
   "cell_type": "markdown",
   "id": "bae3fad3",
   "metadata": {},
   "source": [
    "Видим, что по стандартному отклонению нижние и верхние границы сместились, следовательно, выбросов, возможно, будет меньше."
   ]
  },
  {
   "cell_type": "code",
   "execution_count": 162,
   "id": "3b84cdf1",
   "metadata": {},
   "outputs": [
    {
     "data": {
      "text/plain": [
       "49"
      ]
     },
     "execution_count": 162,
     "metadata": {},
     "output_type": "execute_result"
    }
   ],
   "source": [
    "data[(data['avg_glucose_level'] < bottom1_avg) \n",
    "     | (data['avg_glucose_level'] > top1_avg)].shape[0]"
   ]
  },
  {
   "cell_type": "markdown",
   "id": "0006816f",
   "metadata": {},
   "source": [
    "Действительно, выбросов стало меньше - 49. "
   ]
  },
  {
   "cell_type": "markdown",
   "id": "ddfead2b",
   "metadata": {},
   "source": [
    "Сравниваем результаты:\n",
    "1. Границы, посчитанные по отклонению и размаху, отличаются. В нашем случае из-за этого по отклонению количество выбросов уменьшилось.\n",
    "2. Выбросы, посчитанные по размаху, составляют 12.27% от общего количества наблюдений. \n",
    "3. Выбросы, посчитанные по отклонению, составляют 0.96% от общего количества наблюдений. \n",
    "4. Предполагаем, что на отклонение в большой степени влияют аномальные значения, которые и смещают границы, делая их больше, отодвигая их. Получается, что в данном случае лучше использовать интерквартильный размах. "
   ]
  },
  {
   "cell_type": "code",
   "execution_count": 30,
   "id": "e2425d72",
   "metadata": {},
   "outputs": [
    {
     "data": {
      "text/plain": [
       "12.270058708414872"
      ]
     },
     "execution_count": 30,
     "metadata": {},
     "output_type": "execute_result"
    }
   ],
   "source": [
    "data[(data['avg_glucose_level'] < bottom_avg) \n",
    "     | (data['avg_glucose_level'] > top_avg)].shape[0]*100/data['avg_glucose_level'].size"
   ]
  },
  {
   "cell_type": "code",
   "execution_count": 105,
   "id": "f4cd9254",
   "metadata": {},
   "outputs": [
    {
     "data": {
      "text/plain": [
       "0.958904109589041"
      ]
     },
     "execution_count": 105,
     "metadata": {},
     "output_type": "execute_result"
    }
   ],
   "source": [
    "data[(data['avg_glucose_level'] < bottom1_avg) \n",
    "     | (data['avg_glucose_level'] > top1_avg)].shape[0]*100/data['avg_glucose_level'].size"
   ]
  },
  {
   "cell_type": "markdown",
   "id": "886c1fc2",
   "metadata": {},
   "source": [
    "### Индекс массы тела "
   ]
  },
  {
   "cell_type": "markdown",
   "id": "d28af086",
   "metadata": {},
   "source": [
    "**Интерквартильный размах**"
   ]
  },
  {
   "cell_type": "code",
   "execution_count": 218,
   "id": "9225789c",
   "metadata": {},
   "outputs": [
    {
     "data": {
      "text/plain": [
       "(10.300000000000006, 46.29999999999999)"
      ]
     },
     "execution_count": 218,
     "metadata": {},
     "output_type": "execute_result"
    }
   ],
   "source": [
    "q1_bmi = np.percentile(data['bmi'], 25)\n",
    "q3_bmi = np.percentile(data['bmi'], 75)\n",
    "iqr_bmi = q3_bmi - q1_bmi\n",
    "# Нижняя граница\n",
    "bottom_bmi = q1_bmi - 1.5*iqr_bmi\n",
    "# Верхняя границы\n",
    "top_bmi = q3_bmi + 1.5*iqr_bmi\n",
    "bottom_bmi, top_bmi"
   ]
  },
  {
   "cell_type": "code",
   "execution_count": 168,
   "id": "1a167e03",
   "metadata": {},
   "outputs": [
    {
     "data": {
      "text/plain": [
       "126"
      ]
     },
     "execution_count": 168,
     "metadata": {},
     "output_type": "execute_result"
    }
   ],
   "source": [
    "data[(data['bmi'] < bottom_bmi) \n",
    "     | (data['bmi'] > top_bmi)].shape[0]"
   ]
  },
  {
   "cell_type": "markdown",
   "id": "7674dc4e",
   "metadata": {},
   "source": [
    "Количество выбросов, посчитанных по размаху, равно 126. "
   ]
  },
  {
   "cell_type": "code",
   "execution_count": 169,
   "id": "388959a4",
   "metadata": {},
   "outputs": [
    {
     "data": {
      "text/plain": [
       "(5.765608524766606, 51.95846192533139)"
      ]
     },
     "execution_count": 169,
     "metadata": {},
     "output_type": "execute_result"
    }
   ],
   "source": [
    "mean_bmi = data['bmi'].mean()\n",
    "std_bmi = data['bmi'].std(ddof=0)\n",
    "# Нижняя граница\n",
    "bottom1_bmi = mean_bmi - 3*std_bmi\n",
    "# Верхняя граница\n",
    "top1_bmi = mean_bmi + 3*std_bmi\n",
    "bottom1_bmi, top1_bmi"
   ]
  },
  {
   "cell_type": "markdown",
   "id": "43a9a99f",
   "metadata": {},
   "source": [
    "Видим смещение границ, посчитанных по отклонению. Предполагаем уменьшение количества выбросов. "
   ]
  },
  {
   "cell_type": "code",
   "execution_count": 170,
   "id": "7e13f82d",
   "metadata": {},
   "outputs": [
    {
     "data": {
      "text/plain": [
       "59"
      ]
     },
     "execution_count": 170,
     "metadata": {},
     "output_type": "execute_result"
    }
   ],
   "source": [
    "data[(data['bmi'] < bottom1_bmi) \n",
    "     | (data['bmi'] > top1_bmi)].shape[0]"
   ]
  },
  {
   "cell_type": "markdown",
   "id": "f4629fd8",
   "metadata": {},
   "source": [
    "Количество выбросов, посчитанных по отклонению, равно 59. Действительно, их стало меньше.  "
   ]
  },
  {
   "cell_type": "markdown",
   "id": "ef829abf",
   "metadata": {},
   "source": [
    "Сравниваем результаты:\n",
    "\n",
    "1. Границы, посчитанные по отклонению и размаху, отличаются. В нашем случае из-за этого по отклонению количество выбросов уменьшилось.\n",
    "2. Выбросы, посчитанные по размаху, составляют 2.47% от общего количества наблюдений.\n",
    "3. Выбросы, посчитанные по отклонению, составляют 1.15% от общего количества наблюдений.\n",
    "4. Предполагаем, что на отклонение в большой степени влияют аномальные значения, которые и смещают границы, делая их больше, отодвигая их. Получается, что в данном случае также лучше использовать интерквартильный размах. "
   ]
  },
  {
   "cell_type": "code",
   "execution_count": 110,
   "id": "66026282",
   "metadata": {},
   "outputs": [
    {
     "data": {
      "text/plain": [
       "2.4657534246575343"
      ]
     },
     "execution_count": 110,
     "metadata": {},
     "output_type": "execute_result"
    }
   ],
   "source": [
    "data[(data['bmi'] < bottom_bmi) \n",
    "     | (data['bmi'] > top_bmi)].shape[0]*100/data['bmi'].size"
   ]
  },
  {
   "cell_type": "code",
   "execution_count": 111,
   "id": "9435e383",
   "metadata": {},
   "outputs": [
    {
     "data": {
      "text/plain": [
       "1.1545988258317026"
      ]
     },
     "execution_count": 111,
     "metadata": {},
     "output_type": "execute_result"
    }
   ],
   "source": [
    "data[(data['bmi'] < bottom1_bmi) \n",
    "     | (data['bmi'] > top1_bmi)].shape[0]*100/data['bmi'].size"
   ]
  },
  {
   "cell_type": "markdown",
   "id": "33e43df9",
   "metadata": {},
   "source": [
    "# Корреляция "
   ]
  },
  {
   "cell_type": "markdown",
   "id": "5944519a",
   "metadata": {},
   "source": [
    "В наших данных всего 3 непрерывных переменных, между которыми можно построить корреляцию: уровень глюкозы, индекс массы тела и возраста."
   ]
  },
  {
   "cell_type": "markdown",
   "id": "c80aa48c",
   "metadata": {},
   "source": [
    "Будем рассматривать корреляцию каждых пар двумя способами: с выбросами и без. Для этого создадим новый датасет, в котором не будет выбросов, рассчитанных по интерквартильному размаху по переменным уровня глюкозы и индекса массы тела (в переменной возраста, как мы уже смотрели, выбросов нет). "
   ]
  },
  {
   "cell_type": "code",
   "execution_count": 219,
   "id": "82840ec3",
   "metadata": {},
   "outputs": [],
   "source": [
    "new_data = data[((data['bmi'] < top_bmi)&(data['bmi'] > bottom_bmi))\n",
    "     &((data['avg_glucose_level'] < top_avg)&(data['avg_glucose_level'] > bottom_avg))]"
   ]
  },
  {
   "cell_type": "markdown",
   "id": "2438c8a8",
   "metadata": {},
   "source": [
    "### Возраст и BMI"
   ]
  },
  {
   "cell_type": "markdown",
   "id": "1bc7178d",
   "metadata": {},
   "source": [
    "Предполагаем, что индекс массы тела зависит от возраста: чем больше возраст, тем больше индекс массы тела и наоборот."
   ]
  },
  {
   "cell_type": "code",
   "execution_count": 113,
   "id": "e088bd13",
   "metadata": {},
   "outputs": [
    {
     "data": {
      "text/plain": [
       "0.3242956998386767"
      ]
     },
     "execution_count": 113,
     "metadata": {},
     "output_type": "execute_result"
    }
   ],
   "source": [
    "data['age'].corr(data['bmi'])"
   ]
  },
  {
   "cell_type": "markdown",
   "id": "73a61323",
   "metadata": {},
   "source": [
    "C выбросами коэффициент корреляции между индексом массы тела и возрастом положительный и равен 0.32. Связь между переменными умеренная. "
   ]
  },
  {
   "cell_type": "code",
   "execution_count": 69,
   "id": "241ee54b",
   "metadata": {},
   "outputs": [
    {
     "data": {
      "text/plain": [
       "0.3753750221187875"
      ]
     },
     "execution_count": 69,
     "metadata": {},
     "output_type": "execute_result"
    }
   ],
   "source": [
    "new_data['age'].corr(data['bmi'])"
   ]
  },
  {
   "cell_type": "markdown",
   "id": "43b1dd2f",
   "metadata": {},
   "source": [
    "Без выбросов коэффициент корреляции между индексом массы тела и возрастом положительный и равен 0.37. Связь между переменными умеренная(почти 0.4). Однако коэффициент стал больше, чем с выбросами. "
   ]
  },
  {
   "cell_type": "markdown",
   "id": "324ddd80",
   "metadata": {},
   "source": [
    "### BMI и уровень глюкозы"
   ]
  },
  {
   "cell_type": "markdown",
   "id": "e0d8e774",
   "metadata": {},
   "source": [
    "Предполагаем, что индекс массы тела зависит от уровня глюкозы: чем больше уровень глюкозы, тем больше и масса тела, так как сахарный диабет нарушает обмен вещест в организме "
   ]
  },
  {
   "cell_type": "code",
   "execution_count": 115,
   "id": "b6db36f3",
   "metadata": {},
   "outputs": [
    {
     "data": {
      "text/plain": [
       "0.1668757218060619"
      ]
     },
     "execution_count": 115,
     "metadata": {},
     "output_type": "execute_result"
    }
   ],
   "source": [
    "data['avg_glucose_level'].corr(data['bmi'])"
   ]
  },
  {
   "cell_type": "markdown",
   "id": "29e2a6cb",
   "metadata": {},
   "source": [
    "C выбросами коэффициент корреляции между индексом массы тела и уровнем глюкозы положительный и равен 0.2. Связь между переменными слабая."
   ]
  },
  {
   "cell_type": "code",
   "execution_count": 116,
   "id": "436cbe68",
   "metadata": {},
   "outputs": [
    {
     "data": {
      "text/plain": [
       "0.0025133788569529337"
      ]
     },
     "execution_count": 116,
     "metadata": {},
     "output_type": "execute_result"
    }
   ],
   "source": [
    "new_data['avg_glucose_level'].corr(data['bmi'])"
   ]
  },
  {
   "cell_type": "markdown",
   "id": "bffa71f6",
   "metadata": {},
   "source": [
    "Без выбросов коэффициент корреляции между индексом массы тела и уровнем глюкозы положительный и равен 0.0025. Связь между переменными очень слабая. Коэффициент без выбросов стал намного меньше, чем с выбросами. "
   ]
  },
  {
   "cell_type": "markdown",
   "id": "cf128001",
   "metadata": {},
   "source": [
    "### Возраст и уровень глюкозы"
   ]
  },
  {
   "cell_type": "markdown",
   "id": "f67463a1",
   "metadata": {},
   "source": [
    "Предполагаем, что уровень глюкозы зависит от возраста, например, в пожилом возрасте у людей часто падает сахар в крови. Возможно выделить следующую связь: чем больше возраст, тем меньше уровень глюкозы. "
   ]
  },
  {
   "cell_type": "code",
   "execution_count": 117,
   "id": "895875f2",
   "metadata": {},
   "outputs": [
    {
     "data": {
      "text/plain": [
       "0.2381711141017434"
      ]
     },
     "execution_count": 117,
     "metadata": {},
     "output_type": "execute_result"
    }
   ],
   "source": [
    "data['age'].corr(data['avg_glucose_level'])"
   ]
  },
  {
   "cell_type": "markdown",
   "id": "82174a18",
   "metadata": {},
   "source": [
    "C выбросами коэффициент корреляции между возрастом и уровнем глюкозы положительный и равен 0.2. Связь между переменными слабая."
   ]
  },
  {
   "cell_type": "code",
   "execution_count": 118,
   "id": "c0699dab",
   "metadata": {},
   "outputs": [
    {
     "data": {
      "text/plain": [
       "-0.024587273971391214"
      ]
     },
     "execution_count": 118,
     "metadata": {},
     "output_type": "execute_result"
    }
   ],
   "source": [
    "new_data['age'].corr(data['avg_glucose_level'])"
   ]
  },
  {
   "cell_type": "markdown",
   "id": "4eb7f6b3",
   "metadata": {},
   "source": [
    "Без выбросов коэффициент корреляции между возрастом и уровнем глюкозы отрицательный и равен -0.026. Связь между переменными очень слабая. Коэффициент без выбросов стал больше, но поменялась и зависимость: стала обратной, отчасти подтвердив нашу гипотезу"
   ]
  },
  {
   "cell_type": "markdown",
   "id": "00ce6d28",
   "metadata": {},
   "source": [
    "С чем связано то, коэффицент не сильно, но изменялся в зависимости от наличия выбросов? Вообще выбросы влияют на коэффициент корреляции, так как при его подсчете большую роль играет то, насколько значения отклонены от среднего. Выбросы могут как снижать коэффицент, так и увеличивать его и даже менять связь с положительной на отрицательную. В нашем случае выбросы не сильно меняли коэффициент, возможно, из-за того, что их было не так много. Однако в одном случае (возраст и уровень глюкозы) поменялась зависимость. Это говорит о том, что выбросу могут скрывать и реальную зависимость между переменными. "
   ]
  },
  {
   "cell_type": "markdown",
   "id": "87dc5c3a",
   "metadata": {},
   "source": [
    "## Выбросы в сгруппированных данных"
   ]
  },
  {
   "cell_type": "markdown",
   "id": "70044953",
   "metadata": {},
   "source": [
    "Чтобы посчитать меры мцт для сгруппированных данных без учёта выбросов, воспользуемся новым датасетом, в котором отсутствуют выбросы по переменным уровня глюкозы, индекса массы тела и возраста (их, как мы выяснили и нет, поэтому вторую группировку проверить мы не можем) и сравним с данными с выбросами. "
   ]
  },
  {
   "cell_type": "markdown",
   "id": "99337476",
   "metadata": {},
   "source": [
    "### Первая группировка"
   ]
  },
  {
   "cell_type": "code",
   "execution_count": 119,
   "id": "b869160f",
   "metadata": {},
   "outputs": [
    {
     "data": {
      "text/html": [
       "<div>\n",
       "<style scoped>\n",
       "    .dataframe tbody tr th:only-of-type {\n",
       "        vertical-align: middle;\n",
       "    }\n",
       "\n",
       "    .dataframe tbody tr th {\n",
       "        vertical-align: top;\n",
       "    }\n",
       "\n",
       "    .dataframe thead th {\n",
       "        text-align: right;\n",
       "    }\n",
       "</style>\n",
       "<table border=\"1\" class=\"dataframe\">\n",
       "  <thead>\n",
       "    <tr style=\"text-align: right;\">\n",
       "      <th></th>\n",
       "      <th>bmi</th>\n",
       "      <th>avg_glucose_level</th>\n",
       "    </tr>\n",
       "    <tr>\n",
       "      <th>age_periodization</th>\n",
       "      <th></th>\n",
       "      <th></th>\n",
       "    </tr>\n",
       "  </thead>\n",
       "  <tbody>\n",
       "    <tr>\n",
       "      <th>18-30</th>\n",
       "      <td>27.363476</td>\n",
       "      <td>91.399278</td>\n",
       "    </tr>\n",
       "    <tr>\n",
       "      <th>31-40</th>\n",
       "      <td>30.132397</td>\n",
       "      <td>91.296678</td>\n",
       "    </tr>\n",
       "    <tr>\n",
       "      <th>41-55</th>\n",
       "      <td>30.155378</td>\n",
       "      <td>91.978327</td>\n",
       "    </tr>\n",
       "    <tr>\n",
       "      <th>Несовершеннолетние</th>\n",
       "      <td>21.359521</td>\n",
       "      <td>92.369593</td>\n",
       "    </tr>\n",
       "    <tr>\n",
       "      <th>Пожилые люди</th>\n",
       "      <td>29.248975</td>\n",
       "      <td>90.620150</td>\n",
       "    </tr>\n",
       "  </tbody>\n",
       "</table>\n",
       "</div>"
      ],
      "text/plain": [
       "                          bmi  avg_glucose_level\n",
       "age_periodization                               \n",
       "18-30               27.363476          91.399278\n",
       "31-40               30.132397          91.296678\n",
       "41-55               30.155378          91.978327\n",
       "Несовершеннолетние  21.359521          92.369593\n",
       "Пожилые люди        29.248975          90.620150"
      ]
     },
     "execution_count": 119,
     "metadata": {},
     "output_type": "execute_result"
    }
   ],
   "source": [
    "new_data.groupby('age_periodization')[['bmi', 'avg_glucose_level']].mean()"
   ]
  },
  {
   "cell_type": "code",
   "execution_count": 120,
   "id": "676e5b48",
   "metadata": {},
   "outputs": [
    {
     "data": {
      "text/html": [
       "<div>\n",
       "<style scoped>\n",
       "    .dataframe tbody tr th:only-of-type {\n",
       "        vertical-align: middle;\n",
       "    }\n",
       "\n",
       "    .dataframe tbody tr th {\n",
       "        vertical-align: top;\n",
       "    }\n",
       "\n",
       "    .dataframe thead th {\n",
       "        text-align: right;\n",
       "    }\n",
       "</style>\n",
       "<table border=\"1\" class=\"dataframe\">\n",
       "  <thead>\n",
       "    <tr style=\"text-align: right;\">\n",
       "      <th></th>\n",
       "      <th>bmi</th>\n",
       "      <th>avg_glucose_level</th>\n",
       "    </tr>\n",
       "    <tr>\n",
       "      <th>age_periodization</th>\n",
       "      <th></th>\n",
       "      <th></th>\n",
       "    </tr>\n",
       "  </thead>\n",
       "  <tbody>\n",
       "    <tr>\n",
       "      <th>18-30</th>\n",
       "      <td>28.013025</td>\n",
       "      <td>94.106232</td>\n",
       "    </tr>\n",
       "    <tr>\n",
       "      <th>31-40</th>\n",
       "      <td>31.102967</td>\n",
       "      <td>98.938190</td>\n",
       "    </tr>\n",
       "    <tr>\n",
       "      <th>41-55</th>\n",
       "      <td>31.554188</td>\n",
       "      <td>104.907256</td>\n",
       "    </tr>\n",
       "    <tr>\n",
       "      <th>Несовершеннолетние</th>\n",
       "      <td>21.549416</td>\n",
       "      <td>94.385981</td>\n",
       "    </tr>\n",
       "    <tr>\n",
       "      <th>Пожилые люди</th>\n",
       "      <td>30.162500</td>\n",
       "      <td>120.874145</td>\n",
       "    </tr>\n",
       "  </tbody>\n",
       "</table>\n",
       "</div>"
      ],
      "text/plain": [
       "                          bmi  avg_glucose_level\n",
       "age_periodization                               \n",
       "18-30               28.013025          94.106232\n",
       "31-40               31.102967          98.938190\n",
       "41-55               31.554188         104.907256\n",
       "Несовершеннолетние  21.549416          94.385981\n",
       "Пожилые люди        30.162500         120.874145"
      ]
     },
     "execution_count": 120,
     "metadata": {},
     "output_type": "execute_result"
    }
   ],
   "source": [
    "data.groupby('age_periodization')[['bmi', 'avg_glucose_level']].mean()"
   ]
  },
  {
   "cell_type": "markdown",
   "id": "a58a380b",
   "metadata": {},
   "source": [
    "Мы видим, что без выбросов среднее стало меньше, чем с выбросами. Это связано с тем, что выбросы были большими аномальными значениями, которые влияли на среднее, делая его больше. При этом важно отметить, что много выбросов наблюдалось в показателях уровня глюкозы среди пациентов 41-55 лет и пожилого возраста. Среднее стало меньше на 13 и 30 единиц соответственно. "
   ]
  },
  {
   "cell_type": "code",
   "execution_count": 121,
   "id": "7defbbfe",
   "metadata": {},
   "outputs": [
    {
     "data": {
      "text/html": [
       "<div>\n",
       "<style scoped>\n",
       "    .dataframe tbody tr th:only-of-type {\n",
       "        vertical-align: middle;\n",
       "    }\n",
       "\n",
       "    .dataframe tbody tr th {\n",
       "        vertical-align: top;\n",
       "    }\n",
       "\n",
       "    .dataframe thead th {\n",
       "        text-align: right;\n",
       "    }\n",
       "</style>\n",
       "<table border=\"1\" class=\"dataframe\">\n",
       "  <thead>\n",
       "    <tr style=\"text-align: right;\">\n",
       "      <th></th>\n",
       "      <th>bmi</th>\n",
       "      <th>avg_glucose_level</th>\n",
       "    </tr>\n",
       "    <tr>\n",
       "      <th>age_periodization</th>\n",
       "      <th></th>\n",
       "      <th></th>\n",
       "    </tr>\n",
       "  </thead>\n",
       "  <tbody>\n",
       "    <tr>\n",
       "      <th>18-30</th>\n",
       "      <td>26.3</td>\n",
       "      <td>88.470</td>\n",
       "    </tr>\n",
       "    <tr>\n",
       "      <th>31-40</th>\n",
       "      <td>28.7</td>\n",
       "      <td>86.970</td>\n",
       "    </tr>\n",
       "    <tr>\n",
       "      <th>41-55</th>\n",
       "      <td>29.3</td>\n",
       "      <td>88.700</td>\n",
       "    </tr>\n",
       "    <tr>\n",
       "      <th>Несовершеннолетние</th>\n",
       "      <td>20.0</td>\n",
       "      <td>88.600</td>\n",
       "    </tr>\n",
       "    <tr>\n",
       "      <th>Пожилые люди</th>\n",
       "      <td>28.6</td>\n",
       "      <td>87.385</td>\n",
       "    </tr>\n",
       "  </tbody>\n",
       "</table>\n",
       "</div>"
      ],
      "text/plain": [
       "                     bmi  avg_glucose_level\n",
       "age_periodization                          \n",
       "18-30               26.3             88.470\n",
       "31-40               28.7             86.970\n",
       "41-55               29.3             88.700\n",
       "Несовершеннолетние  20.0             88.600\n",
       "Пожилые люди        28.6             87.385"
      ]
     },
     "execution_count": 121,
     "metadata": {},
     "output_type": "execute_result"
    }
   ],
   "source": [
    "new_data.groupby('age_periodization')[['bmi', 'avg_glucose_level']].median()"
   ]
  },
  {
   "cell_type": "code",
   "execution_count": 122,
   "id": "c91b2d31",
   "metadata": {},
   "outputs": [
    {
     "data": {
      "text/html": [
       "<div>\n",
       "<style scoped>\n",
       "    .dataframe tbody tr th:only-of-type {\n",
       "        vertical-align: middle;\n",
       "    }\n",
       "\n",
       "    .dataframe tbody tr th {\n",
       "        vertical-align: top;\n",
       "    }\n",
       "\n",
       "    .dataframe thead th {\n",
       "        text-align: right;\n",
       "    }\n",
       "</style>\n",
       "<table border=\"1\" class=\"dataframe\">\n",
       "  <thead>\n",
       "    <tr style=\"text-align: right;\">\n",
       "      <th></th>\n",
       "      <th>bmi</th>\n",
       "      <th>avg_glucose_level</th>\n",
       "    </tr>\n",
       "    <tr>\n",
       "      <th>age_periodization</th>\n",
       "      <th></th>\n",
       "      <th></th>\n",
       "    </tr>\n",
       "  </thead>\n",
       "  <tbody>\n",
       "    <tr>\n",
       "      <th>18-30</th>\n",
       "      <td>26.55</td>\n",
       "      <td>88.865</td>\n",
       "    </tr>\n",
       "    <tr>\n",
       "      <th>31-40</th>\n",
       "      <td>29.30</td>\n",
       "      <td>88.890</td>\n",
       "    </tr>\n",
       "    <tr>\n",
       "      <th>41-55</th>\n",
       "      <td>29.90</td>\n",
       "      <td>92.675</td>\n",
       "    </tr>\n",
       "    <tr>\n",
       "      <th>Несовершеннолетние</th>\n",
       "      <td>20.00</td>\n",
       "      <td>89.075</td>\n",
       "    </tr>\n",
       "    <tr>\n",
       "      <th>Пожилые люди</th>\n",
       "      <td>29.10</td>\n",
       "      <td>96.330</td>\n",
       "    </tr>\n",
       "  </tbody>\n",
       "</table>\n",
       "</div>"
      ],
      "text/plain": [
       "                      bmi  avg_glucose_level\n",
       "age_periodization                           \n",
       "18-30               26.55             88.865\n",
       "31-40               29.30             88.890\n",
       "41-55               29.90             92.675\n",
       "Несовершеннолетние  20.00             89.075\n",
       "Пожилые люди        29.10             96.330"
      ]
     },
     "execution_count": 122,
     "metadata": {},
     "output_type": "execute_result"
    }
   ],
   "source": [
    "data.groupby('age_periodization')[['bmi', 'avg_glucose_level']].median()"
   ]
  },
  {
   "cell_type": "markdown",
   "id": "0b6bdf0f",
   "metadata": {},
   "source": [
    "Медиана не сильно изменилась из-за отсутствия выбросов, стала немного меньше. Это было ожидаемо, так как медиана не так зависит от выбросов, как среднее. Однако большое количество аномальных значений может повлиять на медиану. Так, мы видим, что в тех показателях, в которых было много выбросов и в которых среднее сильно меняется в зависимости от наличия выбросов, меняется и медиана, становясь меньше (например, в переменной уровня глюкозы у пожилых людей с выбросами медиана была примерно 96, без выбросов - 87)"
   ]
  },
  {
   "cell_type": "markdown",
   "id": "5e0d52d9",
   "metadata": {},
   "source": [
    "В целом мы можем сказать, что без выбросов у пациентов нормальный уровень глюкозы в крови и нормальный индекс массы тела, ожирение в среднем у пациентов в возрасте 31-40, 41-55.  "
   ]
  },
  {
   "cell_type": "markdown",
   "id": "14a9b8b8",
   "metadata": {},
   "source": [
    "## Этап 4"
   ]
  },
  {
   "cell_type": "code",
   "execution_count": 186,
   "id": "80260ea0",
   "metadata": {},
   "outputs": [
    {
     "data": {
      "image/png": "[encoded data removed]",
      "text/plain": [
       "<Figure size 864x576 with 1 Axes>"
      ]
     },
     "metadata": {},
     "output_type": "display_data"
    }
   ],
   "source": [
    "fig, ax = plt.subplots(figsize=[12,8])\n",
    "ax.pie(data['stroke'].value_counts(), autopct='%.2f%%', labels = ['Не было инсульта', 'Был инсульт',], colors=['green','red'])\n",
    "my_circle=plt.Circle( (0,0), 0.7, color='white')\n",
    "p=plt.gcf()\n",
    "p.gca().add_artist(my_circle)\n",
    "ax.legend()\n",
    "ax.set_title('Соотношение пациентов, получивших и не получивших инсульт', fontsize = 12)\n",
    "plt.show()"
   ]
  },
  {
   "cell_type": "markdown",
   "id": "39714b31",
   "metadata": {},
   "source": [
    "Такой интересной круговой диаграммой мы рассмотрели, сколько процентов пациентов получили инсульт, а сколько - нет. Видим, что в наших данных большинство пациентов не получали инсульт (95.13%), а 4.87 - получили. Тем важнее было для нас понять факторы риска, при которых человек, не получивший инсульт, может его получить. \n",
    "\n",
    "P.S. Этот график скорее сделан для защиты проекта, чтобы визуализировать соотношение. "
   ]
  },
  {
   "cell_type": "code",
   "execution_count": 78,
   "id": "e63f7457",
   "metadata": {},
   "outputs": [
    {
     "data": {
      "image/png": "[encoded data removed]",
      "text/plain": [
       "<Figure size 576x720 with 1 Axes>"
      ]
     },
     "metadata": {
      "needs_background": "light"
     },
     "output_type": "display_data"
    }
   ],
   "source": [
    "fig, ax = plt.subplots(figsize=[8,10])\n",
    "sns.set_palette('hls')\n",
    "sns.violinplot(x=data['stroke'], y=data['age'])\n",
    "ax.set_title('Распределение возраста в зависимости от получения инсульта', fontsize = 18)\n",
    "ax.set_ylabel('Возраст', fontsize=13)\n",
    "ax.set_xlabel('Переменная получил пациент инсульт или нет', fontsize=13)\n",
    "plt.show()"
   ]
  },
  {
   "cell_type": "markdown",
   "id": "a3a71c74",
   "metadata": {},
   "source": [
    "Одна из наших гипотез касалось того, влияет ли возраст на получение инсульта. С помощью диаграммы распределения возраста в зависимости от того, получил человек инсульт или нет, мы увидели следующее:\n",
    "\n",
    "1. Возраст пациентов, получивших инсульт, в целом варьируется в пределах 40-80 лет, при этом возраст большинства пациентов находятся в интервале от 70-80 лет(видим расширение скрипичного ключа). Это подтверждает нашу гипотезу. \n",
    "2. Возраст пациентов, не получивших инсульт, охватывает почти все возраста (от 0 до 80 лет), при этом распределении возрастов в данном случае кажется более симметричном, нежели в другом. "
   ]
  },
  {
   "cell_type": "code",
   "execution_count": 220,
   "id": "1387a535",
   "metadata": {},
   "outputs": [
    {
     "data": {
      "image/png": "[encoded data removed]",
      "text/plain": [
       "<Figure size 720x576 with 2 Axes>"
      ]
     },
     "metadata": {
      "needs_background": "light"
     },
     "output_type": "display_data"
    }
   ],
   "source": [
    "X = new_data['age']\n",
    "Y = new_data['bmi']\n",
    "results = scipy.stats.linregress(X, Y)\n",
    "results.slope, results.intercept\n",
    "fig, ax = plt.subplots(figsize=[10,8])\n",
    "graph = ax.scatter(X,Y, label = 'Оригинальные данные',  c=new_data['hypertension'], alpha=0.7)\n",
    "plt.colorbar(graph, label = 'Есть гипертония или нет')\n",
    "plt.plot(X, results.slope*X + results.intercept, 'blue', label = 'Линия регрессии', lw=5)\n",
    "ax.set_title('Зависимость индекса массы тела от возраста и линейная регрессия', fontsize = 15)\n",
    "ax.set_ylabel('Индекс массы тела', fontsize = 12)\n",
    "ax.set_xlabel('Возраст пациентов', fontsize = 12)\n",
    "plt.legend()\n",
    "plt.show()"
   ]
  },
  {
   "cell_type": "markdown",
   "id": "fb3b341d",
   "metadata": {},
   "source": [
    "Другая наша гипотеза относилась к тому, что индекс массы тела завивисит от возраста. Считая корреляцию, мы заметили, что связь между этими переменными слегка умеренная (без выбросов коэффициент примерно 0.37) с положительной зависимостью. Интересно было посмотреть график рассеяния этих переменных. Действительно, переменные находятся в слабой связи (хаотичное распределение значений на графике, но есть некое уплотнение в центре в интервале от 20 лет от 60). Мы также добавили линию регрессии, она подтверждает нашу гипотезу о том, что чем больше возраст, тем больше и индекс массы тела (зависимость положительная, слева направо). В дополнение мы решили показать наблюдения, в которых у пациентов есть гипертония - видим, что таких пациентов не так много (желтый цвет, фиолетовый, соответственно, гипертонии нет). "
   ]
  },
  {
   "cell_type": "code",
   "execution_count": 172,
   "id": "1090ee57",
   "metadata": {},
   "outputs": [
    {
     "data": {
      "text/plain": [
       "array(['Private', 'Self-employed', 'Govt_job', 'children', 'Never_worked'],\n",
       "      dtype=object)"
      ]
     },
     "execution_count": 172,
     "metadata": {},
     "output_type": "execute_result"
    }
   ],
   "source": [
    "data['work_type'].unique()"
   ]
  },
  {
   "cell_type": "code",
   "execution_count": 223,
   "id": "3b94e3af",
   "metadata": {},
   "outputs": [],
   "source": [
    "def russ(value):\n",
    "    if (value == 'Private') or (value == 'Self-employed'):\n",
    "        value = 'Частное предпринимательство'\n",
    "    elif value == 'Govt_job':\n",
    "        value = 'Госслужба'\n",
    "    elif value == 'children':\n",
    "        value = 'Дети'\n",
    "    elif value == 'Never_worked':\n",
    "        value = 'Никогда не работал_а'\n",
    "    return value\n",
    "data['work_type_rus'] = data['work_type'].apply(russ)"
   ]
  },
  {
   "cell_type": "code",
   "execution_count": 230,
   "id": "273e9f2e",
   "metadata": {},
   "outputs": [
    {
     "data": {
      "text/plain": [
       "Text(0.5, 0, 'Виды трудоустройства')"
      ]
     },
     "execution_count": 230,
     "metadata": {},
     "output_type": "execute_result"
    },
    {
     "data": {
      "image/png": "[encoded data removed]",
      "text/plain": [
       "<Figure size 720x504 with 1 Axes>"
      ]
     },
     "metadata": {
      "needs_background": "light"
     },
     "output_type": "display_data"
    }
   ],
   "source": [
    "fig, ax = plt.subplots(figsize=[10,7])\n",
    "sns.set_palette('hls')\n",
    "ax = data[data['stroke']==1]['work_type_rus'].value_counts().plot(kind='bar', color='pink')\n",
    "ax.set_title('Трудоустройство пациентов, получивших инсульт', fontsize = 15)\n",
    "ax.set_ylabel('Количество', fontsize = 12)\n",
    "ax.set_xlabel('Виды трудоустройства', fontsize = 12)"
   ]
  },
  {
   "cell_type": "code",
   "execution_count": 232,
   "id": "905f56cc",
   "metadata": {},
   "outputs": [
    {
     "data": {
      "text/plain": [
       "Text(0.5, 0, 'Виды трудоустройства')"
      ]
     },
     "execution_count": 232,
     "metadata": {},
     "output_type": "execute_result"
    },
    {
     "data": {
      "image/png": "[encoded data removed]",
      "text/plain": [
       "<Figure size 720x504 with 1 Axes>"
      ]
     },
     "metadata": {
      "needs_background": "light"
     },
     "output_type": "display_data"
    }
   ],
   "source": [
    "fig, ax = plt.subplots(figsize=[10,7])\n",
    "sns.set_palette('hls')\n",
    "ax = data[data['stroke']==0]['work_type_rus'].value_counts().plot(kind='bar', color='pink')\n",
    "ax.set_title('Трудоустройство пациентов, получивших инсульт', fontsize = 15)\n",
    "ax.set_ylabel('Количество', fontsize = 12)\n",
    "ax.set_xlabel('Виды трудоустройства', fontsize = 12)"
   ]
  },
  {
   "cell_type": "markdown",
   "id": "e136a814",
   "metadata": {},
   "source": [
    "Ранее мы пытались выяснить, влияет ли работа на получение инсульта, так как работа является источником стресса. Построив столбчатую диаграмму по пациентам, получившим инсульт (из 249 человек), мы видим, что чаще всего инсульт был у пациентов, занимающихся частным предпринимательством (более 200 человек, до этого мы создали новую переменную, в которой объединили показатели Private и Self-employed, так как это одно и то же, и перевели всё на русский язык). Интересно, что намного меньше пациентов, получивших инсульт и работающих в госорганах(примерно 30 из 249 человек), что нам показала и фильтрация.\n",
    "\n",
    "При этом гипотеза всё-таки опровергается, так как, построив еще одну столбчатую диаграмму по пациентам, не получившим инсульт, мы увидели примерно такое же распределение трудоустройтва (больше частных, намного меньше госсработников и детей, также есть неработающие пациенты), как и в первой диаграмме. По этой причине судить о том, что трудоустройство влияет на получение инсульта неправомерно, у нас мало информации об этом. "
   ]
  },
  {
   "cell_type": "code",
   "execution_count": 236,
   "id": "11798de1",
   "metadata": {},
   "outputs": [
    {
     "data": {
      "text/plain": [
       "array(['Пожилые люди', '41-55', '31-40', 'Несовершеннолетние', '18-30'],\n",
       "      dtype=object)"
      ]
     },
     "execution_count": 236,
     "metadata": {},
     "output_type": "execute_result"
    }
   ],
   "source": [
    "data['age_periodization'].unique()"
   ]
  },
  {
   "cell_type": "code",
   "execution_count": 237,
   "id": "a211b839",
   "metadata": {},
   "outputs": [
    {
     "data": {
      "image/png": "[encoded data removed]",
      "text/plain": [
       "<Figure size 864x432 with 1 Axes>"
      ]
     },
     "metadata": {
      "needs_background": "light"
     },
     "output_type": "display_data"
    }
   ],
   "source": [
    "fig, ax = plt.subplots(figsize=[12,6])\n",
    "sns.color_palette(\"tab10\")\n",
    "sns.boxplot(x = data['age_periodization'].sort_values(), y = data['avg_glucose_level'], order = ['Несовершеннолетние', '18-30', '31-40', '41-55','Пожилые люди'])\n",
    "ax.set_title('Распределение уровня глюкозы по возрасту', fontsize = 14)\n",
    "ax.set_ylabel('Уровень глюкозы', fontsize=12)\n",
    "ax.set_xlabel('Проранжированная переменная возраста', fontsize=12)\n",
    "plt.show()"
   ]
  },
  {
   "cell_type": "markdown",
   "id": "1f86c34e",
   "metadata": {},
   "source": [
    "Раннее мы также говорили о том, что уровень глюкозы зависит от возраста (чем больше возраст, тем больше и уровень глюкозы), однако получили крайне малый коэффициент с выбросами и без выбросов (а здесь и вовсе поменялась зависимость). Возраст и уровень глюкозы для нас являются важными факторами риска получения инсульта, в совокупности они могут стать еще более серьезными причинами, поэтому важно посмотреть распределение уровня глюкозы в зависимости от возраста (что мы и сделали на графике). Ящики с усами показали следующее:\n",
    "\n",
    "1. У нас много выбросов в возрасте от 18-55 (несколько ящиков) и у несовершеннолетних. Получается, что в этих случаях высокий уровень глюкозы, хотя в целом значения варьируются от примерно 80 до 120 для всех ящиков. \n",
    "2. Интересно, что у категории пожилых людей выбросов нет, при этом уровень глюкозы довольно высокий (в целом значения распределены от 80 до более 150). \n",
    "\n",
    "Не учитывая выбросы, можно сказать, что наша гипотеза в какой-то степени подтверждается (чем больше возраст, тем больше и уровень глюкозы), однако выбросы заставляют задуматься, что так происходит не всегда.  "
   ]
  }
 ],
 "metadata": {
  "kernelspec": {
   "display_name": "Python 3 (ipykernel)",
   "language": "python",
   "name": "python3"
  },
  "language_info": {
   "codemirror_mode": {
    "name": "ipython",
    "version": 3
   },
   "file_extension": ".py",
   "mimetype": "text/x-python",
   "name": "python",
   "nbconvert_exporter": "python",
   "pygments_lexer": "ipython3",
   "version": "3.9.7"
  }
 },
 "nbformat": 4,
 "nbformat_minor": 5
}
