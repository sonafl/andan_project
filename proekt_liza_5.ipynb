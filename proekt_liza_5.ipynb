{
 "cells": [
  {
   "cell_type": "markdown",
   "id": "5a752848",
   "metadata": {},
   "source": [
    "# International football results from 1872 to 2023"
   ]
  },
  {
   "cell_type": "markdown",
   "id": "74c9563c",
   "metadata": {},
   "source": [
    "Результаты международных футбольных матчей с 1872 до 2023 года"
   ]
  },
  {
   "cell_type": "markdown",
   "id": "af7df1f4",
   "metadata": {},
   "source": [
    "Датасет содержит информацию о футбольных играх. Датасет взят из сайта Kaggle ('https://www.kaggle.com/datasets/martj42/international-football-results-from-1872-to-2017?select=results.csv'). Из трех датасетов мы взяли один под названием results.csv, в нем больше данных и категорий. "
   ]
  },
  {
   "cell_type": "markdown",
   "id": "744128a2",
   "metadata": {},
   "source": [
    "**Столбцы**"
   ]
  },
  {
   "cell_type": "markdown",
   "id": "c222522e",
   "metadata": {},
   "source": [
    "date - дата матча, категориальная порядковая, object - можно перевести в datetime\n",
    "\n",
    "home_team - название команды, принимающей игру, категориальная номинальная, object\n",
    "\n",
    "away_team - название команды, приезжающей на игру, категориальная номинальная , object\n",
    "\n",
    "home_score - основной счет хозяев поля, включая дополнительное время, не включая серии пенальти, количественная дискретная, int\n",
    "\n",
    "away_score - общий результат команды на выезде, включая дополнительное время, не включая серии пенальти, количественная дискретная, int \n",
    "\n",
    "tournament - название турнира, категориальная номинальная, object\n",
    "\n",
    "city - название города/поселка/административной единицы, где проводился матч, категориальная номинальная, object\n",
    "\n",
    "country - название страны, где проводился матч, категориальная номинальная, object\n",
    "\n",
    "neutral - Столбец True/False, указывающий, проводился ли матч на нейтральной площадке, категориальная номинальная бинарная, bool"
   ]
  },
  {
   "cell_type": "code",
   "execution_count": 4,
   "id": "ad93cf16",
   "metadata": {},
   "outputs": [],
   "source": [
    "import pandas as pd\n",
    "import numpy as np\n",
    "import seaborn as sns\n",
    "import matplotlib.pyplot as plt"
   ]
  },
  {
   "cell_type": "code",
   "execution_count": 5,
   "id": "50abb74d",
   "metadata": {},
   "outputs": [
    {
     "data": {
      "text/html": [
       "<div>\n",
       "<style scoped>\n",
       "    .dataframe tbody tr th:only-of-type {\n",
       "        vertical-align: middle;\n",
       "    }\n",
       "\n",
       "    .dataframe tbody tr th {\n",
       "        vertical-align: top;\n",
       "    }\n",
       "\n",
       "    .dataframe thead th {\n",
       "        text-align: right;\n",
       "    }\n",
       "</style>\n",
       "<table border=\"1\" class=\"dataframe\">\n",
       "  <thead>\n",
       "    <tr style=\"text-align: right;\">\n",
       "      <th></th>\n",
       "      <th>date</th>\n",
       "      <th>home_team</th>\n",
       "      <th>away_team</th>\n",
       "      <th>home_score</th>\n",
       "      <th>away_score</th>\n",
       "      <th>tournament</th>\n",
       "      <th>city</th>\n",
       "      <th>country</th>\n",
       "      <th>neutral</th>\n",
       "    </tr>\n",
       "  </thead>\n",
       "  <tbody>\n",
       "    <tr>\n",
       "      <th>0</th>\n",
       "      <td>1872-11-30</td>\n",
       "      <td>Scotland</td>\n",
       "      <td>England</td>\n",
       "      <td>0</td>\n",
       "      <td>0</td>\n",
       "      <td>Friendly</td>\n",
       "      <td>Glasgow</td>\n",
       "      <td>Scotland</td>\n",
       "      <td>False</td>\n",
       "    </tr>\n",
       "    <tr>\n",
       "      <th>1</th>\n",
       "      <td>1873-03-08</td>\n",
       "      <td>England</td>\n",
       "      <td>Scotland</td>\n",
       "      <td>4</td>\n",
       "      <td>2</td>\n",
       "      <td>Friendly</td>\n",
       "      <td>London</td>\n",
       "      <td>England</td>\n",
       "      <td>False</td>\n",
       "    </tr>\n",
       "    <tr>\n",
       "      <th>2</th>\n",
       "      <td>1874-03-07</td>\n",
       "      <td>Scotland</td>\n",
       "      <td>England</td>\n",
       "      <td>2</td>\n",
       "      <td>1</td>\n",
       "      <td>Friendly</td>\n",
       "      <td>Glasgow</td>\n",
       "      <td>Scotland</td>\n",
       "      <td>False</td>\n",
       "    </tr>\n",
       "    <tr>\n",
       "      <th>3</th>\n",
       "      <td>1875-03-06</td>\n",
       "      <td>England</td>\n",
       "      <td>Scotland</td>\n",
       "      <td>2</td>\n",
       "      <td>2</td>\n",
       "      <td>Friendly</td>\n",
       "      <td>London</td>\n",
       "      <td>England</td>\n",
       "      <td>False</td>\n",
       "    </tr>\n",
       "    <tr>\n",
       "      <th>4</th>\n",
       "      <td>1876-03-04</td>\n",
       "      <td>Scotland</td>\n",
       "      <td>England</td>\n",
       "      <td>3</td>\n",
       "      <td>0</td>\n",
       "      <td>Friendly</td>\n",
       "      <td>Glasgow</td>\n",
       "      <td>Scotland</td>\n",
       "      <td>False</td>\n",
       "    </tr>\n",
       "    <tr>\n",
       "      <th>...</th>\n",
       "      <td>...</td>\n",
       "      <td>...</td>\n",
       "      <td>...</td>\n",
       "      <td>...</td>\n",
       "      <td>...</td>\n",
       "      <td>...</td>\n",
       "      <td>...</td>\n",
       "      <td>...</td>\n",
       "      <td>...</td>\n",
       "    </tr>\n",
       "    <tr>\n",
       "      <th>45310</th>\n",
       "      <td>2023-11-21</td>\n",
       "      <td>Wales</td>\n",
       "      <td>Turkey</td>\n",
       "      <td>1</td>\n",
       "      <td>1</td>\n",
       "      <td>UEFA Euro qualification</td>\n",
       "      <td>Cardiff</td>\n",
       "      <td>Wales</td>\n",
       "      <td>False</td>\n",
       "    </tr>\n",
       "    <tr>\n",
       "      <th>45311</th>\n",
       "      <td>2023-11-21</td>\n",
       "      <td>Croatia</td>\n",
       "      <td>Armenia</td>\n",
       "      <td>1</td>\n",
       "      <td>0</td>\n",
       "      <td>UEFA Euro qualification</td>\n",
       "      <td>Zagreb</td>\n",
       "      <td>Croatia</td>\n",
       "      <td>False</td>\n",
       "    </tr>\n",
       "    <tr>\n",
       "      <th>45312</th>\n",
       "      <td>2023-11-21</td>\n",
       "      <td>Andorra</td>\n",
       "      <td>Israel</td>\n",
       "      <td>0</td>\n",
       "      <td>2</td>\n",
       "      <td>UEFA Euro qualification</td>\n",
       "      <td>Andorra la Vella</td>\n",
       "      <td>Andorra</td>\n",
       "      <td>False</td>\n",
       "    </tr>\n",
       "    <tr>\n",
       "      <th>45313</th>\n",
       "      <td>2023-11-21</td>\n",
       "      <td>Kosovo</td>\n",
       "      <td>Belarus</td>\n",
       "      <td>0</td>\n",
       "      <td>1</td>\n",
       "      <td>UEFA Euro qualification</td>\n",
       "      <td>Pristina</td>\n",
       "      <td>Kosovo</td>\n",
       "      <td>False</td>\n",
       "    </tr>\n",
       "    <tr>\n",
       "      <th>45314</th>\n",
       "      <td>2023-11-21</td>\n",
       "      <td>Romania</td>\n",
       "      <td>Switzerland</td>\n",
       "      <td>1</td>\n",
       "      <td>0</td>\n",
       "      <td>UEFA Euro qualification</td>\n",
       "      <td>Bucharest</td>\n",
       "      <td>Romania</td>\n",
       "      <td>False</td>\n",
       "    </tr>\n",
       "  </tbody>\n",
       "</table>\n",
       "<p>45315 rows × 9 columns</p>\n",
       "</div>"
      ],
      "text/plain": [
       "             date home_team    away_team  home_score  away_score  \\\n",
       "0      1872-11-30  Scotland      England           0           0   \n",
       "1      1873-03-08   England     Scotland           4           2   \n",
       "2      1874-03-07  Scotland      England           2           1   \n",
       "3      1875-03-06   England     Scotland           2           2   \n",
       "4      1876-03-04  Scotland      England           3           0   \n",
       "...           ...       ...          ...         ...         ...   \n",
       "45310  2023-11-21     Wales       Turkey           1           1   \n",
       "45311  2023-11-21   Croatia      Armenia           1           0   \n",
       "45312  2023-11-21   Andorra       Israel           0           2   \n",
       "45313  2023-11-21    Kosovo      Belarus           0           1   \n",
       "45314  2023-11-21   Romania  Switzerland           1           0   \n",
       "\n",
       "                    tournament              city   country  neutral  \n",
       "0                     Friendly           Glasgow  Scotland    False  \n",
       "1                     Friendly            London   England    False  \n",
       "2                     Friendly           Glasgow  Scotland    False  \n",
       "3                     Friendly            London   England    False  \n",
       "4                     Friendly           Glasgow  Scotland    False  \n",
       "...                        ...               ...       ...      ...  \n",
       "45310  UEFA Euro qualification           Cardiff     Wales    False  \n",
       "45311  UEFA Euro qualification            Zagreb   Croatia    False  \n",
       "45312  UEFA Euro qualification  Andorra la Vella   Andorra    False  \n",
       "45313  UEFA Euro qualification          Pristina    Kosovo    False  \n",
       "45314  UEFA Euro qualification         Bucharest   Romania    False  \n",
       "\n",
       "[45315 rows x 9 columns]"
      ]
     },
     "execution_count": 5,
     "metadata": {},
     "output_type": "execute_result"
    }
   ],
   "source": [
    "fb = pd.read_csv('results.csv')\n",
    "fb"
   ]
  },
  {
   "cell_type": "markdown",
   "id": "0abd4ff1",
   "metadata": {},
   "source": [
    "# Этап 1"
   ]
  },
  {
   "cell_type": "markdown",
   "id": "f51e812e",
   "metadata": {},
   "source": [
    "**Фильтрация**"
   ]
  },
  {
   "cell_type": "markdown",
   "id": "40064c12",
   "metadata": {},
   "source": [
    "День Футбола - 10 июня. Cколько матчей было сыграно в этот день? "
   ]
  },
  {
   "cell_type": "code",
   "execution_count": 12,
   "id": "a64cf3f4",
   "metadata": {},
   "outputs": [],
   "source": [
    "fb['date'] = pd.to_datetime(fb['date'])"
   ]
  },
  {
   "cell_type": "code",
   "execution_count": 13,
   "id": "9fb3ffec",
   "metadata": {},
   "outputs": [
    {
     "data": {
      "text/html": [
       "<div>\n",
       "<style scoped>\n",
       "    .dataframe tbody tr th:only-of-type {\n",
       "        vertical-align: middle;\n",
       "    }\n",
       "\n",
       "    .dataframe tbody tr th {\n",
       "        vertical-align: top;\n",
       "    }\n",
       "\n",
       "    .dataframe thead th {\n",
       "        text-align: right;\n",
       "    }\n",
       "</style>\n",
       "<table border=\"1\" class=\"dataframe\">\n",
       "  <thead>\n",
       "    <tr style=\"text-align: right;\">\n",
       "      <th></th>\n",
       "      <th>date</th>\n",
       "      <th>home_team</th>\n",
       "      <th>away_team</th>\n",
       "      <th>home_score</th>\n",
       "      <th>away_score</th>\n",
       "      <th>tournament</th>\n",
       "      <th>city</th>\n",
       "      <th>country</th>\n",
       "      <th>neutral</th>\n",
       "    </tr>\n",
       "  </thead>\n",
       "  <tbody>\n",
       "    <tr>\n",
       "      <th>222</th>\n",
       "      <td>1908-06-10</td>\n",
       "      <td>Hungary</td>\n",
       "      <td>England</td>\n",
       "      <td>0</td>\n",
       "      <td>7</td>\n",
       "      <td>Friendly</td>\n",
       "      <td>Budapest</td>\n",
       "      <td>Hungary</td>\n",
       "      <td>False</td>\n",
       "    </tr>\n",
       "    <tr>\n",
       "      <th>725</th>\n",
       "      <td>1923-06-10</td>\n",
       "      <td>Romania</td>\n",
       "      <td>Yugoslavia</td>\n",
       "      <td>1</td>\n",
       "      <td>2</td>\n",
       "      <td>Friendly</td>\n",
       "      <td>Bucharest</td>\n",
       "      <td>Romania</td>\n",
       "      <td>False</td>\n",
       "    </tr>\n",
       "    <tr>\n",
       "      <th>726</th>\n",
       "      <td>1923-06-10</td>\n",
       "      <td>Sweden</td>\n",
       "      <td>Austria</td>\n",
       "      <td>4</td>\n",
       "      <td>2</td>\n",
       "      <td>Friendly</td>\n",
       "      <td>Gothenburg</td>\n",
       "      <td>Sweden</td>\n",
       "      <td>False</td>\n",
       "    </tr>\n",
       "    <tr>\n",
       "      <th>809</th>\n",
       "      <td>1924-06-10</td>\n",
       "      <td>Poland</td>\n",
       "      <td>United States</td>\n",
       "      <td>2</td>\n",
       "      <td>3</td>\n",
       "      <td>Friendly</td>\n",
       "      <td>Warsaw</td>\n",
       "      <td>Poland</td>\n",
       "      <td>False</td>\n",
       "    </tr>\n",
       "    <tr>\n",
       "      <th>1140</th>\n",
       "      <td>1928-06-10</td>\n",
       "      <td>Poland</td>\n",
       "      <td>United States</td>\n",
       "      <td>3</td>\n",
       "      <td>3</td>\n",
       "      <td>Friendly</td>\n",
       "      <td>Warsaw</td>\n",
       "      <td>Poland</td>\n",
       "      <td>False</td>\n",
       "    </tr>\n",
       "    <tr>\n",
       "      <th>...</th>\n",
       "      <td>...</td>\n",
       "      <td>...</td>\n",
       "      <td>...</td>\n",
       "      <td>...</td>\n",
       "      <td>...</td>\n",
       "      <td>...</td>\n",
       "      <td>...</td>\n",
       "      <td>...</td>\n",
       "      <td>...</td>\n",
       "    </tr>\n",
       "    <tr>\n",
       "      <th>43950</th>\n",
       "      <td>2022-06-10</td>\n",
       "      <td>South Korea</td>\n",
       "      <td>Paraguay</td>\n",
       "      <td>2</td>\n",
       "      <td>2</td>\n",
       "      <td>Friendly</td>\n",
       "      <td>Suwon</td>\n",
       "      <td>South Korea</td>\n",
       "      <td>False</td>\n",
       "    </tr>\n",
       "    <tr>\n",
       "      <th>43951</th>\n",
       "      <td>2022-06-10</td>\n",
       "      <td>Chile</td>\n",
       "      <td>Tunisia</td>\n",
       "      <td>0</td>\n",
       "      <td>2</td>\n",
       "      <td>Kirin Cup</td>\n",
       "      <td>Kobe</td>\n",
       "      <td>Japan</td>\n",
       "      <td>True</td>\n",
       "    </tr>\n",
       "    <tr>\n",
       "      <th>43952</th>\n",
       "      <td>2022-06-10</td>\n",
       "      <td>Japan</td>\n",
       "      <td>Ghana</td>\n",
       "      <td>4</td>\n",
       "      <td>1</td>\n",
       "      <td>Kirin Cup</td>\n",
       "      <td>Kobe</td>\n",
       "      <td>Japan</td>\n",
       "      <td>False</td>\n",
       "    </tr>\n",
       "    <tr>\n",
       "      <th>44579</th>\n",
       "      <td>2023-06-10</td>\n",
       "      <td>Mexico</td>\n",
       "      <td>Cameroon</td>\n",
       "      <td>2</td>\n",
       "      <td>2</td>\n",
       "      <td>Friendly</td>\n",
       "      <td>San Diego</td>\n",
       "      <td>United States</td>\n",
       "      <td>True</td>\n",
       "    </tr>\n",
       "    <tr>\n",
       "      <th>44580</th>\n",
       "      <td>2023-06-10</td>\n",
       "      <td>Panama</td>\n",
       "      <td>Nicaragua</td>\n",
       "      <td>3</td>\n",
       "      <td>2</td>\n",
       "      <td>Friendly</td>\n",
       "      <td>Penonomé</td>\n",
       "      <td>Panama</td>\n",
       "      <td>False</td>\n",
       "    </tr>\n",
       "  </tbody>\n",
       "</table>\n",
       "<p>217 rows × 9 columns</p>\n",
       "</div>"
      ],
      "text/plain": [
       "            date    home_team      away_team  home_score  away_score  \\\n",
       "222   1908-06-10      Hungary        England           0           7   \n",
       "725   1923-06-10      Romania     Yugoslavia           1           2   \n",
       "726   1923-06-10       Sweden        Austria           4           2   \n",
       "809   1924-06-10       Poland  United States           2           3   \n",
       "1140  1928-06-10       Poland  United States           3           3   \n",
       "...          ...          ...            ...         ...         ...   \n",
       "43950 2022-06-10  South Korea       Paraguay           2           2   \n",
       "43951 2022-06-10        Chile        Tunisia           0           2   \n",
       "43952 2022-06-10        Japan          Ghana           4           1   \n",
       "44579 2023-06-10       Mexico       Cameroon           2           2   \n",
       "44580 2023-06-10       Panama      Nicaragua           3           2   \n",
       "\n",
       "      tournament        city        country  neutral  \n",
       "222     Friendly    Budapest        Hungary    False  \n",
       "725     Friendly   Bucharest        Romania    False  \n",
       "726     Friendly  Gothenburg         Sweden    False  \n",
       "809     Friendly      Warsaw         Poland    False  \n",
       "1140    Friendly      Warsaw         Poland    False  \n",
       "...          ...         ...            ...      ...  \n",
       "43950   Friendly       Suwon    South Korea    False  \n",
       "43951  Kirin Cup        Kobe          Japan     True  \n",
       "43952  Kirin Cup        Kobe          Japan    False  \n",
       "44579   Friendly   San Diego  United States     True  \n",
       "44580   Friendly    Penonomé         Panama    False  \n",
       "\n",
       "[217 rows x 9 columns]"
      ]
     },
     "execution_count": 13,
     "metadata": {},
     "output_type": "execute_result"
    }
   ],
   "source": [
    "#  переведем столбец date в тип данных datetime, \n",
    "## чтобы было удобнее работать отдельно с днями, месяцами и годами \n",
    "fb[(fb['date'].dt.day == 10) & (fb['date'].dt.month == 6)]"
   ]
  },
  {
   "cell_type": "code",
   "execution_count": 2,
   "id": "c79750f2",
   "metadata": {},
   "outputs": [
    {
     "data": {
      "text/plain": [
       "0.48293052031868966"
      ]
     },
     "execution_count": 2,
     "metadata": {},
     "output_type": "execute_result"
    }
   ],
   "source": [
    "# расчет процента \n",
    "217*100/44934"
   ]
  },
  {
   "cell_type": "markdown",
   "id": "36daa53a",
   "metadata": {},
   "source": [
    "217 матчей из 44934 матчей были сыграны в международный день футбола. Это почти 0.5% матчей от общего количества "
   ]
  },
  {
   "cell_type": "code",
   "execution_count": 39,
   "id": "9ca56fc1",
   "metadata": {},
   "outputs": [
    {
     "data": {
      "text/html": [
       "<div>\n",
       "<style scoped>\n",
       "    .dataframe tbody tr th:only-of-type {\n",
       "        vertical-align: middle;\n",
       "    }\n",
       "\n",
       "    .dataframe tbody tr th {\n",
       "        vertical-align: top;\n",
       "    }\n",
       "\n",
       "    .dataframe thead th {\n",
       "        text-align: right;\n",
       "    }\n",
       "</style>\n",
       "<table border=\"1\" class=\"dataframe\">\n",
       "  <thead>\n",
       "    <tr style=\"text-align: right;\">\n",
       "      <th></th>\n",
       "      <th>date</th>\n",
       "      <th>home_team</th>\n",
       "      <th>away_team</th>\n",
       "      <th>home_score</th>\n",
       "      <th>away_score</th>\n",
       "      <th>tournament</th>\n",
       "      <th>city</th>\n",
       "      <th>country</th>\n",
       "      <th>neutral</th>\n",
       "    </tr>\n",
       "  </thead>\n",
       "  <tbody>\n",
       "    <tr>\n",
       "      <th>23839</th>\n",
       "      <td>2001-01-04</td>\n",
       "      <td>Kenya</td>\n",
       "      <td>Zambia</td>\n",
       "      <td>2</td>\n",
       "      <td>1</td>\n",
       "      <td>Friendly</td>\n",
       "      <td>Nairobi</td>\n",
       "      <td>Kenya</td>\n",
       "      <td>False</td>\n",
       "    </tr>\n",
       "    <tr>\n",
       "      <th>23840</th>\n",
       "      <td>2001-01-06</td>\n",
       "      <td>Costa Rica</td>\n",
       "      <td>Guatemala</td>\n",
       "      <td>5</td>\n",
       "      <td>2</td>\n",
       "      <td>FIFA World Cup qualification</td>\n",
       "      <td>Miami</td>\n",
       "      <td>United States</td>\n",
       "      <td>True</td>\n",
       "    </tr>\n",
       "    <tr>\n",
       "      <th>23841</th>\n",
       "      <td>2001-01-06</td>\n",
       "      <td>Egypt</td>\n",
       "      <td>United Arab Emirates</td>\n",
       "      <td>2</td>\n",
       "      <td>1</td>\n",
       "      <td>Friendly</td>\n",
       "      <td>Cairo</td>\n",
       "      <td>Egypt</td>\n",
       "      <td>False</td>\n",
       "    </tr>\n",
       "    <tr>\n",
       "      <th>23842</th>\n",
       "      <td>2001-01-06</td>\n",
       "      <td>Eswatini</td>\n",
       "      <td>Angola</td>\n",
       "      <td>1</td>\n",
       "      <td>0</td>\n",
       "      <td>Friendly</td>\n",
       "      <td>Manzini</td>\n",
       "      <td>Eswatini</td>\n",
       "      <td>False</td>\n",
       "    </tr>\n",
       "    <tr>\n",
       "      <th>23843</th>\n",
       "      <td>2001-01-07</td>\n",
       "      <td>Angola</td>\n",
       "      <td>Lesotho</td>\n",
       "      <td>2</td>\n",
       "      <td>0</td>\n",
       "      <td>Friendly</td>\n",
       "      <td>Manzini</td>\n",
       "      <td>Eswatini</td>\n",
       "      <td>True</td>\n",
       "    </tr>\n",
       "    <tr>\n",
       "      <th>...</th>\n",
       "      <td>...</td>\n",
       "      <td>...</td>\n",
       "      <td>...</td>\n",
       "      <td>...</td>\n",
       "      <td>...</td>\n",
       "      <td>...</td>\n",
       "      <td>...</td>\n",
       "      <td>...</td>\n",
       "      <td>...</td>\n",
       "    </tr>\n",
       "    <tr>\n",
       "      <th>44929</th>\n",
       "      <td>2023-09-12</td>\n",
       "      <td>Belgium</td>\n",
       "      <td>Estonia</td>\n",
       "      <td>5</td>\n",
       "      <td>0</td>\n",
       "      <td>UEFA Euro qualification</td>\n",
       "      <td>Brussels</td>\n",
       "      <td>Belgium</td>\n",
       "      <td>False</td>\n",
       "    </tr>\n",
       "    <tr>\n",
       "      <th>44930</th>\n",
       "      <td>2023-09-12</td>\n",
       "      <td>Sweden</td>\n",
       "      <td>Austria</td>\n",
       "      <td>1</td>\n",
       "      <td>3</td>\n",
       "      <td>UEFA Euro qualification</td>\n",
       "      <td>Stockholm</td>\n",
       "      <td>Sweden</td>\n",
       "      <td>False</td>\n",
       "    </tr>\n",
       "    <tr>\n",
       "      <th>44931</th>\n",
       "      <td>2023-09-12</td>\n",
       "      <td>Switzerland</td>\n",
       "      <td>Andorra</td>\n",
       "      <td>3</td>\n",
       "      <td>0</td>\n",
       "      <td>UEFA Euro qualification</td>\n",
       "      <td>Sion</td>\n",
       "      <td>Switzerland</td>\n",
       "      <td>False</td>\n",
       "    </tr>\n",
       "    <tr>\n",
       "      <th>44932</th>\n",
       "      <td>2023-09-12</td>\n",
       "      <td>Israel</td>\n",
       "      <td>Belarus</td>\n",
       "      <td>1</td>\n",
       "      <td>0</td>\n",
       "      <td>UEFA Euro qualification</td>\n",
       "      <td>Tel Aviv</td>\n",
       "      <td>Israel</td>\n",
       "      <td>False</td>\n",
       "    </tr>\n",
       "    <tr>\n",
       "      <th>44933</th>\n",
       "      <td>2023-09-12</td>\n",
       "      <td>Romania</td>\n",
       "      <td>Kosovo</td>\n",
       "      <td>2</td>\n",
       "      <td>0</td>\n",
       "      <td>UEFA Euro qualification</td>\n",
       "      <td>Bucharest</td>\n",
       "      <td>Romania</td>\n",
       "      <td>False</td>\n",
       "    </tr>\n",
       "  </tbody>\n",
       "</table>\n",
       "<p>21095 rows × 9 columns</p>\n",
       "</div>"
      ],
      "text/plain": [
       "            date    home_team             away_team  home_score  away_score  \\\n",
       "23839 2001-01-04        Kenya                Zambia           2           1   \n",
       "23840 2001-01-06   Costa Rica             Guatemala           5           2   \n",
       "23841 2001-01-06        Egypt  United Arab Emirates           2           1   \n",
       "23842 2001-01-06     Eswatini                Angola           1           0   \n",
       "23843 2001-01-07       Angola               Lesotho           2           0   \n",
       "...          ...          ...                   ...         ...         ...   \n",
       "44929 2023-09-12      Belgium               Estonia           5           0   \n",
       "44930 2023-09-12       Sweden               Austria           1           3   \n",
       "44931 2023-09-12  Switzerland               Andorra           3           0   \n",
       "44932 2023-09-12       Israel               Belarus           1           0   \n",
       "44933 2023-09-12      Romania                Kosovo           2           0   \n",
       "\n",
       "                         tournament       city        country  neutral  \n",
       "23839                      Friendly    Nairobi          Kenya    False  \n",
       "23840  FIFA World Cup qualification      Miami  United States     True  \n",
       "23841                      Friendly      Cairo          Egypt    False  \n",
       "23842                      Friendly    Manzini       Eswatini    False  \n",
       "23843                      Friendly    Manzini       Eswatini     True  \n",
       "...                             ...        ...            ...      ...  \n",
       "44929       UEFA Euro qualification   Brussels        Belgium    False  \n",
       "44930       UEFA Euro qualification  Stockholm         Sweden    False  \n",
       "44931       UEFA Euro qualification       Sion    Switzerland    False  \n",
       "44932       UEFA Euro qualification   Tel Aviv         Israel    False  \n",
       "44933       UEFA Euro qualification  Bucharest        Romania    False  \n",
       "\n",
       "[21095 rows x 9 columns]"
      ]
     },
     "execution_count": 39,
     "metadata": {},
     "output_type": "execute_result"
    }
   ],
   "source": [
    "fb[fb['date'].dt.year > 2000]"
   ]
  },
  {
   "cell_type": "markdown",
   "id": "a4170707",
   "metadata": {},
   "source": [
    "Чуть меньше половины матчей из нашего датасета были сыграны в 21 веке - 21095 матчей из 44934. "
   ]
  },
  {
   "cell_type": "code",
   "execution_count": 10,
   "id": "e072598c",
   "metadata": {},
   "outputs": [
    {
     "data": {
      "text/html": [
       "<div>\n",
       "<style scoped>\n",
       "    .dataframe tbody tr th:only-of-type {\n",
       "        vertical-align: middle;\n",
       "    }\n",
       "\n",
       "    .dataframe tbody tr th {\n",
       "        vertical-align: top;\n",
       "    }\n",
       "\n",
       "    .dataframe thead th {\n",
       "        text-align: right;\n",
       "    }\n",
       "</style>\n",
       "<table border=\"1\" class=\"dataframe\">\n",
       "  <thead>\n",
       "    <tr style=\"text-align: right;\">\n",
       "      <th></th>\n",
       "      <th>date</th>\n",
       "      <th>home_team</th>\n",
       "      <th>away_team</th>\n",
       "      <th>home_score</th>\n",
       "      <th>away_score</th>\n",
       "      <th>tournament</th>\n",
       "      <th>city</th>\n",
       "      <th>country</th>\n",
       "      <th>neutral</th>\n",
       "    </tr>\n",
       "  </thead>\n",
       "  <tbody>\n",
       "    <tr>\n",
       "      <th>1080</th>\n",
       "      <td>1927-09-18</td>\n",
       "      <td>Czechoslovakia</td>\n",
       "      <td>Austria</td>\n",
       "      <td>2</td>\n",
       "      <td>0</td>\n",
       "      <td>Central European International Cup</td>\n",
       "      <td>Prague</td>\n",
       "      <td>Czechoslovakia</td>\n",
       "      <td>False</td>\n",
       "    </tr>\n",
       "    <tr>\n",
       "      <th>1081</th>\n",
       "      <td>1927-09-25</td>\n",
       "      <td>Hungary</td>\n",
       "      <td>Austria</td>\n",
       "      <td>5</td>\n",
       "      <td>3</td>\n",
       "      <td>Central European International Cup</td>\n",
       "      <td>Budapest</td>\n",
       "      <td>Hungary</td>\n",
       "      <td>False</td>\n",
       "    </tr>\n",
       "    <tr>\n",
       "      <th>1087</th>\n",
       "      <td>1927-10-23</td>\n",
       "      <td>Czechoslovakia</td>\n",
       "      <td>Italy</td>\n",
       "      <td>2</td>\n",
       "      <td>2</td>\n",
       "      <td>Central European International Cup</td>\n",
       "      <td>Prague</td>\n",
       "      <td>Czechoslovakia</td>\n",
       "      <td>False</td>\n",
       "    </tr>\n",
       "    <tr>\n",
       "      <th>1095</th>\n",
       "      <td>1927-11-06</td>\n",
       "      <td>Italy</td>\n",
       "      <td>Austria</td>\n",
       "      <td>0</td>\n",
       "      <td>1</td>\n",
       "      <td>Central European International Cup</td>\n",
       "      <td>Bologna</td>\n",
       "      <td>Italy</td>\n",
       "      <td>False</td>\n",
       "    </tr>\n",
       "    <tr>\n",
       "      <th>1106</th>\n",
       "      <td>1928-01-01</td>\n",
       "      <td>Italy</td>\n",
       "      <td>Switzerland</td>\n",
       "      <td>3</td>\n",
       "      <td>2</td>\n",
       "      <td>Central European International Cup</td>\n",
       "      <td>Genoa</td>\n",
       "      <td>Italy</td>\n",
       "      <td>False</td>\n",
       "    </tr>\n",
       "    <tr>\n",
       "      <th>...</th>\n",
       "      <td>...</td>\n",
       "      <td>...</td>\n",
       "      <td>...</td>\n",
       "      <td>...</td>\n",
       "      <td>...</td>\n",
       "      <td>...</td>\n",
       "      <td>...</td>\n",
       "      <td>...</td>\n",
       "      <td>...</td>\n",
       "    </tr>\n",
       "    <tr>\n",
       "      <th>44901</th>\n",
       "      <td>2023-09-12</td>\n",
       "      <td>Ecuador</td>\n",
       "      <td>Uruguay</td>\n",
       "      <td>2</td>\n",
       "      <td>1</td>\n",
       "      <td>FIFA World Cup qualification</td>\n",
       "      <td>Quito</td>\n",
       "      <td>Ecuador</td>\n",
       "      <td>False</td>\n",
       "    </tr>\n",
       "    <tr>\n",
       "      <th>44902</th>\n",
       "      <td>2023-09-12</td>\n",
       "      <td>Venezuela</td>\n",
       "      <td>Paraguay</td>\n",
       "      <td>1</td>\n",
       "      <td>0</td>\n",
       "      <td>FIFA World Cup qualification</td>\n",
       "      <td>Maturín</td>\n",
       "      <td>Venezuela</td>\n",
       "      <td>False</td>\n",
       "    </tr>\n",
       "    <tr>\n",
       "      <th>44903</th>\n",
       "      <td>2023-09-12</td>\n",
       "      <td>Peru</td>\n",
       "      <td>Brazil</td>\n",
       "      <td>0</td>\n",
       "      <td>1</td>\n",
       "      <td>FIFA World Cup qualification</td>\n",
       "      <td>Lima</td>\n",
       "      <td>Peru</td>\n",
       "      <td>False</td>\n",
       "    </tr>\n",
       "    <tr>\n",
       "      <th>44904</th>\n",
       "      <td>2023-09-12</td>\n",
       "      <td>Chile</td>\n",
       "      <td>Colombia</td>\n",
       "      <td>0</td>\n",
       "      <td>0</td>\n",
       "      <td>FIFA World Cup qualification</td>\n",
       "      <td>Santiago</td>\n",
       "      <td>Chile</td>\n",
       "      <td>False</td>\n",
       "    </tr>\n",
       "    <tr>\n",
       "      <th>44924</th>\n",
       "      <td>2023-09-12</td>\n",
       "      <td>Cameroon</td>\n",
       "      <td>Burundi</td>\n",
       "      <td>3</td>\n",
       "      <td>0</td>\n",
       "      <td>African Cup of Nations qualification</td>\n",
       "      <td>Garoua</td>\n",
       "      <td>Cameroon</td>\n",
       "      <td>False</td>\n",
       "    </tr>\n",
       "  </tbody>\n",
       "</table>\n",
       "<p>18379 rows × 9 columns</p>\n",
       "</div>"
      ],
      "text/plain": [
       "             date       home_team    away_team  home_score  away_score  \\\n",
       "1080   1927-09-18  Czechoslovakia      Austria           2           0   \n",
       "1081   1927-09-25         Hungary      Austria           5           3   \n",
       "1087   1927-10-23  Czechoslovakia        Italy           2           2   \n",
       "1095   1927-11-06           Italy      Austria           0           1   \n",
       "1106   1928-01-01           Italy  Switzerland           3           2   \n",
       "...           ...             ...          ...         ...         ...   \n",
       "44901  2023-09-12         Ecuador      Uruguay           2           1   \n",
       "44902  2023-09-12       Venezuela     Paraguay           1           0   \n",
       "44903  2023-09-12            Peru       Brazil           0           1   \n",
       "44904  2023-09-12           Chile     Colombia           0           0   \n",
       "44924  2023-09-12        Cameroon      Burundi           3           0   \n",
       "\n",
       "                                 tournament      city         country  neutral  \n",
       "1080     Central European International Cup    Prague  Czechoslovakia    False  \n",
       "1081     Central European International Cup  Budapest         Hungary    False  \n",
       "1087     Central European International Cup    Prague  Czechoslovakia    False  \n",
       "1095     Central European International Cup   Bologna           Italy    False  \n",
       "1106     Central European International Cup     Genoa           Italy    False  \n",
       "...                                     ...       ...             ...      ...  \n",
       "44901          FIFA World Cup qualification     Quito         Ecuador    False  \n",
       "44902          FIFA World Cup qualification   Maturín       Venezuela    False  \n",
       "44903          FIFA World Cup qualification      Lima            Peru    False  \n",
       "44904          FIFA World Cup qualification  Santiago           Chile    False  \n",
       "44924  African Cup of Nations qualification    Garoua        Cameroon    False  \n",
       "\n",
       "[18379 rows x 9 columns]"
      ]
     },
     "execution_count": 10,
     "metadata": {},
     "output_type": "execute_result"
    }
   ],
   "source": [
    "fb[fb['tournament'].str.contains('Cup')]"
   ]
  },
  {
   "cell_type": "markdown",
   "id": "225c7116",
   "metadata": {},
   "source": [
    "Более 40% матчей из нашего датасета являются матчами в ходе соревнований на кубок, среди них Кубок Центральной Европы по футболу и Чемпионат мира по футболу"
   ]
  },
  {
   "cell_type": "markdown",
   "id": "3348202d",
   "metadata": {},
   "source": [
    "Бразилия считается страной, которая выигрывала больше всего матчей в Чемпионате мира по футболу. Проверим эту гипотезу на отборочных турах"
   ]
  },
  {
   "cell_type": "code",
   "execution_count": 10,
   "id": "e660ee54",
   "metadata": {},
   "outputs": [
    {
     "data": {
      "text/html": [
       "<div>\n",
       "<style scoped>\n",
       "    .dataframe tbody tr th:only-of-type {\n",
       "        vertical-align: middle;\n",
       "    }\n",
       "\n",
       "    .dataframe tbody tr th {\n",
       "        vertical-align: top;\n",
       "    }\n",
       "\n",
       "    .dataframe thead th {\n",
       "        text-align: right;\n",
       "    }\n",
       "</style>\n",
       "<table border=\"1\" class=\"dataframe\">\n",
       "  <thead>\n",
       "    <tr style=\"text-align: right;\">\n",
       "      <th></th>\n",
       "      <th>date</th>\n",
       "      <th>home_team</th>\n",
       "      <th>away_team</th>\n",
       "      <th>home_score</th>\n",
       "      <th>away_score</th>\n",
       "      <th>tournament</th>\n",
       "      <th>city</th>\n",
       "      <th>country</th>\n",
       "      <th>neutral</th>\n",
       "      <th>winner</th>\n",
       "    </tr>\n",
       "  </thead>\n",
       "  <tbody>\n",
       "    <tr>\n",
       "      <th>1313</th>\n",
       "      <td>1930-07-14</td>\n",
       "      <td>Brazil</td>\n",
       "      <td>Yugoslavia</td>\n",
       "      <td>1</td>\n",
       "      <td>2</td>\n",
       "      <td>FIFA World Cup</td>\n",
       "      <td>Montevideo</td>\n",
       "      <td>Uruguay</td>\n",
       "      <td>True</td>\n",
       "      <td>Гости</td>\n",
       "    </tr>\n",
       "    <tr>\n",
       "      <th>1324</th>\n",
       "      <td>1930-07-20</td>\n",
       "      <td>Bolivia</td>\n",
       "      <td>Brazil</td>\n",
       "      <td>0</td>\n",
       "      <td>4</td>\n",
       "      <td>FIFA World Cup</td>\n",
       "      <td>Montevideo</td>\n",
       "      <td>Uruguay</td>\n",
       "      <td>True</td>\n",
       "      <td>Гости</td>\n",
       "    </tr>\n",
       "    <tr>\n",
       "      <th>1691</th>\n",
       "      <td>1934-05-27</td>\n",
       "      <td>Brazil</td>\n",
       "      <td>Spain</td>\n",
       "      <td>1</td>\n",
       "      <td>3</td>\n",
       "      <td>FIFA World Cup</td>\n",
       "      <td>Genoa</td>\n",
       "      <td>Italy</td>\n",
       "      <td>True</td>\n",
       "      <td>Гости</td>\n",
       "    </tr>\n",
       "    <tr>\n",
       "      <th>2101</th>\n",
       "      <td>1938-06-05</td>\n",
       "      <td>Brazil</td>\n",
       "      <td>Poland</td>\n",
       "      <td>6</td>\n",
       "      <td>5</td>\n",
       "      <td>FIFA World Cup</td>\n",
       "      <td>Strasbourg</td>\n",
       "      <td>France</td>\n",
       "      <td>True</td>\n",
       "      <td>Хозяева</td>\n",
       "    </tr>\n",
       "    <tr>\n",
       "      <th>2111</th>\n",
       "      <td>1938-06-12</td>\n",
       "      <td>Brazil</td>\n",
       "      <td>Czechoslovakia</td>\n",
       "      <td>1</td>\n",
       "      <td>1</td>\n",
       "      <td>FIFA World Cup</td>\n",
       "      <td>Bordeaux</td>\n",
       "      <td>France</td>\n",
       "      <td>True</td>\n",
       "      <td>Ничья</td>\n",
       "    </tr>\n",
       "    <tr>\n",
       "      <th>...</th>\n",
       "      <td>...</td>\n",
       "      <td>...</td>\n",
       "      <td>...</td>\n",
       "      <td>...</td>\n",
       "      <td>...</td>\n",
       "      <td>...</td>\n",
       "      <td>...</td>\n",
       "      <td>...</td>\n",
       "      <td>...</td>\n",
       "      <td>...</td>\n",
       "    </tr>\n",
       "    <tr>\n",
       "      <th>44334</th>\n",
       "      <td>2022-12-02</td>\n",
       "      <td>Cameroon</td>\n",
       "      <td>Brazil</td>\n",
       "      <td>1</td>\n",
       "      <td>0</td>\n",
       "      <td>FIFA World Cup</td>\n",
       "      <td>Lusail</td>\n",
       "      <td>Qatar</td>\n",
       "      <td>True</td>\n",
       "      <td>Хозяева</td>\n",
       "    </tr>\n",
       "    <tr>\n",
       "      <th>44342</th>\n",
       "      <td>2022-12-05</td>\n",
       "      <td>Brazil</td>\n",
       "      <td>South Korea</td>\n",
       "      <td>4</td>\n",
       "      <td>1</td>\n",
       "      <td>FIFA World Cup</td>\n",
       "      <td>Doha</td>\n",
       "      <td>Qatar</td>\n",
       "      <td>True</td>\n",
       "      <td>Хозяева</td>\n",
       "    </tr>\n",
       "    <tr>\n",
       "      <th>44345</th>\n",
       "      <td>2022-12-09</td>\n",
       "      <td>Croatia</td>\n",
       "      <td>Brazil</td>\n",
       "      <td>1</td>\n",
       "      <td>1</td>\n",
       "      <td>FIFA World Cup</td>\n",
       "      <td>Al Rayyan</td>\n",
       "      <td>Qatar</td>\n",
       "      <td>True</td>\n",
       "      <td>Ничья</td>\n",
       "    </tr>\n",
       "    <tr>\n",
       "      <th>44820</th>\n",
       "      <td>2023-09-08</td>\n",
       "      <td>Brazil</td>\n",
       "      <td>Bolivia</td>\n",
       "      <td>5</td>\n",
       "      <td>1</td>\n",
       "      <td>FIFA World Cup qualification</td>\n",
       "      <td>Belém</td>\n",
       "      <td>Brazil</td>\n",
       "      <td>False</td>\n",
       "      <td>Хозяева</td>\n",
       "    </tr>\n",
       "    <tr>\n",
       "      <th>44903</th>\n",
       "      <td>2023-09-12</td>\n",
       "      <td>Peru</td>\n",
       "      <td>Brazil</td>\n",
       "      <td>0</td>\n",
       "      <td>1</td>\n",
       "      <td>FIFA World Cup qualification</td>\n",
       "      <td>Lima</td>\n",
       "      <td>Peru</td>\n",
       "      <td>False</td>\n",
       "      <td>Гости</td>\n",
       "    </tr>\n",
       "  </tbody>\n",
       "</table>\n",
       "<p>243 rows × 10 columns</p>\n",
       "</div>"
      ],
      "text/plain": [
       "             date home_team       away_team  home_score  away_score  \\\n",
       "1313   1930-07-14    Brazil      Yugoslavia           1           2   \n",
       "1324   1930-07-20   Bolivia          Brazil           0           4   \n",
       "1691   1934-05-27    Brazil           Spain           1           3   \n",
       "2101   1938-06-05    Brazil          Poland           6           5   \n",
       "2111   1938-06-12    Brazil  Czechoslovakia           1           1   \n",
       "...           ...       ...             ...         ...         ...   \n",
       "44334  2022-12-02  Cameroon          Brazil           1           0   \n",
       "44342  2022-12-05    Brazil     South Korea           4           1   \n",
       "44345  2022-12-09   Croatia          Brazil           1           1   \n",
       "44820  2023-09-08    Brazil         Bolivia           5           1   \n",
       "44903  2023-09-12      Peru          Brazil           0           1   \n",
       "\n",
       "                         tournament        city  country  neutral   winner  \n",
       "1313                 FIFA World Cup  Montevideo  Uruguay     True    Гости  \n",
       "1324                 FIFA World Cup  Montevideo  Uruguay     True    Гости  \n",
       "1691                 FIFA World Cup       Genoa    Italy     True    Гости  \n",
       "2101                 FIFA World Cup  Strasbourg   France     True  Хозяева  \n",
       "2111                 FIFA World Cup    Bordeaux   France     True    Ничья  \n",
       "...                             ...         ...      ...      ...      ...  \n",
       "44334                FIFA World Cup      Lusail    Qatar     True  Хозяева  \n",
       "44342                FIFA World Cup        Doha    Qatar     True  Хозяева  \n",
       "44345                FIFA World Cup   Al Rayyan    Qatar     True    Ничья  \n",
       "44820  FIFA World Cup qualification       Belém   Brazil    False  Хозяева  \n",
       "44903  FIFA World Cup qualification        Lima     Peru    False    Гости  \n",
       "\n",
       "[243 rows x 10 columns]"
      ]
     },
     "execution_count": 10,
     "metadata": {},
     "output_type": "execute_result"
    }
   ],
   "source": [
    "fb[((fb['tournament'] == 'FIFA World Cup qualification')|(fb['tournament'] == 'FIFA World Cup') )\n",
    "    & ((fb['home_team'] == 'Brazil')\n",
    "    |(fb['away_team'] == 'Brazil'))]  "
   ]
  },
  {
   "cell_type": "markdown",
   "id": "50d232b9",
   "metadata": {},
   "source": [
    "В нашем датасете информация о 129 матчей Чемпионата мира, в том числе отборочные туры, в которых участвовала Бразилия. В скольких из них победила Бразилия?"
   ]
  },
  {
   "cell_type": "code",
   "execution_count": 11,
   "id": "dbf687ab",
   "metadata": {},
   "outputs": [
    {
     "data": {
      "text/plain": [
       "(160, 10)"
      ]
     },
     "execution_count": 11,
     "metadata": {},
     "output_type": "execute_result"
    }
   ],
   "source": [
    "fb[((fb['tournament'] == 'FIFA World Cup qualification')|(fb['tournament'] == 'FIFA World Cup') )\n",
    "    & (((fb['home_team'] == 'Brazil') & (fb['home_score'] > fb['away_score']))\n",
    "    |((fb['away_team'] == 'Brazil') & (fb['away_score'] > fb['home_score'])))].shape"
   ]
  },
  {
   "cell_type": "code",
   "execution_count": 12,
   "id": "0251a360",
   "metadata": {},
   "outputs": [
    {
     "data": {
      "text/plain": [
       "65.84362139917695"
      ]
     },
     "execution_count": 12,
     "metadata": {},
     "output_type": "execute_result"
    }
   ],
   "source": [
    "# расчет процента \n",
    "160*100/243"
   ]
  },
  {
   "cell_type": "markdown",
   "id": "14b645da",
   "metadata": {},
   "source": [
    "160 матча из 129, в которых участвовала Бразилия, были выигрышными для страны (**это почти 66% матчей от общего количества матчей, сыгранных Бразилией**). Исходя из фильтрации, в какой-то степени гипотеза о том, что Бразилия очень часто выигрывала матчи Чемпионата, подтверждается"
   ]
  },
  {
   "cell_type": "code",
   "execution_count": 14,
   "id": "27a7cedd",
   "metadata": {},
   "outputs": [
    {
     "data": {
      "text/html": [
       "<div>\n",
       "<style scoped>\n",
       "    .dataframe tbody tr th:only-of-type {\n",
       "        vertical-align: middle;\n",
       "    }\n",
       "\n",
       "    .dataframe tbody tr th {\n",
       "        vertical-align: top;\n",
       "    }\n",
       "\n",
       "    .dataframe thead th {\n",
       "        text-align: right;\n",
       "    }\n",
       "</style>\n",
       "<table border=\"1\" class=\"dataframe\">\n",
       "  <thead>\n",
       "    <tr style=\"text-align: right;\">\n",
       "      <th></th>\n",
       "      <th>date</th>\n",
       "      <th>home_team</th>\n",
       "      <th>away_team</th>\n",
       "      <th>home_score</th>\n",
       "      <th>away_score</th>\n",
       "      <th>tournament</th>\n",
       "      <th>city</th>\n",
       "      <th>country</th>\n",
       "      <th>neutral</th>\n",
       "    </tr>\n",
       "  </thead>\n",
       "  <tbody>\n",
       "    <tr>\n",
       "      <th>0</th>\n",
       "      <td>1872-11-30</td>\n",
       "      <td>Scotland</td>\n",
       "      <td>England</td>\n",
       "      <td>0</td>\n",
       "      <td>0</td>\n",
       "      <td>Friendly</td>\n",
       "      <td>Glasgow</td>\n",
       "      <td>Scotland</td>\n",
       "      <td>False</td>\n",
       "    </tr>\n",
       "    <tr>\n",
       "      <th>66</th>\n",
       "      <td>1889-04-15</td>\n",
       "      <td>Wales</td>\n",
       "      <td>Scotland</td>\n",
       "      <td>0</td>\n",
       "      <td>0</td>\n",
       "      <td>British Home Championship</td>\n",
       "      <td>Wrexham</td>\n",
       "      <td>Wales</td>\n",
       "      <td>False</td>\n",
       "    </tr>\n",
       "    <tr>\n",
       "      <th>141</th>\n",
       "      <td>1902-03-03</td>\n",
       "      <td>Wales</td>\n",
       "      <td>England</td>\n",
       "      <td>0</td>\n",
       "      <td>0</td>\n",
       "      <td>British Home Championship</td>\n",
       "      <td>Wrexham</td>\n",
       "      <td>Wales</td>\n",
       "      <td>False</td>\n",
       "    </tr>\n",
       "    <tr>\n",
       "      <th>173</th>\n",
       "      <td>1905-04-09</td>\n",
       "      <td>Hungary</td>\n",
       "      <td>Austria</td>\n",
       "      <td>0</td>\n",
       "      <td>0</td>\n",
       "      <td>Friendly</td>\n",
       "      <td>Budapest</td>\n",
       "      <td>Hungary</td>\n",
       "      <td>False</td>\n",
       "    </tr>\n",
       "    <tr>\n",
       "      <th>177</th>\n",
       "      <td>1905-08-15</td>\n",
       "      <td>Argentina</td>\n",
       "      <td>Uruguay</td>\n",
       "      <td>0</td>\n",
       "      <td>0</td>\n",
       "      <td>Copa Lipton</td>\n",
       "      <td>Buenos Aires</td>\n",
       "      <td>Argentina</td>\n",
       "      <td>False</td>\n",
       "    </tr>\n",
       "    <tr>\n",
       "      <th>...</th>\n",
       "      <td>...</td>\n",
       "      <td>...</td>\n",
       "      <td>...</td>\n",
       "      <td>...</td>\n",
       "      <td>...</td>\n",
       "      <td>...</td>\n",
       "      <td>...</td>\n",
       "      <td>...</td>\n",
       "      <td>...</td>\n",
       "    </tr>\n",
       "    <tr>\n",
       "      <th>44824</th>\n",
       "      <td>2023-09-08</td>\n",
       "      <td>Myanmar</td>\n",
       "      <td>Nepal</td>\n",
       "      <td>0</td>\n",
       "      <td>0</td>\n",
       "      <td>Friendly</td>\n",
       "      <td>Yangon</td>\n",
       "      <td>Myanmar</td>\n",
       "      <td>False</td>\n",
       "    </tr>\n",
       "    <tr>\n",
       "      <th>44826</th>\n",
       "      <td>2023-09-08</td>\n",
       "      <td>Burkina Faso</td>\n",
       "      <td>Eswatini</td>\n",
       "      <td>0</td>\n",
       "      <td>0</td>\n",
       "      <td>African Cup of Nations qualification</td>\n",
       "      <td>Marrakech</td>\n",
       "      <td>Morocco</td>\n",
       "      <td>True</td>\n",
       "    </tr>\n",
       "    <tr>\n",
       "      <th>44842</th>\n",
       "      <td>2023-09-09</td>\n",
       "      <td>South Africa</td>\n",
       "      <td>Namibia</td>\n",
       "      <td>0</td>\n",
       "      <td>0</td>\n",
       "      <td>Friendly</td>\n",
       "      <td>Johannesburg</td>\n",
       "      <td>South Africa</td>\n",
       "      <td>False</td>\n",
       "    </tr>\n",
       "    <tr>\n",
       "      <th>44854</th>\n",
       "      <td>2023-09-09</td>\n",
       "      <td>Andorra</td>\n",
       "      <td>Belarus</td>\n",
       "      <td>0</td>\n",
       "      <td>0</td>\n",
       "      <td>UEFA Euro qualification</td>\n",
       "      <td>Andorra la Vella</td>\n",
       "      <td>Andorra</td>\n",
       "      <td>False</td>\n",
       "    </tr>\n",
       "    <tr>\n",
       "      <th>44904</th>\n",
       "      <td>2023-09-12</td>\n",
       "      <td>Chile</td>\n",
       "      <td>Colombia</td>\n",
       "      <td>0</td>\n",
       "      <td>0</td>\n",
       "      <td>FIFA World Cup qualification</td>\n",
       "      <td>Santiago</td>\n",
       "      <td>Chile</td>\n",
       "      <td>False</td>\n",
       "    </tr>\n",
       "  </tbody>\n",
       "</table>\n",
       "<p>3659 rows × 9 columns</p>\n",
       "</div>"
      ],
      "text/plain": [
       "             date     home_team away_team  home_score  away_score  \\\n",
       "0      1872-11-30      Scotland   England           0           0   \n",
       "66     1889-04-15         Wales  Scotland           0           0   \n",
       "141    1902-03-03         Wales   England           0           0   \n",
       "173    1905-04-09       Hungary   Austria           0           0   \n",
       "177    1905-08-15     Argentina   Uruguay           0           0   \n",
       "...           ...           ...       ...         ...         ...   \n",
       "44824  2023-09-08       Myanmar     Nepal           0           0   \n",
       "44826  2023-09-08  Burkina Faso  Eswatini           0           0   \n",
       "44842  2023-09-09  South Africa   Namibia           0           0   \n",
       "44854  2023-09-09       Andorra   Belarus           0           0   \n",
       "44904  2023-09-12         Chile  Colombia           0           0   \n",
       "\n",
       "                                 tournament              city       country  \\\n",
       "0                                  Friendly           Glasgow      Scotland   \n",
       "66                British Home Championship           Wrexham         Wales   \n",
       "141               British Home Championship           Wrexham         Wales   \n",
       "173                                Friendly          Budapest       Hungary   \n",
       "177                             Copa Lipton      Buenos Aires     Argentina   \n",
       "...                                     ...               ...           ...   \n",
       "44824                              Friendly            Yangon       Myanmar   \n",
       "44826  African Cup of Nations qualification         Marrakech       Morocco   \n",
       "44842                              Friendly      Johannesburg  South Africa   \n",
       "44854               UEFA Euro qualification  Andorra la Vella       Andorra   \n",
       "44904          FIFA World Cup qualification          Santiago         Chile   \n",
       "\n",
       "       neutral  \n",
       "0        False  \n",
       "66       False  \n",
       "141      False  \n",
       "173      False  \n",
       "177      False  \n",
       "...        ...  \n",
       "44824    False  \n",
       "44826     True  \n",
       "44842    False  \n",
       "44854    False  \n",
       "44904    False  \n",
       "\n",
       "[3659 rows x 9 columns]"
      ]
     },
     "execution_count": 14,
     "metadata": {},
     "output_type": "execute_result"
    }
   ],
   "source": [
    "fb[(fb['home_score'] == 0) & (fb['away_score'] == 0)]"
   ]
  },
  {
   "cell_type": "code",
   "execution_count": 5,
   "id": "0e0f0704",
   "metadata": {},
   "outputs": [
    {
     "data": {
      "text/plain": [
       "8.143054257355232"
      ]
     },
     "execution_count": 5,
     "metadata": {},
     "output_type": "execute_result"
    }
   ],
   "source": [
    "# расчет процента \n",
    "3659*100/44934"
   ]
  },
  {
   "cell_type": "markdown",
   "id": "1e8734db",
   "metadata": {},
   "source": [
    "8% матчей от общего количества матчей (3659 матчей из более 44 тысяч) были сыграны в ничью с баллами 0:0 "
   ]
  },
  {
   "cell_type": "markdown",
   "id": "3d23245e",
   "metadata": {},
   "source": [
    "**Сортировка**"
   ]
  },
  {
   "cell_type": "code",
   "execution_count": 10,
   "id": "e1c6576a",
   "metadata": {},
   "outputs": [
    {
     "data": {
      "text/html": [
       "<div>\n",
       "<style scoped>\n",
       "    .dataframe tbody tr th:only-of-type {\n",
       "        vertical-align: middle;\n",
       "    }\n",
       "\n",
       "    .dataframe tbody tr th {\n",
       "        vertical-align: top;\n",
       "    }\n",
       "\n",
       "    .dataframe thead th {\n",
       "        text-align: right;\n",
       "    }\n",
       "</style>\n",
       "<table border=\"1\" class=\"dataframe\">\n",
       "  <thead>\n",
       "    <tr style=\"text-align: right;\">\n",
       "      <th></th>\n",
       "      <th>date</th>\n",
       "      <th>home_team</th>\n",
       "      <th>away_team</th>\n",
       "      <th>home_score</th>\n",
       "      <th>away_score</th>\n",
       "      <th>tournament</th>\n",
       "      <th>city</th>\n",
       "      <th>country</th>\n",
       "      <th>neutral</th>\n",
       "    </tr>\n",
       "  </thead>\n",
       "  <tbody>\n",
       "    <tr>\n",
       "      <th>24160</th>\n",
       "      <td>2001-04-11</td>\n",
       "      <td>Australia</td>\n",
       "      <td>American Samoa</td>\n",
       "      <td>31</td>\n",
       "      <td>0</td>\n",
       "      <td>FIFA World Cup qualification</td>\n",
       "      <td>Coffs Harbour</td>\n",
       "      <td>Australia</td>\n",
       "      <td>False</td>\n",
       "    </tr>\n",
       "    <tr>\n",
       "      <th>8027</th>\n",
       "      <td>1971-09-13</td>\n",
       "      <td>Tahiti</td>\n",
       "      <td>Cook Islands</td>\n",
       "      <td>30</td>\n",
       "      <td>0</td>\n",
       "      <td>South Pacific Games</td>\n",
       "      <td>Papeete</td>\n",
       "      <td>French Polynesia</td>\n",
       "      <td>False</td>\n",
       "    </tr>\n",
       "    <tr>\n",
       "      <th>11225</th>\n",
       "      <td>1979-08-30</td>\n",
       "      <td>Fiji</td>\n",
       "      <td>Kiribati</td>\n",
       "      <td>24</td>\n",
       "      <td>0</td>\n",
       "      <td>South Pacific Games</td>\n",
       "      <td>Nausori</td>\n",
       "      <td>Fiji</td>\n",
       "      <td>False</td>\n",
       "    </tr>\n",
       "    <tr>\n",
       "      <th>24157</th>\n",
       "      <td>2001-04-09</td>\n",
       "      <td>Australia</td>\n",
       "      <td>Tonga</td>\n",
       "      <td>22</td>\n",
       "      <td>0</td>\n",
       "      <td>FIFA World Cup qualification</td>\n",
       "      <td>Coffs Harbour</td>\n",
       "      <td>Australia</td>\n",
       "      <td>False</td>\n",
       "    </tr>\n",
       "    <tr>\n",
       "      <th>6134</th>\n",
       "      <td>1966-04-03</td>\n",
       "      <td>Libya</td>\n",
       "      <td>Oman</td>\n",
       "      <td>21</td>\n",
       "      <td>0</td>\n",
       "      <td>Arab Cup</td>\n",
       "      <td>Baghdad</td>\n",
       "      <td>Iraq</td>\n",
       "      <td>True</td>\n",
       "    </tr>\n",
       "    <tr>\n",
       "      <th>...</th>\n",
       "      <td>...</td>\n",
       "      <td>...</td>\n",
       "      <td>...</td>\n",
       "      <td>...</td>\n",
       "      <td>...</td>\n",
       "      <td>...</td>\n",
       "      <td>...</td>\n",
       "      <td>...</td>\n",
       "      <td>...</td>\n",
       "    </tr>\n",
       "    <tr>\n",
       "      <th>16075</th>\n",
       "      <td>1989-10-11</td>\n",
       "      <td>Poland</td>\n",
       "      <td>England</td>\n",
       "      <td>0</td>\n",
       "      <td>0</td>\n",
       "      <td>FIFA World Cup qualification</td>\n",
       "      <td>Chorzów</td>\n",
       "      <td>Poland</td>\n",
       "      <td>False</td>\n",
       "    </tr>\n",
       "    <tr>\n",
       "      <th>16074</th>\n",
       "      <td>1989-10-11</td>\n",
       "      <td>Luxembourg</td>\n",
       "      <td>Portugal</td>\n",
       "      <td>0</td>\n",
       "      <td>3</td>\n",
       "      <td>FIFA World Cup qualification</td>\n",
       "      <td>Saarbrücken</td>\n",
       "      <td>Germany</td>\n",
       "      <td>True</td>\n",
       "    </tr>\n",
       "    <tr>\n",
       "      <th>16069</th>\n",
       "      <td>1989-10-11</td>\n",
       "      <td>Cyprus</td>\n",
       "      <td>Malta</td>\n",
       "      <td>0</td>\n",
       "      <td>0</td>\n",
       "      <td>Friendly</td>\n",
       "      <td>Larnaca</td>\n",
       "      <td>Cyprus</td>\n",
       "      <td>False</td>\n",
       "    </tr>\n",
       "    <tr>\n",
       "      <th>16066</th>\n",
       "      <td>1989-10-08</td>\n",
       "      <td>Guatemala</td>\n",
       "      <td>United States</td>\n",
       "      <td>0</td>\n",
       "      <td>0</td>\n",
       "      <td>CONCACAF Championship</td>\n",
       "      <td>Guatemala</td>\n",
       "      <td>Guatemala</td>\n",
       "      <td>False</td>\n",
       "    </tr>\n",
       "    <tr>\n",
       "      <th>0</th>\n",
       "      <td>1872-11-30</td>\n",
       "      <td>Scotland</td>\n",
       "      <td>England</td>\n",
       "      <td>0</td>\n",
       "      <td>0</td>\n",
       "      <td>Friendly</td>\n",
       "      <td>Glasgow</td>\n",
       "      <td>Scotland</td>\n",
       "      <td>False</td>\n",
       "    </tr>\n",
       "  </tbody>\n",
       "</table>\n",
       "<p>44934 rows × 9 columns</p>\n",
       "</div>"
      ],
      "text/plain": [
       "             date   home_team       away_team  home_score  away_score  \\\n",
       "24160  2001-04-11   Australia  American Samoa          31           0   \n",
       "8027   1971-09-13      Tahiti    Cook Islands          30           0   \n",
       "11225  1979-08-30        Fiji        Kiribati          24           0   \n",
       "24157  2001-04-09   Australia           Tonga          22           0   \n",
       "6134   1966-04-03       Libya            Oman          21           0   \n",
       "...           ...         ...             ...         ...         ...   \n",
       "16075  1989-10-11      Poland         England           0           0   \n",
       "16074  1989-10-11  Luxembourg        Portugal           0           3   \n",
       "16069  1989-10-11      Cyprus           Malta           0           0   \n",
       "16066  1989-10-08   Guatemala   United States           0           0   \n",
       "0      1872-11-30    Scotland         England           0           0   \n",
       "\n",
       "                         tournament           city           country  neutral  \n",
       "24160  FIFA World Cup qualification  Coffs Harbour         Australia    False  \n",
       "8027            South Pacific Games        Papeete  French Polynesia    False  \n",
       "11225           South Pacific Games        Nausori              Fiji    False  \n",
       "24157  FIFA World Cup qualification  Coffs Harbour         Australia    False  \n",
       "6134                       Arab Cup        Baghdad              Iraq     True  \n",
       "...                             ...            ...               ...      ...  \n",
       "16075  FIFA World Cup qualification        Chorzów            Poland    False  \n",
       "16074  FIFA World Cup qualification    Saarbrücken           Germany     True  \n",
       "16069                      Friendly        Larnaca            Cyprus    False  \n",
       "16066         CONCACAF Championship      Guatemala         Guatemala    False  \n",
       "0                          Friendly        Glasgow          Scotland    False  \n",
       "\n",
       "[44934 rows x 9 columns]"
      ]
     },
     "execution_count": 10,
     "metadata": {},
     "output_type": "execute_result"
    }
   ],
   "source": [
    "fb.sort_values(by = 'home_score', ascending = False)"
   ]
  },
  {
   "cell_type": "markdown",
   "id": "71e76bc5",
   "metadata": {},
   "source": [
    "Самое большое количество голов, которые забила команда-хозяева, составляет 31 балл. Примечательно, что матч был сыгран в 2001 году между Австралией и Американским Самоа, и вторые - не забили ни одного гола. "
   ]
  },
  {
   "cell_type": "code",
   "execution_count": 30,
   "id": "3ed333af",
   "metadata": {},
   "outputs": [
    {
     "data": {
      "text/html": [
       "<div>\n",
       "<style scoped>\n",
       "    .dataframe tbody tr th:only-of-type {\n",
       "        vertical-align: middle;\n",
       "    }\n",
       "\n",
       "    .dataframe tbody tr th {\n",
       "        vertical-align: top;\n",
       "    }\n",
       "\n",
       "    .dataframe thead th {\n",
       "        text-align: right;\n",
       "    }\n",
       "</style>\n",
       "<table border=\"1\" class=\"dataframe\">\n",
       "  <thead>\n",
       "    <tr style=\"text-align: right;\">\n",
       "      <th></th>\n",
       "      <th>date</th>\n",
       "      <th>home_team</th>\n",
       "      <th>away_team</th>\n",
       "      <th>home_score</th>\n",
       "      <th>away_score</th>\n",
       "      <th>tournament</th>\n",
       "      <th>city</th>\n",
       "      <th>country</th>\n",
       "      <th>neutral</th>\n",
       "    </tr>\n",
       "  </thead>\n",
       "  <tbody>\n",
       "    <tr>\n",
       "      <th>0</th>\n",
       "      <td>1872-11-30</td>\n",
       "      <td>Scotland</td>\n",
       "      <td>England</td>\n",
       "      <td>0</td>\n",
       "      <td>0</td>\n",
       "      <td>Friendly</td>\n",
       "      <td>Glasgow</td>\n",
       "      <td>Scotland</td>\n",
       "      <td>False</td>\n",
       "    </tr>\n",
       "    <tr>\n",
       "      <th>1</th>\n",
       "      <td>1873-03-08</td>\n",
       "      <td>England</td>\n",
       "      <td>Scotland</td>\n",
       "      <td>4</td>\n",
       "      <td>2</td>\n",
       "      <td>Friendly</td>\n",
       "      <td>London</td>\n",
       "      <td>England</td>\n",
       "      <td>False</td>\n",
       "    </tr>\n",
       "    <tr>\n",
       "      <th>2</th>\n",
       "      <td>1874-03-07</td>\n",
       "      <td>Scotland</td>\n",
       "      <td>England</td>\n",
       "      <td>2</td>\n",
       "      <td>1</td>\n",
       "      <td>Friendly</td>\n",
       "      <td>Glasgow</td>\n",
       "      <td>Scotland</td>\n",
       "      <td>False</td>\n",
       "    </tr>\n",
       "    <tr>\n",
       "      <th>3</th>\n",
       "      <td>1875-03-06</td>\n",
       "      <td>England</td>\n",
       "      <td>Scotland</td>\n",
       "      <td>2</td>\n",
       "      <td>2</td>\n",
       "      <td>Friendly</td>\n",
       "      <td>London</td>\n",
       "      <td>England</td>\n",
       "      <td>False</td>\n",
       "    </tr>\n",
       "    <tr>\n",
       "      <th>4</th>\n",
       "      <td>1876-03-04</td>\n",
       "      <td>Scotland</td>\n",
       "      <td>England</td>\n",
       "      <td>3</td>\n",
       "      <td>0</td>\n",
       "      <td>Friendly</td>\n",
       "      <td>Glasgow</td>\n",
       "      <td>Scotland</td>\n",
       "      <td>False</td>\n",
       "    </tr>\n",
       "    <tr>\n",
       "      <th>...</th>\n",
       "      <td>...</td>\n",
       "      <td>...</td>\n",
       "      <td>...</td>\n",
       "      <td>...</td>\n",
       "      <td>...</td>\n",
       "      <td>...</td>\n",
       "      <td>...</td>\n",
       "      <td>...</td>\n",
       "      <td>...</td>\n",
       "    </tr>\n",
       "    <tr>\n",
       "      <th>44907</th>\n",
       "      <td>2023-09-12</td>\n",
       "      <td>China PR</td>\n",
       "      <td>Syria</td>\n",
       "      <td>0</td>\n",
       "      <td>1</td>\n",
       "      <td>Friendly</td>\n",
       "      <td>Chengdu</td>\n",
       "      <td>China PR</td>\n",
       "      <td>False</td>\n",
       "    </tr>\n",
       "    <tr>\n",
       "      <th>44908</th>\n",
       "      <td>2023-09-12</td>\n",
       "      <td>Egypt</td>\n",
       "      <td>Tunisia</td>\n",
       "      <td>1</td>\n",
       "      <td>3</td>\n",
       "      <td>Friendly</td>\n",
       "      <td>Cairo</td>\n",
       "      <td>Egypt</td>\n",
       "      <td>False</td>\n",
       "    </tr>\n",
       "    <tr>\n",
       "      <th>44909</th>\n",
       "      <td>2023-09-12</td>\n",
       "      <td>Germany</td>\n",
       "      <td>France</td>\n",
       "      <td>2</td>\n",
       "      <td>1</td>\n",
       "      <td>Friendly</td>\n",
       "      <td>Dortmund</td>\n",
       "      <td>Germany</td>\n",
       "      <td>False</td>\n",
       "    </tr>\n",
       "    <tr>\n",
       "      <th>44901</th>\n",
       "      <td>2023-09-12</td>\n",
       "      <td>Ecuador</td>\n",
       "      <td>Uruguay</td>\n",
       "      <td>2</td>\n",
       "      <td>1</td>\n",
       "      <td>FIFA World Cup qualification</td>\n",
       "      <td>Quito</td>\n",
       "      <td>Ecuador</td>\n",
       "      <td>False</td>\n",
       "    </tr>\n",
       "    <tr>\n",
       "      <th>44933</th>\n",
       "      <td>2023-09-12</td>\n",
       "      <td>Romania</td>\n",
       "      <td>Kosovo</td>\n",
       "      <td>2</td>\n",
       "      <td>0</td>\n",
       "      <td>UEFA Euro qualification</td>\n",
       "      <td>Bucharest</td>\n",
       "      <td>Romania</td>\n",
       "      <td>False</td>\n",
       "    </tr>\n",
       "  </tbody>\n",
       "</table>\n",
       "<p>44934 rows × 9 columns</p>\n",
       "</div>"
      ],
      "text/plain": [
       "            date home_team away_team  home_score  away_score  \\\n",
       "0     1872-11-30  Scotland   England           0           0   \n",
       "1     1873-03-08   England  Scotland           4           2   \n",
       "2     1874-03-07  Scotland   England           2           1   \n",
       "3     1875-03-06   England  Scotland           2           2   \n",
       "4     1876-03-04  Scotland   England           3           0   \n",
       "...          ...       ...       ...         ...         ...   \n",
       "44907 2023-09-12  China PR     Syria           0           1   \n",
       "44908 2023-09-12     Egypt   Tunisia           1           3   \n",
       "44909 2023-09-12   Germany    France           2           1   \n",
       "44901 2023-09-12   Ecuador   Uruguay           2           1   \n",
       "44933 2023-09-12   Romania    Kosovo           2           0   \n",
       "\n",
       "                         tournament       city   country  neutral  \n",
       "0                          Friendly    Glasgow  Scotland    False  \n",
       "1                          Friendly     London   England    False  \n",
       "2                          Friendly    Glasgow  Scotland    False  \n",
       "3                          Friendly     London   England    False  \n",
       "4                          Friendly    Glasgow  Scotland    False  \n",
       "...                             ...        ...       ...      ...  \n",
       "44907                      Friendly    Chengdu  China PR    False  \n",
       "44908                      Friendly      Cairo     Egypt    False  \n",
       "44909                      Friendly   Dortmund   Germany    False  \n",
       "44901  FIFA World Cup qualification      Quito   Ecuador    False  \n",
       "44933       UEFA Euro qualification  Bucharest   Romania    False  \n",
       "\n",
       "[44934 rows x 9 columns]"
      ]
     },
     "execution_count": 30,
     "metadata": {},
     "output_type": "execute_result"
    }
   ],
   "source": [
    "fb.sort_values(by = 'date')"
   ]
  },
  {
   "cell_type": "markdown",
   "id": "815451de",
   "metadata": {},
   "source": [
    "Самый ранний матч в нашем датасете датируется 30 ноября 1872 годом - это матч между Шотландией и Англией, вне каких-либо турниров, и сыгран матч вничью. При этом нам виден и самый \"поздний\" матч - это произошло сравнительно недавно - 12 сентября 2023 года между Румыний и Косово в рамках отборочных в Чемпионат Европы по футболу, получается, что датасет постоянно обновляется. "
   ]
  },
  {
   "cell_type": "code",
   "execution_count": 34,
   "id": "db24c25f",
   "metadata": {},
   "outputs": [
    {
     "data": {
      "text/html": [
       "<div>\n",
       "<style scoped>\n",
       "    .dataframe tbody tr th:only-of-type {\n",
       "        vertical-align: middle;\n",
       "    }\n",
       "\n",
       "    .dataframe tbody tr th {\n",
       "        vertical-align: top;\n",
       "    }\n",
       "\n",
       "    .dataframe thead th {\n",
       "        text-align: right;\n",
       "    }\n",
       "</style>\n",
       "<table border=\"1\" class=\"dataframe\">\n",
       "  <thead>\n",
       "    <tr style=\"text-align: right;\">\n",
       "      <th></th>\n",
       "      <th>date</th>\n",
       "      <th>home_team</th>\n",
       "      <th>away_team</th>\n",
       "      <th>home_score</th>\n",
       "      <th>away_score</th>\n",
       "      <th>tournament</th>\n",
       "      <th>city</th>\n",
       "      <th>country</th>\n",
       "      <th>neutral</th>\n",
       "    </tr>\n",
       "  </thead>\n",
       "  <tbody>\n",
       "    <tr>\n",
       "      <th>27753</th>\n",
       "      <td>2005-03-11</td>\n",
       "      <td>Guam</td>\n",
       "      <td>North Korea</td>\n",
       "      <td>0</td>\n",
       "      <td>21</td>\n",
       "      <td>EAFF Championship</td>\n",
       "      <td>Taipei</td>\n",
       "      <td>Taiwan</td>\n",
       "      <td>True</td>\n",
       "    </tr>\n",
       "    <tr>\n",
       "      <th>15020</th>\n",
       "      <td>1987-12-15</td>\n",
       "      <td>American Samoa</td>\n",
       "      <td>Papua New Guinea</td>\n",
       "      <td>0</td>\n",
       "      <td>20</td>\n",
       "      <td>South Pacific Games</td>\n",
       "      <td>Nouméa</td>\n",
       "      <td>New Caledonia</td>\n",
       "      <td>True</td>\n",
       "    </tr>\n",
       "    <tr>\n",
       "      <th>26066</th>\n",
       "      <td>2003-06-30</td>\n",
       "      <td>Sark</td>\n",
       "      <td>Isle of Wight</td>\n",
       "      <td>0</td>\n",
       "      <td>20</td>\n",
       "      <td>Island Games</td>\n",
       "      <td>St. Martin</td>\n",
       "      <td>Guernsey</td>\n",
       "      <td>True</td>\n",
       "    </tr>\n",
       "    <tr>\n",
       "      <th>36434</th>\n",
       "      <td>2014-06-01</td>\n",
       "      <td>Darfur</td>\n",
       "      <td>Padania</td>\n",
       "      <td>0</td>\n",
       "      <td>20</td>\n",
       "      <td>CONIFA World Football Cup</td>\n",
       "      <td>Östersund</td>\n",
       "      <td>Sweden</td>\n",
       "      <td>True</td>\n",
       "    </tr>\n",
       "    <tr>\n",
       "      <th>13017</th>\n",
       "      <td>1983-08-22</td>\n",
       "      <td>Niue</td>\n",
       "      <td>Papua New Guinea</td>\n",
       "      <td>0</td>\n",
       "      <td>19</td>\n",
       "      <td>South Pacific Games</td>\n",
       "      <td>Apia</td>\n",
       "      <td>Western Samoa</td>\n",
       "      <td>True</td>\n",
       "    </tr>\n",
       "    <tr>\n",
       "      <th>...</th>\n",
       "      <td>...</td>\n",
       "      <td>...</td>\n",
       "      <td>...</td>\n",
       "      <td>...</td>\n",
       "      <td>...</td>\n",
       "      <td>...</td>\n",
       "      <td>...</td>\n",
       "      <td>...</td>\n",
       "      <td>...</td>\n",
       "    </tr>\n",
       "    <tr>\n",
       "      <th>44926</th>\n",
       "      <td>2023-09-12</td>\n",
       "      <td>Spain</td>\n",
       "      <td>Cyprus</td>\n",
       "      <td>6</td>\n",
       "      <td>0</td>\n",
       "      <td>UEFA Euro qualification</td>\n",
       "      <td>Granada</td>\n",
       "      <td>Spain</td>\n",
       "      <td>False</td>\n",
       "    </tr>\n",
       "    <tr>\n",
       "      <th>44929</th>\n",
       "      <td>2023-09-12</td>\n",
       "      <td>Belgium</td>\n",
       "      <td>Estonia</td>\n",
       "      <td>5</td>\n",
       "      <td>0</td>\n",
       "      <td>UEFA Euro qualification</td>\n",
       "      <td>Brussels</td>\n",
       "      <td>Belgium</td>\n",
       "      <td>False</td>\n",
       "    </tr>\n",
       "    <tr>\n",
       "      <th>44931</th>\n",
       "      <td>2023-09-12</td>\n",
       "      <td>Switzerland</td>\n",
       "      <td>Andorra</td>\n",
       "      <td>3</td>\n",
       "      <td>0</td>\n",
       "      <td>UEFA Euro qualification</td>\n",
       "      <td>Sion</td>\n",
       "      <td>Switzerland</td>\n",
       "      <td>False</td>\n",
       "    </tr>\n",
       "    <tr>\n",
       "      <th>44932</th>\n",
       "      <td>2023-09-12</td>\n",
       "      <td>Israel</td>\n",
       "      <td>Belarus</td>\n",
       "      <td>1</td>\n",
       "      <td>0</td>\n",
       "      <td>UEFA Euro qualification</td>\n",
       "      <td>Tel Aviv</td>\n",
       "      <td>Israel</td>\n",
       "      <td>False</td>\n",
       "    </tr>\n",
       "    <tr>\n",
       "      <th>44933</th>\n",
       "      <td>2023-09-12</td>\n",
       "      <td>Romania</td>\n",
       "      <td>Kosovo</td>\n",
       "      <td>2</td>\n",
       "      <td>0</td>\n",
       "      <td>UEFA Euro qualification</td>\n",
       "      <td>Bucharest</td>\n",
       "      <td>Romania</td>\n",
       "      <td>False</td>\n",
       "    </tr>\n",
       "  </tbody>\n",
       "</table>\n",
       "<p>44934 rows × 9 columns</p>\n",
       "</div>"
      ],
      "text/plain": [
       "            date       home_team         away_team  home_score  away_score  \\\n",
       "27753 2005-03-11            Guam       North Korea           0          21   \n",
       "15020 1987-12-15  American Samoa  Papua New Guinea           0          20   \n",
       "26066 2003-06-30            Sark     Isle of Wight           0          20   \n",
       "36434 2014-06-01          Darfur           Padania           0          20   \n",
       "13017 1983-08-22            Niue  Papua New Guinea           0          19   \n",
       "...          ...             ...               ...         ...         ...   \n",
       "44926 2023-09-12           Spain            Cyprus           6           0   \n",
       "44929 2023-09-12         Belgium           Estonia           5           0   \n",
       "44931 2023-09-12     Switzerland           Andorra           3           0   \n",
       "44932 2023-09-12          Israel           Belarus           1           0   \n",
       "44933 2023-09-12         Romania            Kosovo           2           0   \n",
       "\n",
       "                      tournament        city        country  neutral  \n",
       "27753          EAFF Championship      Taipei         Taiwan     True  \n",
       "15020        South Pacific Games      Nouméa  New Caledonia     True  \n",
       "26066               Island Games  St. Martin       Guernsey     True  \n",
       "36434  CONIFA World Football Cup   Östersund         Sweden     True  \n",
       "13017        South Pacific Games        Apia  Western Samoa     True  \n",
       "...                          ...         ...            ...      ...  \n",
       "44926    UEFA Euro qualification     Granada          Spain    False  \n",
       "44929    UEFA Euro qualification    Brussels        Belgium    False  \n",
       "44931    UEFA Euro qualification        Sion    Switzerland    False  \n",
       "44932    UEFA Euro qualification    Tel Aviv         Israel    False  \n",
       "44933    UEFA Euro qualification   Bucharest        Romania    False  \n",
       "\n",
       "[44934 rows x 9 columns]"
      ]
     },
     "execution_count": 34,
     "metadata": {},
     "output_type": "execute_result"
    }
   ],
   "source": [
    "fb.sort_values(by = ['away_score', 'date'], ascending = [False, True])"
   ]
  },
  {
   "cell_type": "markdown",
   "id": "3cdfc5c0",
   "metadata": {},
   "source": [
    "Самое большое количество голов, забитых командой-гостем, составляет 21 гол. Этот матч был отыгран в 2005 году. Остальные три матча, у которых голы от команды-гостя составляют 20 голов - были отыграны в разное время: в 1987, 2003 и 2014 годах. Еще одним примечательным фактом является то, что эти матчы были сыграны на нейтральной территории (столбец neutral равно True)"
   ]
  },
  {
   "cell_type": "markdown",
   "id": "9bd05985",
   "metadata": {},
   "source": [
    "# Этап 2"
   ]
  },
  {
   "cell_type": "markdown",
   "id": "adc27026",
   "metadata": {},
   "source": [
    "**Частотные таблицы по столбцам**"
   ]
  },
  {
   "cell_type": "code",
   "execution_count": 5,
   "id": "42731622",
   "metadata": {},
   "outputs": [
    {
     "data": {
      "text/plain": [
       "1     13322\n",
       "0     10857\n",
       "2      9866\n",
       "3      5261\n",
       "4      2729\n",
       "5      1298\n",
       "6       706\n",
       "7       382\n",
       "8       204\n",
       "9       125\n",
       "10       66\n",
       "11       36\n",
       "12       27\n",
       "13       16\n",
       "14       11\n",
       "15        8\n",
       "16        6\n",
       "19        3\n",
       "17        3\n",
       "21        2\n",
       "30        1\n",
       "24        1\n",
       "18        1\n",
       "20        1\n",
       "22        1\n",
       "31        1\n",
       "Name: home_score, dtype: int64"
      ]
     },
     "execution_count": 5,
     "metadata": {},
     "output_type": "execute_result"
    }
   ],
   "source": [
    "fb['home_score'].value_counts()"
   ]
  },
  {
   "cell_type": "code",
   "execution_count": 5,
   "id": "06b78f7e",
   "metadata": {},
   "outputs": [
    {
     "data": {
      "image/png": "[encoded data removed]",
      "text/plain": [
       "<Figure size 720x432 with 1 Axes>"
      ]
     },
     "metadata": {
      "needs_background": "light"
     },
     "output_type": "display_data"
    }
   ],
   "source": [
    "fig, ax = plt.subplots(figsize=[10,6])\n",
    "fb['home_score'].value_counts().sort_index().plot(kind = 'bar', color = 'lightgreen', rot = True)\n",
    "ax.set_title('Распределение очков команды-хозяйки', fontsize = 14)\n",
    "ax.set_ylabel('Количество наблюдений ', fontsize=12)\n",
    "ax.set_xlabel('Очки команды-хозяйки', fontsize=12)\n",
    "plt.show()"
   ]
  },
  {
   "cell_type": "markdown",
   "id": "dcff0f1d",
   "metadata": {},
   "source": [
    "Для визуализации распределения переменной основного счета хозяев (дискретная переменная) мы использовали столбчатую диаграмму. По частотной таблице и на графике видно, что чаще всего команды-хозяев забивали 1 гол (13322 раз встречается в данных), затем идет значение 0 и 2.  По графику видно, что распределение асиметричное, так как есть аномально высокие значения (4 баллов и более). Мы их также наблюдаем и в частотной таблице. "
   ]
  },
  {
   "cell_type": "code",
   "execution_count": 6,
   "id": "a91bc471",
   "metadata": {},
   "outputs": [
    {
     "data": {
      "text/plain": [
       "0     16741\n",
       "1     14548\n",
       "2      7786\n",
       "3      3304\n",
       "4      1375\n",
       "5       569\n",
       "6       288\n",
       "7       144\n",
       "8        71\n",
       "9        36\n",
       "10       25\n",
       "12        8\n",
       "13        7\n",
       "11        7\n",
       "15        6\n",
       "18        5\n",
       "16        3\n",
       "20        3\n",
       "17        3\n",
       "14        2\n",
       "19        2\n",
       "21        1\n",
       "Name: away_score, dtype: int64"
      ]
     },
     "execution_count": 6,
     "metadata": {},
     "output_type": "execute_result"
    }
   ],
   "source": [
    "fb['away_score'].value_counts()"
   ]
  },
  {
   "cell_type": "code",
   "execution_count": 4,
   "id": "9034548a",
   "metadata": {},
   "outputs": [
    {
     "data": {
      "image/png": "[encoded data removed]",
      "text/plain": [
       "<Figure size 720x432 with 1 Axes>"
      ]
     },
     "metadata": {
      "needs_background": "light"
     },
     "output_type": "display_data"
    }
   ],
   "source": [
    "fig, ax = plt.subplots(figsize=[10,6])\n",
    "fb['away_score'].value_counts().sort_index().plot(kind = 'bar', color = 'orange', rot = True)\n",
    "ax.set_title('Распределение очков гостевой команды', fontsize = 14)\n",
    "ax.set_ylabel('Количество наблюдений ', fontsize=12)\n",
    "ax.set_xlabel('Очки гостевой команды', fontsize=12)\n",
    "plt.show()"
   ]
  },
  {
   "cell_type": "markdown",
   "id": "d7b3d76f",
   "metadata": {},
   "source": [
    "Для визуализации распределения переменной основного счета гостевой команды (дискретная переменная) мы также использовали столбчатую диаграмму. По частотной таблице и на графике видно, что чаще всего команды-гости забивали 0 голов (16741 раз встречается в данных), затем идет значение 1 и 2. По графику видно, что распределение асиметричное, так как есть аномально высокие значения (3 баллов и более). Мы их также наблюдаем и в частотной таблице. Интересно, что распределение этой переменной во многом совпадает с распределением основного счета хозяев."
   ]
  },
  {
   "cell_type": "code",
   "execution_count": 7,
   "id": "a9cdb14a",
   "metadata": {},
   "outputs": [
    {
     "data": {
      "text/plain": [
       "False    33739\n",
       "True     11195\n",
       "Name: neutral, dtype: int64"
      ]
     },
     "execution_count": 7,
     "metadata": {},
     "output_type": "execute_result"
    }
   ],
   "source": [
    "fb['neutral'].value_counts()"
   ]
  },
  {
   "cell_type": "code",
   "execution_count": 5,
   "id": "f3f3cf66",
   "metadata": {},
   "outputs": [
    {
     "data": {
      "image/png": "[encoded data removed]",
      "text/plain": [
       "<Figure size 720x576 with 1 Axes>"
      ]
     },
     "metadata": {},
     "output_type": "display_data"
    }
   ],
   "source": [
    "labels = ['Ненейтральная', 'Нейтральная']\n",
    "colors = ['lightblue', 'pink']\n",
    "fig, ax = plt.subplots(figsize=[10,8])\n",
    "ax.pie(fb['neutral'].value_counts(), labels = labels, autopct='%.2f%%', colors=colors)\n",
    "ax.legend(title = 'Статус территории', fontsize = 14)\n",
    "ax.set_title('Распределение переменной нейтральной территории', fontsize = 15)\n",
    "plt.show()"
   ]
  },
  {
   "cell_type": "markdown",
   "id": "e3c4c0cb",
   "metadata": {},
   "source": [
    "Для категориальной бинарной переменной, показывающей, прошел ли матч на нейтральной территории или нет, мы использовали круговую диаграмму. По частотной таблице и на диаграмме видно, что чаще всего матчи проходили на не нейтральной территории (75%,  33739 раз встречается в таблице), на нейтральной проходило 25% матчей (11195 раз встречается в таблице). "
   ]
  },
  {
   "cell_type": "markdown",
   "id": "6dd54e39",
   "metadata": {},
   "source": [
    "**Частотные таблицы по отфильтрованным данным**"
   ]
  },
  {
   "cell_type": "markdown",
   "id": "ff5a3fb3",
   "metadata": {},
   "source": [
    "На первом этапе мы делали фильтрацию и смотрели, является ли правдой то, что Бразилия очень часто выигрывала матчи Чемпионата. Посмотрим, в каких случаях в отборочных турах чемпионата мира Бразилия суммарно чаще побеждала: когда была \"хозяйкой\" или 'гостьей'?"
   ]
  },
  {
   "cell_type": "code",
   "execution_count": 17,
   "id": "0f951309",
   "metadata": {},
   "outputs": [
    {
     "data": {
      "text/plain": [
       "(64, 10)"
      ]
     },
     "execution_count": 17,
     "metadata": {},
     "output_type": "execute_result"
    }
   ],
   "source": [
    "fb[(fb['tournament'] == 'FIFA World Cup qualification')\n",
    "   & (fb['home_team'] == 'Brazil')].shape"
   ]
  },
  {
   "cell_type": "code",
   "execution_count": 19,
   "id": "c58f12ec",
   "metadata": {},
   "outputs": [
    {
     "data": {
      "text/plain": [
       "(65, 10)"
      ]
     },
     "execution_count": 19,
     "metadata": {},
     "output_type": "execute_result"
    }
   ],
   "source": [
    "fb[(fb['tournament'] == 'FIFA World Cup qualification')\n",
    "   & (fb['away_team'] == 'Brazil')].shape"
   ]
  },
  {
   "cell_type": "code",
   "execution_count": 6,
   "id": "332cbd12",
   "metadata": {},
   "outputs": [
    {
     "data": {
      "text/plain": [
       "home_score    179\n",
       "away_score    105\n",
       "dtype: int64"
      ]
     },
     "execution_count": 6,
     "metadata": {},
     "output_type": "execute_result"
    }
   ],
   "source": [
    "fb[(fb['tournament'] == 'FIFA World Cup qualification')\n",
    "    & (((fb['home_team'] == 'Brazil') & (fb['home_score'] > fb['away_score']))\n",
    "    |((fb['away_team'] == 'Brazil') & (fb['away_score'] > fb['home_score'])))][['home_score', 'away_score']].sum()"
   ]
  },
  {
   "cell_type": "code",
   "execution_count": 22,
   "id": "8647433a",
   "metadata": {},
   "outputs": [
    {
     "data": {
      "image/png": "[encoded data removed]",
      "text/plain": [
       "<Figure size 720x432 with 1 Axes>"
      ]
     },
     "metadata": {
      "needs_background": "light"
     },
     "output_type": "display_data"
    }
   ],
   "source": [
    "fig, ax = plt.subplots(figsize=[10,6])\n",
    "fb[(fb['tournament'] == 'FIFA World Cup qualification') \n",
    "    & (((fb['home_team'] == 'Brazil') & (fb['home_score'] > fb['away_score']))\n",
    "    |((fb['away_team'] == 'Brazil') & (fb['away_score'] > fb['home_score'])))][['home_score', 'away_score']].sum().plot(kind = 'bar', color = 'orange', rot = True)\n",
    "\n",
    "ax.set_title('Распределение очков Бразилии в качестве хозяйки и гостьи', fontsize = 14)\n",
    "ax.set_ylabel('Количество наблюдений ', fontsize=12)\n",
    "ax.set_xlabel('Очки Бразилии', fontsize=12)\n",
    "plt.show()"
   ]
  },
  {
   "cell_type": "markdown",
   "id": "83f5c74b",
   "metadata": {},
   "source": [
    "Для иллюстрации такого распределения мы выбрали столбчатую диаграмму. На ней видно, что суммарно больше очков Бразилия набрала, когда была \"хозяйкой\" матча (179 голов, а когда была гостьей - примерно 105). При этом как мы выяснили ранее: Бразилия в отборочных Чемпионата практически одинаковое количество раз участвовала в качестве как хозяйки, так и гостьи (64 и 65 раз соответственно)."
   ]
  },
  {
   "cell_type": "markdown",
   "id": "2676d99b",
   "metadata": {},
   "source": [
    "Мы решили объединить две фильтрации, чтобы было корректнее визуализировать данные. Взяли фильтрации про соревнования на кубок и про матчи, сыгранные вничью по 0 баллам. Посмотрим, сколько матчей вничью по 0 баллам было сыграно среди соревнований на кубок. "
   ]
  },
  {
   "cell_type": "code",
   "execution_count": 8,
   "id": "d403118f",
   "metadata": {},
   "outputs": [
    {
     "data": {
      "text/plain": [
       "FIFA World Cup qualification            603\n",
       "African Cup of Nations qualification    216\n",
       "African Cup of Nations                   79\n",
       "FIFA World Cup                           78\n",
       "CECAFA Cup                               67\n",
       "AFC Asian Cup qualification              53\n",
       "COSAFA Cup                               47\n",
       "Gulf Cup                                 46\n",
       "CFU Caribbean Cup qualification          37\n",
       "AFC Asian Cup                            29\n",
       "Name: tournament, dtype: int64"
      ]
     },
     "execution_count": 8,
     "metadata": {},
     "output_type": "execute_result"
    }
   ],
   "source": [
    "fb[(fb['tournament'].str.contains('Cup'))\n",
    "  & ((fb['home_score'] == 0) & (fb['away_score'] == 0))]['tournament'].value_counts()[0:10]"
   ]
  },
  {
   "cell_type": "code",
   "execution_count": 6,
   "id": "4b0c458f",
   "metadata": {},
   "outputs": [
    {
     "data": {
      "image/png": "[encoded data removed]",
      "text/plain": [
       "<Figure size 720x432 with 1 Axes>"
      ]
     },
     "metadata": {
      "needs_background": "light"
     },
     "output_type": "display_data"
    }
   ],
   "source": [
    "fig, ax = plt.subplots(figsize=[10,6])\n",
    "fb[(fb['tournament'].str.contains('Cup'))\n",
    "  & ((fb['home_score'] == 0) & (fb['away_score'] == 0))]['tournament'].value_counts()[0:10].plot(kind='bar', color = 'lightgreen')\n",
    "ax.set_title('Количество сыгранных в ничью по 0 баллам матче в 10 соревнованиях', fontsize = 14)\n",
    "ax.set_ylabel('Количество наблюдений ', fontsize=12)\n",
    "ax.set_xlabel('Соревнования', fontsize=12)\n",
    "plt.show()"
   ]
  },
  {
   "cell_type": "markdown",
   "id": "b2946d4c",
   "metadata": {},
   "source": [
    "Так как значений было слишком много, мы отобрали первые 10 соревнований, на которых было сыграно больше всего матчей вничью. Больше всего таких матчей произошло во время отборочных в FIFA World Cup (603 матча). За ним идут отборочные в African Cup of Nations (около 216). Остальные 8 соревнований имеют примерно одинаковое количество матчей, сыгранных вничью (не более 100, их соотношение видно в частотной таблице)"
   ]
  },
  {
   "cell_type": "markdown",
   "id": "f268d57c",
   "metadata": {},
   "source": [
    "Вновь возьмем только соревнования на кубок, сыгранные в 21 веке. Посмотрим, в скольких матчах гостевая команда обыгрывала хозяев или, наоборот, проигрывала им? "
   ]
  },
  {
   "cell_type": "code",
   "execution_count": 14,
   "id": "f6ac08d7",
   "metadata": {},
   "outputs": [],
   "source": [
    "x = fb[(fb['date'].dt.year > 2000)&(fb['tournament'].str.contains('Cup'))]"
   ]
  },
  {
   "cell_type": "code",
   "execution_count": 15,
   "id": "b74c111c",
   "metadata": {},
   "outputs": [
    {
     "data": {
      "text/plain": [
       "True     4940\n",
       "False    4935\n",
       "dtype: int64"
      ]
     },
     "execution_count": 15,
     "metadata": {},
     "output_type": "execute_result"
    }
   ],
   "source": [
    "(x['away_team'] > x['home_team']).value_counts()"
   ]
  },
  {
   "cell_type": "code",
   "execution_count": 16,
   "id": "5346c245",
   "metadata": {},
   "outputs": [
    {
     "data": {
      "image/png": "[encoded data removed]",
      "text/plain": [
       "<Figure size 720x576 with 1 Axes>"
      ]
     },
     "metadata": {},
     "output_type": "display_data"
    }
   ],
   "source": [
    "labels = ['Победа', 'Поражение']\n",
    "colors = ['lightblue', 'pink']\n",
    "fig, ax = plt.subplots(figsize=[10,8])\n",
    "ax.pie((x['away_team'] > x['home_team']).value_counts(), labels = labels, autopct='%.2f%%', colors=colors)\n",
    "ax.legend(title = 'Статус после матча', fontsize = 14)\n",
    "ax.set_title('Распределение побед и поражений гостевой команды', fontsize = 15)\n",
    "plt.show()"
   ]
  },
  {
   "cell_type": "markdown",
   "id": "7a0250cc",
   "metadata": {},
   "source": [
    "Для того, чтобы ответить на вопрос, мы выбрали круговую диаграмму. Интересно, что гостевая команда в таких матчах одинаково проигрывала и побеждала. 50% с победы и с поражения. Правда по частотной таблице видно, что поражений было чуть меньше: 4935 матчей, а побед - 4940"
   ]
  },
  {
   "cell_type": "markdown",
   "id": "16d442a2",
   "metadata": {},
   "source": [
    "**Создание переменной**"
   ]
  },
  {
   "cell_type": "markdown",
   "id": "5151b338",
   "metadata": {},
   "source": [
    "Cоздадим переменную, в которой пропишем, кто стал победителем: гостевая команда, хозяева или матч сыгран вничью. С такой переменной будет удобнее работать, нежели постоянно сравнивать очки в столбцах home_score и away_score "
   ]
  },
  {
   "cell_type": "code",
   "execution_count": 7,
   "id": "6910cf2c",
   "metadata": {},
   "outputs": [],
   "source": [
    "def winner(scores_1, scores_2):\n",
    "    if scores_1 < scores_2:\n",
    "        return 'Хозяева'\n",
    "    elif scores_1 > scores_2:\n",
    "        return 'Гости'\n",
    "    else:\n",
    "        return 'Ничья'"
   ]
  },
  {
   "cell_type": "code",
   "execution_count": 8,
   "id": "2fe470b0",
   "metadata": {},
   "outputs": [],
   "source": [
    "fb['winner'] = fb[['away_score', 'home_score']].apply(lambda fb:  winner(fb['away_score'], fb['home_score']), axis=1)"
   ]
  },
  {
   "cell_type": "markdown",
   "id": "e2ae93c5",
   "metadata": {},
   "source": [
    "# Этап 3"
   ]
  },
  {
   "cell_type": "markdown",
   "id": "109a9e7b",
   "metadata": {},
   "source": [
    "**Расчет МЦТ**"
   ]
  },
  {
   "cell_type": "markdown",
   "id": "c936a444",
   "metadata": {},
   "source": [
    "*Баллы команды-хозяйки*"
   ]
  },
  {
   "cell_type": "code",
   "execution_count": 24,
   "id": "2058cb5a",
   "metadata": {},
   "outputs": [
    {
     "data": {
      "text/plain": [
       "1.739506832242845"
      ]
     },
     "execution_count": 24,
     "metadata": {},
     "output_type": "execute_result"
    }
   ],
   "source": [
    "fb['home_score'].mean()"
   ]
  },
  {
   "cell_type": "markdown",
   "id": "7237b919",
   "metadata": {},
   "source": [
    "В среднем команды хозяйки забивали 2 гола с округлением"
   ]
  },
  {
   "cell_type": "code",
   "execution_count": 25,
   "id": "13ab9646",
   "metadata": {},
   "outputs": [
    {
     "data": {
      "text/plain": [
       "1.0"
      ]
     },
     "execution_count": 25,
     "metadata": {},
     "output_type": "execute_result"
    }
   ],
   "source": [
    "fb['home_score'].median()"
   ]
  },
  {
   "cell_type": "markdown",
   "id": "94f84fd8",
   "metadata": {},
   "source": [
    "50% команд хозяек забили 1 и меньше голов. Разница между средним и медианой небольшая, причем среднее больше. Посмотрим на выбросы в этой переменной дальше"
   ]
  },
  {
   "cell_type": "code",
   "execution_count": 26,
   "id": "480e688b",
   "metadata": {},
   "outputs": [
    {
     "data": {
      "text/plain": [
       "0    1\n",
       "dtype: int64"
      ]
     },
     "execution_count": 26,
     "metadata": {},
     "output_type": "execute_result"
    }
   ],
   "source": [
    "fb['home_score'].mode()"
   ]
  },
  {
   "cell_type": "markdown",
   "id": "45bf2cb0",
   "metadata": {},
   "source": [
    "Чаще всего команда хозяек забивала 1 гол"
   ]
  },
  {
   "cell_type": "markdown",
   "id": "6f162892",
   "metadata": {},
   "source": [
    "*Баллы команды-гостьи*"
   ]
  },
  {
   "cell_type": "code",
   "execution_count": 27,
   "id": "d98e0acf",
   "metadata": {},
   "outputs": [
    {
     "data": {
      "text/plain": [
       "1.1782837049895403"
      ]
     },
     "execution_count": 27,
     "metadata": {},
     "output_type": "execute_result"
    }
   ],
   "source": [
    "fb['away_score'].mean()"
   ]
  },
  {
   "cell_type": "markdown",
   "id": "d4c9579e",
   "metadata": {},
   "source": [
    "В среднем гостевые команды забивали 1 гол"
   ]
  },
  {
   "cell_type": "code",
   "execution_count": 28,
   "id": "863dba3a",
   "metadata": {},
   "outputs": [
    {
     "data": {
      "text/plain": [
       "1.0"
      ]
     },
     "execution_count": 28,
     "metadata": {},
     "output_type": "execute_result"
    }
   ],
   "source": [
    "fb['away_score'].median()"
   ]
  },
  {
   "cell_type": "markdown",
   "id": "24cb2607",
   "metadata": {},
   "source": [
    "50% гостевых команд забивали 1 гол и меньше. Различие между средним и медианой в этой переменной минимальное (примерно 0.18 с округлением). "
   ]
  },
  {
   "cell_type": "code",
   "execution_count": 29,
   "id": "1fd9697c",
   "metadata": {},
   "outputs": [
    {
     "data": {
      "text/plain": [
       "0    0\n",
       "dtype: int64"
      ]
     },
     "execution_count": 29,
     "metadata": {},
     "output_type": "execute_result"
    }
   ],
   "source": [
    "fb['away_score'].mode()"
   ]
  },
  {
   "cell_type": "markdown",
   "id": "8e557b0f",
   "metadata": {},
   "source": [
    "Чаще всего гостевые команды не забивали голов"
   ]
  },
  {
   "cell_type": "markdown",
   "id": "239f8acd",
   "metadata": {},
   "source": [
    "*Рассмотрим моды у номинальных переменных, так как остальные МЦТ с ними посчитать нельзя*"
   ]
  },
  {
   "cell_type": "code",
   "execution_count": 30,
   "id": "71d4eb00",
   "metadata": {},
   "outputs": [
    {
     "data": {
      "text/plain": [
       "0    Friendly\n",
       "dtype: object"
      ]
     },
     "execution_count": 30,
     "metadata": {},
     "output_type": "execute_result"
    }
   ],
   "source": [
    "fb['tournament'].mode()"
   ]
  },
  {
   "cell_type": "markdown",
   "id": "4b443f23",
   "metadata": {},
   "source": [
    "Чаще всего матчи в наших данных были дружественными"
   ]
  },
  {
   "cell_type": "code",
   "execution_count": 31,
   "id": "127a16a6",
   "metadata": {},
   "outputs": [
    {
     "data": {
      "text/plain": [
       "0    Kuala Lumpur\n",
       "dtype: object"
      ]
     },
     "execution_count": 31,
     "metadata": {},
     "output_type": "execute_result"
    }
   ],
   "source": [
    "fb['city'].mode()"
   ]
  },
  {
   "cell_type": "markdown",
   "id": "7c5de6c1",
   "metadata": {},
   "source": [
    "Большинство матчей из нашей таблицы проводились в городе Kuala Lumpur - Малайзия. "
   ]
  },
  {
   "cell_type": "code",
   "execution_count": 32,
   "id": "51188ff8",
   "metadata": {},
   "outputs": [
    {
     "data": {
      "text/plain": [
       "0    United States\n",
       "dtype: object"
      ]
     },
     "execution_count": 32,
     "metadata": {},
     "output_type": "execute_result"
    }
   ],
   "source": [
    "fb['country'].mode()"
   ]
  },
  {
   "cell_type": "code",
   "execution_count": 64,
   "id": "8300d41e",
   "metadata": {},
   "outputs": [
    {
     "data": {
      "text/plain": [
       "United States        1331\n",
       "France                834\n",
       "Malaysia              759\n",
       "England               727\n",
       "Sweden                664\n",
       "                     ... \n",
       "Portuguese Guinea       1\n",
       "Micronesia              1\n",
       "Mali Federation         1\n",
       "Lautoka                 1\n",
       "Bonaire                 1\n",
       "Name: country, Length: 268, dtype: int64"
      ]
     },
     "execution_count": 64,
     "metadata": {},
     "output_type": "execute_result"
    }
   ],
   "source": [
    "fb['country'].value_counts()"
   ]
  },
  {
   "cell_type": "markdown",
   "id": "ee6195cc",
   "metadata": {},
   "source": [
    "Чаще всего матчи проводились в США - 1331 раз. На втором месте Франция (834 матча), Малазия, кстати, тоже не ушла далеко - 759 матчей"
   ]
  },
  {
   "cell_type": "code",
   "execution_count": 33,
   "id": "30676f98",
   "metadata": {},
   "outputs": [
    {
     "data": {
      "text/plain": [
       "0    Brazil\n",
       "dtype: object"
      ]
     },
     "execution_count": 33,
     "metadata": {},
     "output_type": "execute_result"
    }
   ],
   "source": [
    "fb['home_team'].mode()"
   ]
  },
  {
   "cell_type": "code",
   "execution_count": 65,
   "id": "79d9c3a4",
   "metadata": {},
   "outputs": [
    {
     "data": {
      "text/plain": [
       "Brazil                       598\n",
       "Argentina                    578\n",
       "Mexico                       564\n",
       "Germany                      532\n",
       "England                      527\n",
       "                            ... \n",
       "Central Spain                  1\n",
       "Madrid                         1\n",
       "Saint Pierre and Miquelon      1\n",
       "Sark                           1\n",
       "Hmong                          1\n",
       "Name: home_team, Length: 312, dtype: int64"
      ]
     },
     "execution_count": 65,
     "metadata": {},
     "output_type": "execute_result"
    }
   ],
   "source": [
    "fb['home_team'].value_counts()"
   ]
  },
  {
   "cell_type": "markdown",
   "id": "05e71785",
   "metadata": {},
   "source": [
    "Чаще всего в качестве команды-хозяйки выступала Бразилия - 598 раз. "
   ]
  },
  {
   "cell_type": "code",
   "execution_count": 34,
   "id": "052c4e40",
   "metadata": {},
   "outputs": [
    {
     "data": {
      "text/plain": [
       "0    Uruguay\n",
       "dtype: object"
      ]
     },
     "execution_count": 34,
     "metadata": {},
     "output_type": "execute_result"
    }
   ],
   "source": [
    "fb['away_team'].mode()"
   ]
  },
  {
   "cell_type": "code",
   "execution_count": 66,
   "id": "e68f4e0f",
   "metadata": {},
   "outputs": [
    {
     "data": {
      "text/plain": [
       "Uruguay          563\n",
       "Sweden           549\n",
       "England          528\n",
       "Hungary          493\n",
       "Paraguay         476\n",
       "                ... \n",
       "Central Spain      1\n",
       "Biafra             1\n",
       "Asturias           1\n",
       "Aymara             1\n",
       "Manchukuo          1\n",
       "Name: away_team, Length: 307, dtype: int64"
      ]
     },
     "execution_count": 66,
     "metadata": {},
     "output_type": "execute_result"
    }
   ],
   "source": [
    "fb['away_team'].value_counts()"
   ]
  },
  {
   "cell_type": "markdown",
   "id": "ceac6aef",
   "metadata": {},
   "source": [
    "Чаще всего в качестве гостевой команды выступал Уругвай - 563 раза. "
   ]
  },
  {
   "cell_type": "code",
   "execution_count": 35,
   "id": "7dea217a",
   "metadata": {},
   "outputs": [
    {
     "data": {
      "text/plain": [
       "0    Хозяева\n",
       "dtype: object"
      ]
     },
     "execution_count": 35,
     "metadata": {},
     "output_type": "execute_result"
    }
   ],
   "source": [
    "fb['winner'].mode()"
   ]
  },
  {
   "cell_type": "markdown",
   "id": "92c1202e",
   "metadata": {},
   "source": [
    "Большинство матчей были выиграны командами хозяевами. "
   ]
  },
  {
   "cell_type": "code",
   "execution_count": 67,
   "id": "74f29e77",
   "metadata": {},
   "outputs": [
    {
     "data": {
      "text/plain": [
       "0   2012-02-29\n",
       "dtype: datetime64[ns]"
      ]
     },
     "execution_count": 67,
     "metadata": {},
     "output_type": "execute_result"
    }
   ],
   "source": [
    "fb['date'].mode()"
   ]
  },
  {
   "cell_type": "code",
   "execution_count": 39,
   "id": "d4968201",
   "metadata": {},
   "outputs": [
    {
     "data": {
      "text/plain": [
       "(66, 10)"
      ]
     },
     "execution_count": 39,
     "metadata": {},
     "output_type": "execute_result"
    }
   ],
   "source": [
    "fb[fb['date'] == '2012-02-29'].shape"
   ]
  },
  {
   "cell_type": "markdown",
   "id": "6e886b66",
   "metadata": {},
   "source": [
    "Большинство матчей прошли 29 февраля 2012 года. Таких матчей было 66. Посмотрим, в каких турнирах. "
   ]
  },
  {
   "cell_type": "code",
   "execution_count": 68,
   "id": "ce731d3b",
   "metadata": {},
   "outputs": [
    {
     "data": {
      "text/plain": [
       "Friendly                                43\n",
       "African Cup of Nations qualification    13\n",
       "FIFA World Cup qualification            10\n",
       "Name: tournament, dtype: int64"
      ]
     },
     "execution_count": 68,
     "metadata": {},
     "output_type": "execute_result"
    }
   ],
   "source": [
    "fb[fb['date'] == '2012-02-29']['tournament'].value_counts()"
   ]
  },
  {
   "cell_type": "markdown",
   "id": "9ee46dcd",
   "metadata": {},
   "source": [
    "В самую популярную дату в нашем датасете прошли три турнира: 43 дружественных матча, 10 отборочных в Чемпионат мира, 13 отборочных матчей в Чемпионате Африки"
   ]
  },
  {
   "cell_type": "markdown",
   "id": "36b2a862",
   "metadata": {},
   "source": [
    "# Визуализация выбросов"
   ]
  },
  {
   "cell_type": "markdown",
   "id": "087d9510",
   "metadata": {},
   "source": [
    "Свизуализируем выбросы для переменных очков - гостевой команды и команды-хозяйки."
   ]
  },
  {
   "cell_type": "code",
   "execution_count": 20,
   "id": "e6a9c0ba",
   "metadata": {},
   "outputs": [
    {
     "data": {
      "image/png": "[encoded data removed]",
      "text/plain": [
       "<Figure size 720x576 with 1 Axes>"
      ]
     },
     "metadata": {
      "needs_background": "light"
     },
     "output_type": "display_data"
    }
   ],
   "source": [
    "fig, ax = plt.subplots(figsize=[10,8])\n",
    "sns.boxplot(x=fb['home_score'], color = 'lightgreen')\n",
    "ax.set_title('Распределение выбросов в переменной очков команды-хозяйки', fontsize = 14)\n",
    "ax.set_xlabel('Очки команды-хозяйки', fontsize=12)\n",
    "plt.show()"
   ]
  },
  {
   "cell_type": "markdown",
   "id": "0dc41e0b",
   "metadata": {},
   "source": [
    "Несмотря на то что среднее и медиана переменной очков команды-хозяйки не слишком сильно отличались друг от друга, все же на графике видны выбросы. Нижняя граница значений остановлена на нуле (что логично, меньше нуля голов не может быть), верхняя остановилась до 5 очков. Все, что идет за верхней границей, считаетсч выбросами. Они с одинаковой частотой достигают 20 очков для одной команды, и есть также значения больше 25-30"
   ]
  },
  {
   "cell_type": "code",
   "execution_count": 24,
   "id": "66a8aab1",
   "metadata": {},
   "outputs": [
    {
     "data": {
      "image/png": "[encoded data removed]",
      "text/plain": [
       "<Figure size 720x576 with 1 Axes>"
      ]
     },
     "metadata": {
      "needs_background": "light"
     },
     "output_type": "display_data"
    }
   ],
   "source": [
    "fig, ax = plt.subplots(figsize=[10,8])\n",
    "sns.boxplot(x=fb['away_score'], color = 'orange')\n",
    "ax.set_title('Распределение выбросов в переменной очков гостевой команды', fontsize = 14)\n",
    "ax.set_xlabel('Очки гостевой команды', fontsize=12)\n",
    "plt.show()"
   ]
  },
  {
   "cell_type": "markdown",
   "id": "e36fd2b5",
   "metadata": {},
   "source": [
    "Несмотря на то что среднее и медиана переменной очков команды-гостьи почти не отличались друг от друга, все же на графике видны выбросы. Нижней границы значений нет рна графике, но она также не может быть меньше нуля. Раннее мы выяснили, что чаще всего у гостевых команд голов было ноль, поэтому с этого значения начинается сам \"ящик\" - уплотнение значений переменной. Верхняя остановилась на 5 баллах. Все, что идет за верхней границей, считается выбросами. Они с одинаковой частотой достигают более 20 очков для одной команды. Выбросов в этой переменной визуально меньше, чем у команды-хозяйки."
   ]
  },
  {
   "cell_type": "markdown",
   "id": "2d91499d",
   "metadata": {},
   "source": [
    "**Количество выбросов - межквартильное расстояние**"
   ]
  },
  {
   "cell_type": "markdown",
   "id": "cef49117",
   "metadata": {},
   "source": [
    "*Рассчитаем количество выбросов для команды - хозяйки* "
   ]
  },
  {
   "cell_type": "code",
   "execution_count": 14,
   "id": "bce5ccba",
   "metadata": {},
   "outputs": [
    {
     "data": {
      "text/plain": [
       "(-0.5, 3.5)"
      ]
     },
     "execution_count": 14,
     "metadata": {},
     "output_type": "execute_result"
    }
   ],
   "source": [
    "q1 = np.percentile(fb['home_score'], 25)\n",
    "q3 = np.percentile(fb['home_score'], 75)\n",
    "iqr = q3 - q1\n",
    "# нижняя граница\n",
    "line1 = q1 - 1.5*iqr\n",
    "# верхняя граница\n",
    "line2 =  q3 + 1.5*iqr\n",
    "line1, line2"
   ]
  },
  {
   "cell_type": "markdown",
   "id": "981fbaef",
   "metadata": {},
   "source": [
    "Нижняя граница по расчету оказалась меньше нуля, соответственно, выбросов за этой границей нет (что и показал график), верхняя равна 3.5 - за этой границей могут быть выбросы. Рассчитаем их количество с помощью фильтрации"
   ]
  },
  {
   "cell_type": "code",
   "execution_count": 46,
   "id": "a4764555",
   "metadata": {},
   "outputs": [
    {
     "data": {
      "text/plain": [
       "(5628, 10)"
      ]
     },
     "execution_count": 46,
     "metadata": {},
     "output_type": "execute_result"
    }
   ],
   "source": [
    "fb[fb['home_score'] > line2].shape"
   ]
  },
  {
   "cell_type": "markdown",
   "id": "25e9055b",
   "metadata": {},
   "source": [
    "По межквартильному расстоянию количество выбросов в команде - хозяйке составляет 5628 матчей. Рассчитаем количество по второму способу"
   ]
  },
  {
   "cell_type": "markdown",
   "id": "2e2e33d7",
   "metadata": {},
   "source": [
    "**Количество выбросов - стандартное отклонение**"
   ]
  },
  {
   "cell_type": "code",
   "execution_count": 15,
   "id": "a4e97626",
   "metadata": {},
   "outputs": [
    {
     "data": {
      "text/plain": [
       "(-1.7542384648748548, 5.233252129360545)"
      ]
     },
     "execution_count": 15,
     "metadata": {},
     "output_type": "execute_result"
    }
   ],
   "source": [
    "mean = fb['home_score'].mean()\n",
    "std = fb['home_score'].std()\n",
    "# нижняя граница\n",
    "line_1 = mean - 2*std\n",
    "# верхняя граница\n",
    "line_2 = mean + 2*std\n",
    "line_1, line_2"
   ]
  },
  {
   "cell_type": "markdown",
   "id": "3dce67e2",
   "metadata": {},
   "source": [
    "Мы предположили, что выбросами будут те значения, которые отличаются от среднего на 2 стандартных отклонения и более. Таким образом, нижняя граница стала равна -1.7, число отрицательное, вновь за этой границей выбросов не будет. Верхняя граница равна 5.23 с округлением. Рассчитаем  количество  выбросов с помощью фильтрации "
   ]
  },
  {
   "cell_type": "code",
   "execution_count": 55,
   "id": "40fc60cd",
   "metadata": {},
   "outputs": [
    {
     "data": {
      "text/plain": [
       "(1601, 10)"
      ]
     },
     "execution_count": 55,
     "metadata": {},
     "output_type": "execute_result"
    }
   ],
   "source": [
    "fb[fb['home_score'] >= line_2].shape"
   ]
  },
  {
   "cell_type": "markdown",
   "id": "201019bb",
   "metadata": {},
   "source": [
    "По стандартному отклонению количество выбросов в команде - хозяйке составляет 1601 матчей. Выбросов по этому способу стало почти в 5 раз меньше, чем по межквартильному размаху. Возможно, дело в том, что стандартное отклонение расширило значение границ и соответственно нашла меньше выбросов (разница между значениями нижней и верхней границе в двух способах отчетливо видно, по стандартному отклонению обе границы стали больше). Нам кажется, что способ со стандартным отклонением лучше, так как меньше значений становятся с выбросами и больше информации остается, с которой можно работать  "
   ]
  },
  {
   "cell_type": "markdown",
   "id": "2270d098",
   "metadata": {},
   "source": [
    "**Замена выбросов**"
   ]
  },
  {
   "cell_type": "markdown",
   "id": "ad9fc168",
   "metadata": {},
   "source": [
    "*Заменим выбросы, рассчитанные по стандартному отклонению, на медиану, в новом массиве*"
   ]
  },
  {
   "cell_type": "code",
   "execution_count": 17,
   "id": "d25c91ab",
   "metadata": {},
   "outputs": [],
   "source": [
    "new_home = fb['home_score'].apply(lambda x: fb['home_score'].median() if x > line_2 else x)"
   ]
  },
  {
   "cell_type": "code",
   "execution_count": 23,
   "id": "b7def923",
   "metadata": {},
   "outputs": [
    {
     "data": {
      "text/plain": [
       "1.5098589041705612"
      ]
     },
     "execution_count": 23,
     "metadata": {},
     "output_type": "execute_result"
    }
   ],
   "source": [
    "new_home.mean()"
   ]
  },
  {
   "cell_type": "code",
   "execution_count": 24,
   "id": "32295f02",
   "metadata": {},
   "outputs": [
    {
     "data": {
      "text/plain": [
       "1.0"
      ]
     },
     "execution_count": 24,
     "metadata": {},
     "output_type": "execute_result"
    }
   ],
   "source": [
    "new_home.median()"
   ]
  },
  {
   "cell_type": "code",
   "execution_count": 25,
   "id": "295af0fe",
   "metadata": {},
   "outputs": [
    {
     "data": {
      "text/plain": [
       "0    1.0\n",
       "dtype: float64"
      ]
     },
     "execution_count": 25,
     "metadata": {},
     "output_type": "execute_result"
    }
   ],
   "source": [
    "new_home.mode()"
   ]
  },
  {
   "cell_type": "markdown",
   "id": "6656c3e8",
   "metadata": {},
   "source": [
    "Замена выбросов привела к тому, что среднее стало меньше, чем до удаления (до удаления 1.74 с округлением, после - 1.50 с округлением), при этом оно все так же чуть больше медианы (она не изменилась, как и мода) "
   ]
  },
  {
   "cell_type": "markdown",
   "id": "6e654a5d",
   "metadata": {},
   "source": [
    "**Пропущенные значения**"
   ]
  },
  {
   "cell_type": "code",
   "execution_count": 22,
   "id": "0a70798f",
   "metadata": {},
   "outputs": [
    {
     "data": {
      "text/plain": [
       "date          0\n",
       "home_team     0\n",
       "away_team     0\n",
       "home_score    0\n",
       "away_score    0\n",
       "tournament    0\n",
       "city          0\n",
       "country       0\n",
       "neutral       0\n",
       "winner        0\n",
       "dtype: int64"
      ]
     },
     "execution_count": 22,
     "metadata": {},
     "output_type": "execute_result"
    }
   ],
   "source": [
    "fb.isna().sum()"
   ]
  },
  {
   "cell_type": "markdown",
   "id": "ecbb7744",
   "metadata": {},
   "source": [
    "Пропущенных значений в наших данных нет"
   ]
  },
  {
   "cell_type": "markdown",
   "id": "d02a6bf4",
   "metadata": {},
   "source": [
    "**Корреляционная матрица**"
   ]
  },
  {
   "cell_type": "code",
   "execution_count": 8,
   "id": "1694e457",
   "metadata": {},
   "outputs": [
    {
     "data": {
      "text/html": [
       "<div>\n",
       "<style scoped>\n",
       "    .dataframe tbody tr th:only-of-type {\n",
       "        vertical-align: middle;\n",
       "    }\n",
       "\n",
       "    .dataframe tbody tr th {\n",
       "        vertical-align: top;\n",
       "    }\n",
       "\n",
       "    .dataframe thead th {\n",
       "        text-align: right;\n",
       "    }\n",
       "</style>\n",
       "<table border=\"1\" class=\"dataframe\">\n",
       "  <thead>\n",
       "    <tr style=\"text-align: right;\">\n",
       "      <th></th>\n",
       "      <th>home_score</th>\n",
       "      <th>away_score</th>\n",
       "    </tr>\n",
       "  </thead>\n",
       "  <tbody>\n",
       "    <tr>\n",
       "      <th>home_score</th>\n",
       "      <td>1.000000</td>\n",
       "      <td>-0.138923</td>\n",
       "    </tr>\n",
       "    <tr>\n",
       "      <th>away_score</th>\n",
       "      <td>-0.138923</td>\n",
       "      <td>1.000000</td>\n",
       "    </tr>\n",
       "  </tbody>\n",
       "</table>\n",
       "</div>"
      ],
      "text/plain": [
       "            home_score  away_score\n",
       "home_score    1.000000   -0.138923\n",
       "away_score   -0.138923    1.000000"
      ]
     },
     "execution_count": 8,
     "metadata": {},
     "output_type": "execute_result"
    }
   ],
   "source": [
    "fb[['home_score', 'away_score']].corr()"
   ]
  },
  {
   "cell_type": "markdown",
   "id": "26781606",
   "metadata": {},
   "source": [
    "Единственные переменные, между которыми можно было хоть как-то провести корреляцию - это переменные очков. Результат корреляции оказался вполне ожидаемый: зависимость обратная, то есть чем меньше баллы одной команды, тем больше другой. При этом связь довольно таки слабая - -0.14, видимо, это связано с большим отрывом очков, которые есть. "
   ]
  },
  {
   "cell_type": "code",
   "execution_count": 19,
   "id": "3641796a",
   "metadata": {},
   "outputs": [
    {
     "data": {
      "image/png": "[encoded data removed]",
      "text/plain": [
       "<Figure size 720x576 with 1 Axes>"
      ]
     },
     "metadata": {
      "needs_background": "light"
     },
     "output_type": "display_data"
    }
   ],
   "source": [
    "fig, ax = plt.subplots(figsize=[10,8])\n",
    "ax.scatter(fb['home_score'], y = fb['away_score'], alpha=0.7, c = 'lightgreen')\n",
    "ax.set_title('Зависимость очков гостевой команды от очков команды-хозяйки', fontsize=15)\n",
    "ax.set_xlabel('Очки хозяйки', fontsize=12)\n",
    "ax.set_ylabel('Очки гостевой команды', fontsize=12)\n",
    "plt.show()"
   ]
  },
  {
   "cell_type": "markdown",
   "id": "8e53d65f",
   "metadata": {},
   "source": [
    "Из-за того, что переменные у нас дискретные, график рассеяния выглядит немного иначе. Но по графику все так же можно говорить об отсутствии сильной взаимосвязи, так как есть выбросы. Рассчитаем коэффициент и построим график без выбросов. "
   ]
  },
  {
   "cell_type": "code",
   "execution_count": 28,
   "id": "6994dd8f",
   "metadata": {},
   "outputs": [
    {
     "data": {
      "text/plain": [
       "(-1.607789376019899, 3.9643567859989792)"
      ]
     },
     "execution_count": 28,
     "metadata": {},
     "output_type": "execute_result"
    }
   ],
   "source": [
    "mean = fb['away_score'].mean()\n",
    "std = fb['away_score'].std()\n",
    "# нижняя граница\n",
    "line1 = mean - 2*std\n",
    "# верхняя граница\n",
    "line2 = mean + 2*std\n",
    "line1, line2"
   ]
  },
  {
   "cell_type": "code",
   "execution_count": 29,
   "id": "82fdda31",
   "metadata": {},
   "outputs": [],
   "source": [
    "new_fb = fb[(fb['home_score'] < line_2) & (fb['away_score'] < line2)]"
   ]
  },
  {
   "cell_type": "code",
   "execution_count": 31,
   "id": "0bac0ac7",
   "metadata": {},
   "outputs": [
    {
     "name": "stdout",
     "output_type": "stream",
     "text": [
      "Коэффициент корреляции -0.07460840957465094\n"
     ]
    },
    {
     "data": {
      "image/png": "[encoded data removed]",
      "text/plain": [
       "<Figure size 720x576 with 1 Axes>"
      ]
     },
     "metadata": {
      "needs_background": "light"
     },
     "output_type": "display_data"
    }
   ],
   "source": [
    "print('Коэффициент корреляции', new_fb['home_score'].corr(new_fb['away_score']))\n",
    "fig, ax = plt.subplots(figsize=[10,8])\n",
    "ax.scatter(new_fb['home_score'], y = new_fb['away_score'], alpha=0.7, c = 'hotpink')\n",
    "ax.set_title('Зависимость очков гостевой команды от очков команды-хозяйки (без выбросов)', fontsize=15)\n",
    "ax.set_xlabel('Очки хозяйки', fontsize=12)\n",
    "ax.set_ylabel('Очки гостевой команды', fontsize=12)\n",
    "plt.show()"
   ]
  },
  {
   "cell_type": "markdown",
   "id": "7403c9d1",
   "metadata": {},
   "source": [
    "Без выбросов коэффициент стал еще меньше, а на графике мы увидели еще большее отсутствие какой бы то ни было связи"
   ]
  },
  {
   "cell_type": "code",
   "execution_count": null,
   "id": "a8eb52e2",
   "metadata": {},
   "outputs": [],
   "source": []
  }
 ],
 "metadata": {
  "kernelspec": {
   "display_name": "Python 3 (ipykernel)",
   "language": "python",
   "name": "python3"
  },
  "language_info": {
   "codemirror_mode": {
    "name": "ipython",
    "version": 3
   },
   "file_extension": ".py",
   "mimetype": "text/x-python",
   "name": "python",
   "nbconvert_exporter": "python",
   "pygments_lexer": "ipython3",
   "version": "3.9.7"
  }
 },
 "nbformat": 4,
 "nbformat_minor": 5
}
