{
 "cells": [
  {
   "cell_type": "markdown",
   "id": "0146b31e",
   "metadata": {},
   "source": [
    "# Maternal Health Risk Data"
   ]
  },
  {
   "cell_type": "markdown",
   "id": "e681b332",
   "metadata": {},
   "source": [
    "Тема: анализ медицинских показателей беременных женщин(1014 пациенток), у которых разные риски для здоровья \n",
    "Исследовательская задача: установить закономерности влияния различных медицинских показателей на здоровье беременных "
   ]
  },
  {
   "cell_type": "markdown",
   "id": "4caa987c",
   "metadata": {},
   "source": [
    "1. Age: возраст, когда пациентка забеременела - количественное непрерывное \n",
    "2. SystolicBP: верхнее значение артериального давления в мм рт. ст. - количественное непрерывное\n",
    "3. DiastolicBP: нижнее значение артериального  давления в мм рт. ст. - количественнное непрерывное \n",
    "4. BS: уровень глюкозы в крови в ммоль/л - количественное непрерывное \n",
    "5. HeartRate: нормальная частота сердечных сокращений в состоянии покоя в ударах в минуту - количественное непрерывное \n",
    "6. BodyTemp - температура тела по фаренгейту - количественное непрерывное \n",
    "7. Risk Level: прогнозируемый риск здоровью ('high risk' - высокий, 'mid risk' - средний, 'low risk' - низкий) - категориальное порядковое "
   ]
  },
  {
   "cell_type": "code",
   "execution_count": 1,
   "id": "55523708",
   "metadata": {},
   "outputs": [],
   "source": [
    "import numpy as np\n",
    "import scipy.stats\n",
    "import matplotlib.pyplot as plt\n",
    "import seaborn as sns"
   ]
  },
  {
   "cell_type": "code",
   "execution_count": 1,
   "id": "a7d5393d",
   "metadata": {},
   "outputs": [],
   "source": [
    "import pandas as pd\n",
    "data = pd.read_csv('Maternal Health Risk Data Set.csv')"
   ]
  },
  {
   "cell_type": "code",
   "execution_count": 3,
   "id": "e2c47c2f",
   "metadata": {},
   "outputs": [
    {
     "data": {
      "text/html": [
       "<div>\n",
       "<style scoped>\n",
       "    .dataframe tbody tr th:only-of-type {\n",
       "        vertical-align: middle;\n",
       "    }\n",
       "\n",
       "    .dataframe tbody tr th {\n",
       "        vertical-align: top;\n",
       "    }\n",
       "\n",
       "    .dataframe thead th {\n",
       "        text-align: right;\n",
       "    }\n",
       "</style>\n",
       "<table border=\"1\" class=\"dataframe\">\n",
       "  <thead>\n",
       "    <tr style=\"text-align: right;\">\n",
       "      <th></th>\n",
       "      <th>Age</th>\n",
       "      <th>SystolicBP</th>\n",
       "      <th>DiastolicBP</th>\n",
       "      <th>BS</th>\n",
       "      <th>BodyTemp</th>\n",
       "      <th>HeartRate</th>\n",
       "      <th>RiskLevel</th>\n",
       "    </tr>\n",
       "  </thead>\n",
       "  <tbody>\n",
       "    <tr>\n",
       "      <th>0</th>\n",
       "      <td>25</td>\n",
       "      <td>130</td>\n",
       "      <td>80</td>\n",
       "      <td>15.0</td>\n",
       "      <td>98.0</td>\n",
       "      <td>86</td>\n",
       "      <td>high risk</td>\n",
       "    </tr>\n",
       "    <tr>\n",
       "      <th>1</th>\n",
       "      <td>35</td>\n",
       "      <td>140</td>\n",
       "      <td>90</td>\n",
       "      <td>13.0</td>\n",
       "      <td>98.0</td>\n",
       "      <td>70</td>\n",
       "      <td>high risk</td>\n",
       "    </tr>\n",
       "    <tr>\n",
       "      <th>2</th>\n",
       "      <td>29</td>\n",
       "      <td>90</td>\n",
       "      <td>70</td>\n",
       "      <td>8.0</td>\n",
       "      <td>100.0</td>\n",
       "      <td>80</td>\n",
       "      <td>high risk</td>\n",
       "    </tr>\n",
       "    <tr>\n",
       "      <th>3</th>\n",
       "      <td>30</td>\n",
       "      <td>140</td>\n",
       "      <td>85</td>\n",
       "      <td>7.0</td>\n",
       "      <td>98.0</td>\n",
       "      <td>70</td>\n",
       "      <td>high risk</td>\n",
       "    </tr>\n",
       "    <tr>\n",
       "      <th>4</th>\n",
       "      <td>35</td>\n",
       "      <td>120</td>\n",
       "      <td>60</td>\n",
       "      <td>6.1</td>\n",
       "      <td>98.0</td>\n",
       "      <td>76</td>\n",
       "      <td>low risk</td>\n",
       "    </tr>\n",
       "    <tr>\n",
       "      <th>...</th>\n",
       "      <td>...</td>\n",
       "      <td>...</td>\n",
       "      <td>...</td>\n",
       "      <td>...</td>\n",
       "      <td>...</td>\n",
       "      <td>...</td>\n",
       "      <td>...</td>\n",
       "    </tr>\n",
       "    <tr>\n",
       "      <th>1009</th>\n",
       "      <td>22</td>\n",
       "      <td>120</td>\n",
       "      <td>60</td>\n",
       "      <td>15.0</td>\n",
       "      <td>98.0</td>\n",
       "      <td>80</td>\n",
       "      <td>high risk</td>\n",
       "    </tr>\n",
       "    <tr>\n",
       "      <th>1010</th>\n",
       "      <td>55</td>\n",
       "      <td>120</td>\n",
       "      <td>90</td>\n",
       "      <td>18.0</td>\n",
       "      <td>98.0</td>\n",
       "      <td>60</td>\n",
       "      <td>high risk</td>\n",
       "    </tr>\n",
       "    <tr>\n",
       "      <th>1011</th>\n",
       "      <td>35</td>\n",
       "      <td>85</td>\n",
       "      <td>60</td>\n",
       "      <td>19.0</td>\n",
       "      <td>98.0</td>\n",
       "      <td>86</td>\n",
       "      <td>high risk</td>\n",
       "    </tr>\n",
       "    <tr>\n",
       "      <th>1012</th>\n",
       "      <td>43</td>\n",
       "      <td>120</td>\n",
       "      <td>90</td>\n",
       "      <td>18.0</td>\n",
       "      <td>98.0</td>\n",
       "      <td>70</td>\n",
       "      <td>high risk</td>\n",
       "    </tr>\n",
       "    <tr>\n",
       "      <th>1013</th>\n",
       "      <td>32</td>\n",
       "      <td>120</td>\n",
       "      <td>65</td>\n",
       "      <td>6.0</td>\n",
       "      <td>101.0</td>\n",
       "      <td>76</td>\n",
       "      <td>mid risk</td>\n",
       "    </tr>\n",
       "  </tbody>\n",
       "</table>\n",
       "<p>1014 rows × 7 columns</p>\n",
       "</div>"
      ],
      "text/plain": [
       "      Age  SystolicBP  DiastolicBP    BS  BodyTemp  HeartRate  RiskLevel\n",
       "0      25         130           80  15.0      98.0         86  high risk\n",
       "1      35         140           90  13.0      98.0         70  high risk\n",
       "2      29          90           70   8.0     100.0         80  high risk\n",
       "3      30         140           85   7.0      98.0         70  high risk\n",
       "4      35         120           60   6.1      98.0         76   low risk\n",
       "...   ...         ...          ...   ...       ...        ...        ...\n",
       "1009   22         120           60  15.0      98.0         80  high risk\n",
       "1010   55         120           90  18.0      98.0         60  high risk\n",
       "1011   35          85           60  19.0      98.0         86  high risk\n",
       "1012   43         120           90  18.0      98.0         70  high risk\n",
       "1013   32         120           65   6.0     101.0         76   mid risk\n",
       "\n",
       "[1014 rows x 7 columns]"
      ]
     },
     "execution_count": 3,
     "metadata": {},
     "output_type": "execute_result"
    }
   ],
   "source": [
    "data"
   ]
  },
  {
   "cell_type": "code",
   "execution_count": 4,
   "id": "3e2cc4f6",
   "metadata": {},
   "outputs": [
    {
     "data": {
      "text/plain": [
       "8.0"
      ]
     },
     "execution_count": 4,
     "metadata": {},
     "output_type": "execute_result"
    }
   ],
   "source": [
    "data.iloc[2,3]"
   ]
  },
  {
   "cell_type": "markdown",
   "id": "939091bb",
   "metadata": {},
   "source": [
    "# Этап 2"
   ]
  },
  {
   "cell_type": "markdown",
   "id": "c5e2caa7",
   "metadata": {},
   "source": [
    "## Фильтрация "
   ]
  },
  {
   "cell_type": "markdown",
   "id": "6bc50cab",
   "metadata": {},
   "source": [
    "Рассмотрим, у скольких пациенток есть риск для здоровья (высокий или средний)"
   ]
  },
  {
   "cell_type": "code",
   "execution_count": 167,
   "id": "91fe7559",
   "metadata": {},
   "outputs": [
    {
     "data": {
      "text/plain": [
       "608"
      ]
     },
     "execution_count": 167,
     "metadata": {},
     "output_type": "execute_result"
    }
   ],
   "source": [
    "data[(data['RiskLevel'] == 'high risk')|(data['RiskLevel'] == 'mid risk')].shape[0]"
   ]
  },
  {
   "cell_type": "markdown",
   "id": "f93eb69a",
   "metadata": {},
   "source": [
    "59,9% беременных пациенток имеют ту или иную степень риск для здоровья. "
   ]
  },
  {
   "cell_type": "markdown",
   "id": "26c19766",
   "metadata": {},
   "source": [
    "Гипотеза 1: Возраст женщины может стать фактором риска. "
   ]
  },
  {
   "cell_type": "code",
   "execution_count": 168,
   "id": "bd429c33",
   "metadata": {},
   "outputs": [
    {
     "data": {
      "text/plain": [
       "318"
      ]
     },
     "execution_count": 168,
     "metadata": {},
     "output_type": "execute_result"
    }
   ],
   "source": [
    "data[data['Age'] >= 35].shape[0]"
   ]
  },
  {
   "cell_type": "markdown",
   "id": "62190c66",
   "metadata": {},
   "source": [
    "В нашем датасете 31,4% беременных в возрасте 35 и более лет (термин \"старородящие\"). "
   ]
  },
  {
   "cell_type": "code",
   "execution_count": 169,
   "id": "0988384a",
   "metadata": {},
   "outputs": [
    {
     "data": {
      "text/plain": [
       "225"
      ]
     },
     "execution_count": 169,
     "metadata": {},
     "output_type": "execute_result"
    }
   ],
   "source": [
    "data[(data['Age'] >= 35)\n",
    "     &((data['RiskLevel'] == 'mid risk') \n",
    "     | (data['RiskLevel'] == 'high risk'))].shape[0]"
   ]
  },
  {
   "cell_type": "markdown",
   "id": "22fa5f21",
   "metadata": {},
   "source": [
    "Больше половины женщин 35 и старше лет (225 из 318) имеют риски для здоровья. Можно сделать вывод, что возраст во время беременности может сыграть роль в ухудшении здоровья. В дальнейшем мы рассмотрим этот фактор в сочетании с другими, чтобы выявить закономерности."
   ]
  },
  {
   "cell_type": "markdown",
   "id": "41047b60",
   "metadata": {},
   "source": [
    "Гипотеза 2: Артериальное давление - важный показатель во время беременности. Высокий или средний риск здоровья должен быть у женщин с высоким давлением (верхний и нижний показатели больше 139/89). При этом у женщин с пониженным давлением (показатели больше 105/60) также есть риск для здоровья, так как прогрессирует гипотония. "
   ]
  },
  {
   "cell_type": "code",
   "execution_count": 170,
   "id": "b2ca7fb1",
   "metadata": {},
   "outputs": [
    {
     "data": {
      "text/plain": [
       "347"
      ]
     },
     "execution_count": 170,
     "metadata": {},
     "output_type": "execute_result"
    }
   ],
   "source": [
    "data[((data['SystolicBP'] < 139)\n",
    "      &(data['DiastolicBP'] < 89))\n",
    "      &((data['SystolicBP'] > 105)\n",
    "      &(data['DiastolicBP'] > 60))].shape[0]"
   ]
  },
  {
   "cell_type": "markdown",
   "id": "4f65c33c",
   "metadata": {},
   "source": [
    "У нас 34,2% женщин с нормальным давлением. Это очень маленькое количество, уже на этом этапе мы можем говорить о том, что у беременных женщин развивается гипотония или гипертония, и это распространенное явление. Осталось понять, как это влияет на риски для здоровья. "
   ]
  },
  {
   "cell_type": "code",
   "execution_count": 171,
   "id": "7f83383d",
   "metadata": {},
   "outputs": [
    {
     "data": {
      "text/plain": [
       "49"
      ]
     },
     "execution_count": 171,
     "metadata": {},
     "output_type": "execute_result"
    }
   ],
   "source": [
    "data[(data['SystolicBP'] < 105) & (data['DiastolicBP'] < 60)].shape[0]"
   ]
  },
  {
   "cell_type": "markdown",
   "id": "5b861b27",
   "metadata": {},
   "source": [
    "49 женщин страдают от пониженного давления. Посмотрим, приводит ли к это рискам для здоровья. "
   ]
  },
  {
   "cell_type": "code",
   "execution_count": 172,
   "id": "6383fe30",
   "metadata": {},
   "outputs": [
    {
     "data": {
      "text/plain": [
       "41"
      ]
     },
     "execution_count": 172,
     "metadata": {},
     "output_type": "execute_result"
    }
   ],
   "source": [
    "data[(data['RiskLevel'] == 'low risk')\n",
    "     &((data['SystolicBP'] < 105)\n",
    "     &(data['DiastolicBP'] < 60))].shape[0]"
   ]
  },
  {
   "cell_type": "markdown",
   "id": "87606b8d",
   "metadata": {},
   "source": [
    "У 41 женщины из 49 ставят низкий риск для здоровья при условиях пониженном артериальном давлении. Часть нашей гипотезы не подтвердилась "
   ]
  },
  {
   "cell_type": "markdown",
   "id": "de12225b",
   "metadata": {},
   "source": [
    "Посмотрим то же самое, только для высокого давления."
   ]
  },
  {
   "cell_type": "code",
   "execution_count": 173,
   "id": "e29024bf",
   "metadata": {},
   "outputs": [
    {
     "data": {
      "text/plain": [
       "117"
      ]
     },
     "execution_count": 173,
     "metadata": {},
     "output_type": "execute_result"
    }
   ],
   "source": [
    "data[(data['SystolicBP'] > 139) & (data['DiastolicBP'] > 89)].shape[0]"
   ]
  },
  {
   "cell_type": "markdown",
   "id": "1af160c5",
   "metadata": {},
   "source": [
    "Интересное наблюдение. У нас мало женщин с высоким давлением: 117 человек. Суммируя количество женщин с нормальным, низким и высоким давлениям по нашим условиям мы не получаем результат в 1014 человек. Получается, что есть другие \"комбинации\" показателей давления, которые не удовлетворяют нашим условимя. "
   ]
  },
  {
   "cell_type": "code",
   "execution_count": 174,
   "id": "04285751",
   "metadata": {},
   "outputs": [
    {
     "data": {
      "text/plain": [
       "0"
      ]
     },
     "execution_count": 174,
     "metadata": {},
     "output_type": "execute_result"
    }
   ],
   "source": [
    "data[(data['RiskLevel'] == 'low risk')\n",
    "     &((data['SystolicBP'] > 139)\n",
    "     &(data['DiastolicBP'] > 89))].shape[0]"
   ]
  },
  {
   "cell_type": "markdown",
   "id": "99a4af97",
   "metadata": {},
   "source": [
    "Тем не менее, абсолютно все женщины с высоким давлением имеют риски для здоровья(фильтрация по \"низкому уровню риска\" равна нулю). Эта часть гипотезы абсолютно подтвердилась. "
   ]
  },
  {
   "cell_type": "markdown",
   "id": "6dc4eb6b",
   "metadata": {},
   "source": [
    "Разумеется, что лишь давление не может привести к высокому риску для здоровья. **Гипотеза 3**: у женщин с высоким давлением есть сахарный диабет (уровень глюкозы 7 и больше) и следовательно, высокий риск для здоровья. "
   ]
  },
  {
   "cell_type": "code",
   "execution_count": 175,
   "id": "02366289",
   "metadata": {},
   "outputs": [
    {
     "data": {
      "text/plain": [
       "104"
      ]
     },
     "execution_count": 175,
     "metadata": {},
     "output_type": "execute_result"
    }
   ],
   "source": [
    "data[(data['RiskLevel'] == 'high risk')\n",
    "     &((data['SystolicBP'] > 139)\n",
    "     &(data['DiastolicBP'] > 89)\n",
    "     &(data['BS'] >= 7))].shape[0]"
   ]
  },
  {
   "cell_type": "markdown",
   "id": "17b926e6",
   "metadata": {},
   "source": [
    "104 женщины из 117 с высоким давлением имеют и сахарный диабет, и высокий уровень риска для здоровья. Гипотеза подтверждена. Можно даже предположить принцип обозначения \"среднего\" и \"высокого\" риска для здоровья. Возможно, средний ставится, если проблемы есть по одному показателю, а высокий - по двум показателям. "
   ]
  },
  {
   "cell_type": "markdown",
   "id": "66e8d40e",
   "metadata": {},
   "source": [
    "## Перекодирование переменных (для удобства)"
   ]
  },
  {
   "cell_type": "markdown",
   "id": "0e20a48b",
   "metadata": {},
   "source": [
    "Для удобства перекодируем переменную RiskLevel: 0 - low risk, 1 - mid risk, 2 - high risk"
   ]
  },
  {
   "cell_type": "code",
   "execution_count": 162,
   "id": "a2d7d0c0",
   "metadata": {},
   "outputs": [],
   "source": [
    "def risk_level_new(value):\n",
    "    if value == 'low risk':\n",
    "        value = 0\n",
    "    elif value == 'mid risk':\n",
    "        value = 1\n",
    "    elif value == 'high risk':\n",
    "        value = 2\n",
    "    return value "
   ]
  },
  {
   "cell_type": "code",
   "execution_count": 163,
   "id": "331605fd",
   "metadata": {},
   "outputs": [],
   "source": [
    "data['Risk_range'] = data['RiskLevel'].apply(risk_level_new)"
   ]
  },
  {
   "cell_type": "markdown",
   "id": "dada3121",
   "metadata": {},
   "source": [
    "Для того, чтобы нам лучше понимать переменную температуры, переведем Фаренгейты в Цельсия по формуле (5/9 (t °F - 32)"
   ]
  },
  {
   "cell_type": "code",
   "execution_count": 159,
   "id": "0c4e66be",
   "metadata": {},
   "outputs": [],
   "source": [
    "def temp_c(value):\n",
    "    return round(5/9*(value - 32),2)\n",
    "data['BodyTemp_C'] = data['BodyTemp'].apply(temp_c)"
   ]
  },
  {
   "cell_type": "markdown",
   "id": "de39a7d6",
   "metadata": {},
   "source": [
    "## Создание новой переменной "
   ]
  },
  {
   "cell_type": "markdown",
   "id": "f4bb3eb6",
   "metadata": {},
   "source": [
    "Создадим переменную возрастной периодизации: дети (до 12 лет), несовершеннолетние подростки (12-17), 18-30, 30-55, пожилые люди(55-70)"
   ]
  },
  {
   "cell_type": "code",
   "execution_count": 2,
   "id": "daf87cae",
   "metadata": {},
   "outputs": [],
   "source": [
    "def age_periodization(value):\n",
    "    if value < 12:\n",
    "        value = 'Дети'\n",
    "    elif value >= 12 and value < 18:\n",
    "        value = 'Несовершеннолетние' \n",
    "    elif value >= 18 and value <= 30:\n",
    "        value = '18-30'\n",
    "    elif value > 30 and value <= 40:\n",
    "        value = '31-40'\n",
    "    elif value > 40 and value <= 55:\n",
    "        value = '41-55'\n",
    "    elif value > 55:\n",
    "        value = 'Пожилые люди'\n",
    "    return value\n",
    "    "
   ]
  },
  {
   "cell_type": "code",
   "execution_count": 4,
   "id": "8a45a064",
   "metadata": {},
   "outputs": [
    {
     "data": {
      "text/plain": [
       "0       25\n",
       "1       35\n",
       "2       29\n",
       "3       30\n",
       "4       35\n",
       "        ..\n",
       "1009    22\n",
       "1010    55\n",
       "1011    35\n",
       "1012    43\n",
       "1013    32\n",
       "Name: Age, Length: 1014, dtype: int64"
      ]
     },
     "execution_count": 4,
     "metadata": {},
     "output_type": "execute_result"
    }
   ],
   "source": [
    "data['Age'] "
   ]
  },
  {
   "cell_type": "code",
   "execution_count": 3,
   "id": "2146b5f9",
   "metadata": {},
   "outputs": [],
   "source": [
    "data['Age_periodization'] = data['Age'].apply(age_periodization)"
   ]
  },
  {
   "cell_type": "markdown",
   "id": "841605da",
   "metadata": {},
   "source": [
    "## Сортировка"
   ]
  },
  {
   "cell_type": "code",
   "execution_count": 160,
   "id": "cd14fef3",
   "metadata": {},
   "outputs": [
    {
     "data": {
      "text/html": [
       "<div>\n",
       "<style scoped>\n",
       "    .dataframe tbody tr th:only-of-type {\n",
       "        vertical-align: middle;\n",
       "    }\n",
       "\n",
       "    .dataframe tbody tr th {\n",
       "        vertical-align: top;\n",
       "    }\n",
       "\n",
       "    .dataframe thead th {\n",
       "        text-align: right;\n",
       "    }\n",
       "</style>\n",
       "<table border=\"1\" class=\"dataframe\">\n",
       "  <thead>\n",
       "    <tr style=\"text-align: right;\">\n",
       "      <th></th>\n",
       "      <th>Age</th>\n",
       "      <th>SystolicBP</th>\n",
       "      <th>DiastolicBP</th>\n",
       "      <th>BS</th>\n",
       "      <th>BodyTemp</th>\n",
       "      <th>HeartRate</th>\n",
       "      <th>RiskLevel</th>\n",
       "      <th>Age_periodization</th>\n",
       "      <th>diabetes</th>\n",
       "      <th>BodyTemp_C</th>\n",
       "    </tr>\n",
       "  </thead>\n",
       "  <tbody>\n",
       "    <tr>\n",
       "      <th>849</th>\n",
       "      <td>10</td>\n",
       "      <td>100</td>\n",
       "      <td>50</td>\n",
       "      <td>6.0</td>\n",
       "      <td>99.0</td>\n",
       "      <td>70</td>\n",
       "      <td>mid risk</td>\n",
       "      <td>Дети</td>\n",
       "      <td>0</td>\n",
       "      <td>37.22</td>\n",
       "    </tr>\n",
       "    <tr>\n",
       "      <th>19</th>\n",
       "      <td>10</td>\n",
       "      <td>70</td>\n",
       "      <td>50</td>\n",
       "      <td>6.9</td>\n",
       "      <td>98.0</td>\n",
       "      <td>70</td>\n",
       "      <td>low risk</td>\n",
       "      <td>Дети</td>\n",
       "      <td>0</td>\n",
       "      <td>36.67</td>\n",
       "    </tr>\n",
       "    <tr>\n",
       "      <th>670</th>\n",
       "      <td>10</td>\n",
       "      <td>100</td>\n",
       "      <td>50</td>\n",
       "      <td>6.0</td>\n",
       "      <td>99.0</td>\n",
       "      <td>70</td>\n",
       "      <td>mid risk</td>\n",
       "      <td>Дети</td>\n",
       "      <td>0</td>\n",
       "      <td>37.22</td>\n",
       "    </tr>\n",
       "    <tr>\n",
       "      <th>250</th>\n",
       "      <td>10</td>\n",
       "      <td>85</td>\n",
       "      <td>65</td>\n",
       "      <td>6.9</td>\n",
       "      <td>98.0</td>\n",
       "      <td>70</td>\n",
       "      <td>low risk</td>\n",
       "      <td>Дети</td>\n",
       "      <td>0</td>\n",
       "      <td>36.67</td>\n",
       "    </tr>\n",
       "    <tr>\n",
       "      <th>588</th>\n",
       "      <td>12</td>\n",
       "      <td>90</td>\n",
       "      <td>60</td>\n",
       "      <td>7.5</td>\n",
       "      <td>102.0</td>\n",
       "      <td>66</td>\n",
       "      <td>mid risk</td>\n",
       "      <td>Несовершеннолетние</td>\n",
       "      <td>1</td>\n",
       "      <td>38.89</td>\n",
       "    </tr>\n",
       "    <tr>\n",
       "      <th>...</th>\n",
       "      <td>...</td>\n",
       "      <td>...</td>\n",
       "      <td>...</td>\n",
       "      <td>...</td>\n",
       "      <td>...</td>\n",
       "      <td>...</td>\n",
       "      <td>...</td>\n",
       "      <td>...</td>\n",
       "      <td>...</td>\n",
       "      <td>...</td>\n",
       "    </tr>\n",
       "    <tr>\n",
       "      <th>435</th>\n",
       "      <td>65</td>\n",
       "      <td>130</td>\n",
       "      <td>80</td>\n",
       "      <td>15.0</td>\n",
       "      <td>98.0</td>\n",
       "      <td>86</td>\n",
       "      <td>high risk</td>\n",
       "      <td>Пожилые люди</td>\n",
       "      <td>1</td>\n",
       "      <td>36.67</td>\n",
       "    </tr>\n",
       "    <tr>\n",
       "      <th>339</th>\n",
       "      <td>65</td>\n",
       "      <td>120</td>\n",
       "      <td>90</td>\n",
       "      <td>6.9</td>\n",
       "      <td>103.0</td>\n",
       "      <td>76</td>\n",
       "      <td>low risk</td>\n",
       "      <td>Пожилые люди</td>\n",
       "      <td>0</td>\n",
       "      <td>39.44</td>\n",
       "    </tr>\n",
       "    <tr>\n",
       "      <th>322</th>\n",
       "      <td>65</td>\n",
       "      <td>90</td>\n",
       "      <td>60</td>\n",
       "      <td>6.9</td>\n",
       "      <td>98.0</td>\n",
       "      <td>70</td>\n",
       "      <td>low risk</td>\n",
       "      <td>Пожилые люди</td>\n",
       "      <td>0</td>\n",
       "      <td>36.67</td>\n",
       "    </tr>\n",
       "    <tr>\n",
       "      <th>326</th>\n",
       "      <td>66</td>\n",
       "      <td>85</td>\n",
       "      <td>60</td>\n",
       "      <td>6.9</td>\n",
       "      <td>98.0</td>\n",
       "      <td>86</td>\n",
       "      <td>low risk</td>\n",
       "      <td>Пожилые люди</td>\n",
       "      <td>0</td>\n",
       "      <td>36.67</td>\n",
       "    </tr>\n",
       "    <tr>\n",
       "      <th>338</th>\n",
       "      <td>70</td>\n",
       "      <td>85</td>\n",
       "      <td>60</td>\n",
       "      <td>6.9</td>\n",
       "      <td>102.0</td>\n",
       "      <td>70</td>\n",
       "      <td>low risk</td>\n",
       "      <td>Пожилые люди</td>\n",
       "      <td>0</td>\n",
       "      <td>38.89</td>\n",
       "    </tr>\n",
       "  </tbody>\n",
       "</table>\n",
       "<p>1014 rows × 10 columns</p>\n",
       "</div>"
      ],
      "text/plain": [
       "     Age  SystolicBP  DiastolicBP    BS  BodyTemp  HeartRate  RiskLevel  \\\n",
       "849   10         100           50   6.0      99.0         70   mid risk   \n",
       "19    10          70           50   6.9      98.0         70   low risk   \n",
       "670   10         100           50   6.0      99.0         70   mid risk   \n",
       "250   10          85           65   6.9      98.0         70   low risk   \n",
       "588   12          90           60   7.5     102.0         66   mid risk   \n",
       "..   ...         ...          ...   ...       ...        ...        ...   \n",
       "435   65         130           80  15.0      98.0         86  high risk   \n",
       "339   65         120           90   6.9     103.0         76   low risk   \n",
       "322   65          90           60   6.9      98.0         70   low risk   \n",
       "326   66          85           60   6.9      98.0         86   low risk   \n",
       "338   70          85           60   6.9     102.0         70   low risk   \n",
       "\n",
       "      Age_periodization  diabetes  BodyTemp_C  \n",
       "849                Дети         0       37.22  \n",
       "19                 Дети         0       36.67  \n",
       "670                Дети         0       37.22  \n",
       "250                Дети         0       36.67  \n",
       "588  Несовершеннолетние         1       38.89  \n",
       "..                  ...       ...         ...  \n",
       "435        Пожилые люди         1       36.67  \n",
       "339        Пожилые люди         0       39.44  \n",
       "322        Пожилые люди         0       36.67  \n",
       "326        Пожилые люди         0       36.67  \n",
       "338        Пожилые люди         0       38.89  \n",
       "\n",
       "[1014 rows x 10 columns]"
      ]
     },
     "execution_count": 160,
     "metadata": {},
     "output_type": "execute_result"
    }
   ],
   "source": [
    "data.sort_values(by = 'Age')"
   ]
  },
  {
   "cell_type": "markdown",
   "id": "fa9b5e84",
   "metadata": {},
   "source": [
    "Сортировка показала, что самым молодым беременным 10 лет. Таких пациенток четыре, при этом у 2 из них низкий риск для здоровья, а у двух средний риск и высокая температура тела (37,22). Сразу видна и самая взрослая беременная пациентка - ей 70 лет и у нее низкий риск для здоровья, при этом низкое давление, что удивительно для ее возраста. "
   ]
  },
  {
   "cell_type": "code",
   "execution_count": 167,
   "id": "b4930cf2",
   "metadata": {},
   "outputs": [
    {
     "data": {
      "text/html": [
       "<div>\n",
       "<style scoped>\n",
       "    .dataframe tbody tr th:only-of-type {\n",
       "        vertical-align: middle;\n",
       "    }\n",
       "\n",
       "    .dataframe tbody tr th {\n",
       "        vertical-align: top;\n",
       "    }\n",
       "\n",
       "    .dataframe thead th {\n",
       "        text-align: right;\n",
       "    }\n",
       "</style>\n",
       "<table border=\"1\" class=\"dataframe\">\n",
       "  <thead>\n",
       "    <tr style=\"text-align: right;\">\n",
       "      <th></th>\n",
       "      <th>Age</th>\n",
       "      <th>SystolicBP</th>\n",
       "      <th>DiastolicBP</th>\n",
       "      <th>BS</th>\n",
       "      <th>BodyTemp</th>\n",
       "      <th>HeartRate</th>\n",
       "      <th>RiskLevel</th>\n",
       "      <th>Age_periodization</th>\n",
       "      <th>diabetes</th>\n",
       "      <th>BodyTemp_C</th>\n",
       "      <th>Risk_range</th>\n",
       "    </tr>\n",
       "  </thead>\n",
       "  <tbody>\n",
       "    <tr>\n",
       "      <th>123</th>\n",
       "      <td>40</td>\n",
       "      <td>160</td>\n",
       "      <td>100</td>\n",
       "      <td>19.0</td>\n",
       "      <td>98.0</td>\n",
       "      <td>77</td>\n",
       "      <td>high risk</td>\n",
       "      <td>31-40</td>\n",
       "      <td>1</td>\n",
       "      <td>36.67</td>\n",
       "      <td>2</td>\n",
       "    </tr>\n",
       "    <tr>\n",
       "      <th>127</th>\n",
       "      <td>55</td>\n",
       "      <td>140</td>\n",
       "      <td>95</td>\n",
       "      <td>19.0</td>\n",
       "      <td>98.0</td>\n",
       "      <td>77</td>\n",
       "      <td>high risk</td>\n",
       "      <td>41-55</td>\n",
       "      <td>1</td>\n",
       "      <td>36.67</td>\n",
       "      <td>2</td>\n",
       "    </tr>\n",
       "    <tr>\n",
       "      <th>130</th>\n",
       "      <td>40</td>\n",
       "      <td>160</td>\n",
       "      <td>100</td>\n",
       "      <td>19.0</td>\n",
       "      <td>98.0</td>\n",
       "      <td>77</td>\n",
       "      <td>high risk</td>\n",
       "      <td>31-40</td>\n",
       "      <td>1</td>\n",
       "      <td>36.67</td>\n",
       "      <td>2</td>\n",
       "    </tr>\n",
       "    <tr>\n",
       "      <th>137</th>\n",
       "      <td>55</td>\n",
       "      <td>140</td>\n",
       "      <td>95</td>\n",
       "      <td>19.0</td>\n",
       "      <td>98.0</td>\n",
       "      <td>77</td>\n",
       "      <td>high risk</td>\n",
       "      <td>41-55</td>\n",
       "      <td>1</td>\n",
       "      <td>36.67</td>\n",
       "      <td>2</td>\n",
       "    </tr>\n",
       "    <tr>\n",
       "      <th>166</th>\n",
       "      <td>40</td>\n",
       "      <td>160</td>\n",
       "      <td>100</td>\n",
       "      <td>19.0</td>\n",
       "      <td>98.0</td>\n",
       "      <td>77</td>\n",
       "      <td>high risk</td>\n",
       "      <td>31-40</td>\n",
       "      <td>1</td>\n",
       "      <td>36.67</td>\n",
       "      <td>2</td>\n",
       "    </tr>\n",
       "    <tr>\n",
       "      <th>...</th>\n",
       "      <td>...</td>\n",
       "      <td>...</td>\n",
       "      <td>...</td>\n",
       "      <td>...</td>\n",
       "      <td>...</td>\n",
       "      <td>...</td>\n",
       "      <td>...</td>\n",
       "      <td>...</td>\n",
       "      <td>...</td>\n",
       "      <td>...</td>\n",
       "      <td>...</td>\n",
       "    </tr>\n",
       "    <tr>\n",
       "      <th>667</th>\n",
       "      <td>15</td>\n",
       "      <td>90</td>\n",
       "      <td>49</td>\n",
       "      <td>6.0</td>\n",
       "      <td>98.0</td>\n",
       "      <td>77</td>\n",
       "      <td>low risk</td>\n",
       "      <td>Несовершеннолетние</td>\n",
       "      <td>0</td>\n",
       "      <td>36.67</td>\n",
       "      <td>0</td>\n",
       "    </tr>\n",
       "    <tr>\n",
       "      <th>669</th>\n",
       "      <td>15</td>\n",
       "      <td>90</td>\n",
       "      <td>49</td>\n",
       "      <td>6.0</td>\n",
       "      <td>99.0</td>\n",
       "      <td>77</td>\n",
       "      <td>low risk</td>\n",
       "      <td>Несовершеннолетние</td>\n",
       "      <td>0</td>\n",
       "      <td>37.22</td>\n",
       "      <td>0</td>\n",
       "    </tr>\n",
       "    <tr>\n",
       "      <th>672</th>\n",
       "      <td>15</td>\n",
       "      <td>100</td>\n",
       "      <td>49</td>\n",
       "      <td>6.0</td>\n",
       "      <td>99.0</td>\n",
       "      <td>77</td>\n",
       "      <td>low risk</td>\n",
       "      <td>Несовершеннолетние</td>\n",
       "      <td>0</td>\n",
       "      <td>37.22</td>\n",
       "      <td>0</td>\n",
       "    </tr>\n",
       "    <tr>\n",
       "      <th>674</th>\n",
       "      <td>15</td>\n",
       "      <td>100</td>\n",
       "      <td>60</td>\n",
       "      <td>6.0</td>\n",
       "      <td>98.0</td>\n",
       "      <td>80</td>\n",
       "      <td>low risk</td>\n",
       "      <td>Несовершеннолетние</td>\n",
       "      <td>0</td>\n",
       "      <td>36.67</td>\n",
       "      <td>0</td>\n",
       "    </tr>\n",
       "    <tr>\n",
       "      <th>701</th>\n",
       "      <td>15</td>\n",
       "      <td>90</td>\n",
       "      <td>60</td>\n",
       "      <td>6.0</td>\n",
       "      <td>98.0</td>\n",
       "      <td>80</td>\n",
       "      <td>low risk</td>\n",
       "      <td>Несовершеннолетние</td>\n",
       "      <td>0</td>\n",
       "      <td>36.67</td>\n",
       "      <td>0</td>\n",
       "    </tr>\n",
       "  </tbody>\n",
       "</table>\n",
       "<p>1014 rows × 11 columns</p>\n",
       "</div>"
      ],
      "text/plain": [
       "     Age  SystolicBP  DiastolicBP    BS  BodyTemp  HeartRate  RiskLevel  \\\n",
       "123   40         160          100  19.0      98.0         77  high risk   \n",
       "127   55         140           95  19.0      98.0         77  high risk   \n",
       "130   40         160          100  19.0      98.0         77  high risk   \n",
       "137   55         140           95  19.0      98.0         77  high risk   \n",
       "166   40         160          100  19.0      98.0         77  high risk   \n",
       "..   ...         ...          ...   ...       ...        ...        ...   \n",
       "667   15          90           49   6.0      98.0         77   low risk   \n",
       "669   15          90           49   6.0      99.0         77   low risk   \n",
       "672   15         100           49   6.0      99.0         77   low risk   \n",
       "674   15         100           60   6.0      98.0         80   low risk   \n",
       "701   15          90           60   6.0      98.0         80   low risk   \n",
       "\n",
       "      Age_periodization  diabetes  BodyTemp_C  Risk_range  \n",
       "123               31-40         1       36.67           2  \n",
       "127               41-55         1       36.67           2  \n",
       "130               31-40         1       36.67           2  \n",
       "137               41-55         1       36.67           2  \n",
       "166               31-40         1       36.67           2  \n",
       "..                  ...       ...         ...         ...  \n",
       "667  Несовершеннолетние         0       36.67           0  \n",
       "669  Несовершеннолетние         0       37.22           0  \n",
       "672  Несовершеннолетние         0       37.22           0  \n",
       "674  Несовершеннолетние         0       36.67           0  \n",
       "701  Несовершеннолетние         0       36.67           0  \n",
       "\n",
       "[1014 rows x 11 columns]"
      ]
     },
     "execution_count": 167,
     "metadata": {},
     "output_type": "execute_result"
    }
   ],
   "source": [
    "data.sort_values(by = ['Risk_range', 'BS'], ascending = [False, False])"
   ]
  },
  {
   "cell_type": "markdown",
   "id": "7d640101",
   "metadata": {},
   "source": [
    "Сортировка показала, что самый большой показатель уровня глюкозы в крови при условии высокого риска для здоровья равен 19 ммоль/л. Это сахарный диабет, при этом такие показатели наблюдаются у нескольких женщин 40 и 55 лет, у которых еще и высокое кровяное давление. Подтверждается предположение о принципах выставления среднего и высокого рисков для здоровья. "
   ]
  },
  {
   "cell_type": "code",
   "execution_count": 168,
   "id": "7e2e6d6d",
   "metadata": {},
   "outputs": [
    {
     "data": {
      "text/html": [
       "<div>\n",
       "<style scoped>\n",
       "    .dataframe tbody tr th:only-of-type {\n",
       "        vertical-align: middle;\n",
       "    }\n",
       "\n",
       "    .dataframe tbody tr th {\n",
       "        vertical-align: top;\n",
       "    }\n",
       "\n",
       "    .dataframe thead th {\n",
       "        text-align: right;\n",
       "    }\n",
       "</style>\n",
       "<table border=\"1\" class=\"dataframe\">\n",
       "  <thead>\n",
       "    <tr style=\"text-align: right;\">\n",
       "      <th></th>\n",
       "      <th>Age</th>\n",
       "      <th>SystolicBP</th>\n",
       "      <th>DiastolicBP</th>\n",
       "      <th>BS</th>\n",
       "      <th>BodyTemp</th>\n",
       "      <th>HeartRate</th>\n",
       "      <th>RiskLevel</th>\n",
       "      <th>Age_periodization</th>\n",
       "      <th>diabetes</th>\n",
       "      <th>BodyTemp_C</th>\n",
       "      <th>Risk_range</th>\n",
       "    </tr>\n",
       "  </thead>\n",
       "  <tbody>\n",
       "    <tr>\n",
       "      <th>337</th>\n",
       "      <td>45</td>\n",
       "      <td>120</td>\n",
       "      <td>80</td>\n",
       "      <td>6.9</td>\n",
       "      <td>103.0</td>\n",
       "      <td>70</td>\n",
       "      <td>low risk</td>\n",
       "      <td>41-55</td>\n",
       "      <td>0</td>\n",
       "      <td>39.44</td>\n",
       "      <td>0</td>\n",
       "    </tr>\n",
       "    <tr>\n",
       "      <th>339</th>\n",
       "      <td>65</td>\n",
       "      <td>120</td>\n",
       "      <td>90</td>\n",
       "      <td>6.9</td>\n",
       "      <td>103.0</td>\n",
       "      <td>76</td>\n",
       "      <td>low risk</td>\n",
       "      <td>Пожилые люди</td>\n",
       "      <td>0</td>\n",
       "      <td>39.44</td>\n",
       "      <td>0</td>\n",
       "    </tr>\n",
       "    <tr>\n",
       "      <th>342</th>\n",
       "      <td>22</td>\n",
       "      <td>120</td>\n",
       "      <td>80</td>\n",
       "      <td>6.9</td>\n",
       "      <td>103.0</td>\n",
       "      <td>76</td>\n",
       "      <td>low risk</td>\n",
       "      <td>18-30</td>\n",
       "      <td>0</td>\n",
       "      <td>39.44</td>\n",
       "      <td>0</td>\n",
       "    </tr>\n",
       "    <tr>\n",
       "      <th>563</th>\n",
       "      <td>17</td>\n",
       "      <td>90</td>\n",
       "      <td>65</td>\n",
       "      <td>7.5</td>\n",
       "      <td>103.0</td>\n",
       "      <td>67</td>\n",
       "      <td>low risk</td>\n",
       "      <td>Несовершеннолетние</td>\n",
       "      <td>1</td>\n",
       "      <td>39.44</td>\n",
       "      <td>0</td>\n",
       "    </tr>\n",
       "    <tr>\n",
       "      <th>948</th>\n",
       "      <td>17</td>\n",
       "      <td>90</td>\n",
       "      <td>65</td>\n",
       "      <td>7.5</td>\n",
       "      <td>103.0</td>\n",
       "      <td>67</td>\n",
       "      <td>low risk</td>\n",
       "      <td>Несовершеннолетние</td>\n",
       "      <td>1</td>\n",
       "      <td>39.44</td>\n",
       "      <td>0</td>\n",
       "    </tr>\n",
       "    <tr>\n",
       "      <th>...</th>\n",
       "      <td>...</td>\n",
       "      <td>...</td>\n",
       "      <td>...</td>\n",
       "      <td>...</td>\n",
       "      <td>...</td>\n",
       "      <td>...</td>\n",
       "      <td>...</td>\n",
       "      <td>...</td>\n",
       "      <td>...</td>\n",
       "      <td>...</td>\n",
       "      <td>...</td>\n",
       "    </tr>\n",
       "    <tr>\n",
       "      <th>1008</th>\n",
       "      <td>48</td>\n",
       "      <td>120</td>\n",
       "      <td>80</td>\n",
       "      <td>11.0</td>\n",
       "      <td>98.0</td>\n",
       "      <td>88</td>\n",
       "      <td>high risk</td>\n",
       "      <td>41-55</td>\n",
       "      <td>1</td>\n",
       "      <td>36.67</td>\n",
       "      <td>2</td>\n",
       "    </tr>\n",
       "    <tr>\n",
       "      <th>1009</th>\n",
       "      <td>22</td>\n",
       "      <td>120</td>\n",
       "      <td>60</td>\n",
       "      <td>15.0</td>\n",
       "      <td>98.0</td>\n",
       "      <td>80</td>\n",
       "      <td>high risk</td>\n",
       "      <td>18-30</td>\n",
       "      <td>1</td>\n",
       "      <td>36.67</td>\n",
       "      <td>2</td>\n",
       "    </tr>\n",
       "    <tr>\n",
       "      <th>1010</th>\n",
       "      <td>55</td>\n",
       "      <td>120</td>\n",
       "      <td>90</td>\n",
       "      <td>18.0</td>\n",
       "      <td>98.0</td>\n",
       "      <td>60</td>\n",
       "      <td>high risk</td>\n",
       "      <td>41-55</td>\n",
       "      <td>1</td>\n",
       "      <td>36.67</td>\n",
       "      <td>2</td>\n",
       "    </tr>\n",
       "    <tr>\n",
       "      <th>1011</th>\n",
       "      <td>35</td>\n",
       "      <td>85</td>\n",
       "      <td>60</td>\n",
       "      <td>19.0</td>\n",
       "      <td>98.0</td>\n",
       "      <td>86</td>\n",
       "      <td>high risk</td>\n",
       "      <td>31-40</td>\n",
       "      <td>1</td>\n",
       "      <td>36.67</td>\n",
       "      <td>2</td>\n",
       "    </tr>\n",
       "    <tr>\n",
       "      <th>1012</th>\n",
       "      <td>43</td>\n",
       "      <td>120</td>\n",
       "      <td>90</td>\n",
       "      <td>18.0</td>\n",
       "      <td>98.0</td>\n",
       "      <td>70</td>\n",
       "      <td>high risk</td>\n",
       "      <td>41-55</td>\n",
       "      <td>1</td>\n",
       "      <td>36.67</td>\n",
       "      <td>2</td>\n",
       "    </tr>\n",
       "  </tbody>\n",
       "</table>\n",
       "<p>1014 rows × 11 columns</p>\n",
       "</div>"
      ],
      "text/plain": [
       "      Age  SystolicBP  DiastolicBP    BS  BodyTemp  HeartRate  RiskLevel  \\\n",
       "337    45         120           80   6.9     103.0         70   low risk   \n",
       "339    65         120           90   6.9     103.0         76   low risk   \n",
       "342    22         120           80   6.9     103.0         76   low risk   \n",
       "563    17          90           65   7.5     103.0         67   low risk   \n",
       "948    17          90           65   7.5     103.0         67   low risk   \n",
       "...   ...         ...          ...   ...       ...        ...        ...   \n",
       "1008   48         120           80  11.0      98.0         88  high risk   \n",
       "1009   22         120           60  15.0      98.0         80  high risk   \n",
       "1010   55         120           90  18.0      98.0         60  high risk   \n",
       "1011   35          85           60  19.0      98.0         86  high risk   \n",
       "1012   43         120           90  18.0      98.0         70  high risk   \n",
       "\n",
       "       Age_periodization  diabetes  BodyTemp_C  Risk_range  \n",
       "337                41-55         0       39.44           0  \n",
       "339         Пожилые люди         0       39.44           0  \n",
       "342                18-30         0       39.44           0  \n",
       "563   Несовершеннолетние         1       39.44           0  \n",
       "948   Несовершеннолетние         1       39.44           0  \n",
       "...                  ...       ...         ...         ...  \n",
       "1008               41-55         1       36.67           2  \n",
       "1009               18-30         1       36.67           2  \n",
       "1010               41-55         1       36.67           2  \n",
       "1011               31-40         1       36.67           2  \n",
       "1012               41-55         1       36.67           2  \n",
       "\n",
       "[1014 rows x 11 columns]"
      ]
     },
     "execution_count": 168,
     "metadata": {},
     "output_type": "execute_result"
    }
   ],
   "source": [
    "data.sort_values(by = ['Risk_range', 'BodyTemp_C'], ascending = [True, False])"
   ]
  },
  {
   "cell_type": "markdown",
   "id": "c5c82e9f",
   "metadata": {},
   "source": [
    "Сортировка показала, что у женщин с низким уровнем риска для здоровья бывает довольно высокая температура (39,44). Значит температура - это не 100%-ый показатель риска,  потому что у женщин с высоким уровнем для здоровья температура нормальная 36,67. "
   ]
  },
  {
   "cell_type": "markdown",
   "id": "0ea449c1",
   "metadata": {},
   "source": [
    "## Частотные таблицы"
   ]
  },
  {
   "cell_type": "markdown",
   "id": "e408fcdc",
   "metadata": {},
   "source": [
    "С возрастом у женщин может появиться гипертония (повышенное артериальное давление, верхний показатель больше 139, нижний - 89 ) или диабет (уровень глюкозы 7 и больше). В таком случае как распределяются риски для здоровья?"
   ]
  },
  {
   "cell_type": "code",
   "execution_count": 93,
   "id": "86f32aff",
   "metadata": {},
   "outputs": [
    {
     "data": {
      "text/plain": [
       "<AxesSubplot:xlabel='RiskLevel'>"
      ]
     },
     "execution_count": 93,
     "metadata": {},
     "output_type": "execute_result"
    },
    {
     "data": {
      "image/png": "[encoded data removed]",
      "text/plain": [
       "<Figure size 432x288 with 1 Axes>"
      ]
     },
     "metadata": {
      "needs_background": "light"
     },
     "output_type": "display_data"
    }
   ],
   "source": [
    "data[(data['Age'] >= 35)\n",
    "     &((data['BS'] >= 7)\n",
    "     |((data['SystolicBP'] > 139)\n",
    "     &(data['DiastolicBP'] > 89)))].value_counts('RiskLevel').plot(kind = 'bar')"
   ]
  },
  {
   "cell_type": "markdown",
   "id": "709c75fe",
   "metadata": {},
   "source": [
    "Возраст, высокое давление и сахарный диабет вместе способствуют высокому риску для здоровья (что и видно на графике). Еще первая сортировка показала нам, и график это подтверждает, что факторы риска взаимосвязаны друг с другом и увеличивают уровень риска. "
   ]
  },
  {
   "cell_type": "code",
   "execution_count": 169,
   "id": "f2803e38",
   "metadata": {},
   "outputs": [
    {
     "data": {
      "text/plain": [
       "<AxesSubplot:>"
      ]
     },
     "execution_count": 169,
     "metadata": {},
     "output_type": "execute_result"
    },
    {
     "data": {
      "image/png": "[encoded data removed]",
      "text/plain": [
       "<Figure size 432x288 with 1 Axes>"
      ]
     },
     "metadata": {
      "needs_background": "light"
     },
     "output_type": "display_data"
    }
   ],
   "source": [
    "data[(data['RiskLevel'] == 'mid risk')\n",
    "     |(data['RiskLevel'] == 'high risk')]['Age_periodization'].value_counts().plot(kind = 'bar')"
   ]
  },
  {
   "cell_type": "markdown",
   "id": "2ea8c7be",
   "metadata": {},
   "source": [
    "Столбчатая диаграмма показала, как распределяется риски для здоровья (средний и высокий) по группам возрастов. Наиболее часто риски диагностируют беременным от 18 до 30 лет. Интересно, что за ними идут несовершеннолетние, а риск у возрастов 41-55 и 31-40 находятся примерно на одном уровне. Получается, что возраст сам по себе (как и температура) не всегда является фактором риска. Он идет в сочетании с другими факторами, а бОльшее влияние имеют другие показатели.  "
   ]
  },
  {
   "cell_type": "code",
   "execution_count": 95,
   "id": "2ea5e88b",
   "metadata": {},
   "outputs": [
    {
     "data": {
      "text/plain": [
       "<AxesSubplot:>"
      ]
     },
     "execution_count": 95,
     "metadata": {},
     "output_type": "execute_result"
    },
    {
     "data": {
      "image/png": "[encoded data removed]",
      "text/plain": [
       "<Figure size 432x288 with 1 Axes>"
      ]
     },
     "metadata": {
      "needs_background": "light"
     },
     "output_type": "display_data"
    }
   ],
   "source": [
    "data['HeartRate'].hist()"
   ]
  },
  {
   "cell_type": "markdown",
   "id": "465a1e04",
   "metadata": {},
   "source": [
    "Мы до этого не рассматривали переменную частоты сердечных сокращений, однако с помощью гистограммы распределений мы можем предположить, что этот фактор не несет за собой риска: сердечные сокращения находятся в норме (до 100). "
   ]
  },
  {
   "cell_type": "code",
   "execution_count": 107,
   "id": "345d6570",
   "metadata": {},
   "outputs": [
    {
     "data": {
      "text/plain": [
       "<AxesSubplot:>"
      ]
     },
     "execution_count": 107,
     "metadata": {},
     "output_type": "execute_result"
    },
    {
     "data": {
      "image/png": "[encoded data removed]",
      "text/plain": [
       "<Figure size 432x288 with 1 Axes>"
      ]
     },
     "metadata": {
      "needs_background": "light"
     },
     "output_type": "display_data"
    }
   ],
   "source": [
    "data[(data['Age_periodization'] == '41-55') \n",
    "     | (data['Age_periodization'] == 'Пожилые люди')]['BS'].value_counts().plot(kind = 'bar')"
   ]
  },
  {
   "cell_type": "markdown",
   "id": "dc6835f1",
   "metadata": {},
   "source": [
    "Раннее мы говорили о том, что с возрастом у женщин может развиться диабет. Посмотрев, какой уровень сахара у женщин в возрасте 41-55 и пожилых людей, мы увидели, что в распределении встречаются высокие показатели сахара (самая высокая точка - 15.0, это сахарный диабет). При этом крайне мало нормальных показателей. Это говорит о том, что у беременных в данных возрастных периодах есть диабет, а значит, и риск для здоровья. "
   ]
  },
  {
   "cell_type": "markdown",
   "id": "7922e1fb",
   "metadata": {},
   "source": [
    "## МЦТ и описательные статистики"
   ]
  },
  {
   "cell_type": "markdown",
   "id": "c8c0e434",
   "metadata": {},
   "source": [
    "### Риски для здоровья"
   ]
  },
  {
   "cell_type": "markdown",
   "id": "d7164013",
   "metadata": {},
   "source": [
    "Возьмем перекодированную переменную рисков для здоровья, и так как это порядковая переменная, мы можем посчитать только медиану и моду"
   ]
  },
  {
   "cell_type": "code",
   "execution_count": 110,
   "id": "48c656ae",
   "metadata": {},
   "outputs": [
    {
     "data": {
      "text/plain": [
       "1.0"
      ]
     },
     "execution_count": 110,
     "metadata": {},
     "output_type": "execute_result"
    }
   ],
   "source": [
    "data['Risk_range'].median()"
   ]
  },
  {
   "cell_type": "markdown",
   "id": "a5309843",
   "metadata": {},
   "source": [
    "50% пациентам ставят средний уровень риска для здоровья. "
   ]
  },
  {
   "cell_type": "code",
   "execution_count": 111,
   "id": "c09c314c",
   "metadata": {},
   "outputs": [
    {
     "data": {
      "text/plain": [
       "0    0\n",
       "dtype: int64"
      ]
     },
     "execution_count": 111,
     "metadata": {},
     "output_type": "execute_result"
    }
   ],
   "source": [
    "data['Risk_range'].mode()"
   ]
  },
  {
   "cell_type": "markdown",
   "id": "fbe56c14",
   "metadata": {},
   "source": [
    "Чаще всего в данных встречается легкий уровень риска для здоровья."
   ]
  },
  {
   "cell_type": "markdown",
   "id": "b3657a8b",
   "metadata": {},
   "source": [
    "### Уровень сахара"
   ]
  },
  {
   "cell_type": "code",
   "execution_count": 117,
   "id": "89e744d9",
   "metadata": {},
   "outputs": [
    {
     "data": {
      "text/plain": [
       "8.725986193293886"
      ]
     },
     "execution_count": 117,
     "metadata": {},
     "output_type": "execute_result"
    }
   ],
   "source": [
    "data['BS'].mean()"
   ]
  },
  {
   "cell_type": "markdown",
   "id": "354ab1b3",
   "metadata": {},
   "source": [
    "Средний уровень сахара среди пациентов - 8,7 с округлением (это высокий показатель, говорящий о диабете)"
   ]
  },
  {
   "cell_type": "code",
   "execution_count": 118,
   "id": "275b67d6",
   "metadata": {},
   "outputs": [
    {
     "data": {
      "text/plain": [
       "7.5"
      ]
     },
     "execution_count": 118,
     "metadata": {},
     "output_type": "execute_result"
    }
   ],
   "source": [
    "data['BS'].median()"
   ]
  },
  {
   "cell_type": "markdown",
   "id": "af43203d",
   "metadata": {},
   "source": [
    "У 50% пациенток уровень сахара составляет 7.5"
   ]
  },
  {
   "cell_type": "code",
   "execution_count": 119,
   "id": "fedece52",
   "metadata": {},
   "outputs": [
    {
     "data": {
      "text/plain": [
       "0    7.5\n",
       "dtype: float64"
      ]
     },
     "execution_count": 119,
     "metadata": {},
     "output_type": "execute_result"
    }
   ],
   "source": [
    "data['BS'].mode()"
   ]
  },
  {
   "cell_type": "markdown",
   "id": "7eee4c3b",
   "metadata": {},
   "source": [
    "Чаще всего в данных встречается показатель уровня сахара в 7.5 ммоль/л. Видим, что в распределении много высоких показателей, значит, сахарный диабет распространен среди беременных в нашем датасете. "
   ]
  },
  {
   "cell_type": "code",
   "execution_count": 120,
   "id": "84f553bf",
   "metadata": {},
   "outputs": [
    {
     "data": {
      "text/plain": [
       "19.0"
      ]
     },
     "execution_count": 120,
     "metadata": {},
     "output_type": "execute_result"
    }
   ],
   "source": [
    "data['BS'].max()"
   ]
  },
  {
   "cell_type": "markdown",
   "id": "c6c81b19",
   "metadata": {},
   "source": [
    "Максимальный уровень сахара - 19 ммоль/л."
   ]
  },
  {
   "cell_type": "code",
   "execution_count": 149,
   "id": "96688e99",
   "metadata": {},
   "outputs": [
    {
     "data": {
      "text/plain": [
       "RiskLevel  SystolicBP\n",
       "high risk  140           10\n",
       "           160           10\n",
       "           85             2\n",
       "dtype: int64"
      ]
     },
     "execution_count": 149,
     "metadata": {},
     "output_type": "execute_result"
    }
   ],
   "source": [
    "data[data['BS'] == data['BS'].max()][['RiskLevel', 'SystolicBP']].value_counts()"
   ]
  },
  {
   "cell_type": "markdown",
   "id": "202749c4",
   "metadata": {},
   "source": [
    "При этом мы видим, что всем пациентам с максимальным для нашего датасета уровнем сахара ставят высокие риски для здоровья, и у них высокое систолическое давление"
   ]
  },
  {
   "cell_type": "code",
   "execution_count": 121,
   "id": "d2575003",
   "metadata": {},
   "outputs": [
    {
     "data": {
      "text/plain": [
       "6.0"
      ]
     },
     "execution_count": 121,
     "metadata": {},
     "output_type": "execute_result"
    }
   ],
   "source": [
    "data['BS'].min()"
   ]
  },
  {
   "cell_type": "markdown",
   "id": "ffb5c2f0",
   "metadata": {},
   "source": [
    "Минимальный уровень сахара - 6 ммоль/л."
   ]
  },
  {
   "cell_type": "code",
   "execution_count": 145,
   "id": "fc7e1dcd",
   "metadata": {},
   "outputs": [
    {
     "data": {
      "text/plain": [
       "mid risk    14\n",
       "low risk     7\n",
       "Name: RiskLevel, dtype: int64"
      ]
     },
     "execution_count": 145,
     "metadata": {},
     "output_type": "execute_result"
    }
   ],
   "source": [
    "data[data['BS'] == data['BS'].min()]['RiskLevel'].value_counts()"
   ]
  },
  {
   "cell_type": "markdown",
   "id": "6f3af2b1",
   "metadata": {},
   "source": [
    "Интересно, что с минимальным уровнем сахара пациенткам ставят как низкий риск для здоровья, так и средний."
   ]
  },
  {
   "cell_type": "code",
   "execution_count": 122,
   "id": "2fd2dfd3",
   "metadata": {},
   "outputs": [
    {
     "data": {
      "text/plain": [
       "3.293531721151271"
      ]
     },
     "execution_count": 122,
     "metadata": {},
     "output_type": "execute_result"
    }
   ],
   "source": [
    "data['BS'].std()"
   ]
  },
  {
   "cell_type": "markdown",
   "id": "9ffa6625",
   "metadata": {},
   "source": [
    "Среднеквадратичное отклонение равно 3.29 с округлением. В среднем распределение отклоняется от среднего арифметического на 3.29"
   ]
  },
  {
   "cell_type": "markdown",
   "id": "bc3dc004",
   "metadata": {},
   "source": [
    "Расчёт МЦТ и описательных статистик показал, что в нашем датасете высокие показатели уровня сахара, что является риском для беременных. Профилактические меры: следить за уровнем сахара в крови и предпринимать соответствующие меры."
   ]
  },
  {
   "cell_type": "markdown",
   "id": "f2c19681",
   "metadata": {},
   "source": [
    "### Температура тела (по Цельсия)"
   ]
  },
  {
   "cell_type": "code",
   "execution_count": 123,
   "id": "1c3d7de0",
   "metadata": {},
   "outputs": [
    {
     "data": {
      "text/plain": [
       "37.03852071005854"
      ]
     },
     "execution_count": 123,
     "metadata": {},
     "output_type": "execute_result"
    }
   ],
   "source": [
    "data['BodyTemp_C'].mean()"
   ]
  },
  {
   "cell_type": "markdown",
   "id": "bf67c700",
   "metadata": {},
   "source": [
    "Средняя температура среди пациентов - 37 градусов с округлением. "
   ]
  },
  {
   "cell_type": "code",
   "execution_count": 124,
   "id": "91b52565",
   "metadata": {},
   "outputs": [
    {
     "data": {
      "text/plain": [
       "36.67"
      ]
     },
     "execution_count": 124,
     "metadata": {},
     "output_type": "execute_result"
    }
   ],
   "source": [
    "data['BodyTemp_C'].median()"
   ]
  },
  {
   "cell_type": "markdown",
   "id": "c737890c",
   "metadata": {},
   "source": [
    "50% пациенток температура 36.67"
   ]
  },
  {
   "cell_type": "markdown",
   "id": "7e5e41c6",
   "metadata": {},
   "source": [
    "Рассмотрим распределение этой переменной на гистограмме"
   ]
  },
  {
   "cell_type": "code",
   "execution_count": 150,
   "id": "cff350f9",
   "metadata": {},
   "outputs": [
    {
     "data": {
      "text/plain": [
       "<AxesSubplot:>"
      ]
     },
     "execution_count": 150,
     "metadata": {},
     "output_type": "execute_result"
    },
    {
     "data": {
      "image/png": "[encoded data removed]",
      "text/plain": [
       "<Figure size 432x288 with 1 Axes>"
      ]
     },
     "metadata": {
      "needs_background": "light"
     },
     "output_type": "display_data"
    }
   ],
   "source": [
    "data['BodyTemp_C'].hist()"
   ]
  },
  {
   "cell_type": "markdown",
   "id": "52b6ad22",
   "metadata": {},
   "source": [
    "Большинство значений находятся в промежутке от 36.6 и до 37 градусов. Высоких температур очень мало, но они как раз и смещают среднее арифметическое вправо, и оно немного отличается от медианы и моды. "
   ]
  },
  {
   "cell_type": "code",
   "execution_count": 125,
   "id": "3db7b5ee",
   "metadata": {},
   "outputs": [
    {
     "data": {
      "text/plain": [
       "0    36.67\n",
       "dtype: float64"
      ]
     },
     "execution_count": 125,
     "metadata": {},
     "output_type": "execute_result"
    }
   ],
   "source": [
    "data['BodyTemp_C'].mode()"
   ]
  },
  {
   "cell_type": "markdown",
   "id": "54efa70a",
   "metadata": {},
   "source": [
    "Чаще всего в данных встречается температура 36.67"
   ]
  },
  {
   "cell_type": "code",
   "execution_count": 126,
   "id": "296a72fe",
   "metadata": {},
   "outputs": [
    {
     "data": {
      "text/plain": [
       "39.44"
      ]
     },
     "execution_count": 126,
     "metadata": {},
     "output_type": "execute_result"
    }
   ],
   "source": [
    "data['BodyTemp_C'].max()"
   ]
  },
  {
   "cell_type": "markdown",
   "id": "0ae1631d",
   "metadata": {},
   "source": [
    "Максимальная температура 39.44 градусов. "
   ]
  },
  {
   "cell_type": "code",
   "execution_count": 151,
   "id": "25805b79",
   "metadata": {},
   "outputs": [
    {
     "data": {
      "text/plain": [
       "high risk    6\n",
       "low risk     5\n",
       "mid risk     2\n",
       "Name: RiskLevel, dtype: int64"
      ]
     },
     "execution_count": 151,
     "metadata": {},
     "output_type": "execute_result"
    }
   ],
   "source": [
    "data[data['BodyTemp_C'] == data['BodyTemp_C'].max()]['RiskLevel'].value_counts()"
   ]
  },
  {
   "cell_type": "markdown",
   "id": "23726cad",
   "metadata": {},
   "source": [
    "По данной частотной таблице можем заметить, что максимальная температура для нашего датасета встречается лишь 13 раз из 1014, это хорошие показатели. При этом даже с высокой температурой пациентам ставили низкий уровень риска (5) или высокий уровень (6). По предшествующим результатам, можем сказать о том, что температура не является серьезным фактором риска в одиночку, только в сочетании с другими факторами."
   ]
  },
  {
   "cell_type": "code",
   "execution_count": 127,
   "id": "63270202",
   "metadata": {},
   "outputs": [
    {
     "data": {
      "text/plain": [
       "36.67"
      ]
     },
     "execution_count": 127,
     "metadata": {},
     "output_type": "execute_result"
    }
   ],
   "source": [
    "data['BodyTemp_C'].min()"
   ]
  },
  {
   "cell_type": "markdown",
   "id": "18c07042",
   "metadata": {},
   "source": [
    "Минимальное значение температуры составляет 36.67 градусов "
   ]
  },
  {
   "cell_type": "code",
   "execution_count": 158,
   "id": "1c5348b7",
   "metadata": {},
   "outputs": [
    {
     "data": {
      "text/plain": [
       "36.67"
      ]
     },
     "execution_count": 158,
     "metadata": {},
     "output_type": "execute_result"
    }
   ],
   "source": [
    "# Первый квартиль\n",
    "np.percentile(data['BodyTemp_C'], 25) "
   ]
  },
  {
   "cell_type": "code",
   "execution_count": 159,
   "id": "f08167ab",
   "metadata": {},
   "outputs": [
    {
     "data": {
      "text/plain": [
       "36.67"
      ]
     },
     "execution_count": 159,
     "metadata": {},
     "output_type": "execute_result"
    }
   ],
   "source": [
    "# Третий квартиль\n",
    "np.percentile(data['BodyTemp_C'], 75) "
   ]
  },
  {
   "cell_type": "markdown",
   "id": "05ba2ded",
   "metadata": {},
   "source": [
    "Интересно, что показатели первого и третьего квартиля (а также медианы) равны. Получается, что высоких температур крайне мало и они сосредоточены в последних 25% распределения."
   ]
  },
  {
   "cell_type": "markdown",
   "id": "46a1dd28",
   "metadata": {},
   "source": [
    "### Возраст "
   ]
  },
  {
   "cell_type": "code",
   "execution_count": 128,
   "id": "4f1deb31",
   "metadata": {},
   "outputs": [
    {
     "data": {
      "text/plain": [
       "29.871794871794872"
      ]
     },
     "execution_count": 128,
     "metadata": {},
     "output_type": "execute_result"
    }
   ],
   "source": [
    "data['Age'].mean()"
   ]
  },
  {
   "cell_type": "markdown",
   "id": "1fdee969",
   "metadata": {},
   "source": [
    "Средний возраст среди пациентов равен примерно 3о с округлением. "
   ]
  },
  {
   "cell_type": "code",
   "execution_count": 129,
   "id": "2cb06d6d",
   "metadata": {},
   "outputs": [
    {
     "data": {
      "text/plain": [
       "26.0"
      ]
     },
     "execution_count": 129,
     "metadata": {},
     "output_type": "execute_result"
    }
   ],
   "source": [
    "data['Age'].median()"
   ]
  },
  {
   "cell_type": "markdown",
   "id": "ea45c839",
   "metadata": {},
   "source": [
    "50% пациентов младще 26 лет."
   ]
  },
  {
   "cell_type": "code",
   "execution_count": 130,
   "id": "1ba8d39d",
   "metadata": {},
   "outputs": [
    {
     "data": {
      "text/plain": [
       "0    23\n",
       "dtype: int64"
      ]
     },
     "execution_count": 130,
     "metadata": {},
     "output_type": "execute_result"
    }
   ],
   "source": [
    "data['Age'].mode()"
   ]
  },
  {
   "cell_type": "markdown",
   "id": "e5c46a62",
   "metadata": {},
   "source": [
    "Чаще всего в датасете встречается возраст 23 года. "
   ]
  },
  {
   "cell_type": "code",
   "execution_count": 153,
   "id": "1a94f903",
   "metadata": {},
   "outputs": [
    {
     "data": {
      "text/plain": [
       "<AxesSubplot:>"
      ]
     },
     "execution_count": 153,
     "metadata": {},
     "output_type": "execute_result"
    },
    {
     "data": {
      "image/png": "[encoded data removed]",
      "text/plain": [
       "<Figure size 432x288 with 1 Axes>"
      ]
     },
     "metadata": {
      "needs_background": "light"
     },
     "output_type": "display_data"
    }
   ],
   "source": [
    "data['Age'].hist()"
   ]
  },
  {
   "cell_type": "markdown",
   "id": "c22b128b",
   "metadata": {},
   "source": [
    "В датасете чаще встречается возраст от примерно 18 до 35, при этом есть пациентки и более старшего возраста. За счёт этого мы в очередной раз наблюдаем, как среднее арифметическое немного скошено вправо, то есть в бОльшую сторону. "
   ]
  },
  {
   "cell_type": "code",
   "execution_count": 131,
   "id": "5e3155f3",
   "metadata": {},
   "outputs": [
    {
     "data": {
      "text/plain": [
       "70"
      ]
     },
     "execution_count": 131,
     "metadata": {},
     "output_type": "execute_result"
    }
   ],
   "source": [
    "data['Age'].max()"
   ]
  },
  {
   "cell_type": "markdown",
   "id": "76400068",
   "metadata": {},
   "source": [
    "Самой старшей пациентке 70 лет. "
   ]
  },
  {
   "cell_type": "code",
   "execution_count": 132,
   "id": "cf94fed3",
   "metadata": {},
   "outputs": [
    {
     "data": {
      "text/plain": [
       "10"
      ]
     },
     "execution_count": 132,
     "metadata": {},
     "output_type": "execute_result"
    }
   ],
   "source": [
    "data['Age'].min()"
   ]
  },
  {
   "cell_type": "markdown",
   "id": "e450886d",
   "metadata": {},
   "source": [
    "Самой младшей пациентке 10 лет."
   ]
  },
  {
   "cell_type": "code",
   "execution_count": 133,
   "id": "ae7831c2",
   "metadata": {},
   "outputs": [
    {
     "data": {
      "text/plain": [
       "13.474385532634383"
      ]
     },
     "execution_count": 133,
     "metadata": {},
     "output_type": "execute_result"
    }
   ],
   "source": [
    "data['Age'].std()"
   ]
  },
  {
   "cell_type": "markdown",
   "id": "2695d378",
   "metadata": {},
   "source": [
    "В среднем возраст пациенток отклоняется от среднего на 13,47"
   ]
  },
  {
   "cell_type": "markdown",
   "id": "67cc2b83",
   "metadata": {},
   "source": [
    "Расчет МЦТ и описательных статистик подтвердил результаты, полученные путем сортировки и частотных таблиц."
   ]
  },
  {
   "cell_type": "markdown",
   "id": "2a766e41",
   "metadata": {},
   "source": [
    "### Верхнее значение артериального давления"
   ]
  },
  {
   "cell_type": "markdown",
   "id": "0fd022a4",
   "metadata": {},
   "source": [
    "В случае с беременностью важнее именно верхнее значение, то есть систолическое давление, сила, с которой насыщенная кислородом кровь выталкивается из сердца и расходится по телу, и, следовательно, попадает к малышу. Высоким систолическим давлением считается давление выше 140 мм рт ст"
   ]
  },
  {
   "cell_type": "code",
   "execution_count": 134,
   "id": "919f157c",
   "metadata": {},
   "outputs": [
    {
     "data": {
      "text/plain": [
       "113.19822485207101"
      ]
     },
     "execution_count": 134,
     "metadata": {},
     "output_type": "execute_result"
    }
   ],
   "source": [
    "data['SystolicBP'].mean()"
   ]
  },
  {
   "cell_type": "markdown",
   "id": "2fa22fbd",
   "metadata": {},
   "source": [
    "Среднее верхнее значение арт. давления равно 113.2 мм.рт.ст. с округлением."
   ]
  },
  {
   "cell_type": "code",
   "execution_count": 135,
   "id": "32ae1c26",
   "metadata": {},
   "outputs": [
    {
     "data": {
      "text/plain": [
       "120.0"
      ]
     },
     "execution_count": 135,
     "metadata": {},
     "output_type": "execute_result"
    }
   ],
   "source": [
    "data['SystolicBP'].median()"
   ]
  },
  {
   "cell_type": "markdown",
   "id": "e48ad4e1",
   "metadata": {},
   "source": [
    "50% пациентов имеют систолическое давление меньше 120 мм.рт.ст."
   ]
  },
  {
   "cell_type": "code",
   "execution_count": 136,
   "id": "89dff8b3",
   "metadata": {},
   "outputs": [
    {
     "data": {
      "text/plain": [
       "0    120\n",
       "dtype: int64"
      ]
     },
     "execution_count": 136,
     "metadata": {},
     "output_type": "execute_result"
    }
   ],
   "source": [
    "data['SystolicBP'].mode()"
   ]
  },
  {
   "cell_type": "markdown",
   "id": "d7194680",
   "metadata": {},
   "source": [
    "Чаще всего в данных встречается систолическое давление в 120 мм.рт.ст."
   ]
  },
  {
   "cell_type": "code",
   "execution_count": 155,
   "id": "3e214669",
   "metadata": {},
   "outputs": [
    {
     "data": {
      "text/plain": [
       "<AxesSubplot:>"
      ]
     },
     "execution_count": 155,
     "metadata": {},
     "output_type": "execute_result"
    },
    {
     "data": {
      "image/png": "[encoded data removed]",
      "text/plain": [
       "<Figure size 432x288 with 1 Axes>"
      ]
     },
     "metadata": {
      "needs_background": "light"
     },
     "output_type": "display_data"
    }
   ],
   "source": [
    "data['SystolicBP'].hist()"
   ]
  },
  {
   "cell_type": "markdown",
   "id": "7d46c023",
   "metadata": {},
   "source": [
    "Интересно, что распределение по давлению отличается от предыдущих тем, что среднее арифметическое меньше других мцт, оно смещено влево из-за большого количества низких показателей давления. При этом много пациентов с нормальным давлением (120) и мало пациентов с высоким давлением. "
   ]
  },
  {
   "cell_type": "code",
   "execution_count": 137,
   "id": "32a10874",
   "metadata": {},
   "outputs": [
    {
     "data": {
      "text/plain": [
       "160"
      ]
     },
     "execution_count": 137,
     "metadata": {},
     "output_type": "execute_result"
    }
   ],
   "source": [
    "data['SystolicBP'].max()"
   ]
  },
  {
   "cell_type": "markdown",
   "id": "3a12c13c",
   "metadata": {},
   "source": [
    "Максимальное верхнее значение арт. давления составляет 160 мм.рт.ст."
   ]
  },
  {
   "cell_type": "code",
   "execution_count": 162,
   "id": "dbb37ce0",
   "metadata": {},
   "outputs": [
    {
     "data": {
      "text/html": [
       "<div>\n",
       "<style scoped>\n",
       "    .dataframe tbody tr th:only-of-type {\n",
       "        vertical-align: middle;\n",
       "    }\n",
       "\n",
       "    .dataframe tbody tr th {\n",
       "        vertical-align: top;\n",
       "    }\n",
       "\n",
       "    .dataframe thead th {\n",
       "        text-align: right;\n",
       "    }\n",
       "</style>\n",
       "<table border=\"1\" class=\"dataframe\">\n",
       "  <thead>\n",
       "    <tr style=\"text-align: right;\">\n",
       "      <th></th>\n",
       "      <th>Age</th>\n",
       "      <th>SystolicBP</th>\n",
       "      <th>DiastolicBP</th>\n",
       "      <th>BS</th>\n",
       "      <th>BodyTemp</th>\n",
       "      <th>HeartRate</th>\n",
       "      <th>RiskLevel</th>\n",
       "      <th>Risk_range</th>\n",
       "      <th>BodyTemp_C</th>\n",
       "      <th>Age_periodization</th>\n",
       "    </tr>\n",
       "  </thead>\n",
       "  <tbody>\n",
       "    <tr>\n",
       "      <th>123</th>\n",
       "      <td>40</td>\n",
       "      <td>160</td>\n",
       "      <td>100</td>\n",
       "      <td>19.0</td>\n",
       "      <td>98.0</td>\n",
       "      <td>77</td>\n",
       "      <td>high risk</td>\n",
       "      <td>2</td>\n",
       "      <td>36.67</td>\n",
       "      <td>31-40</td>\n",
       "    </tr>\n",
       "    <tr>\n",
       "      <th>130</th>\n",
       "      <td>40</td>\n",
       "      <td>160</td>\n",
       "      <td>100</td>\n",
       "      <td>19.0</td>\n",
       "      <td>98.0</td>\n",
       "      <td>77</td>\n",
       "      <td>high risk</td>\n",
       "      <td>2</td>\n",
       "      <td>36.67</td>\n",
       "      <td>31-40</td>\n",
       "    </tr>\n",
       "    <tr>\n",
       "      <th>166</th>\n",
       "      <td>40</td>\n",
       "      <td>160</td>\n",
       "      <td>100</td>\n",
       "      <td>19.0</td>\n",
       "      <td>98.0</td>\n",
       "      <td>77</td>\n",
       "      <td>high risk</td>\n",
       "      <td>2</td>\n",
       "      <td>36.67</td>\n",
       "      <td>31-40</td>\n",
       "    </tr>\n",
       "    <tr>\n",
       "      <th>262</th>\n",
       "      <td>40</td>\n",
       "      <td>160</td>\n",
       "      <td>100</td>\n",
       "      <td>19.0</td>\n",
       "      <td>98.0</td>\n",
       "      <td>77</td>\n",
       "      <td>high risk</td>\n",
       "      <td>2</td>\n",
       "      <td>36.67</td>\n",
       "      <td>31-40</td>\n",
       "    </tr>\n",
       "    <tr>\n",
       "      <th>362</th>\n",
       "      <td>40</td>\n",
       "      <td>160</td>\n",
       "      <td>100</td>\n",
       "      <td>19.0</td>\n",
       "      <td>98.0</td>\n",
       "      <td>77</td>\n",
       "      <td>high risk</td>\n",
       "      <td>2</td>\n",
       "      <td>36.67</td>\n",
       "      <td>31-40</td>\n",
       "    </tr>\n",
       "    <tr>\n",
       "      <th>538</th>\n",
       "      <td>40</td>\n",
       "      <td>160</td>\n",
       "      <td>100</td>\n",
       "      <td>19.0</td>\n",
       "      <td>98.0</td>\n",
       "      <td>77</td>\n",
       "      <td>high risk</td>\n",
       "      <td>2</td>\n",
       "      <td>36.67</td>\n",
       "      <td>31-40</td>\n",
       "    </tr>\n",
       "    <tr>\n",
       "      <th>583</th>\n",
       "      <td>40</td>\n",
       "      <td>160</td>\n",
       "      <td>100</td>\n",
       "      <td>19.0</td>\n",
       "      <td>98.0</td>\n",
       "      <td>77</td>\n",
       "      <td>high risk</td>\n",
       "      <td>2</td>\n",
       "      <td>36.67</td>\n",
       "      <td>31-40</td>\n",
       "    </tr>\n",
       "    <tr>\n",
       "      <th>689</th>\n",
       "      <td>40</td>\n",
       "      <td>160</td>\n",
       "      <td>100</td>\n",
       "      <td>19.0</td>\n",
       "      <td>98.0</td>\n",
       "      <td>77</td>\n",
       "      <td>high risk</td>\n",
       "      <td>2</td>\n",
       "      <td>36.67</td>\n",
       "      <td>31-40</td>\n",
       "    </tr>\n",
       "    <tr>\n",
       "      <th>961</th>\n",
       "      <td>40</td>\n",
       "      <td>160</td>\n",
       "      <td>100</td>\n",
       "      <td>19.0</td>\n",
       "      <td>98.0</td>\n",
       "      <td>77</td>\n",
       "      <td>high risk</td>\n",
       "      <td>2</td>\n",
       "      <td>36.67</td>\n",
       "      <td>31-40</td>\n",
       "    </tr>\n",
       "    <tr>\n",
       "      <th>994</th>\n",
       "      <td>40</td>\n",
       "      <td>160</td>\n",
       "      <td>100</td>\n",
       "      <td>19.0</td>\n",
       "      <td>98.0</td>\n",
       "      <td>77</td>\n",
       "      <td>high risk</td>\n",
       "      <td>2</td>\n",
       "      <td>36.67</td>\n",
       "      <td>31-40</td>\n",
       "    </tr>\n",
       "  </tbody>\n",
       "</table>\n",
       "</div>"
      ],
      "text/plain": [
       "     Age  SystolicBP  DiastolicBP    BS  BodyTemp  HeartRate  RiskLevel  \\\n",
       "123   40         160          100  19.0      98.0         77  high risk   \n",
       "130   40         160          100  19.0      98.0         77  high risk   \n",
       "166   40         160          100  19.0      98.0         77  high risk   \n",
       "262   40         160          100  19.0      98.0         77  high risk   \n",
       "362   40         160          100  19.0      98.0         77  high risk   \n",
       "538   40         160          100  19.0      98.0         77  high risk   \n",
       "583   40         160          100  19.0      98.0         77  high risk   \n",
       "689   40         160          100  19.0      98.0         77  high risk   \n",
       "961   40         160          100  19.0      98.0         77  high risk   \n",
       "994   40         160          100  19.0      98.0         77  high risk   \n",
       "\n",
       "     Risk_range  BodyTemp_C Age_periodization  \n",
       "123           2       36.67             31-40  \n",
       "130           2       36.67             31-40  \n",
       "166           2       36.67             31-40  \n",
       "262           2       36.67             31-40  \n",
       "362           2       36.67             31-40  \n",
       "538           2       36.67             31-40  \n",
       "583           2       36.67             31-40  \n",
       "689           2       36.67             31-40  \n",
       "961           2       36.67             31-40  \n",
       "994           2       36.67             31-40  "
      ]
     },
     "execution_count": 162,
     "metadata": {},
     "output_type": "execute_result"
    }
   ],
   "source": [
    "data[data['SystolicBP'] == data['SystolicBP'].max()]"
   ]
  },
  {
   "cell_type": "markdown",
   "id": "dee6e9c4",
   "metadata": {},
   "source": [
    "Пациентки с максимальным для нашего датасета значением давления имеют схожие характеристики в нижнем значении арт.давления(100), возрасте (40 лет), в уровне сахара (19.0, это очень много) и даже в частоте сердечных сокращений (77, в норме). Это наводит на мысль, что все эти данные относятся скорее всего к одному человеку, произошла ошибка и данные были перезаписаны несколько раз.  "
   ]
  },
  {
   "cell_type": "code",
   "execution_count": 138,
   "id": "337ba8ee",
   "metadata": {},
   "outputs": [
    {
     "data": {
      "text/plain": [
       "70"
      ]
     },
     "execution_count": 138,
     "metadata": {},
     "output_type": "execute_result"
    }
   ],
   "source": [
    "data['SystolicBP'].min()"
   ]
  },
  {
   "cell_type": "markdown",
   "id": "5f50e5fe",
   "metadata": {},
   "source": [
    "Минимальное верхнее значение арт. давления составляет 70 мм.рт.ст."
   ]
  },
  {
   "cell_type": "code",
   "execution_count": 164,
   "id": "b86b4504",
   "metadata": {},
   "outputs": [
    {
     "data": {
      "text/plain": [
       "low risk    5\n",
       "mid risk    2\n",
       "Name: RiskLevel, dtype: int64"
      ]
     },
     "execution_count": 164,
     "metadata": {},
     "output_type": "execute_result"
    }
   ],
   "source": [
    "data[data['SystolicBP'] == data['SystolicBP'].min()]['RiskLevel'].value_counts()"
   ]
  },
  {
   "cell_type": "markdown",
   "id": "bc1cd0fd",
   "metadata": {},
   "source": [
    "С минимальным значением систолического давления пациенткам ставили низкий уровень риска, хотя есть два исключения со средним уровнем риска. Рассмотрим эти две строки с данными, чтобы понять, что повлияло на этот диагноз. "
   ]
  },
  {
   "cell_type": "code",
   "execution_count": 166,
   "id": "a7c3346d",
   "metadata": {},
   "outputs": [
    {
     "data": {
      "text/html": [
       "<div>\n",
       "<style scoped>\n",
       "    .dataframe tbody tr th:only-of-type {\n",
       "        vertical-align: middle;\n",
       "    }\n",
       "\n",
       "    .dataframe tbody tr th {\n",
       "        vertical-align: top;\n",
       "    }\n",
       "\n",
       "    .dataframe thead th {\n",
       "        text-align: right;\n",
       "    }\n",
       "</style>\n",
       "<table border=\"1\" class=\"dataframe\">\n",
       "  <thead>\n",
       "    <tr style=\"text-align: right;\">\n",
       "      <th></th>\n",
       "      <th>Age</th>\n",
       "      <th>SystolicBP</th>\n",
       "      <th>DiastolicBP</th>\n",
       "      <th>BS</th>\n",
       "      <th>BodyTemp</th>\n",
       "      <th>HeartRate</th>\n",
       "      <th>RiskLevel</th>\n",
       "      <th>Risk_range</th>\n",
       "      <th>BodyTemp_C</th>\n",
       "      <th>Age_periodization</th>\n",
       "    </tr>\n",
       "  </thead>\n",
       "  <tbody>\n",
       "    <tr>\n",
       "      <th>661</th>\n",
       "      <td>15</td>\n",
       "      <td>70</td>\n",
       "      <td>50</td>\n",
       "      <td>6.0</td>\n",
       "      <td>98.0</td>\n",
       "      <td>70</td>\n",
       "      <td>mid risk</td>\n",
       "      <td>1</td>\n",
       "      <td>36.67</td>\n",
       "      <td>Несовершеннолетние</td>\n",
       "    </tr>\n",
       "    <tr>\n",
       "      <th>848</th>\n",
       "      <td>15</td>\n",
       "      <td>70</td>\n",
       "      <td>50</td>\n",
       "      <td>6.0</td>\n",
       "      <td>98.0</td>\n",
       "      <td>70</td>\n",
       "      <td>mid risk</td>\n",
       "      <td>1</td>\n",
       "      <td>36.67</td>\n",
       "      <td>Несовершеннолетние</td>\n",
       "    </tr>\n",
       "  </tbody>\n",
       "</table>\n",
       "</div>"
      ],
      "text/plain": [
       "     Age  SystolicBP  DiastolicBP   BS  BodyTemp  HeartRate RiskLevel  \\\n",
       "661   15          70           50  6.0      98.0         70  mid risk   \n",
       "848   15          70           50  6.0      98.0         70  mid risk   \n",
       "\n",
       "     Risk_range  BodyTemp_C   Age_periodization  \n",
       "661           1       36.67  Несовершеннолетние  \n",
       "848           1       36.67  Несовершеннолетние  "
      ]
     },
     "execution_count": 166,
     "metadata": {},
     "output_type": "execute_result"
    }
   ],
   "source": [
    "data[(data['SystolicBP'] == data['SystolicBP'].min())& (data['RiskLevel'] == 'mid risk')]"
   ]
  },
  {
   "cell_type": "markdown",
   "id": "0841c344",
   "metadata": {},
   "source": [
    "Причиной среднего риска для здоровья стали низкие показатели давления по двум значениям давления и возраст пациенток (несовершеннолетние)"
   ]
  },
  {
   "cell_type": "code",
   "execution_count": 139,
   "id": "9bc2b7a4",
   "metadata": {},
   "outputs": [
    {
     "data": {
      "text/plain": [
       "18.403912756342805"
      ]
     },
     "execution_count": 139,
     "metadata": {},
     "output_type": "execute_result"
    }
   ],
   "source": [
    "data['SystolicBP'].std()"
   ]
  },
  {
   "cell_type": "markdown",
   "id": "d7e498f4",
   "metadata": {},
   "source": [
    "В среднем верхнее значение арт. давления отклоняется от среднего арифметического на 18.4 с округлением. "
   ]
  },
  {
   "cell_type": "markdown",
   "id": "bde7e8cc",
   "metadata": {},
   "source": [
    "Расчёт МЦТ и описательных статистик для систолического давления в очередной раз доказал влияние давления на риск для здоровья беременных женщин."
   ]
  },
  {
   "cell_type": "markdown",
   "id": "179c19c2",
   "metadata": {},
   "source": [
    "## Выбросы"
   ]
  },
  {
   "cell_type": "markdown",
   "id": "235732ab",
   "metadata": {},
   "source": [
    "### Уровень сахара"
   ]
  },
  {
   "cell_type": "markdown",
   "id": "066752fb",
   "metadata": {},
   "source": [
    "**Ящик с усами**"
   ]
  },
  {
   "cell_type": "code",
   "execution_count": 176,
   "id": "6e9e8437",
   "metadata": {},
   "outputs": [
    {
     "data": {
      "text/plain": [
       "<AxesSubplot:xlabel='BS'>"
      ]
     },
     "execution_count": 176,
     "metadata": {},
     "output_type": "execute_result"
    },
    {
     "data": {
      "image/png": "[encoded data removed]",
      "text/plain": [
       "<Figure size 432x288 with 1 Axes>"
      ]
     },
     "metadata": {
      "needs_background": "light"
     },
     "output_type": "display_data"
    }
   ],
   "source": [
    "import seaborn as sns \n",
    "sns.boxplot(x=data['BS'])"
   ]
  },
  {
   "cell_type": "markdown",
   "id": "f7f67e93",
   "metadata": {},
   "source": [
    "На графике мы видим, что нижняя граница находится на 6, а верхняя примерно на 9. При этом значения сосредоточены в интервале от 7 до 8 (как и показали мцт), а выбросы находятся за верхней границей в интервале от 10 и до 19. "
   ]
  },
  {
   "cell_type": "markdown",
   "id": "86fa986c",
   "metadata": {},
   "source": [
    "**Интерквартильный размах**"
   ]
  },
  {
   "cell_type": "code",
   "execution_count": 178,
   "id": "19129706",
   "metadata": {},
   "outputs": [
    {
     "data": {
      "text/plain": [
       "(5.250000000000001, 9.649999999999999)"
      ]
     },
     "execution_count": 178,
     "metadata": {},
     "output_type": "execute_result"
    }
   ],
   "source": [
    "q1 = np.percentile(data['BS'], 25)\n",
    "q3 = np.percentile(data['BS'], 75)\n",
    "iqr=q3-q1\n",
    "# Нижняя граница\n",
    "line_1 = q1 - 1.5*iqr\n",
    "# Верхняя граница\n",
    "line_2 =  q3 + 1.5*iqr\n",
    "line_1, line_2"
   ]
  },
  {
   "cell_type": "markdown",
   "id": "5442f0f4",
   "metadata": {},
   "source": [
    "Мы получили значения верхней и нижней границ, теперь посмотрим на выбросы после границ. "
   ]
  },
  {
   "cell_type": "code",
   "execution_count": 180,
   "id": "30cf9c94",
   "metadata": {},
   "outputs": [
    {
     "data": {
      "text/plain": [
       "0"
      ]
     },
     "execution_count": 180,
     "metadata": {},
     "output_type": "execute_result"
    }
   ],
   "source": [
    "data[data['BS'] < line_1].shape[0]"
   ]
  },
  {
   "cell_type": "markdown",
   "id": "f9319469",
   "metadata": {},
   "source": [
    "За нижней границей выбросов нет. "
   ]
  },
  {
   "cell_type": "code",
   "execution_count": 181,
   "id": "f9b2785f",
   "metadata": {},
   "outputs": [
    {
     "data": {
      "text/plain": [
       "210"
      ]
     },
     "execution_count": 181,
     "metadata": {},
     "output_type": "execute_result"
    }
   ],
   "source": [
    "data[data['BS'] > line_2].shape[0]"
   ]
  },
  {
   "cell_type": "markdown",
   "id": "0e3ef13e",
   "metadata": {},
   "source": [
    "Выбросов за верхней границей 210 "
   ]
  },
  {
   "cell_type": "markdown",
   "id": "f704fb3f",
   "metadata": {},
   "source": [
    "**Среднеквадратичное отклонение**"
   ]
  },
  {
   "cell_type": "code",
   "execution_count": 182,
   "id": "596e68b6",
   "metadata": {},
   "outputs": [
    {
     "name": "stdout",
     "output_type": "stream",
     "text": [
      "0.496217965534699 16.955754421053072\n"
     ]
    }
   ],
   "source": [
    "mean = data['BS'].mean()\n",
    "std = data['BS'].std(ddof=0)\n",
    "# Нижняя граница\n",
    "line1 = mean - 2.5*std\n",
    "# Верхняя граница\n",
    "line2 = mean + 2.5*std\n",
    "print(line1, line2)"
   ]
  },
  {
   "cell_type": "markdown",
   "id": "d873fe21",
   "metadata": {},
   "source": [
    "Мы получили значения верхней и нижней границ, теперь посмотрим на выбросы после границ. При этом интересно сразу отметить, что границы, по сравнению с расчетом по размаху, сместились. Соответственно выбросов может стать меньше. "
   ]
  },
  {
   "cell_type": "code",
   "execution_count": 183,
   "id": "5ffa09bc",
   "metadata": {},
   "outputs": [
    {
     "data": {
      "text/plain": [
       "0"
      ]
     },
     "execution_count": 183,
     "metadata": {},
     "output_type": "execute_result"
    }
   ],
   "source": [
    "data[data['BS'] < line1].shape[0]"
   ]
  },
  {
   "cell_type": "markdown",
   "id": "597a5ff2",
   "metadata": {},
   "source": [
    "За нижней границей выбросов опять нет. "
   ]
  },
  {
   "cell_type": "code",
   "execution_count": 184,
   "id": "96673a09",
   "metadata": {},
   "outputs": [
    {
     "data": {
      "text/plain": [
       "56"
      ]
     },
     "execution_count": 184,
     "metadata": {},
     "output_type": "execute_result"
    }
   ],
   "source": [
    "data[data['BS'] > line2].shape[0]"
   ]
  },
  {
   "cell_type": "markdown",
   "id": "91394691",
   "metadata": {},
   "source": [
    "А выбросов за верхней границей, как и ожидалось, стало меньше (56 штук, а не 210)"
   ]
  },
  {
   "cell_type": "markdown",
   "id": "0161d519",
   "metadata": {},
   "source": [
    "## Замена выбросов "
   ]
  },
  {
   "cell_type": "markdown",
   "id": "de6a64cc",
   "metadata": {},
   "source": [
    "Заменим выбросы по переменной на среднее арифметическое и сравним показатели мцт. Создадим для этого новую переменную."
   ]
  },
  {
   "cell_type": "code",
   "execution_count": 195,
   "id": "4efaf4ac",
   "metadata": {},
   "outputs": [],
   "source": [
    "data['BS_mean'] = data['BS'].apply(lambda x: data['BS'].mean() if x>line_1 else x)"
   ]
  },
  {
   "cell_type": "code",
   "execution_count": 196,
   "id": "90cb6f57",
   "metadata": {},
   "outputs": [
    {
     "data": {
      "text/plain": [
       "8.725986193293743"
      ]
     },
     "execution_count": 196,
     "metadata": {},
     "output_type": "execute_result"
    }
   ],
   "source": [
    "data['BS_mean'].mean()"
   ]
  },
  {
   "cell_type": "code",
   "execution_count": 197,
   "id": "6688482d",
   "metadata": {},
   "outputs": [
    {
     "data": {
      "text/plain": [
       "8.725986193293886"
      ]
     },
     "execution_count": 197,
     "metadata": {},
     "output_type": "execute_result"
    }
   ],
   "source": [
    "data['BS_mean'].median()"
   ]
  },
  {
   "cell_type": "code",
   "execution_count": 198,
   "id": "c977923a",
   "metadata": {},
   "outputs": [
    {
     "data": {
      "text/plain": [
       "0    8.725986\n",
       "dtype: float64"
      ]
     },
     "execution_count": 198,
     "metadata": {},
     "output_type": "execute_result"
    }
   ],
   "source": [
    "data['BS_mean'].mode()"
   ]
  },
  {
   "cell_type": "markdown",
   "id": "10b47d46",
   "metadata": {},
   "source": [
    "Показатели МЦТ при замене выбросов на среднее арифметическое стали одинаковыми. "
   ]
  },
  {
   "cell_type": "markdown",
   "id": "5d95bc22",
   "metadata": {},
   "source": [
    "## Пропущенные значения"
   ]
  },
  {
   "cell_type": "code",
   "execution_count": 86,
   "id": "ee58b23f",
   "metadata": {},
   "outputs": [
    {
     "data": {
      "text/plain": [
       "Age                  0\n",
       "SystolicBP           0\n",
       "DiastolicBP          0\n",
       "BS                   0\n",
       "BodyTemp             0\n",
       "HeartRate            0\n",
       "RiskLevel            0\n",
       "Risk_range           0\n",
       "BodyTemp_C           0\n",
       "Age_periodization    0\n",
       "dtype: int64"
      ]
     },
     "execution_count": 86,
     "metadata": {},
     "output_type": "execute_result"
    }
   ],
   "source": [
    "data.isna().sum()"
   ]
  },
  {
   "cell_type": "markdown",
   "id": "f04c7187",
   "metadata": {},
   "source": [
    "Пропущенных значений в нашем датасете нет. "
   ]
  },
  {
   "cell_type": "code",
   "execution_count": 199,
   "id": "3efc665d",
   "metadata": {},
   "outputs": [
    {
     "name": "stdout",
     "output_type": "stream",
     "text": [
      "<class 'pandas.core.frame.DataFrame'>\n",
      "RangeIndex: 1014 entries, 0 to 1013\n",
      "Data columns (total 11 columns):\n",
      " #   Column             Non-Null Count  Dtype  \n",
      "---  ------             --------------  -----  \n",
      " 0   Age                1014 non-null   int64  \n",
      " 1   SystolicBP         1014 non-null   int64  \n",
      " 2   DiastolicBP        1014 non-null   int64  \n",
      " 3   BS                 1014 non-null   float64\n",
      " 4   BodyTemp           1014 non-null   float64\n",
      " 5   HeartRate          1014 non-null   int64  \n",
      " 6   RiskLevel          1014 non-null   object \n",
      " 7   Risk_range         1014 non-null   int64  \n",
      " 8   BodyTemp_C         1014 non-null   float64\n",
      " 9   Age_periodization  1014 non-null   object \n",
      " 10  BS_mean            1014 non-null   float64\n",
      "dtypes: float64(4), int64(5), object(2)\n",
      "memory usage: 87.3+ KB\n"
     ]
    }
   ],
   "source": [
    "data.info()"
   ]
  },
  {
   "cell_type": "code",
   "execution_count": 215,
   "id": "a3753d8f",
   "metadata": {},
   "outputs": [
    {
     "data": {
      "text/plain": [
       "False"
      ]
     },
     "execution_count": 215,
     "metadata": {},
     "output_type": "execute_result"
    }
   ],
   "source": [
    "'None' in data.iloc[:, 0:11] "
   ]
  },
  {
   "cell_type": "code",
   "execution_count": 157,
   "id": "c0421167",
   "metadata": {},
   "outputs": [
    {
     "data": {
      "text/html": [
       "<div>\n",
       "<style scoped>\n",
       "    .dataframe tbody tr th:only-of-type {\n",
       "        vertical-align: middle;\n",
       "    }\n",
       "\n",
       "    .dataframe tbody tr th {\n",
       "        vertical-align: top;\n",
       "    }\n",
       "\n",
       "    .dataframe thead th {\n",
       "        text-align: right;\n",
       "    }\n",
       "</style>\n",
       "<table border=\"1\" class=\"dataframe\">\n",
       "  <thead>\n",
       "    <tr style=\"text-align: right;\">\n",
       "      <th></th>\n",
       "      <th>Age</th>\n",
       "      <th>SystolicBP</th>\n",
       "      <th>DiastolicBP</th>\n",
       "      <th>BS</th>\n",
       "      <th>BodyTemp</th>\n",
       "      <th>HeartRate</th>\n",
       "      <th>RiskLevel</th>\n",
       "      <th>Age_periodization</th>\n",
       "      <th>diabetes</th>\n",
       "    </tr>\n",
       "  </thead>\n",
       "  <tbody>\n",
       "    <tr>\n",
       "      <th>0</th>\n",
       "      <td>25</td>\n",
       "      <td>130</td>\n",
       "      <td>80</td>\n",
       "      <td>15.0</td>\n",
       "      <td>98.0</td>\n",
       "      <td>86</td>\n",
       "      <td>high risk</td>\n",
       "      <td>18-30</td>\n",
       "      <td>1</td>\n",
       "    </tr>\n",
       "    <tr>\n",
       "      <th>1</th>\n",
       "      <td>35</td>\n",
       "      <td>140</td>\n",
       "      <td>90</td>\n",
       "      <td>13.0</td>\n",
       "      <td>98.0</td>\n",
       "      <td>70</td>\n",
       "      <td>high risk</td>\n",
       "      <td>31-40</td>\n",
       "      <td>1</td>\n",
       "    </tr>\n",
       "    <tr>\n",
       "      <th>2</th>\n",
       "      <td>29</td>\n",
       "      <td>90</td>\n",
       "      <td>70</td>\n",
       "      <td>8.0</td>\n",
       "      <td>100.0</td>\n",
       "      <td>80</td>\n",
       "      <td>high risk</td>\n",
       "      <td>18-30</td>\n",
       "      <td>1</td>\n",
       "    </tr>\n",
       "    <tr>\n",
       "      <th>3</th>\n",
       "      <td>30</td>\n",
       "      <td>140</td>\n",
       "      <td>85</td>\n",
       "      <td>7.0</td>\n",
       "      <td>98.0</td>\n",
       "      <td>70</td>\n",
       "      <td>high risk</td>\n",
       "      <td>18-30</td>\n",
       "      <td>1</td>\n",
       "    </tr>\n",
       "    <tr>\n",
       "      <th>4</th>\n",
       "      <td>35</td>\n",
       "      <td>120</td>\n",
       "      <td>60</td>\n",
       "      <td>6.1</td>\n",
       "      <td>98.0</td>\n",
       "      <td>76</td>\n",
       "      <td>low risk</td>\n",
       "      <td>31-40</td>\n",
       "      <td>0</td>\n",
       "    </tr>\n",
       "    <tr>\n",
       "      <th>...</th>\n",
       "      <td>...</td>\n",
       "      <td>...</td>\n",
       "      <td>...</td>\n",
       "      <td>...</td>\n",
       "      <td>...</td>\n",
       "      <td>...</td>\n",
       "      <td>...</td>\n",
       "      <td>...</td>\n",
       "      <td>...</td>\n",
       "    </tr>\n",
       "    <tr>\n",
       "      <th>1009</th>\n",
       "      <td>22</td>\n",
       "      <td>120</td>\n",
       "      <td>60</td>\n",
       "      <td>15.0</td>\n",
       "      <td>98.0</td>\n",
       "      <td>80</td>\n",
       "      <td>high risk</td>\n",
       "      <td>18-30</td>\n",
       "      <td>1</td>\n",
       "    </tr>\n",
       "    <tr>\n",
       "      <th>1010</th>\n",
       "      <td>55</td>\n",
       "      <td>120</td>\n",
       "      <td>90</td>\n",
       "      <td>18.0</td>\n",
       "      <td>98.0</td>\n",
       "      <td>60</td>\n",
       "      <td>high risk</td>\n",
       "      <td>41-55</td>\n",
       "      <td>1</td>\n",
       "    </tr>\n",
       "    <tr>\n",
       "      <th>1011</th>\n",
       "      <td>35</td>\n",
       "      <td>85</td>\n",
       "      <td>60</td>\n",
       "      <td>19.0</td>\n",
       "      <td>98.0</td>\n",
       "      <td>86</td>\n",
       "      <td>high risk</td>\n",
       "      <td>31-40</td>\n",
       "      <td>1</td>\n",
       "    </tr>\n",
       "    <tr>\n",
       "      <th>1012</th>\n",
       "      <td>43</td>\n",
       "      <td>120</td>\n",
       "      <td>90</td>\n",
       "      <td>18.0</td>\n",
       "      <td>98.0</td>\n",
       "      <td>70</td>\n",
       "      <td>high risk</td>\n",
       "      <td>41-55</td>\n",
       "      <td>1</td>\n",
       "    </tr>\n",
       "    <tr>\n",
       "      <th>1013</th>\n",
       "      <td>32</td>\n",
       "      <td>120</td>\n",
       "      <td>65</td>\n",
       "      <td>6.0</td>\n",
       "      <td>101.0</td>\n",
       "      <td>76</td>\n",
       "      <td>mid risk</td>\n",
       "      <td>31-40</td>\n",
       "      <td>0</td>\n",
       "    </tr>\n",
       "  </tbody>\n",
       "</table>\n",
       "<p>1014 rows × 9 columns</p>\n",
       "</div>"
      ],
      "text/plain": [
       "      Age  SystolicBP  DiastolicBP    BS  BodyTemp  HeartRate  RiskLevel  \\\n",
       "0      25         130           80  15.0      98.0         86  high risk   \n",
       "1      35         140           90  13.0      98.0         70  high risk   \n",
       "2      29          90           70   8.0     100.0         80  high risk   \n",
       "3      30         140           85   7.0      98.0         70  high risk   \n",
       "4      35         120           60   6.1      98.0         76   low risk   \n",
       "...   ...         ...          ...   ...       ...        ...        ...   \n",
       "1009   22         120           60  15.0      98.0         80  high risk   \n",
       "1010   55         120           90  18.0      98.0         60  high risk   \n",
       "1011   35          85           60  19.0      98.0         86  high risk   \n",
       "1012   43         120           90  18.0      98.0         70  high risk   \n",
       "1013   32         120           65   6.0     101.0         76   mid risk   \n",
       "\n",
       "     Age_periodization  diabetes  \n",
       "0                18-30         1  \n",
       "1                31-40         1  \n",
       "2                18-30         1  \n",
       "3                18-30         1  \n",
       "4                31-40         0  \n",
       "...                ...       ...  \n",
       "1009             18-30         1  \n",
       "1010             41-55         1  \n",
       "1011             31-40         1  \n",
       "1012             41-55         1  \n",
       "1013             31-40         0  \n",
       "\n",
       "[1014 rows x 9 columns]"
      ]
     },
     "execution_count": 157,
     "metadata": {},
     "output_type": "execute_result"
    }
   ],
   "source": [
    "data.iloc[:, 0:11]"
   ]
  },
  {
   "cell_type": "code",
   "execution_count": 216,
   "id": "47050591",
   "metadata": {},
   "outputs": [
    {
     "data": {
      "text/plain": [
       "False"
      ]
     },
     "execution_count": 216,
     "metadata": {},
     "output_type": "execute_result"
    }
   ],
   "source": [
    "'none' in data.iloc[:, 0:11]"
   ]
  },
  {
   "cell_type": "code",
   "execution_count": 217,
   "id": "217f52b0",
   "metadata": {},
   "outputs": [
    {
     "data": {
      "text/plain": [
       "False"
      ]
     },
     "execution_count": 217,
     "metadata": {},
     "output_type": "execute_result"
    }
   ],
   "source": [
    "'Nan' in data.iloc[:, 0:11]"
   ]
  },
  {
   "cell_type": "markdown",
   "id": "80a483a3",
   "metadata": {},
   "source": [
    "Используя несколько способов, мы точно можем сказать, что пропусков в нашем датасете нет.\n",
    "Но давайте их искусственно создадим. Для этого нам нужна новая переменная, в которой мы уберем последние 140 значений из переменной уровня сахара в крови. "
   ]
  },
  {
   "cell_type": "code",
   "execution_count": 5,
   "id": "5452449f",
   "metadata": {},
   "outputs": [],
   "source": [
    "data['BS_new'] = data['BS'].iloc[0:874]"
   ]
  },
  {
   "cell_type": "markdown",
   "id": "a9a52f7e",
   "metadata": {},
   "source": [
    "Пропусков получилось не так много, поэтому мы можем либо заменить пропуски одной из мцт, заполнить случайными данными, используя модуль random, или можно попробовать группировку по возрасту и вставить в пропуски те значения, которые встречаются у того или иного возраста. (И нам кажется, что это наиболее правильный вариант, так как уровень сахара у 50-летней женщины будет неправильно заменить, например, на медиану, хотя средни 50-летних распространен сахарный диабет, что мы и увидели на частотных таблицах)"
   ]
  },
  {
   "cell_type": "markdown",
   "id": "f02f68c1",
   "metadata": {},
   "source": [
    "# Этап 3"
   ]
  },
  {
   "cell_type": "markdown",
   "id": "87730291",
   "metadata": {},
   "source": [
    "## Корреляция"
   ]
  },
  {
   "cell_type": "markdown",
   "id": "71fb20e4",
   "metadata": {},
   "source": [
    "Мы будем рассчитывать корреляции по тем переменным, вокруг которых строились гипотезы. "
   ]
  },
  {
   "cell_type": "markdown",
   "id": "522c3810",
   "metadata": {},
   "source": [
    "**Возраст и систолическое давление**"
   ]
  },
  {
   "cell_type": "markdown",
   "id": "c0c980bc",
   "metadata": {},
   "source": [
    "Предполагаем, что систолическое давление зависит от возраста: чем больше возраст, тем больше и давление. "
   ]
  },
  {
   "cell_type": "code",
   "execution_count": 5,
   "id": "139e054e",
   "metadata": {},
   "outputs": [
    {
     "data": {
      "text/plain": [
       "0.4160454479747331"
      ]
     },
     "execution_count": 5,
     "metadata": {},
     "output_type": "execute_result"
    }
   ],
   "source": [
    "data['Age'].corr(data['SystolicBP'])"
   ]
  },
  {
   "cell_type": "markdown",
   "id": "df7347f0",
   "metadata": {},
   "source": [
    "Коэффициент корреляции между переменными равен примерно 0.42. Связь между переменными умеренная (будет небольшое выстраивание в линию на графике) и положительная (чем больше возраст, тем больше и давление). Наше предположение в какой-то степени подтвердилось. "
   ]
  },
  {
   "cell_type": "markdown",
   "id": "462d34e9",
   "metadata": {},
   "source": [
    "**Возраст и уровень глюкозы**"
   ]
  },
  {
   "cell_type": "markdown",
   "id": "ab52955f",
   "metadata": {},
   "source": [
    "Предполагаем, что уровень глюкозы зависит от возраста: чем старше возраст, тем больше уровень глюкозы."
   ]
  },
  {
   "cell_type": "code",
   "execution_count": 152,
   "id": "d155b9cc",
   "metadata": {},
   "outputs": [
    {
     "data": {
      "text/plain": [
       "0.47328433592916785"
      ]
     },
     "execution_count": 152,
     "metadata": {},
     "output_type": "execute_result"
    }
   ],
   "source": [
    "data['Age'].corr(data['BS'])"
   ]
  },
  {
   "cell_type": "markdown",
   "id": "fbf991b9",
   "metadata": {},
   "source": [
    "Коэффициент корреляции между переменными равен примерно 0.47. Связь между переменными умеренная, а зависимость - положительная (чем старше возраст, тем больше уровень глюкозы). "
   ]
  },
  {
   "cell_type": "markdown",
   "id": "f9c785e7",
   "metadata": {},
   "source": [
    "**Систолическое давление и уровень глюкозы**"
   ]
  },
  {
   "cell_type": "markdown",
   "id": "9d948f27",
   "metadata": {},
   "source": [
    "Нам было интересно рассмотреть взаимосвязь между этими переменными. Медицинские источники подсказывают, что уровень глюкозы влияет на систолическое давление, ведь, если у человека есть сахарный диабет, у него повышено давление из-за проблем с кровеносными сосудами, в которых \"остается\" глюкоза."
   ]
  },
  {
   "cell_type": "code",
   "execution_count": 7,
   "id": "4169345a",
   "metadata": {},
   "outputs": [
    {
     "data": {
      "text/plain": [
       "0.42517165927101835"
      ]
     },
     "execution_count": 7,
     "metadata": {},
     "output_type": "execute_result"
    }
   ],
   "source": [
    "data['BS'].corr(data['SystolicBP'])"
   ]
  },
  {
   "cell_type": "markdown",
   "id": "7bf0d04f",
   "metadata": {},
   "source": [
    "Коэффициент равен примерно 0.42. Между этими переменными также умеренная связь и положительная зависимость (чем больше уровень глюкозы, тем больше и давление)."
   ]
  },
  {
   "cell_type": "markdown",
   "id": "295a3232",
   "metadata": {},
   "source": [
    "##  Регрессия "
   ]
  },
  {
   "cell_type": "code",
   "execution_count": 9,
   "id": "37a1d83f",
   "metadata": {},
   "outputs": [
    {
     "data": {
      "text/plain": [
       "691"
      ]
     },
     "execution_count": 9,
     "metadata": {},
     "output_type": "execute_result"
    }
   ],
   "source": [
    "data[data['BS'] >= 7].shape[0]"
   ]
  },
  {
   "cell_type": "markdown",
   "id": "b5570092",
   "metadata": {},
   "source": [
    "691 пациенток из 1014 имеют высокий уровень глюкозы в крови. Этот показатель опасен для ребенка (задержка развития, преждевременное рождение и тд) и для матери (высокое давление). К тому же в ходе нашего анализа мы поняли, что уровень глюкозы - серьезный фактор риска, особенно в совокупности с другими признаками. Нам кажется полезным в качестве целевой переменной взять именно уровень глюкозы и рассмотреть, как на нее влияет возраст (берем эту переменную в качестве влияющего фактора). \n",
    "\n",
    "Почему возраст? Сахарный диабет есть как у молодых людей, так и более старших. Давление, наоборот, зависит от уровня глюкозы, температура - вспомогательный фактор, а сердцебиение, как мы выяснили, у всех пациентов находится в норме, соответственно, зависимость проводить не имеет смысла. \n"
   ]
  },
  {
   "cell_type": "markdown",
   "id": "fb865c58",
   "metadata": {},
   "source": [
    "*Интуиция зависимости*: зависимость положительная, чем больше возраст, тем больше и уровень глюкозы."
   ]
  },
  {
   "cell_type": "markdown",
   "id": "a394b9e6",
   "metadata": {},
   "source": [
    "Тем не менее выдвинем несколько гипотез\n",
    "\n",
    "*Гипотезы*: \n",
    "\n",
    "0 гипотеза: между возрастом и уровнем глюкозы зависимости не существует (на графике будет хаотичное распределение значений)\n",
    "\n",
    "1 гипотеза: между возрастом и уровнем глюкозы будет положительная зависимость и сильная связь (эта гипотеза сопровождала наш анализ).  \n",
    "\n",
    "2 гипотеза: между возрастом и уровнем глюкозы будет сильная отрицательная зависимость, чем меньше возраст, тем больше уровень глюкозы. Предполагаем и такой вариант, так как среди молодых сахарный диабет может преобладать чаще, чем среди более старших возрастов. \n",
    "\n",
    "3 гипотеза: между возрастом и уровнем глюкозы будет положительная зависимость, однако слабая или умеренная связь. "
   ]
  },
  {
   "cell_type": "markdown",
   "id": "10327ce9",
   "metadata": {},
   "source": [
    "Уравнение линейной регрессии выглядит следующим образом: Y = k*X+b, где Y - целевая переменная (в нашем случае уровень глюкозы), а X - предиктор (в нашем случае возраст)"
   ]
  },
  {
   "cell_type": "code",
   "execution_count": 11,
   "id": "9c24697a",
   "metadata": {},
   "outputs": [],
   "source": [
    "X = data['Age']\n",
    "Y = data['BS']"
   ]
  },
  {
   "cell_type": "code",
   "execution_count": 13,
   "id": "fcf1707c",
   "metadata": {},
   "outputs": [
    {
     "data": {
      "text/plain": [
       "(0.11568445698183735, 5.270283824477463)"
      ]
     },
     "execution_count": 13,
     "metadata": {},
     "output_type": "execute_result"
    }
   ],
   "source": [
    "regress = scipy.stats.linregress(X, Y)\n",
    "# Найдем коэффициент k(slope) и b(intercept)\n",
    "regress.slope, regress.intercept"
   ]
  },
  {
   "cell_type": "markdown",
   "id": "fc1bdcf2",
   "metadata": {},
   "source": [
    "Наше уравнение приняло следующий вид: **Y = 0.11568445698183735*X + 5.270283824477463**"
   ]
  },
  {
   "cell_type": "markdown",
   "id": "860f0143",
   "metadata": {},
   "source": [
    "Попробуем спрогнозировать данные. Возьмем возраст пациента - 17 лет -  и рассчитаем по уравнению уровень глюкозы. "
   ]
  },
  {
   "cell_type": "code",
   "execution_count": 149,
   "id": "43a567d4",
   "metadata": {},
   "outputs": [
    {
     "name": "stdout",
     "output_type": "stream",
     "text": [
      "7.2369195931686985\n"
     ]
    }
   ],
   "source": [
    "y = 0.11568445698183735*17 + 5.270283824477463\n",
    "print(y)"
   ]
  },
  {
   "cell_type": "markdown",
   "id": "1262da32",
   "metadata": {},
   "source": [
    "При возрасте 17 лет уровень глюкозы будет равен 7.2. Это чуть выше порога (как мы помним, высокий уровень глюкозы это 7 и больше). "
   ]
  },
  {
   "cell_type": "markdown",
   "id": "3931ffd9",
   "metadata": {},
   "source": [
    "Возьмем возраст постарше - 37 лет - и вновь рассчитаем уровень глюкозы. "
   ]
  },
  {
   "cell_type": "code",
   "execution_count": 150,
   "id": "2729ed5f",
   "metadata": {},
   "outputs": [
    {
     "name": "stdout",
     "output_type": "stream",
     "text": [
      "9.550608732805445\n"
     ]
    }
   ],
   "source": [
    "y = 0.11568445698183735*37 + 5.270283824477463\n",
    "print(y)"
   ]
  },
  {
   "cell_type": "markdown",
   "id": "c9303ff5",
   "metadata": {},
   "source": [
    "При возрасте 37 лет уровень глюкозы будет равен 9.5. Видим, что с увеличением возраста увеличивается и уровень глюкозы, что подтверждает 1 гипотезу. "
   ]
  },
  {
   "cell_type": "markdown",
   "id": "b1dd3414",
   "metadata": {},
   "source": [
    "Спрогнозируем теперь возраст, зная уровень глюкозы. Возьмем довольно высокий показатель - 15. "
   ]
  },
  {
   "cell_type": "code",
   "execution_count": 151,
   "id": "7ff8171c",
   "metadata": {},
   "outputs": [
    {
     "name": "stdout",
     "output_type": "stream",
     "text": [
      "84.10564763294103\n"
     ]
    }
   ],
   "source": [
    "x_predict = (15-5.270283824477463)/0.11568445698183735\n",
    "print(x_predict)"
   ]
  },
  {
   "cell_type": "markdown",
   "id": "309024c1",
   "metadata": {},
   "source": [
    "Высокому уровню глюкозы (15) соответствует большой возраст (84 года). "
   ]
  },
  {
   "cell_type": "markdown",
   "id": "d93c931c",
   "metadata": {},
   "source": [
    "Теперь визуализируем график рассеяния этих переменных и линейную регрессию"
   ]
  },
  {
   "cell_type": "code",
   "execution_count": 147,
   "id": "0e8bfb33",
   "metadata": {},
   "outputs": [
    {
     "data": {
      "image/png": "[encoded data removed]",
      "text/plain": [
       "<Figure size 432x288 with 1 Axes>"
      ]
     },
     "metadata": {
      "needs_background": "light"
     },
     "output_type": "display_data"
    }
   ],
   "source": [
    "plt.scatter(X,Y, label = 'Ориг. данные')\n",
    "plt.plot(X, regress.slope*X + regress.intercept, 'r', label = 'Линия регрессии')\n",
    "plt.legend(frameon = False)\n",
    "plt.show()"
   ]
  },
  {
   "cell_type": "markdown",
   "id": "12819cd7",
   "metadata": {},
   "source": [
    "На первый взгляд, кажется, что зависимости между переменными нет (хаотичное распределение значений). Однако если посмотреть на линию регрессию и находящиеся рядом с ней значения, можно предрасположить, что зависимость линейная есть (небольшое выстраиваение в линию есть, нулевая гипотеза не подтвердилась), в верхней части графика хаотично распределены выбросы, которых в переменной достаточно много. Зависимость положительная (распределение идет слева направо, 2 гипотеза не подтвердилась), однако связь умеренная по графику и коэффициенту, который мы считали выше (1 гипотеза не подтвердилась). **Подтвердилась только 3 гипотеза**.  "
   ]
  },
  {
   "cell_type": "markdown",
   "id": "d5fafd71",
   "metadata": {},
   "source": [
    "## Визуализация"
   ]
  },
  {
   "cell_type": "code",
   "execution_count": 141,
   "id": "bf58e758",
   "metadata": {},
   "outputs": [
    {
     "data": {
      "image/png": "[encoded data removed]",
      "text/plain": [
       "<Figure size 720x432 with 1 Axes>"
      ]
     },
     "metadata": {
      "needs_background": "light"
     },
     "output_type": "display_data"
    }
   ],
   "source": [
    "colors=['pink', 'blue', 'purple']\n",
    "fig, ax = plt.subplots(figsize=[10,6])\n",
    "plt.bar(data['RiskLevel'], data['BS'], color = 'pink')\n",
    "ax.set_title('Уровень глюкозы в разных степенях риска', fontsize = 14)\n",
    "ax.set_ylabel('Уровень глюкозы', fontsize=12)\n",
    "ax.set_xlabel('Уровни риска', fontsize=12)\n",
    "plt.show()"
   ]
  },
  {
   "cell_type": "code",
   "execution_count": 54,
   "id": "520ceb08",
   "metadata": {},
   "outputs": [
    {
     "data": {
      "image/png": "[encoded data removed]",
      "text/plain": [
       "<Figure size 720x576 with 1 Axes>"
      ]
     },
     "metadata": {},
     "output_type": "display_data"
    }
   ],
   "source": [
    "risk_level = data['RiskLevel'].unique()\n",
    "fig, ax = plt.subplots(figsize=[10,8])\n",
    "ax.pie(data['RiskLevel'].value_counts(), labels = risk_level, autopct='%.2f%%', colors=['yellow','blue','hotpink'])\n",
    "ax.legend(title = 'Уровни риска')\n",
    "plt.show()"
   ]
  },
  {
   "cell_type": "code",
   "execution_count": 79,
   "id": "fd751a8b",
   "metadata": {},
   "outputs": [
    {
     "data": {
      "image/png": "[encoded data removed]",
      "text/plain": [
       "<Figure size 864x432 with 1 Axes>"
      ]
     },
     "metadata": {
      "needs_background": "light"
     },
     "output_type": "display_data"
    }
   ],
   "source": [
    "fig, ax = plt.subplots(figsize=[12,6])\n",
    "sns.boxplot(x = data['RiskLevel'], y = data['Age'], palette = ['pink', 'blue', 'purple'])\n",
    "ax.set_title('Распределение возраста по уровню риска', fontsize = 14)\n",
    "ax.set_ylabel('Возраст', fontsize=12)\n",
    "ax.set_xlabel('Уровень риска', fontsize=12)\n",
    "plt.show()"
   ]
  },
  {
   "cell_type": "code",
   "execution_count": 143,
   "id": "c4eaaa6f",
   "metadata": {},
   "outputs": [
    {
     "data": {
      "image/png": "[encoded data removed]",
      "text/plain": [
       "<Figure size 864x576 with 1 Axes>"
      ]
     },
     "metadata": {
      "needs_background": "light"
     },
     "output_type": "display_data"
    }
   ],
   "source": [
    "fig, ax = plt.subplots(figsize=[12, 8])\n",
    "ax.plot(data.groupby('Age')[['SystolicBP', 'DiastolicBP']].mean(), label=['SystolicBP', 'DiastolicBP'], linewidth = 4)\n",
    "ax.set_title('Изменения среднего систолического и диастолического давления в зависимости от возраста', fontsize = 14)\n",
    "ax.set_ylabel('Параматры давления', fontsize=12)\n",
    "ax.set_xlabel('Возраст', fontsize=12)\n",
    "ax.legend(title = 'Типы давления')\n",
    "plt.show()"
   ]
  },
  {
   "cell_type": "markdown",
   "id": "be339e67",
   "metadata": {},
   "source": [
    "Создадим новую бинарную переменную: если у человека есть сахарный диабет (уровень глюкозы >= 7), то будет 1, если нет, 0. "
   ]
  },
  {
   "cell_type": "code",
   "execution_count": 94,
   "id": "3feccdb4",
   "metadata": {},
   "outputs": [],
   "source": [
    "data['diabetes'] = data['BS'].apply(lambda x: 1 if x>=7 else 0)"
   ]
  },
  {
   "cell_type": "code",
   "execution_count": 170,
   "id": "c6bb540c",
   "metadata": {},
   "outputs": [
    {
     "data": {
      "image/png": "[encoded data removed]",
      "text/plain": [
       "<Figure size 720x576 with 2 Axes>"
      ]
     },
     "metadata": {
      "needs_background": "light"
     },
     "output_type": "display_data"
    }
   ],
   "source": [
    "fig, ax = plt.subplots(figsize=[10,8])\n",
    "graph = ax.scatter(data['Age'], y = data['SystolicBP'], c=data['diabetes'], s=data['DiastolicBP']*4, alpha=0.7)\n",
    "plt.colorbar(graph, label = 'Наличие сахарного диабета')\n",
    "ax.set_title('Зависимость систолического давления от возраста и сахарного диабета', fontsize=15)\n",
    "ax.set_xlabel('Возраст', fontsize=12)\n",
    "ax.set_ylabel('Давление', fontsize=12)\n",
    "plt.show()"
   ]
  },
  {
   "cell_type": "code",
   "execution_count": 153,
   "id": "9873b2e5",
   "metadata": {
    "scrolled": true
   },
   "outputs": [
    {
     "data": {
      "image/png": "[encoded data removed]",
      "text/plain": [
       "<Figure size 1008x864 with 2 Axes>"
      ]
     },
     "metadata": {
      "needs_background": "light"
     },
     "output_type": "display_data"
    }
   ],
   "source": [
    "numeric_data = data[['Age', 'SystolicBP', 'DiastolicBP', 'BS', 'BodyTemp', 'HeartRate']].corr()\n",
    "fig, ax = plt.subplots(figsize=[14,12])\n",
    "ax.set_title('Корреляции между переменными', fontsize=18)\n",
    "sns.heatmap(numeric_data, annot = True, linecolor = 'black', linewidth = 0.75, annot_kws = {'size': 17}, cmap= 'coolwarm', vmin=-1, vmax = 1)\n",
    "plt.show()"
   ]
  }
 ],
 "metadata": {
  "kernelspec": {
   "display_name": "Python 3 (ipykernel)",
   "language": "python",
   "name": "python3"
  },
  "language_info": {
   "codemirror_mode": {
    "name": "ipython",
    "version": 3
   },
   "file_extension": ".py",
   "mimetype": "text/x-python",
   "name": "python",
   "nbconvert_exporter": "python",
   "pygments_lexer": "ipython3",
   "version": "3.9.7"
  }
 },
 "nbformat": 4,
 "nbformat_minor": 5
}
